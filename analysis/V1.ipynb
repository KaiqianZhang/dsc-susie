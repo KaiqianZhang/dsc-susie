{
 "cells": [
  {
   "cell_type": "markdown",
   "metadata": {},
   "source": [
    "# How is power under different PVEs?"
   ]
  },
  {
   "cell_type": "markdown",
   "metadata": {},
   "source": [
    "Assume only one nonzero effect $T = 1$. Assume that prior is 0.2. \n",
    "\n",
    "We investigate SuSiE's power when pve $\\in \\{0.01, 0.02, 0.03, 0.05, 0.1, 0.2, 0.4, 0.5, 0.7, 0.9, 0.99\\}$. "
   ]
  },
  {
   "cell_type": "markdown",
   "metadata": {},
   "source": [
    "## Results\n",
    "\n",
    "We observe that when pve reaches $0.05$, SuSiE's power is greater than and equal to $0.9$. And fdr is always 0. "
   ]
  },
  {
   "cell_type": "code",
   "execution_count": 37,
   "metadata": {},
   "outputs": [
    {
     "data": {
      "text/html": [
       "<table>\n",
       "<thead><tr><th scope=col>effect_num</th><th scope=col>pve</th><th scope=col>power</th><th scope=col>fdr</th></tr></thead>\n",
       "<tbody>\n",
       "\t<tr><td>1   </td><td>0.01</td><td>0.0 </td><td>0   </td></tr>\n",
       "\t<tr><td>1   </td><td>0.02</td><td>0.4 </td><td>0   </td></tr>\n",
       "\t<tr><td>1   </td><td>0.03</td><td>0.6 </td><td>0   </td></tr>\n",
       "\t<tr><td>1   </td><td>0.05</td><td>0.9 </td><td>0   </td></tr>\n",
       "\t<tr><td>1   </td><td>0.10</td><td>1.0 </td><td>0   </td></tr>\n",
       "\t<tr><td>1   </td><td>0.20</td><td>1.0 </td><td>0   </td></tr>\n",
       "\t<tr><td>1   </td><td>0.40</td><td>1.0 </td><td>0   </td></tr>\n",
       "\t<tr><td>1   </td><td>0.50</td><td>1.0 </td><td>0   </td></tr>\n",
       "\t<tr><td>1   </td><td>0.70</td><td>1.0 </td><td>0   </td></tr>\n",
       "\t<tr><td>1   </td><td>0.90</td><td>1.0 </td><td>0   </td></tr>\n",
       "\t<tr><td>1   </td><td>0.99</td><td>1.0 </td><td>0   </td></tr>\n",
       "</tbody>\n",
       "</table>\n"
      ],
      "text/latex": [
       "\\begin{tabular}{r|llll}\n",
       " effect\\_num & pve & power & fdr\\\\\n",
       "\\hline\n",
       "\t 1    & 0.01 & 0.0  & 0   \\\\\n",
       "\t 1    & 0.02 & 0.4  & 0   \\\\\n",
       "\t 1    & 0.03 & 0.6  & 0   \\\\\n",
       "\t 1    & 0.05 & 0.9  & 0   \\\\\n",
       "\t 1    & 0.10 & 1.0  & 0   \\\\\n",
       "\t 1    & 0.20 & 1.0  & 0   \\\\\n",
       "\t 1    & 0.40 & 1.0  & 0   \\\\\n",
       "\t 1    & 0.50 & 1.0  & 0   \\\\\n",
       "\t 1    & 0.70 & 1.0  & 0   \\\\\n",
       "\t 1    & 0.90 & 1.0  & 0   \\\\\n",
       "\t 1    & 0.99 & 1.0  & 0   \\\\\n",
       "\\end{tabular}\n"
      ],
      "text/markdown": [
       "\n",
       "effect_num | pve | power | fdr | \n",
       "|---|---|---|---|---|---|---|---|---|---|---|\n",
       "| 1    | 0.01 | 0.0  | 0    | \n",
       "| 1    | 0.02 | 0.4  | 0    | \n",
       "| 1    | 0.03 | 0.6  | 0    | \n",
       "| 1    | 0.05 | 0.9  | 0    | \n",
       "| 1    | 0.10 | 1.0  | 0    | \n",
       "| 1    | 0.20 | 1.0  | 0    | \n",
       "| 1    | 0.40 | 1.0  | 0    | \n",
       "| 1    | 0.50 | 1.0  | 0    | \n",
       "| 1    | 0.70 | 1.0  | 0    | \n",
       "| 1    | 0.90 | 1.0  | 0    | \n",
       "| 1    | 0.99 | 1.0  | 0    | \n",
       "\n",
       "\n"
      ],
      "text/plain": [
       "   effect_num pve  power fdr\n",
       "1  1          0.01 0.0   0  \n",
       "2  1          0.02 0.4   0  \n",
       "3  1          0.03 0.6   0  \n",
       "4  1          0.05 0.9   0  \n",
       "5  1          0.10 1.0   0  \n",
       "6  1          0.20 1.0   0  \n",
       "7  1          0.40 1.0   0  \n",
       "8  1          0.50 1.0   0  \n",
       "9  1          0.70 1.0   0  \n",
       "10 1          0.90 1.0   0  \n",
       "11 1          0.99 1.0   0  "
      ]
     },
     "metadata": {},
     "output_type": "display_data"
    }
   ],
   "source": [
    "dscout_summary"
   ]
  },
  {
   "cell_type": "markdown",
   "metadata": {},
   "source": [
    "## Code details"
   ]
  },
  {
   "cell_type": "code",
   "execution_count": 32,
   "metadata": {
    "collapsed": true
   },
   "outputs": [],
   "source": [
    "dscout_Q1 = readRDS('dscout_Q1.rds')\n",
    "dscout_Q1 = dscout_Q1[!is.na(dscout_Q1$sim_gaussian.output.file),]\n",
    "dscout_Q1 = dscout_Q1[!is.na(dscout_Q1$susie.output.file),]"
   ]
  },
  {
   "cell_type": "code",
   "execution_count": 33,
   "metadata": {
    "collapsed": true
   },
   "outputs": [],
   "source": [
    "dscout_df = data.frame(dscout_Q1$sim_gaussian.effect_num, dscout_Q1$sim_gaussian.pve, \n",
    "                       dscout_Q1$score.hit, dscout_Q1$score.signal_num)\n",
    "names(dscout_df) = c('effect_num', 'pve', 'hit', 'cs_num')"
   ]
  },
  {
   "cell_type": "code",
   "execution_count": 34,
   "metadata": {
    "collapsed": true
   },
   "outputs": [],
   "source": [
    "dscout_df = dscout_df[dscout_df$effect_num==1,]"
   ]
  },
  {
   "cell_type": "code",
   "execution_count": 35,
   "metadata": {},
   "outputs": [],
   "source": [
    "dscout_summary = aggregate(hit ~ effect_num + pve, dscout_df, sum)\n",
    "dscout_summary$power = dscout_summary$hit / 10\n",
    "fdr.summary = aggregate(cs_num ~ effect_num + pve, dscout_df, sum)\n",
    "fdr.summary$fdr = round(1 - dscout_summary$hit / fdr.summary$cs_num, 4)\n",
    "dscout_summary$hit = NULL\n",
    "dscout_summary$fdr = fdr.summary$fdr"
   ]
  },
  {
   "cell_type": "code",
   "execution_count": 36,
   "metadata": {},
   "outputs": [],
   "source": [
    "is.nan.data.frame <- function(x)\n",
    "do.call(cbind, lapply(x, is.nan))\n",
    "dscout_summary[is.nan(dscout_summary)] = 0"
   ]
  },
  {
   "cell_type": "code",
   "execution_count": null,
   "metadata": {
    "collapsed": true
   },
   "outputs": [],
   "source": []
  }
 ],
 "metadata": {
  "kernelspec": {
   "display_name": "R",
   "language": "R",
   "name": "ir"
  },
  "language_info": {
   "codemirror_mode": "r",
   "file_extension": ".r",
   "mimetype": "text/x-r-source",
   "name": "R",
   "pygments_lexer": "r",
   "version": "3.4.3"
  }
 },
 "nbformat": 4,
 "nbformat_minor": 2
}
