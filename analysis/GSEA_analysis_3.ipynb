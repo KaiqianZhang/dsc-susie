{
 "cells": [
  {
   "cell_type": "markdown",
   "metadata": {},
   "source": [
    "# How to set a prior given T=1 non-zero effect?"
   ]
  },
  {
   "cell_type": "markdown",
   "metadata": {},
   "source": [
    "Assume one non-zero effect $T = 1$. We investigate SuSiE performance when we have a PVE such that SuSiE has certain amount of power e.g. PVE $ = 0.05$."
   ]
  },
  {
   "cell_type": "markdown",
   "metadata": {},
   "source": [
    "## Results\n",
    "\n",
    "**- Summary: A larger prior results in a slightly higher power, FDR is always 0. The size of confidence sets is stable around 5 in the GSEA data.**\n",
    "\n",
    "* Prior does not have a strong influence on the SuSiE performance given only one non-zero effect. But GSEA data has a larger size of confidence sets compared to GTEx and single cell data. "
   ]
  },
  {
   "cell_type": "code",
   "execution_count": 12,
   "metadata": {},
   "outputs": [
    {
     "data": {
      "text/html": [
       "<table>\n",
       "<thead><tr><th></th><th scope=col>effect_num</th><th scope=col>pve</th><th scope=col>prior</th><th scope=col>power</th><th scope=col>fdr</th><th scope=col>cs_size</th><th scope=col>cs_num</th><th scope=col>top_hit_rate</th><th scope=col>avg_purity</th></tr></thead>\n",
       "<tbody>\n",
       "\t<tr><th scope=row>19</th><td>1        </td><td>0.05     </td><td>0.01     </td><td>0.84     </td><td>0        </td><td>5.309524 </td><td>1        </td><td>0.5      </td><td>0.9899010</td></tr>\n",
       "\t<tr><th scope=row>85</th><td>1        </td><td>0.05     </td><td>0.02     </td><td>0.88     </td><td>0        </td><td>5.545455 </td><td>1        </td><td>0.5      </td><td>0.9807201</td></tr>\n",
       "\t<tr><th scope=row>151</th><td>1        </td><td>0.05     </td><td>0.03     </td><td>0.88     </td><td>0        </td><td>5.522727 </td><td>1        </td><td>0.5      </td><td>0.9807201</td></tr>\n",
       "\t<tr><th scope=row>217</th><td>1        </td><td>0.05     </td><td>0.05     </td><td>0.88     </td><td>0        </td><td>5.522727 </td><td>1        </td><td>0.5      </td><td>0.9807201</td></tr>\n",
       "\t<tr><th scope=row>283</th><td>1        </td><td>0.05     </td><td>0.10     </td><td>0.88     </td><td>0        </td><td>5.500000 </td><td>1        </td><td>0.5      </td><td>0.9807201</td></tr>\n",
       "\t<tr><th scope=row>349</th><td>1        </td><td>0.05     </td><td>0.20     </td><td>0.88     </td><td>0        </td><td>5.500000 </td><td>1        </td><td>0.5      </td><td>0.9807201</td></tr>\n",
       "\t<tr><th scope=row>415</th><td>1        </td><td>0.05     </td><td>0.40     </td><td>0.88     </td><td>0        </td><td>5.500000 </td><td>1        </td><td>0.5      </td><td>0.9807201</td></tr>\n",
       "\t<tr><th scope=row>481</th><td>1        </td><td>0.05     </td><td>0.50     </td><td>0.88     </td><td>0        </td><td>5.500000 </td><td>1        </td><td>0.5      </td><td>0.9807201</td></tr>\n",
       "\t<tr><th scope=row>547</th><td>1        </td><td>0.05     </td><td>0.70     </td><td>0.88     </td><td>0        </td><td>5.522727 </td><td>1        </td><td>0.5      </td><td>0.9807201</td></tr>\n",
       "\t<tr><th scope=row>613</th><td>1        </td><td>0.05     </td><td>0.90     </td><td>0.88     </td><td>0        </td><td>5.522727 </td><td>1        </td><td>0.5      </td><td>0.9807201</td></tr>\n",
       "\t<tr><th scope=row>679</th><td>1        </td><td>0.05     </td><td>0.99     </td><td>0.88     </td><td>0        </td><td>5.522727 </td><td>1        </td><td>0.5      </td><td>0.9807201</td></tr>\n",
       "</tbody>\n",
       "</table>\n"
      ],
      "text/latex": [
       "\\begin{tabular}{r|lllllllll}\n",
       "  & effect\\_num & pve & prior & power & fdr & cs\\_size & cs\\_num & top\\_hit\\_rate & avg\\_purity\\\\\n",
       "\\hline\n",
       "\t19 & 1         & 0.05      & 0.01      & 0.84      & 0         & 5.309524  & 1         & 0.5       & 0.9899010\\\\\n",
       "\t85 & 1         & 0.05      & 0.02      & 0.88      & 0         & 5.545455  & 1         & 0.5       & 0.9807201\\\\\n",
       "\t151 & 1         & 0.05      & 0.03      & 0.88      & 0         & 5.522727  & 1         & 0.5       & 0.9807201\\\\\n",
       "\t217 & 1         & 0.05      & 0.05      & 0.88      & 0         & 5.522727  & 1         & 0.5       & 0.9807201\\\\\n",
       "\t283 & 1         & 0.05      & 0.10      & 0.88      & 0         & 5.500000  & 1         & 0.5       & 0.9807201\\\\\n",
       "\t349 & 1         & 0.05      & 0.20      & 0.88      & 0         & 5.500000  & 1         & 0.5       & 0.9807201\\\\\n",
       "\t415 & 1         & 0.05      & 0.40      & 0.88      & 0         & 5.500000  & 1         & 0.5       & 0.9807201\\\\\n",
       "\t481 & 1         & 0.05      & 0.50      & 0.88      & 0         & 5.500000  & 1         & 0.5       & 0.9807201\\\\\n",
       "\t547 & 1         & 0.05      & 0.70      & 0.88      & 0         & 5.522727  & 1         & 0.5       & 0.9807201\\\\\n",
       "\t613 & 1         & 0.05      & 0.90      & 0.88      & 0         & 5.522727  & 1         & 0.5       & 0.9807201\\\\\n",
       "\t679 & 1         & 0.05      & 0.99      & 0.88      & 0         & 5.522727  & 1         & 0.5       & 0.9807201\\\\\n",
       "\\end{tabular}\n"
      ],
      "text/markdown": [
       "\n",
       "| <!--/--> | effect_num | pve | prior | power | fdr | cs_size | cs_num | top_hit_rate | avg_purity | \n",
       "|---|---|---|---|---|---|---|---|---|---|---|\n",
       "| 19 | 1         | 0.05      | 0.01      | 0.84      | 0         | 5.309524  | 1         | 0.5       | 0.9899010 | \n",
       "| 85 | 1         | 0.05      | 0.02      | 0.88      | 0         | 5.545455  | 1         | 0.5       | 0.9807201 | \n",
       "| 151 | 1         | 0.05      | 0.03      | 0.88      | 0         | 5.522727  | 1         | 0.5       | 0.9807201 | \n",
       "| 217 | 1         | 0.05      | 0.05      | 0.88      | 0         | 5.522727  | 1         | 0.5       | 0.9807201 | \n",
       "| 283 | 1         | 0.05      | 0.10      | 0.88      | 0         | 5.500000  | 1         | 0.5       | 0.9807201 | \n",
       "| 349 | 1         | 0.05      | 0.20      | 0.88      | 0         | 5.500000  | 1         | 0.5       | 0.9807201 | \n",
       "| 415 | 1         | 0.05      | 0.40      | 0.88      | 0         | 5.500000  | 1         | 0.5       | 0.9807201 | \n",
       "| 481 | 1         | 0.05      | 0.50      | 0.88      | 0         | 5.500000  | 1         | 0.5       | 0.9807201 | \n",
       "| 547 | 1         | 0.05      | 0.70      | 0.88      | 0         | 5.522727  | 1         | 0.5       | 0.9807201 | \n",
       "| 613 | 1         | 0.05      | 0.90      | 0.88      | 0         | 5.522727  | 1         | 0.5       | 0.9807201 | \n",
       "| 679 | 1         | 0.05      | 0.99      | 0.88      | 0         | 5.522727  | 1         | 0.5       | 0.9807201 | \n",
       "\n",
       "\n"
      ],
      "text/plain": [
       "    effect_num pve  prior power fdr cs_size  cs_num top_hit_rate avg_purity\n",
       "19  1          0.05 0.01  0.84  0   5.309524 1      0.5          0.9899010 \n",
       "85  1          0.05 0.02  0.88  0   5.545455 1      0.5          0.9807201 \n",
       "151 1          0.05 0.03  0.88  0   5.522727 1      0.5          0.9807201 \n",
       "217 1          0.05 0.05  0.88  0   5.522727 1      0.5          0.9807201 \n",
       "283 1          0.05 0.10  0.88  0   5.500000 1      0.5          0.9807201 \n",
       "349 1          0.05 0.20  0.88  0   5.500000 1      0.5          0.9807201 \n",
       "415 1          0.05 0.40  0.88  0   5.500000 1      0.5          0.9807201 \n",
       "481 1          0.05 0.50  0.88  0   5.500000 1      0.5          0.9807201 \n",
       "547 1          0.05 0.70  0.88  0   5.522727 1      0.5          0.9807201 \n",
       "613 1          0.05 0.90  0.88  0   5.522727 1      0.5          0.9807201 \n",
       "679 1          0.05 0.99  0.88  0   5.522727 1      0.5          0.9807201 "
      ]
     },
     "metadata": {},
     "output_type": "display_data"
    }
   ],
   "source": [
    "dscout.summary[dscout.summary$pve==0.05,]"
   ]
  },
  {
   "cell_type": "markdown",
   "metadata": {},
   "source": [
    "## Code details"
   ]
  },
  {
   "cell_type": "code",
   "execution_count": 1,
   "metadata": {
    "collapsed": true
   },
   "outputs": [],
   "source": [
    "dscout_Q2 = readRDS('gsea_Q2.rds')\n",
    "dscout_Q2 = dscout_Q2[!is.na(dscout_Q2$sim_gaussian.output.file),]\n",
    "dscout_Q2 = dscout_Q2[!is.na(dscout_Q2$susie_prior.output.file),]"
   ]
  },
  {
   "cell_type": "code",
   "execution_count": 2,
   "metadata": {
    "collapsed": true
   },
   "outputs": [],
   "source": [
    "dscout_df = data.frame(dscout_Q2$sim_gaussian.effect_num, dscout_Q2$sim_gaussian.pve, dscout_Q2$susie_prior.prior,\n",
    "                       dscout_Q2$score.hit, dscout_Q2$score.signal_num, dscout_Q2$score.cs_medianSize,\n",
    "                       dscout_Q2$score.top_hit, dscout_Q2$sim_gaussian.mean_corX, dscout_Q2$susie_prior.avg_purity)\n",
    "names(dscout_df) = c('effect_num', 'pve', 'prior','hit', 'cs_num', 'cs_size', 'top_hit', 'corX', 'avg_purity')"
   ]
  },
  {
   "cell_type": "code",
   "execution_count": 3,
   "metadata": {
    "collapsed": true
   },
   "outputs": [],
   "source": [
    "hitsum.summary = aggregate(hit ~ effect_num + pve + prior, dscout_df, sum)\n",
    "hitmean.summary = aggregate(hit ~ effect_num + pve + prior, dscout_df, mean)\n",
    "power.summary = hitmean.summary\n",
    "power.summary$power = power.summary$hit / power.summary$effect_num\n",
    "fdr.summary = aggregate(cs_num ~ effect_num + pve + prior, dscout_df, sum)\n",
    "fdr.summary$fdr = round(1 - hitsum.summary$hit / fdr.summary$cs_num, 4)\n",
    "meannonzero = function(x){mean(x[x!=0])}\n",
    "cs_num.summary = aggregate(cs_num ~ effect_num + pve + prior, dscout_df, meannonzero)\n",
    "setsize.summary = aggregate(cs_size ~ effect_num + pve + prior, dscout_df, meannonzero)\n",
    "tophit.summary = aggregate(top_hit ~ effect_num + pve + prior, dscout_df, sum)\n",
    "tophit.summary$tophit_rate = round(tophit.summary$top_hit / fdr.summary$cs_num , 4)\n",
    "dscout_df$avg_purity[is.na(dscout_df$avg_purity)]=0\n",
    "purity.summary = aggregate(avg_purity ~ effect_num + pve + prior, dscout_df, meannonzero)"
   ]
  },
  {
   "cell_type": "code",
   "execution_count": 4,
   "metadata": {
    "collapsed": true
   },
   "outputs": [],
   "source": [
    "dscout.summary = data.frame(power.summary$effect_num, power.summary$pve, power.summary$prior,\n",
    "                            power.summary$power, fdr.summary$fdr, \n",
    "                            setsize.summary$cs_size, cs_num.summary$cs_num, \n",
    "                            tophit.summary$tophit_rate, purity.summary$avg_purity)\n",
    "names(dscout.summary) = c('effect_num', 'pve', 'prior','power', 'fdr', 'cs_size', 'cs_num','top_hit_rate', 'avg_purity')"
   ]
  },
  {
   "cell_type": "code",
   "execution_count": 5,
   "metadata": {
    "collapsed": true
   },
   "outputs": [],
   "source": [
    "is.nan.data.frame <- function(x)\n",
    "do.call(cbind, lapply(x, is.nan))\n",
    "dscout.summary[is.nan(dscout.summary)] = 0"
   ]
  },
  {
   "cell_type": "code",
   "execution_count": 6,
   "metadata": {
    "collapsed": true
   },
   "outputs": [],
   "source": [
    "dscout.summary = dscout.summary[dscout.summary$effect_num==1, ]"
   ]
  }
 ],
 "metadata": {
  "kernelspec": {
   "display_name": "R",
   "language": "R",
   "name": "ir"
  },
  "language_info": {
   "codemirror_mode": "r",
   "file_extension": ".r",
   "mimetype": "text/x-r-source",
   "name": "R",
   "pygments_lexer": "r",
   "version": "3.4.3"
  }
 },
 "nbformat": 4,
 "nbformat_minor": 2
}
