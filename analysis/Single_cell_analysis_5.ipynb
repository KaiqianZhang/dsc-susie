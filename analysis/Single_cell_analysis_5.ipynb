{
 "cells": [
  {
   "cell_type": "markdown",
   "metadata": {},
   "source": [
    "# How does SuSiE perform given T=200 non-zero effects?"
   ]
  },
  {
   "cell_type": "markdown",
   "metadata": {
    "collapsed": true
   },
   "source": [
    "Assume using prior = 0.2. We investigate SuSiE performance given 200 non-zero effects."
   ]
  },
  {
   "cell_type": "markdown",
   "metadata": {
    "collapsed": true
   },
   "source": [
    "## Results\n",
    "**- Summary: SuSiE power is very low given 200 non-zero effects.** "
   ]
  },
  {
   "cell_type": "code",
   "execution_count": 18,
   "metadata": {},
   "outputs": [
    {
     "data": {
      "text/html": [
       "<table>\n",
       "<thead><tr><th scope=col>effect_num</th><th scope=col>pve</th><th scope=col>mean_corX</th><th scope=col>power</th><th scope=col>fdr</th><th scope=col>cs_size</th><th scope=col>cs_num</th><th scope=col>top_hit_rate</th><th scope=col>avg_purity</th></tr></thead>\n",
       "<tbody>\n",
       "\t<tr><td>200      </td><td>0.01     </td><td>0.0178845</td><td>0.0001   </td><td>0.5000   </td><td>1.0      </td><td>1.000000 </td><td>0.5000   </td><td>1.0000000</td></tr>\n",
       "\t<tr><td>200      </td><td>0.02     </td><td>0.0178845</td><td>0.0005   </td><td>0.1667   </td><td>1.0      </td><td>1.000000 </td><td>0.8333   </td><td>1.0000000</td></tr>\n",
       "\t<tr><td>200      </td><td>0.03     </td><td>0.0178845</td><td>0.0009   </td><td>0.1000   </td><td>1.1      </td><td>1.000000 </td><td>0.9000   </td><td>0.9744434</td></tr>\n",
       "\t<tr><td>200      </td><td>0.05     </td><td>0.0178845</td><td>0.0022   </td><td>0.0833   </td><td>1.0      </td><td>1.000000 </td><td>0.9167   </td><td>1.0000000</td></tr>\n",
       "\t<tr><td>200      </td><td>0.10     </td><td>0.0178845</td><td>0.0045   </td><td>0.0217   </td><td>1.0      </td><td>1.243243 </td><td>0.9783   </td><td>1.0000000</td></tr>\n",
       "\t<tr><td>200      </td><td>0.20     </td><td>0.0178845</td><td>0.0082   </td><td>0.0000   </td><td>1.0      </td><td>1.708333 </td><td>1.0000   </td><td>1.0000000</td></tr>\n",
       "\t<tr><td>200      </td><td>0.40     </td><td>0.0178845</td><td>0.0147   </td><td>0.0000   </td><td>1.0      </td><td>2.940000 </td><td>1.0000   </td><td>1.0000000</td></tr>\n",
       "\t<tr><td>200      </td><td>0.50     </td><td>0.0178845</td><td>0.0163   </td><td>0.0000   </td><td>1.0      </td><td>3.260000 </td><td>1.0000   </td><td>1.0000000</td></tr>\n",
       "\t<tr><td>200      </td><td>0.70     </td><td>0.0178845</td><td>0.0235   </td><td>0.0000   </td><td>1.0      </td><td>4.700000 </td><td>1.0000   </td><td>1.0000000</td></tr>\n",
       "\t<tr><td>200      </td><td>0.90     </td><td>0.0178845</td><td>0.0298   </td><td>0.0033   </td><td>1.0      </td><td>5.980000 </td><td>0.9967   </td><td>1.0000000</td></tr>\n",
       "\t<tr><td>200      </td><td>0.99     </td><td>0.0178845</td><td>0.0364   </td><td>0.0027   </td><td>1.0      </td><td>7.300000 </td><td>0.9973   </td><td>1.0000000</td></tr>\n",
       "</tbody>\n",
       "</table>\n"
      ],
      "text/latex": [
       "\\begin{tabular}{r|lllllllll}\n",
       " effect\\_num & pve & mean\\_corX & power & fdr & cs\\_size & cs\\_num & top\\_hit\\_rate & avg\\_purity\\\\\n",
       "\\hline\n",
       "\t 200       & 0.01      & 0.0178845 & 0.0001    & 0.5000    & 1.0       & 1.000000  & 0.5000    & 1.0000000\\\\\n",
       "\t 200       & 0.02      & 0.0178845 & 0.0005    & 0.1667    & 1.0       & 1.000000  & 0.8333    & 1.0000000\\\\\n",
       "\t 200       & 0.03      & 0.0178845 & 0.0009    & 0.1000    & 1.1       & 1.000000  & 0.9000    & 0.9744434\\\\\n",
       "\t 200       & 0.05      & 0.0178845 & 0.0022    & 0.0833    & 1.0       & 1.000000  & 0.9167    & 1.0000000\\\\\n",
       "\t 200       & 0.10      & 0.0178845 & 0.0045    & 0.0217    & 1.0       & 1.243243  & 0.9783    & 1.0000000\\\\\n",
       "\t 200       & 0.20      & 0.0178845 & 0.0082    & 0.0000    & 1.0       & 1.708333  & 1.0000    & 1.0000000\\\\\n",
       "\t 200       & 0.40      & 0.0178845 & 0.0147    & 0.0000    & 1.0       & 2.940000  & 1.0000    & 1.0000000\\\\\n",
       "\t 200       & 0.50      & 0.0178845 & 0.0163    & 0.0000    & 1.0       & 3.260000  & 1.0000    & 1.0000000\\\\\n",
       "\t 200       & 0.70      & 0.0178845 & 0.0235    & 0.0000    & 1.0       & 4.700000  & 1.0000    & 1.0000000\\\\\n",
       "\t 200       & 0.90      & 0.0178845 & 0.0298    & 0.0033    & 1.0       & 5.980000  & 0.9967    & 1.0000000\\\\\n",
       "\t 200       & 0.99      & 0.0178845 & 0.0364    & 0.0027    & 1.0       & 7.300000  & 0.9973    & 1.0000000\\\\\n",
       "\\end{tabular}\n"
      ],
      "text/markdown": [
       "\n",
       "effect_num | pve | mean_corX | power | fdr | cs_size | cs_num | top_hit_rate | avg_purity | \n",
       "|---|---|---|---|---|---|---|---|---|---|---|\n",
       "| 200       | 0.01      | 0.0178845 | 0.0001    | 0.5000    | 1.0       | 1.000000  | 0.5000    | 1.0000000 | \n",
       "| 200       | 0.02      | 0.0178845 | 0.0005    | 0.1667    | 1.0       | 1.000000  | 0.8333    | 1.0000000 | \n",
       "| 200       | 0.03      | 0.0178845 | 0.0009    | 0.1000    | 1.1       | 1.000000  | 0.9000    | 0.9744434 | \n",
       "| 200       | 0.05      | 0.0178845 | 0.0022    | 0.0833    | 1.0       | 1.000000  | 0.9167    | 1.0000000 | \n",
       "| 200       | 0.10      | 0.0178845 | 0.0045    | 0.0217    | 1.0       | 1.243243  | 0.9783    | 1.0000000 | \n",
       "| 200       | 0.20      | 0.0178845 | 0.0082    | 0.0000    | 1.0       | 1.708333  | 1.0000    | 1.0000000 | \n",
       "| 200       | 0.40      | 0.0178845 | 0.0147    | 0.0000    | 1.0       | 2.940000  | 1.0000    | 1.0000000 | \n",
       "| 200       | 0.50      | 0.0178845 | 0.0163    | 0.0000    | 1.0       | 3.260000  | 1.0000    | 1.0000000 | \n",
       "| 200       | 0.70      | 0.0178845 | 0.0235    | 0.0000    | 1.0       | 4.700000  | 1.0000    | 1.0000000 | \n",
       "| 200       | 0.90      | 0.0178845 | 0.0298    | 0.0033    | 1.0       | 5.980000  | 0.9967    | 1.0000000 | \n",
       "| 200       | 0.99      | 0.0178845 | 0.0364    | 0.0027    | 1.0       | 7.300000  | 0.9973    | 1.0000000 | \n",
       "\n",
       "\n"
      ],
      "text/plain": [
       "   effect_num pve  mean_corX power  fdr    cs_size cs_num   top_hit_rate\n",
       "1  200        0.01 0.0178845 0.0001 0.5000 1.0     1.000000 0.5000      \n",
       "2  200        0.02 0.0178845 0.0005 0.1667 1.0     1.000000 0.8333      \n",
       "3  200        0.03 0.0178845 0.0009 0.1000 1.1     1.000000 0.9000      \n",
       "4  200        0.05 0.0178845 0.0022 0.0833 1.0     1.000000 0.9167      \n",
       "5  200        0.10 0.0178845 0.0045 0.0217 1.0     1.243243 0.9783      \n",
       "6  200        0.20 0.0178845 0.0082 0.0000 1.0     1.708333 1.0000      \n",
       "7  200        0.40 0.0178845 0.0147 0.0000 1.0     2.940000 1.0000      \n",
       "8  200        0.50 0.0178845 0.0163 0.0000 1.0     3.260000 1.0000      \n",
       "9  200        0.70 0.0178845 0.0235 0.0000 1.0     4.700000 1.0000      \n",
       "10 200        0.90 0.0178845 0.0298 0.0033 1.0     5.980000 0.9967      \n",
       "11 200        0.99 0.0178845 0.0364 0.0027 1.0     7.300000 0.9973      \n",
       "   avg_purity\n",
       "1  1.0000000 \n",
       "2  1.0000000 \n",
       "3  0.9744434 \n",
       "4  1.0000000 \n",
       "5  1.0000000 \n",
       "6  1.0000000 \n",
       "7  1.0000000 \n",
       "8  1.0000000 \n",
       "9  1.0000000 \n",
       "10 1.0000000 \n",
       "11 1.0000000 "
      ]
     },
     "metadata": {},
     "output_type": "display_data"
    }
   ],
   "source": [
    "dscout.summary"
   ]
  },
  {
   "cell_type": "markdown",
   "metadata": {},
   "source": [
    "## Code details"
   ]
  },
  {
   "cell_type": "code",
   "execution_count": 13,
   "metadata": {
    "collapsed": true
   },
   "outputs": [],
   "source": [
    "dscout_Q3 = readRDS('singlecell_Q3.rds')\n",
    "dscout_Q3 = dscout_Q3[!is.na(dscout_Q3$sim_gaussian_large.output.file),]\n",
    "dscout_Q3 = dscout_Q3[!is.na(dscout_Q3$susie_large.output.file),]"
   ]
  },
  {
   "cell_type": "code",
   "execution_count": 14,
   "metadata": {
    "collapsed": true
   },
   "outputs": [],
   "source": [
    "dscout_df = data.frame(dscout_Q3$sim_gaussian_large.effect_num, dscout_Q3$sim_gaussian_large.pve, \n",
    "                       dscout_Q3$score.hit, dscout_Q3$score.signal_num, dscout_Q3$score.cs_medianSize,\n",
    "                       dscout_Q3$score.top_hit, dscout_Q3$sim_gaussian_large.mean_corX, dscout_Q3$susie_large.avg_purity)\n",
    "names(dscout_df) = c('effect_num', 'pve','hit', 'cs_num', 'cs_size', 'top_hit', 'corX', 'avg_purity')"
   ]
  },
  {
   "cell_type": "code",
   "execution_count": 15,
   "metadata": {
    "collapsed": true
   },
   "outputs": [],
   "source": [
    "hitsum.summary = aggregate(hit ~ effect_num + pve, dscout_df, sum)\n",
    "hitmean.summary = aggregate(hit ~ effect_num + pve, dscout_df, mean)\n",
    "power.summary = hitmean.summary\n",
    "power.summary$power = hitmean.summary$hit / power.summary$effect_num\n",
    "fdr.summary = aggregate(cs_num ~ effect_num + pve, dscout_df, sum)\n",
    "fdr.summary$fdr = round(1 - hitsum.summary$hit / fdr.summary$cs_num, 4)\n",
    "meannonzero = function(x){mean(x[x!=0])}\n",
    "setsize.summary = aggregate(cs_size ~ effect_num + pve, dscout_df, meannonzero)\n",
    "tophit.summary = aggregate(top_hit ~ effect_num + pve, dscout_df, sum)\n",
    "tophit.summary$tophit_rate = round(tophit.summary$top_hit / fdr.summary$cs_num , 4)\n",
    "corX.summary = aggregate(corX ~ effect_num + pve, dscout_df, mean)\n",
    "cs_num.summary = aggregate(cs_num ~ effect_num + pve, dscout_df, meannonzero)\n",
    "dscout_df$avg_purity[is.na(dscout_df$avg_purity)]=0\n",
    "purity.summary = aggregate(avg_purity ~ effect_num + pve, dscout_df, meannonzero)"
   ]
  },
  {
   "cell_type": "code",
   "execution_count": 16,
   "metadata": {
    "collapsed": true
   },
   "outputs": [],
   "source": [
    "dscout.summary = data.frame(power.summary$effect_num, power.summary$pve, corX.summary$corX,\n",
    "                            power.summary$power, fdr.summary$fdr, setsize.summary$cs_size, \n",
    "                            cs_num.summary$cs_num, tophit.summary$tophit_rate, purity.summary$avg_purity)\n",
    "names(dscout.summary) = c('effect_num', 'pve', 'mean_corX','power', \n",
    "                          'fdr', 'cs_size', 'cs_num','top_hit_rate', 'avg_purity')"
   ]
  },
  {
   "cell_type": "code",
   "execution_count": 17,
   "metadata": {
    "collapsed": true
   },
   "outputs": [],
   "source": [
    "is.nan.data.frame <- function(x)\n",
    "do.call(cbind, lapply(x, is.nan))\n",
    "dscout.summary[is.nan(dscout.summary)] = 0"
   ]
  }
 ],
 "metadata": {
  "kernelspec": {
   "display_name": "R",
   "language": "R",
   "name": "ir"
  },
  "language_info": {
   "codemirror_mode": "r",
   "file_extension": ".r",
   "mimetype": "text/x-r-source",
   "name": "R",
   "pygments_lexer": "r",
   "version": "3.4.3"
  }
 },
 "nbformat": 4,
 "nbformat_minor": 2
}
