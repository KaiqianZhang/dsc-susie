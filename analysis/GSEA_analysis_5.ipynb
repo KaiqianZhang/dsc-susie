{
 "cells": [
  {
   "cell_type": "markdown",
   "metadata": {},
   "source": [
    "# How does SuSiE perform given T=200 non-zero effects?"
   ]
  },
  {
   "cell_type": "markdown",
   "metadata": {},
   "source": [
    "Assume using prior = 0.2. We investigate SuSiE performance given 200 non-zero effects."
   ]
  },
  {
   "cell_type": "markdown",
   "metadata": {},
   "source": [
    "## Results\n",
    "**- Summary: SuSiE power is pretty low given 200 non-zero effects. And the number of confidence sets produced is small compared to total 200 non-zero effects.**"
   ]
  },
  {
   "cell_type": "code",
   "execution_count": 6,
   "metadata": {},
   "outputs": [
    {
     "data": {
      "text/html": [
       "<table>\n",
       "<thead><tr><th scope=col>effect_num</th><th scope=col>pve</th><th scope=col>mean_corX</th><th scope=col>power</th><th scope=col>fdr</th><th scope=col>cs_size</th><th scope=col>cs_num</th><th scope=col>top_hit_rate</th><th scope=col>avg_purity</th></tr></thead>\n",
       "<tbody>\n",
       "\t<tr><td>200       </td><td>0.01      </td><td>0.02625069</td><td>0.0000    </td><td>0.0000    </td><td>0.000000  </td><td>0.000000  </td><td>0.0000    </td><td>0.0000000 </td></tr>\n",
       "\t<tr><td>200       </td><td>0.02      </td><td>0.02625069</td><td>0.0000    </td><td>0.0000    </td><td>0.000000  </td><td>0.000000  </td><td>0.0000    </td><td>0.0000000 </td></tr>\n",
       "\t<tr><td>200       </td><td>0.03      </td><td>0.02625069</td><td>0.0000    </td><td>0.0000    </td><td>0.000000  </td><td>0.000000  </td><td>0.0000    </td><td>0.0000000 </td></tr>\n",
       "\t<tr><td>200       </td><td>0.05      </td><td>0.02625069</td><td>0.0006    </td><td>0.0000    </td><td>2.833333  </td><td>1.000000  </td><td>1.0000    </td><td>0.9621174 </td></tr>\n",
       "\t<tr><td>200       </td><td>0.10      </td><td>0.02625069</td><td>0.0021    </td><td>0.0000    </td><td>2.527778  </td><td>1.166667  </td><td>0.8571    </td><td>0.9782877 </td></tr>\n",
       "\t<tr><td>200       </td><td>0.20      </td><td>0.02625069</td><td>0.0046    </td><td>0.0980    </td><td>2.270270  </td><td>1.378378  </td><td>0.7647    </td><td>0.9796685 </td></tr>\n",
       "\t<tr><td>200       </td><td>0.40      </td><td>0.02625069</td><td>0.0126    </td><td>0.0597    </td><td>2.061224  </td><td>2.734694  </td><td>0.7164    </td><td>0.9923926 </td></tr>\n",
       "\t<tr><td>200       </td><td>0.50      </td><td>0.02625069</td><td>0.0144    </td><td>0.1000    </td><td>1.630000  </td><td>3.200000  </td><td>0.7000    </td><td>0.9929418 </td></tr>\n",
       "\t<tr><td>200       </td><td>0.70      </td><td>0.02625069</td><td>0.0219    </td><td>0.1344    </td><td>1.300000  </td><td>5.060000  </td><td>0.6917    </td><td>0.9993010 </td></tr>\n",
       "\t<tr><td>200       </td><td>0.90      </td><td>0.02625069</td><td>0.0300    </td><td>0.1176    </td><td>1.120000  </td><td>6.800000  </td><td>0.7059    </td><td>0.9997107 </td></tr>\n",
       "\t<tr><td>200       </td><td>0.99      </td><td>0.02625069</td><td>0.0368    </td><td>0.1196    </td><td>1.080000  </td><td>8.360000  </td><td>0.7201    </td><td>1.0000000 </td></tr>\n",
       "</tbody>\n",
       "</table>\n"
      ],
      "text/latex": [
       "\\begin{tabular}{r|lllllllll}\n",
       " effect\\_num & pve & mean\\_corX & power & fdr & cs\\_size & cs\\_num & top\\_hit\\_rate & avg\\_purity\\\\\n",
       "\\hline\n",
       "\t 200        & 0.01       & 0.02625069 & 0.0000     & 0.0000     & 0.000000   & 0.000000   & 0.0000     & 0.0000000 \\\\\n",
       "\t 200        & 0.02       & 0.02625069 & 0.0000     & 0.0000     & 0.000000   & 0.000000   & 0.0000     & 0.0000000 \\\\\n",
       "\t 200        & 0.03       & 0.02625069 & 0.0000     & 0.0000     & 0.000000   & 0.000000   & 0.0000     & 0.0000000 \\\\\n",
       "\t 200        & 0.05       & 0.02625069 & 0.0006     & 0.0000     & 2.833333   & 1.000000   & 1.0000     & 0.9621174 \\\\\n",
       "\t 200        & 0.10       & 0.02625069 & 0.0021     & 0.0000     & 2.527778   & 1.166667   & 0.8571     & 0.9782877 \\\\\n",
       "\t 200        & 0.20       & 0.02625069 & 0.0046     & 0.0980     & 2.270270   & 1.378378   & 0.7647     & 0.9796685 \\\\\n",
       "\t 200        & 0.40       & 0.02625069 & 0.0126     & 0.0597     & 2.061224   & 2.734694   & 0.7164     & 0.9923926 \\\\\n",
       "\t 200        & 0.50       & 0.02625069 & 0.0144     & 0.1000     & 1.630000   & 3.200000   & 0.7000     & 0.9929418 \\\\\n",
       "\t 200        & 0.70       & 0.02625069 & 0.0219     & 0.1344     & 1.300000   & 5.060000   & 0.6917     & 0.9993010 \\\\\n",
       "\t 200        & 0.90       & 0.02625069 & 0.0300     & 0.1176     & 1.120000   & 6.800000   & 0.7059     & 0.9997107 \\\\\n",
       "\t 200        & 0.99       & 0.02625069 & 0.0368     & 0.1196     & 1.080000   & 8.360000   & 0.7201     & 1.0000000 \\\\\n",
       "\\end{tabular}\n"
      ],
      "text/markdown": [
       "\n",
       "effect_num | pve | mean_corX | power | fdr | cs_size | cs_num | top_hit_rate | avg_purity | \n",
       "|---|---|---|---|---|---|---|---|---|---|---|\n",
       "| 200        | 0.01       | 0.02625069 | 0.0000     | 0.0000     | 0.000000   | 0.000000   | 0.0000     | 0.0000000  | \n",
       "| 200        | 0.02       | 0.02625069 | 0.0000     | 0.0000     | 0.000000   | 0.000000   | 0.0000     | 0.0000000  | \n",
       "| 200        | 0.03       | 0.02625069 | 0.0000     | 0.0000     | 0.000000   | 0.000000   | 0.0000     | 0.0000000  | \n",
       "| 200        | 0.05       | 0.02625069 | 0.0006     | 0.0000     | 2.833333   | 1.000000   | 1.0000     | 0.9621174  | \n",
       "| 200        | 0.10       | 0.02625069 | 0.0021     | 0.0000     | 2.527778   | 1.166667   | 0.8571     | 0.9782877  | \n",
       "| 200        | 0.20       | 0.02625069 | 0.0046     | 0.0980     | 2.270270   | 1.378378   | 0.7647     | 0.9796685  | \n",
       "| 200        | 0.40       | 0.02625069 | 0.0126     | 0.0597     | 2.061224   | 2.734694   | 0.7164     | 0.9923926  | \n",
       "| 200        | 0.50       | 0.02625069 | 0.0144     | 0.1000     | 1.630000   | 3.200000   | 0.7000     | 0.9929418  | \n",
       "| 200        | 0.70       | 0.02625069 | 0.0219     | 0.1344     | 1.300000   | 5.060000   | 0.6917     | 0.9993010  | \n",
       "| 200        | 0.90       | 0.02625069 | 0.0300     | 0.1176     | 1.120000   | 6.800000   | 0.7059     | 0.9997107  | \n",
       "| 200        | 0.99       | 0.02625069 | 0.0368     | 0.1196     | 1.080000   | 8.360000   | 0.7201     | 1.0000000  | \n",
       "\n",
       "\n"
      ],
      "text/plain": [
       "   effect_num pve  mean_corX  power  fdr    cs_size  cs_num   top_hit_rate\n",
       "1  200        0.01 0.02625069 0.0000 0.0000 0.000000 0.000000 0.0000      \n",
       "2  200        0.02 0.02625069 0.0000 0.0000 0.000000 0.000000 0.0000      \n",
       "3  200        0.03 0.02625069 0.0000 0.0000 0.000000 0.000000 0.0000      \n",
       "4  200        0.05 0.02625069 0.0006 0.0000 2.833333 1.000000 1.0000      \n",
       "5  200        0.10 0.02625069 0.0021 0.0000 2.527778 1.166667 0.8571      \n",
       "6  200        0.20 0.02625069 0.0046 0.0980 2.270270 1.378378 0.7647      \n",
       "7  200        0.40 0.02625069 0.0126 0.0597 2.061224 2.734694 0.7164      \n",
       "8  200        0.50 0.02625069 0.0144 0.1000 1.630000 3.200000 0.7000      \n",
       "9  200        0.70 0.02625069 0.0219 0.1344 1.300000 5.060000 0.6917      \n",
       "10 200        0.90 0.02625069 0.0300 0.1176 1.120000 6.800000 0.7059      \n",
       "11 200        0.99 0.02625069 0.0368 0.1196 1.080000 8.360000 0.7201      \n",
       "   avg_purity\n",
       "1  0.0000000 \n",
       "2  0.0000000 \n",
       "3  0.0000000 \n",
       "4  0.9621174 \n",
       "5  0.9782877 \n",
       "6  0.9796685 \n",
       "7  0.9923926 \n",
       "8  0.9929418 \n",
       "9  0.9993010 \n",
       "10 0.9997107 \n",
       "11 1.0000000 "
      ]
     },
     "metadata": {},
     "output_type": "display_data"
    }
   ],
   "source": [
    "dscout.summary"
   ]
  },
  {
   "cell_type": "markdown",
   "metadata": {},
   "source": [
    "## Code details"
   ]
  },
  {
   "cell_type": "code",
   "execution_count": 1,
   "metadata": {
    "collapsed": true
   },
   "outputs": [],
   "source": [
    "dscout_Q3 = readRDS('gsea_Q3.rds')\n",
    "dscout_Q3 = dscout_Q3[!is.na(dscout_Q3$sim_gaussian_large.output.file),]\n",
    "dscout_Q3 = dscout_Q3[!is.na(dscout_Q3$susie_large.output.file),]"
   ]
  },
  {
   "cell_type": "code",
   "execution_count": 2,
   "metadata": {
    "collapsed": true
   },
   "outputs": [],
   "source": [
    "dscout_df = data.frame(dscout_Q3$sim_gaussian_large.effect_num, dscout_Q3$sim_gaussian_large.pve, \n",
    "                       dscout_Q3$score.hit, dscout_Q3$score.signal_num, dscout_Q3$score.cs_medianSize,\n",
    "                       dscout_Q3$score.top_hit, dscout_Q3$sim_gaussian_large.mean_corX, dscout_Q3$susie_large.avg_purity)\n",
    "names(dscout_df) = c('effect_num', 'pve','hit', 'cs_num', 'cs_size', 'top_hit', 'corX', 'avg_purity')"
   ]
  },
  {
   "cell_type": "code",
   "execution_count": 3,
   "metadata": {
    "collapsed": true
   },
   "outputs": [],
   "source": [
    "hitsum.summary = aggregate(hit ~ effect_num + pve, dscout_df, sum)\n",
    "hitmean.summary = aggregate(hit ~ effect_num + pve, dscout_df, mean)\n",
    "power.summary = hitmean.summary\n",
    "power.summary$power = hitmean.summary$hit / power.summary$effect_num\n",
    "fdr.summary = aggregate(cs_num ~ effect_num + pve, dscout_df, sum)\n",
    "fdr.summary$fdr = round(1 - hitsum.summary$hit / fdr.summary$cs_num, 4)\n",
    "meannonzero = function(x){mean(x[x!=0])}\n",
    "setsize.summary = aggregate(cs_size ~ effect_num + pve, dscout_df, meannonzero)\n",
    "tophit.summary = aggregate(top_hit ~ effect_num + pve, dscout_df, sum)\n",
    "tophit.summary$tophit_rate = round(tophit.summary$top_hit / fdr.summary$cs_num , 4)\n",
    "corX.summary = aggregate(corX ~ effect_num + pve, dscout_df, mean)\n",
    "cs_num.summary = aggregate(cs_num ~ effect_num + pve, dscout_df, meannonzero)\n",
    "dscout_df$avg_purity[is.na(dscout_df$avg_purity)]=0\n",
    "purity.summary = aggregate(avg_purity ~ effect_num + pve, dscout_df, meannonzero)"
   ]
  },
  {
   "cell_type": "code",
   "execution_count": 4,
   "metadata": {
    "collapsed": true
   },
   "outputs": [],
   "source": [
    "dscout.summary = data.frame(power.summary$effect_num, power.summary$pve, corX.summary$corX,\n",
    "                            power.summary$power, fdr.summary$fdr, setsize.summary$cs_size, \n",
    "                            cs_num.summary$cs_num, tophit.summary$tophit_rate, purity.summary$avg_purity)\n",
    "names(dscout.summary) = c('effect_num', 'pve', 'mean_corX','power', \n",
    "                          'fdr', 'cs_size', 'cs_num','top_hit_rate', 'avg_purity')"
   ]
  },
  {
   "cell_type": "code",
   "execution_count": 5,
   "metadata": {
    "collapsed": true
   },
   "outputs": [],
   "source": [
    "is.nan.data.frame <- function(x)\n",
    "do.call(cbind, lapply(x, is.nan))\n",
    "dscout.summary[is.nan(dscout.summary)] = 0"
   ]
  }
 ],
 "metadata": {
  "kernelspec": {
   "display_name": "R",
   "language": "R",
   "name": "ir"
  },
  "language_info": {
   "codemirror_mode": "r",
   "file_extension": ".r",
   "mimetype": "text/x-r-source",
   "name": "R",
   "pygments_lexer": "r",
   "version": "3.4.3"
  }
 },
 "nbformat": 4,
 "nbformat_minor": 2
}
