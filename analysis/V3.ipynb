{
 "cells": [
  {
   "cell_type": "markdown",
   "metadata": {},
   "source": [
    "# How to set a prior given T=1 nonzero effect?\n",
    "\n",
    "Assume one nonzero effect $T = 1$. We investigate SuSiE performance when we have a pve such that SuSiE has certain amount of power e.g. $pve = 0.05$."
   ]
  },
  {
   "cell_type": "markdown",
   "metadata": {},
   "source": [
    "## Results\n",
    "\n",
    "* If we overspecify a prior, i.e. set a prior $> 0.05$, we would have higher power and lower fdr. But the compensation is that the size of confidence set becomes larger. Also, if we take the top hit in each confidence set, we have $9\\%$ probability getting wrong. \n",
    "\n",
    "* If we underspecify a prior, i.e. set a prior $< 0.05$, we have lower power compared to overspecification, and higher fdr. The size of confidence set is around 1. And the top-hit-rate is higher. \n",
    "\n",
    "The next question we want to ask is: what if the number of nonzero effects is not 1? Should we overspecify or underspecify a prior? \n",
    "\n"
   ]
  },
  {
   "cell_type": "code",
   "execution_count": 29,
   "metadata": {},
   "outputs": [
    {
     "data": {
      "text/html": [
       "<table>\n",
       "<thead><tr><th></th><th scope=col>effect_num</th><th scope=col>pve</th><th scope=col>prior</th><th scope=col>power</th><th scope=col>fdr</th><th scope=col>cs_size</th><th scope=col>cs_num</th><th scope=col>top_hit_rate</th><th scope=col>avg_purity</th></tr></thead>\n",
       "<tbody>\n",
       "\t<tr><th scope=row>19</th><td>1        </td><td>0.05     </td><td>0.01     </td><td>0.54     </td><td>0.0357   </td><td>1.107143 </td><td>0.56     </td><td>0.9643   </td><td>0.9839111</td></tr>\n",
       "\t<tr><th scope=row>85</th><td>1        </td><td>0.05     </td><td>0.02     </td><td>0.60     </td><td>0.0323   </td><td>2.387097 </td><td>0.62     </td><td>0.9355   </td><td>0.9601676</td></tr>\n",
       "\t<tr><th scope=row>151</th><td>1        </td><td>0.05     </td><td>0.03     </td><td>0.60     </td><td>0.0323   </td><td>1.838710 </td><td>0.62     </td><td>0.9355   </td><td>0.9661933</td></tr>\n",
       "\t<tr><th scope=row>217</th><td>1        </td><td>0.05     </td><td>0.05     </td><td>0.60     </td><td>0.0323   </td><td>1.483871 </td><td>0.62     </td><td>0.9355   </td><td>0.9709570</td></tr>\n",
       "\t<tr><th scope=row>283</th><td>1        </td><td>0.05     </td><td>0.10     </td><td>0.66     </td><td>0.0294   </td><td>3.382353 </td><td>0.68     </td><td>0.9118   </td><td>0.9456457</td></tr>\n",
       "\t<tr><th scope=row>349</th><td>1        </td><td>0.05     </td><td>0.20     </td><td>0.66     </td><td>0.0294   </td><td>2.941176 </td><td>0.68     </td><td>0.9118   </td><td>0.9456457</td></tr>\n",
       "\t<tr><th scope=row>415</th><td>1        </td><td>0.05     </td><td>0.40     </td><td>0.66     </td><td>0.0294   </td><td>2.735294 </td><td>0.68     </td><td>0.9118   </td><td>0.9508725</td></tr>\n",
       "\t<tr><th scope=row>481</th><td>1        </td><td>0.05     </td><td>0.50     </td><td>0.66     </td><td>0.0294   </td><td>2.705882 </td><td>0.68     </td><td>0.9118   </td><td>0.9508725</td></tr>\n",
       "\t<tr><th scope=row>547</th><td>1        </td><td>0.05     </td><td>0.70     </td><td>0.68     </td><td>0.0286   </td><td>3.800000 </td><td>0.70     </td><td>0.9143   </td><td>0.9386454</td></tr>\n",
       "\t<tr><th scope=row>613</th><td>1        </td><td>0.05     </td><td>0.90     </td><td>0.68     </td><td>0.0286   </td><td>3.742857 </td><td>0.70     </td><td>0.9143   </td><td>0.9386454</td></tr>\n",
       "\t<tr><th scope=row>679</th><td>1        </td><td>0.05     </td><td>0.99     </td><td>0.68     </td><td>0.0286   </td><td>3.742857 </td><td>0.70     </td><td>0.9143   </td><td>0.9386454</td></tr>\n",
       "</tbody>\n",
       "</table>\n"
      ],
      "text/latex": [
       "\\begin{tabular}{r|lllllllll}\n",
       "  & effect\\_num & pve & prior & power & fdr & cs\\_size & cs\\_num & top\\_hit\\_rate & avg\\_purity\\\\\n",
       "\\hline\n",
       "\t19 & 1         & 0.05      & 0.01      & 0.54      & 0.0357    & 1.107143  & 0.56      & 0.9643    & 0.9839111\\\\\n",
       "\t85 & 1         & 0.05      & 0.02      & 0.60      & 0.0323    & 2.387097  & 0.62      & 0.9355    & 0.9601676\\\\\n",
       "\t151 & 1         & 0.05      & 0.03      & 0.60      & 0.0323    & 1.838710  & 0.62      & 0.9355    & 0.9661933\\\\\n",
       "\t217 & 1         & 0.05      & 0.05      & 0.60      & 0.0323    & 1.483871  & 0.62      & 0.9355    & 0.9709570\\\\\n",
       "\t283 & 1         & 0.05      & 0.10      & 0.66      & 0.0294    & 3.382353  & 0.68      & 0.9118    & 0.9456457\\\\\n",
       "\t349 & 1         & 0.05      & 0.20      & 0.66      & 0.0294    & 2.941176  & 0.68      & 0.9118    & 0.9456457\\\\\n",
       "\t415 & 1         & 0.05      & 0.40      & 0.66      & 0.0294    & 2.735294  & 0.68      & 0.9118    & 0.9508725\\\\\n",
       "\t481 & 1         & 0.05      & 0.50      & 0.66      & 0.0294    & 2.705882  & 0.68      & 0.9118    & 0.9508725\\\\\n",
       "\t547 & 1         & 0.05      & 0.70      & 0.68      & 0.0286    & 3.800000  & 0.70      & 0.9143    & 0.9386454\\\\\n",
       "\t613 & 1         & 0.05      & 0.90      & 0.68      & 0.0286    & 3.742857  & 0.70      & 0.9143    & 0.9386454\\\\\n",
       "\t679 & 1         & 0.05      & 0.99      & 0.68      & 0.0286    & 3.742857  & 0.70      & 0.9143    & 0.9386454\\\\\n",
       "\\end{tabular}\n"
      ],
      "text/markdown": [
       "\n",
       "| <!--/--> | effect_num | pve | prior | power | fdr | cs_size | cs_num | top_hit_rate | avg_purity | \n",
       "|---|---|---|---|---|---|---|---|---|---|---|\n",
       "| 19 | 1         | 0.05      | 0.01      | 0.54      | 0.0357    | 1.107143  | 0.56      | 0.9643    | 0.9839111 | \n",
       "| 85 | 1         | 0.05      | 0.02      | 0.60      | 0.0323    | 2.387097  | 0.62      | 0.9355    | 0.9601676 | \n",
       "| 151 | 1         | 0.05      | 0.03      | 0.60      | 0.0323    | 1.838710  | 0.62      | 0.9355    | 0.9661933 | \n",
       "| 217 | 1         | 0.05      | 0.05      | 0.60      | 0.0323    | 1.483871  | 0.62      | 0.9355    | 0.9709570 | \n",
       "| 283 | 1         | 0.05      | 0.10      | 0.66      | 0.0294    | 3.382353  | 0.68      | 0.9118    | 0.9456457 | \n",
       "| 349 | 1         | 0.05      | 0.20      | 0.66      | 0.0294    | 2.941176  | 0.68      | 0.9118    | 0.9456457 | \n",
       "| 415 | 1         | 0.05      | 0.40      | 0.66      | 0.0294    | 2.735294  | 0.68      | 0.9118    | 0.9508725 | \n",
       "| 481 | 1         | 0.05      | 0.50      | 0.66      | 0.0294    | 2.705882  | 0.68      | 0.9118    | 0.9508725 | \n",
       "| 547 | 1         | 0.05      | 0.70      | 0.68      | 0.0286    | 3.800000  | 0.70      | 0.9143    | 0.9386454 | \n",
       "| 613 | 1         | 0.05      | 0.90      | 0.68      | 0.0286    | 3.742857  | 0.70      | 0.9143    | 0.9386454 | \n",
       "| 679 | 1         | 0.05      | 0.99      | 0.68      | 0.0286    | 3.742857  | 0.70      | 0.9143    | 0.9386454 | \n",
       "\n",
       "\n"
      ],
      "text/plain": [
       "    effect_num pve  prior power fdr    cs_size  cs_num top_hit_rate avg_purity\n",
       "19  1          0.05 0.01  0.54  0.0357 1.107143 0.56   0.9643       0.9839111 \n",
       "85  1          0.05 0.02  0.60  0.0323 2.387097 0.62   0.9355       0.9601676 \n",
       "151 1          0.05 0.03  0.60  0.0323 1.838710 0.62   0.9355       0.9661933 \n",
       "217 1          0.05 0.05  0.60  0.0323 1.483871 0.62   0.9355       0.9709570 \n",
       "283 1          0.05 0.10  0.66  0.0294 3.382353 0.68   0.9118       0.9456457 \n",
       "349 1          0.05 0.20  0.66  0.0294 2.941176 0.68   0.9118       0.9456457 \n",
       "415 1          0.05 0.40  0.66  0.0294 2.735294 0.68   0.9118       0.9508725 \n",
       "481 1          0.05 0.50  0.66  0.0294 2.705882 0.68   0.9118       0.9508725 \n",
       "547 1          0.05 0.70  0.68  0.0286 3.800000 0.70   0.9143       0.9386454 \n",
       "613 1          0.05 0.90  0.68  0.0286 3.742857 0.70   0.9143       0.9386454 \n",
       "679 1          0.05 0.99  0.68  0.0286 3.742857 0.70   0.9143       0.9386454 "
      ]
     },
     "metadata": {},
     "output_type": "display_data"
    }
   ],
   "source": [
    "dscout.summary[dscout.summary$pve==0.05,]"
   ]
  },
  {
   "cell_type": "markdown",
   "metadata": {},
   "source": [
    "## Code details"
   ]
  },
  {
   "cell_type": "code",
   "execution_count": 23,
   "metadata": {
    "collapsed": true
   },
   "outputs": [],
   "source": [
    "dscout_Q2 = readRDS('dscout_Q2.rds')\n",
    "dscout_Q2 = dscout_Q2[!is.na(dscout_Q2$sim_gaussian.output.file),]\n",
    "dscout_Q2 = dscout_Q2[!is.na(dscout_Q2$susie_prior.output.file),]"
   ]
  },
  {
   "cell_type": "code",
   "execution_count": 24,
   "metadata": {
    "collapsed": true
   },
   "outputs": [],
   "source": [
    "dscout_df = data.frame(dscout_Q2$sim_gaussian.effect_num, dscout_Q2$sim_gaussian.pve, dscout_Q2$susie_prior.prior,\n",
    "                       dscout_Q2$score.hit, dscout_Q2$score.signal_num, dscout_Q2$score.cs_medianSize,\n",
    "                       dscout_Q2$score.top_hit, dscout_Q2$sim_gaussian.mean_corX, dscout_Q2$susie_prior.avg_purity)\n",
    "names(dscout_df) = c('effect_num', 'pve', 'prior','hit', 'cs_num', 'cs_size', 'top_hit', 'corX', 'avg_purity')"
   ]
  },
  {
   "cell_type": "code",
   "execution_count": 25,
   "metadata": {
    "collapsed": true
   },
   "outputs": [],
   "source": [
    "power.summary = aggregate(hit ~ effect_num + pve + prior, dscout_df, sum)\n",
    "power.summary$power = power.summary$hit / (power.summary$effect_num*50)\n",
    "fdr.summary = aggregate(cs_num ~ effect_num + pve + prior, dscout_df, sum)\n",
    "fdr.summary$fdr = round(1 - power.summary$hit / fdr.summary$cs_num, 4)\n",
    "meannonzero = function(x){mean(x[x!=0])}\n",
    "setsize.summary = aggregate(cs_size ~ effect_num + pve + prior, dscout_df, meannonzero)\n",
    "tophit.summary = aggregate(top_hit ~ effect_num + pve + prior, dscout_df, sum)\n",
    "tophit.summary$tophit_rate = round(tophit.summary$top_hit / fdr.summary$cs_num , 4)\n",
    "dscout_df$avg_purity[is.na(dscout_df$avg_purity)]=0\n",
    "purity.summary = aggregate(avg_purity ~ effect_num + pve + prior, dscout_df, meannonzero)"
   ]
  },
  {
   "cell_type": "code",
   "execution_count": 26,
   "metadata": {
    "collapsed": true
   },
   "outputs": [],
   "source": [
    "dscout.summary = data.frame(power.summary$effect_num, power.summary$pve, power.summary$prior,\n",
    "                            power.summary$power, fdr.summary$fdr, \n",
    "                            setsize.summary$cs_size, fdr.summary$cs_num/50, \n",
    "                            tophit.summary$tophit_rate, purity.summary$avg_purity)\n",
    "names(dscout.summary) = c('effect_num', 'pve', 'prior','power', 'fdr', 'cs_size', 'cs_num','top_hit_rate', 'avg_purity')"
   ]
  },
  {
   "cell_type": "code",
   "execution_count": 27,
   "metadata": {
    "collapsed": true
   },
   "outputs": [],
   "source": [
    "is.nan.data.frame <- function(x)\n",
    "do.call(cbind, lapply(x, is.nan))\n",
    "dscout.summary[is.nan(dscout.summary)] = 0"
   ]
  },
  {
   "cell_type": "code",
   "execution_count": 28,
   "metadata": {
    "collapsed": true
   },
   "outputs": [],
   "source": [
    "dscout.summary = dscout.summary[dscout.summary$effect_num==1, ]"
   ]
  }
 ],
 "metadata": {
  "kernelspec": {
   "display_name": "R",
   "language": "R",
   "name": "ir"
  },
  "language_info": {
   "codemirror_mode": "r",
   "file_extension": ".r",
   "mimetype": "text/x-r-source",
   "name": "R",
   "pygments_lexer": "r",
   "version": "3.4.3"
  }
 },
 "nbformat": 4,
 "nbformat_minor": 2
}
