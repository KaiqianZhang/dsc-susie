{
 "cells": [
  {
   "cell_type": "markdown",
   "metadata": {},
   "source": [
    "# How to set a prior given T = 2 non-zero effects?"
   ]
  },
  {
   "cell_type": "markdown",
   "metadata": {},
   "source": [
    "Assume two non-zero effects $T = 2$. We set PVE $ = 0.1$ so that SuSiE has certain power around $0.38$. \n",
    "We also set PVE $ = 0.7$ so that SuSiE has power around $0.64$. We investigate SuSiE performance under different priors."
   ]
  },
  {
   "cell_type": "markdown",
   "metadata": {},
   "source": [
    "## Results\n",
    "\n",
    "** - Summary: prior has a modest influence on SuSiE's performance. **\n",
    "\n",
    "When $pve = 0.05$, \n",
    "\n",
    "* a larger prior has a slighler lower FDR and a slightly higher top_hit_rate.\n",
    "\n",
    "When $pve = 0.7$,\n",
    "\n",
    "* a larger prior has a slightly larger power and lower FDR. And cs_size will increase given a larger prior. \n"
   ]
  },
  {
   "cell_type": "code",
   "execution_count": 9,
   "metadata": {},
   "outputs": [
    {
     "data": {
      "text/html": [
       "<table>\n",
       "<thead><tr><th></th><th scope=col>effect_num</th><th scope=col>pve</th><th scope=col>prior</th><th scope=col>power</th><th scope=col>fdr</th><th scope=col>cs_size</th><th scope=col>cs_num</th><th scope=col>top_hit_rate</th><th scope=col>avg_purity</th></tr></thead>\n",
       "<tbody>\n",
       "\t<tr><th scope=row>20</th><td>2        </td><td>0.05     </td><td>0.01     </td><td>0.34     </td><td>0.0000   </td><td>2.117647 </td><td>1        </td><td>0.9412   </td><td>0.9291165</td></tr>\n",
       "\t<tr><th scope=row>86</th><td>2        </td><td>0.05     </td><td>0.02     </td><td>0.36     </td><td>0.0526   </td><td>1.842105 </td><td>1        </td><td>0.8684   </td><td>0.9385918</td></tr>\n",
       "\t<tr><th scope=row>152</th><td>2        </td><td>0.05     </td><td>0.03     </td><td>0.37     </td><td>0.0513   </td><td>1.666667 </td><td>1        </td><td>0.8718   </td><td>0.9429208</td></tr>\n",
       "\t<tr><th scope=row>218</th><td>2        </td><td>0.05     </td><td>0.05     </td><td>0.38     </td><td>0.0500   </td><td>1.550000 </td><td>1        </td><td>0.8750   </td><td>0.9522987</td></tr>\n",
       "\t<tr><th scope=row>284</th><td>2        </td><td>0.05     </td><td>0.10     </td><td>0.38     </td><td>0.0500   </td><td>1.450000 </td><td>1        </td><td>0.9000   </td><td>0.9609036</td></tr>\n",
       "\t<tr><th scope=row>350</th><td>2        </td><td>0.05     </td><td>0.20     </td><td>0.38     </td><td>0.0500   </td><td>1.425000 </td><td>1        </td><td>0.9000   </td><td>0.9627169</td></tr>\n",
       "\t<tr><th scope=row>416</th><td>2        </td><td>0.05     </td><td>0.40     </td><td>0.38     </td><td>0.0500   </td><td>1.400000 </td><td>1        </td><td>0.9000   </td><td>0.9627169</td></tr>\n",
       "\t<tr><th scope=row>482</th><td>2        </td><td>0.05     </td><td>0.50     </td><td>0.38     </td><td>0.0500   </td><td>1.375000 </td><td>1        </td><td>0.9000   </td><td>0.9686246</td></tr>\n",
       "\t<tr><th scope=row>548</th><td>2        </td><td>0.05     </td><td>0.70     </td><td>0.38     </td><td>0.0500   </td><td>1.375000 </td><td>1        </td><td>0.9000   </td><td>0.9686246</td></tr>\n",
       "\t<tr><th scope=row>614</th><td>2        </td><td>0.05     </td><td>0.90     </td><td>0.38     </td><td>0.0500   </td><td>1.375000 </td><td>1        </td><td>0.9000   </td><td>0.9686246</td></tr>\n",
       "\t<tr><th scope=row>680</th><td>2        </td><td>0.05     </td><td>0.99     </td><td>0.38     </td><td>0.0500   </td><td>1.375000 </td><td>1        </td><td>0.9000   </td><td>0.9686246</td></tr>\n",
       "</tbody>\n",
       "</table>\n"
      ],
      "text/latex": [
       "\\begin{tabular}{r|lllllllll}\n",
       "  & effect\\_num & pve & prior & power & fdr & cs\\_size & cs\\_num & top\\_hit\\_rate & avg\\_purity\\\\\n",
       "\\hline\n",
       "\t20 & 2         & 0.05      & 0.01      & 0.34      & 0.0000    & 2.117647  & 1         & 0.9412    & 0.9291165\\\\\n",
       "\t86 & 2         & 0.05      & 0.02      & 0.36      & 0.0526    & 1.842105  & 1         & 0.8684    & 0.9385918\\\\\n",
       "\t152 & 2         & 0.05      & 0.03      & 0.37      & 0.0513    & 1.666667  & 1         & 0.8718    & 0.9429208\\\\\n",
       "\t218 & 2         & 0.05      & 0.05      & 0.38      & 0.0500    & 1.550000  & 1         & 0.8750    & 0.9522987\\\\\n",
       "\t284 & 2         & 0.05      & 0.10      & 0.38      & 0.0500    & 1.450000  & 1         & 0.9000    & 0.9609036\\\\\n",
       "\t350 & 2         & 0.05      & 0.20      & 0.38      & 0.0500    & 1.425000  & 1         & 0.9000    & 0.9627169\\\\\n",
       "\t416 & 2         & 0.05      & 0.40      & 0.38      & 0.0500    & 1.400000  & 1         & 0.9000    & 0.9627169\\\\\n",
       "\t482 & 2         & 0.05      & 0.50      & 0.38      & 0.0500    & 1.375000  & 1         & 0.9000    & 0.9686246\\\\\n",
       "\t548 & 2         & 0.05      & 0.70      & 0.38      & 0.0500    & 1.375000  & 1         & 0.9000    & 0.9686246\\\\\n",
       "\t614 & 2         & 0.05      & 0.90      & 0.38      & 0.0500    & 1.375000  & 1         & 0.9000    & 0.9686246\\\\\n",
       "\t680 & 2         & 0.05      & 0.99      & 0.38      & 0.0500    & 1.375000  & 1         & 0.9000    & 0.9686246\\\\\n",
       "\\end{tabular}\n"
      ],
      "text/markdown": [
       "\n",
       "| <!--/--> | effect_num | pve | prior | power | fdr | cs_size | cs_num | top_hit_rate | avg_purity | \n",
       "|---|---|---|---|---|---|---|---|---|---|---|\n",
       "| 20 | 2         | 0.05      | 0.01      | 0.34      | 0.0000    | 2.117647  | 1         | 0.9412    | 0.9291165 | \n",
       "| 86 | 2         | 0.05      | 0.02      | 0.36      | 0.0526    | 1.842105  | 1         | 0.8684    | 0.9385918 | \n",
       "| 152 | 2         | 0.05      | 0.03      | 0.37      | 0.0513    | 1.666667  | 1         | 0.8718    | 0.9429208 | \n",
       "| 218 | 2         | 0.05      | 0.05      | 0.38      | 0.0500    | 1.550000  | 1         | 0.8750    | 0.9522987 | \n",
       "| 284 | 2         | 0.05      | 0.10      | 0.38      | 0.0500    | 1.450000  | 1         | 0.9000    | 0.9609036 | \n",
       "| 350 | 2         | 0.05      | 0.20      | 0.38      | 0.0500    | 1.425000  | 1         | 0.9000    | 0.9627169 | \n",
       "| 416 | 2         | 0.05      | 0.40      | 0.38      | 0.0500    | 1.400000  | 1         | 0.9000    | 0.9627169 | \n",
       "| 482 | 2         | 0.05      | 0.50      | 0.38      | 0.0500    | 1.375000  | 1         | 0.9000    | 0.9686246 | \n",
       "| 548 | 2         | 0.05      | 0.70      | 0.38      | 0.0500    | 1.375000  | 1         | 0.9000    | 0.9686246 | \n",
       "| 614 | 2         | 0.05      | 0.90      | 0.38      | 0.0500    | 1.375000  | 1         | 0.9000    | 0.9686246 | \n",
       "| 680 | 2         | 0.05      | 0.99      | 0.38      | 0.0500    | 1.375000  | 1         | 0.9000    | 0.9686246 | \n",
       "\n",
       "\n"
      ],
      "text/plain": [
       "    effect_num pve  prior power fdr    cs_size  cs_num top_hit_rate avg_purity\n",
       "20  2          0.05 0.01  0.34  0.0000 2.117647 1      0.9412       0.9291165 \n",
       "86  2          0.05 0.02  0.36  0.0526 1.842105 1      0.8684       0.9385918 \n",
       "152 2          0.05 0.03  0.37  0.0513 1.666667 1      0.8718       0.9429208 \n",
       "218 2          0.05 0.05  0.38  0.0500 1.550000 1      0.8750       0.9522987 \n",
       "284 2          0.05 0.10  0.38  0.0500 1.450000 1      0.9000       0.9609036 \n",
       "350 2          0.05 0.20  0.38  0.0500 1.425000 1      0.9000       0.9627169 \n",
       "416 2          0.05 0.40  0.38  0.0500 1.400000 1      0.9000       0.9627169 \n",
       "482 2          0.05 0.50  0.38  0.0500 1.375000 1      0.9000       0.9686246 \n",
       "548 2          0.05 0.70  0.38  0.0500 1.375000 1      0.9000       0.9686246 \n",
       "614 2          0.05 0.90  0.38  0.0500 1.375000 1      0.9000       0.9686246 \n",
       "680 2          0.05 0.99  0.38  0.0500 1.375000 1      0.9000       0.9686246 "
      ]
     },
     "metadata": {},
     "output_type": "display_data"
    }
   ],
   "source": [
    "dscout.summary[dscout.summary$pve==0.05,]"
   ]
  },
  {
   "cell_type": "code",
   "execution_count": 8,
   "metadata": {},
   "outputs": [
    {
     "data": {
      "text/html": [
       "<table>\n",
       "<thead><tr><th></th><th scope=col>effect_num</th><th scope=col>pve</th><th scope=col>prior</th><th scope=col>power</th><th scope=col>fdr</th><th scope=col>cs_size</th><th scope=col>cs_num</th><th scope=col>top_hit_rate</th><th scope=col>avg_purity</th></tr></thead>\n",
       "<tbody>\n",
       "\t<tr><th scope=row>50</th><td>2        </td><td>0.7      </td><td>0.01     </td><td>0.63     </td><td>0.0156   </td><td>1.06     </td><td>1.28     </td><td>0.9688   </td><td>0.9979029</td></tr>\n",
       "\t<tr><th scope=row>116</th><td>2        </td><td>0.7      </td><td>0.02     </td><td>0.63     </td><td>0.0156   </td><td>1.09     </td><td>1.28     </td><td>0.9688   </td><td>0.9969122</td></tr>\n",
       "\t<tr><th scope=row>182</th><td>2        </td><td>0.7      </td><td>0.03     </td><td>0.63     </td><td>0.0156   </td><td>1.11     </td><td>1.28     </td><td>0.9688   </td><td>0.9969122</td></tr>\n",
       "\t<tr><th scope=row>248</th><td>2        </td><td>0.7      </td><td>0.05     </td><td>0.63     </td><td>0.0156   </td><td>1.14     </td><td>1.28     </td><td>0.9688   </td><td>0.9969122</td></tr>\n",
       "\t<tr><th scope=row>314</th><td>2        </td><td>0.7      </td><td>0.10     </td><td>0.63     </td><td>0.0000   </td><td>1.02     </td><td>1.26     </td><td>0.9841   </td><td>0.9994104</td></tr>\n",
       "\t<tr><th scope=row>380</th><td>2        </td><td>0.7      </td><td>0.20     </td><td>0.64     </td><td>0.0000   </td><td>1.56     </td><td>1.28     </td><td>0.9688   </td><td>0.9958743</td></tr>\n",
       "\t<tr><th scope=row>446</th><td>2        </td><td>0.7      </td><td>0.40     </td><td>0.64     </td><td>0.0000   </td><td>1.48     </td><td>1.28     </td><td>0.9688   </td><td>0.9959935</td></tr>\n",
       "\t<tr><th scope=row>512</th><td>2        </td><td>0.7      </td><td>0.50     </td><td>0.64     </td><td>0.0000   </td><td>1.47     </td><td>1.28     </td><td>0.9688   </td><td>0.9959935</td></tr>\n",
       "\t<tr><th scope=row>578</th><td>2        </td><td>0.7      </td><td>0.70     </td><td>0.64     </td><td>0.0000   </td><td>1.46     </td><td>1.28     </td><td>0.9688   </td><td>0.9959935</td></tr>\n",
       "\t<tr><th scope=row>644</th><td>2        </td><td>0.7      </td><td>0.90     </td><td>0.64     </td><td>0.0000   </td><td>1.46     </td><td>1.28     </td><td>0.9688   </td><td>0.9959935</td></tr>\n",
       "\t<tr><th scope=row>710</th><td>2        </td><td>0.7      </td><td>0.99     </td><td>0.64     </td><td>0.0000   </td><td>1.45     </td><td>1.28     </td><td>0.9688   </td><td>0.9959935</td></tr>\n",
       "</tbody>\n",
       "</table>\n"
      ],
      "text/latex": [
       "\\begin{tabular}{r|lllllllll}\n",
       "  & effect\\_num & pve & prior & power & fdr & cs\\_size & cs\\_num & top\\_hit\\_rate & avg\\_purity\\\\\n",
       "\\hline\n",
       "\t50 & 2         & 0.7       & 0.01      & 0.63      & 0.0156    & 1.06      & 1.28      & 0.9688    & 0.9979029\\\\\n",
       "\t116 & 2         & 0.7       & 0.02      & 0.63      & 0.0156    & 1.09      & 1.28      & 0.9688    & 0.9969122\\\\\n",
       "\t182 & 2         & 0.7       & 0.03      & 0.63      & 0.0156    & 1.11      & 1.28      & 0.9688    & 0.9969122\\\\\n",
       "\t248 & 2         & 0.7       & 0.05      & 0.63      & 0.0156    & 1.14      & 1.28      & 0.9688    & 0.9969122\\\\\n",
       "\t314 & 2         & 0.7       & 0.10      & 0.63      & 0.0000    & 1.02      & 1.26      & 0.9841    & 0.9994104\\\\\n",
       "\t380 & 2         & 0.7       & 0.20      & 0.64      & 0.0000    & 1.56      & 1.28      & 0.9688    & 0.9958743\\\\\n",
       "\t446 & 2         & 0.7       & 0.40      & 0.64      & 0.0000    & 1.48      & 1.28      & 0.9688    & 0.9959935\\\\\n",
       "\t512 & 2         & 0.7       & 0.50      & 0.64      & 0.0000    & 1.47      & 1.28      & 0.9688    & 0.9959935\\\\\n",
       "\t578 & 2         & 0.7       & 0.70      & 0.64      & 0.0000    & 1.46      & 1.28      & 0.9688    & 0.9959935\\\\\n",
       "\t644 & 2         & 0.7       & 0.90      & 0.64      & 0.0000    & 1.46      & 1.28      & 0.9688    & 0.9959935\\\\\n",
       "\t710 & 2         & 0.7       & 0.99      & 0.64      & 0.0000    & 1.45      & 1.28      & 0.9688    & 0.9959935\\\\\n",
       "\\end{tabular}\n"
      ],
      "text/markdown": [
       "\n",
       "| <!--/--> | effect_num | pve | prior | power | fdr | cs_size | cs_num | top_hit_rate | avg_purity | \n",
       "|---|---|---|---|---|---|---|---|---|---|---|\n",
       "| 50 | 2         | 0.7       | 0.01      | 0.63      | 0.0156    | 1.06      | 1.28      | 0.9688    | 0.9979029 | \n",
       "| 116 | 2         | 0.7       | 0.02      | 0.63      | 0.0156    | 1.09      | 1.28      | 0.9688    | 0.9969122 | \n",
       "| 182 | 2         | 0.7       | 0.03      | 0.63      | 0.0156    | 1.11      | 1.28      | 0.9688    | 0.9969122 | \n",
       "| 248 | 2         | 0.7       | 0.05      | 0.63      | 0.0156    | 1.14      | 1.28      | 0.9688    | 0.9969122 | \n",
       "| 314 | 2         | 0.7       | 0.10      | 0.63      | 0.0000    | 1.02      | 1.26      | 0.9841    | 0.9994104 | \n",
       "| 380 | 2         | 0.7       | 0.20      | 0.64      | 0.0000    | 1.56      | 1.28      | 0.9688    | 0.9958743 | \n",
       "| 446 | 2         | 0.7       | 0.40      | 0.64      | 0.0000    | 1.48      | 1.28      | 0.9688    | 0.9959935 | \n",
       "| 512 | 2         | 0.7       | 0.50      | 0.64      | 0.0000    | 1.47      | 1.28      | 0.9688    | 0.9959935 | \n",
       "| 578 | 2         | 0.7       | 0.70      | 0.64      | 0.0000    | 1.46      | 1.28      | 0.9688    | 0.9959935 | \n",
       "| 644 | 2         | 0.7       | 0.90      | 0.64      | 0.0000    | 1.46      | 1.28      | 0.9688    | 0.9959935 | \n",
       "| 710 | 2         | 0.7       | 0.99      | 0.64      | 0.0000    | 1.45      | 1.28      | 0.9688    | 0.9959935 | \n",
       "\n",
       "\n"
      ],
      "text/plain": [
       "    effect_num pve prior power fdr    cs_size cs_num top_hit_rate avg_purity\n",
       "50  2          0.7 0.01  0.63  0.0156 1.06    1.28   0.9688       0.9979029 \n",
       "116 2          0.7 0.02  0.63  0.0156 1.09    1.28   0.9688       0.9969122 \n",
       "182 2          0.7 0.03  0.63  0.0156 1.11    1.28   0.9688       0.9969122 \n",
       "248 2          0.7 0.05  0.63  0.0156 1.14    1.28   0.9688       0.9969122 \n",
       "314 2          0.7 0.10  0.63  0.0000 1.02    1.26   0.9841       0.9994104 \n",
       "380 2          0.7 0.20  0.64  0.0000 1.56    1.28   0.9688       0.9958743 \n",
       "446 2          0.7 0.40  0.64  0.0000 1.48    1.28   0.9688       0.9959935 \n",
       "512 2          0.7 0.50  0.64  0.0000 1.47    1.28   0.9688       0.9959935 \n",
       "578 2          0.7 0.70  0.64  0.0000 1.46    1.28   0.9688       0.9959935 \n",
       "644 2          0.7 0.90  0.64  0.0000 1.46    1.28   0.9688       0.9959935 \n",
       "710 2          0.7 0.99  0.64  0.0000 1.45    1.28   0.9688       0.9959935 "
      ]
     },
     "metadata": {},
     "output_type": "display_data"
    }
   ],
   "source": [
    "dscout.summary[dscout.summary$pve==0.7,]"
   ]
  },
  {
   "cell_type": "markdown",
   "metadata": {},
   "source": [
    "## Code details"
   ]
  },
  {
   "cell_type": "code",
   "execution_count": 1,
   "metadata": {
    "collapsed": true
   },
   "outputs": [],
   "source": [
    "dscout_Q2 = readRDS('dscout_Q2.rds')\n",
    "dscout_Q2 = dscout_Q2[!is.na(dscout_Q2$sim_gaussian.output.file),]\n",
    "dscout_Q2 = dscout_Q2[!is.na(dscout_Q2$susie_prior.output.file),]"
   ]
  },
  {
   "cell_type": "code",
   "execution_count": 2,
   "metadata": {
    "collapsed": true
   },
   "outputs": [],
   "source": [
    "dscout_df = data.frame(dscout_Q2$sim_gaussian.effect_num, dscout_Q2$sim_gaussian.pve, dscout_Q2$susie_prior.prior,\n",
    "                       dscout_Q2$score.hit, dscout_Q2$score.signal_num, dscout_Q2$score.cs_medianSize,\n",
    "                       dscout_Q2$score.top_hit, dscout_Q2$sim_gaussian.mean_corX, dscout_Q2$susie_prior.avg_purity)\n",
    "names(dscout_df) = c('effect_num', 'pve', 'prior','hit', 'cs_num', 'cs_size', 'top_hit', 'corX', 'avg_purity')"
   ]
  },
  {
   "cell_type": "code",
   "execution_count": 3,
   "metadata": {
    "collapsed": true
   },
   "outputs": [],
   "source": [
    "hitsum.summary = aggregate(hit ~ effect_num + pve + prior, dscout_df, sum)\n",
    "hitmean.summary = aggregate(hit ~ effect_num + pve + prior, dscout_df, mean)\n",
    "power.summary = hitmean.summary\n",
    "power.summary$power = power.summary$hit / power.summary$effect_num\n",
    "fdr.summary = aggregate(cs_num ~ effect_num + pve + prior, dscout_df, sum)\n",
    "fdr.summary$fdr = round(1 - hitsum.summary$hit / fdr.summary$cs_num, 4)\n",
    "meannonzero = function(x){mean(x[x!=0])}\n",
    "cs_num.summary = aggregate(cs_num ~ effect_num + pve + prior, dscout_df, meannonzero)\n",
    "setsize.summary = aggregate(cs_size ~ effect_num + pve + prior, dscout_df, meannonzero)\n",
    "tophit.summary = aggregate(top_hit ~ effect_num + pve + prior, dscout_df, sum)\n",
    "tophit.summary$tophit_rate = round(tophit.summary$top_hit / fdr.summary$cs_num , 4)\n",
    "dscout_df$avg_purity[is.na(dscout_df$avg_purity)]=0\n",
    "purity.summary = aggregate(avg_purity ~ effect_num + pve + prior, dscout_df, meannonzero)"
   ]
  },
  {
   "cell_type": "code",
   "execution_count": 5,
   "metadata": {
    "collapsed": true
   },
   "outputs": [],
   "source": [
    "dscout.summary = data.frame(power.summary$effect_num, power.summary$pve, power.summary$prior,\n",
    "                            power.summary$power, fdr.summary$fdr, \n",
    "                            setsize.summary$cs_size, cs_num.summary$cs_num, \n",
    "                            tophit.summary$tophit_rate, purity.summary$avg_purity)\n",
    "names(dscout.summary) = c('effect_num', 'pve', 'prior','power', 'fdr', 'cs_size', 'cs_num','top_hit_rate', 'avg_purity')"
   ]
  },
  {
   "cell_type": "code",
   "execution_count": 6,
   "metadata": {
    "collapsed": true
   },
   "outputs": [],
   "source": [
    "dscout.summary = dscout.summary[dscout.summary$effect_num==2, ]"
   ]
  }
 ],
 "metadata": {
  "kernelspec": {
   "display_name": "R",
   "language": "R",
   "name": "ir"
  },
  "language_info": {
   "codemirror_mode": "r",
   "file_extension": ".r",
   "mimetype": "text/x-r-source",
   "name": "R",
   "pygments_lexer": "r",
   "version": "3.4.3"
  }
 },
 "nbformat": 4,
 "nbformat_minor": 2
}
