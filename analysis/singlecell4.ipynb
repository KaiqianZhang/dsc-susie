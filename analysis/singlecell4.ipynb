{
 "cells": [
  {
   "cell_type": "markdown",
   "metadata": {},
   "source": [
    "# How to set a prior given T = 2 non-zero effects?"
   ]
  },
  {
   "cell_type": "markdown",
   "metadata": {},
   "source": [
    "Assume two non-zero effects $T = 2$. We set PVE $= 0.05$ so that SuSiE has certain power around $0.51$. \n",
    "We also set PVE $= 0.7$ so that SuSiE has power around $0.78$.\n",
    "\n",
    "We investigate SuSiE performance under different priors."
   ]
  },
  {
   "cell_type": "markdown",
   "metadata": {},
   "source": [
    "## Results\n",
    "\n",
    "**- Summary: The choice of prior has a modest influence on SuSiE performance.**\n",
    "\n",
    "When $pve = 0.05$, \n",
    "\n",
    "* a larger prior has a slighler lower FDR and a slightly higher top_hit_rate.\n",
    "\n",
    "When $pve = 0.7$,\n",
    "\n",
    "* the choice of prior does not affect SuSiE performance.\n"
   ]
  },
  {
   "cell_type": "code",
   "execution_count": 17,
   "metadata": {},
   "outputs": [
    {
     "data": {
      "text/html": [
       "<table>\n",
       "<thead><tr><th></th><th scope=col>effect_num</th><th scope=col>pve</th><th scope=col>prior</th><th scope=col>power</th><th scope=col>fdr</th><th scope=col>cs_size</th><th scope=col>cs_num</th><th scope=col>top_hit_rate</th><th scope=col>avg_purity</th></tr></thead>\n",
       "<tbody>\n",
       "\t<tr><th scope=row>20</th><td>2        </td><td>0.05     </td><td>0.01     </td><td>0.49     </td><td>0.0392   </td><td>1.021277 </td><td>1.085106 </td><td>0.9608   </td><td>0.9977918</td></tr>\n",
       "\t<tr><th scope=row>86</th><td>2        </td><td>0.05     </td><td>0.02     </td><td>0.51     </td><td>0.0377   </td><td>1.021277 </td><td>1.127660 </td><td>0.9623   </td><td>0.9977918</td></tr>\n",
       "\t<tr><th scope=row>152</th><td>2        </td><td>0.05     </td><td>0.03     </td><td>0.51     </td><td>0.0377   </td><td>1.021277 </td><td>1.127660 </td><td>0.9623   </td><td>0.9977918</td></tr>\n",
       "\t<tr><th scope=row>218</th><td>2        </td><td>0.05     </td><td>0.05     </td><td>0.53     </td><td>0.0364   </td><td>1.021277 </td><td>1.170213 </td><td>0.9636   </td><td>0.9977918</td></tr>\n",
       "\t<tr><th scope=row>284</th><td>2        </td><td>0.05     </td><td>0.10     </td><td>0.53     </td><td>0.0364   </td><td>1.021277 </td><td>1.170213 </td><td>0.9636   </td><td>0.9977918</td></tr>\n",
       "\t<tr><th scope=row>350</th><td>2        </td><td>0.05     </td><td>0.20     </td><td>0.53     </td><td>0.0364   </td><td>1.021277 </td><td>1.170213 </td><td>0.9636   </td><td>0.9977918</td></tr>\n",
       "\t<tr><th scope=row>416</th><td>2        </td><td>0.05     </td><td>0.40     </td><td>0.53     </td><td>0.0364   </td><td>1.021277 </td><td>1.170213 </td><td>0.9636   </td><td>0.9977918</td></tr>\n",
       "\t<tr><th scope=row>482</th><td>2        </td><td>0.05     </td><td>0.50     </td><td>0.53     </td><td>0.0364   </td><td>1.021277 </td><td>1.170213 </td><td>0.9636   </td><td>0.9977918</td></tr>\n",
       "\t<tr><th scope=row>548</th><td>2        </td><td>0.05     </td><td>0.70     </td><td>0.53     </td><td>0.0364   </td><td>1.021277 </td><td>1.170213 </td><td>0.9636   </td><td>0.9977918</td></tr>\n",
       "\t<tr><th scope=row>614</th><td>2        </td><td>0.05     </td><td>0.90     </td><td>0.53     </td><td>0.0364   </td><td>1.021277 </td><td>1.170213 </td><td>0.9636   </td><td>0.9977918</td></tr>\n",
       "\t<tr><th scope=row>680</th><td>2        </td><td>0.05     </td><td>0.99     </td><td>0.53     </td><td>0.0364   </td><td>1.021277 </td><td>1.170213 </td><td>0.9636   </td><td>0.9977918</td></tr>\n",
       "</tbody>\n",
       "</table>\n"
      ],
      "text/latex": [
       "\\begin{tabular}{r|lllllllll}\n",
       "  & effect\\_num & pve & prior & power & fdr & cs\\_size & cs\\_num & top\\_hit\\_rate & avg\\_purity\\\\\n",
       "\\hline\n",
       "\t20 & 2         & 0.05      & 0.01      & 0.49      & 0.0392    & 1.021277  & 1.085106  & 0.9608    & 0.9977918\\\\\n",
       "\t86 & 2         & 0.05      & 0.02      & 0.51      & 0.0377    & 1.021277  & 1.127660  & 0.9623    & 0.9977918\\\\\n",
       "\t152 & 2         & 0.05      & 0.03      & 0.51      & 0.0377    & 1.021277  & 1.127660  & 0.9623    & 0.9977918\\\\\n",
       "\t218 & 2         & 0.05      & 0.05      & 0.53      & 0.0364    & 1.021277  & 1.170213  & 0.9636    & 0.9977918\\\\\n",
       "\t284 & 2         & 0.05      & 0.10      & 0.53      & 0.0364    & 1.021277  & 1.170213  & 0.9636    & 0.9977918\\\\\n",
       "\t350 & 2         & 0.05      & 0.20      & 0.53      & 0.0364    & 1.021277  & 1.170213  & 0.9636    & 0.9977918\\\\\n",
       "\t416 & 2         & 0.05      & 0.40      & 0.53      & 0.0364    & 1.021277  & 1.170213  & 0.9636    & 0.9977918\\\\\n",
       "\t482 & 2         & 0.05      & 0.50      & 0.53      & 0.0364    & 1.021277  & 1.170213  & 0.9636    & 0.9977918\\\\\n",
       "\t548 & 2         & 0.05      & 0.70      & 0.53      & 0.0364    & 1.021277  & 1.170213  & 0.9636    & 0.9977918\\\\\n",
       "\t614 & 2         & 0.05      & 0.90      & 0.53      & 0.0364    & 1.021277  & 1.170213  & 0.9636    & 0.9977918\\\\\n",
       "\t680 & 2         & 0.05      & 0.99      & 0.53      & 0.0364    & 1.021277  & 1.170213  & 0.9636    & 0.9977918\\\\\n",
       "\\end{tabular}\n"
      ],
      "text/markdown": [
       "\n",
       "| <!--/--> | effect_num | pve | prior | power | fdr | cs_size | cs_num | top_hit_rate | avg_purity | \n",
       "|---|---|---|---|---|---|---|---|---|---|---|\n",
       "| 20 | 2         | 0.05      | 0.01      | 0.49      | 0.0392    | 1.021277  | 1.085106  | 0.9608    | 0.9977918 | \n",
       "| 86 | 2         | 0.05      | 0.02      | 0.51      | 0.0377    | 1.021277  | 1.127660  | 0.9623    | 0.9977918 | \n",
       "| 152 | 2         | 0.05      | 0.03      | 0.51      | 0.0377    | 1.021277  | 1.127660  | 0.9623    | 0.9977918 | \n",
       "| 218 | 2         | 0.05      | 0.05      | 0.53      | 0.0364    | 1.021277  | 1.170213  | 0.9636    | 0.9977918 | \n",
       "| 284 | 2         | 0.05      | 0.10      | 0.53      | 0.0364    | 1.021277  | 1.170213  | 0.9636    | 0.9977918 | \n",
       "| 350 | 2         | 0.05      | 0.20      | 0.53      | 0.0364    | 1.021277  | 1.170213  | 0.9636    | 0.9977918 | \n",
       "| 416 | 2         | 0.05      | 0.40      | 0.53      | 0.0364    | 1.021277  | 1.170213  | 0.9636    | 0.9977918 | \n",
       "| 482 | 2         | 0.05      | 0.50      | 0.53      | 0.0364    | 1.021277  | 1.170213  | 0.9636    | 0.9977918 | \n",
       "| 548 | 2         | 0.05      | 0.70      | 0.53      | 0.0364    | 1.021277  | 1.170213  | 0.9636    | 0.9977918 | \n",
       "| 614 | 2         | 0.05      | 0.90      | 0.53      | 0.0364    | 1.021277  | 1.170213  | 0.9636    | 0.9977918 | \n",
       "| 680 | 2         | 0.05      | 0.99      | 0.53      | 0.0364    | 1.021277  | 1.170213  | 0.9636    | 0.9977918 | \n",
       "\n",
       "\n"
      ],
      "text/plain": [
       "    effect_num pve  prior power fdr    cs_size  cs_num   top_hit_rate\n",
       "20  2          0.05 0.01  0.49  0.0392 1.021277 1.085106 0.9608      \n",
       "86  2          0.05 0.02  0.51  0.0377 1.021277 1.127660 0.9623      \n",
       "152 2          0.05 0.03  0.51  0.0377 1.021277 1.127660 0.9623      \n",
       "218 2          0.05 0.05  0.53  0.0364 1.021277 1.170213 0.9636      \n",
       "284 2          0.05 0.10  0.53  0.0364 1.021277 1.170213 0.9636      \n",
       "350 2          0.05 0.20  0.53  0.0364 1.021277 1.170213 0.9636      \n",
       "416 2          0.05 0.40  0.53  0.0364 1.021277 1.170213 0.9636      \n",
       "482 2          0.05 0.50  0.53  0.0364 1.021277 1.170213 0.9636      \n",
       "548 2          0.05 0.70  0.53  0.0364 1.021277 1.170213 0.9636      \n",
       "614 2          0.05 0.90  0.53  0.0364 1.021277 1.170213 0.9636      \n",
       "680 2          0.05 0.99  0.53  0.0364 1.021277 1.170213 0.9636      \n",
       "    avg_purity\n",
       "20  0.9977918 \n",
       "86  0.9977918 \n",
       "152 0.9977918 \n",
       "218 0.9977918 \n",
       "284 0.9977918 \n",
       "350 0.9977918 \n",
       "416 0.9977918 \n",
       "482 0.9977918 \n",
       "548 0.9977918 \n",
       "614 0.9977918 \n",
       "680 0.9977918 "
      ]
     },
     "metadata": {},
     "output_type": "display_data"
    }
   ],
   "source": [
    "singlecell.summary[singlecell.summary$pve==0.05,]"
   ]
  },
  {
   "cell_type": "code",
   "execution_count": 16,
   "metadata": {},
   "outputs": [
    {
     "data": {
      "text/html": [
       "<table>\n",
       "<thead><tr><th></th><th scope=col>effect_num</th><th scope=col>pve</th><th scope=col>prior</th><th scope=col>power</th><th scope=col>fdr</th><th scope=col>cs_size</th><th scope=col>cs_num</th><th scope=col>top_hit_rate</th><th scope=col>avg_purity</th></tr></thead>\n",
       "<tbody>\n",
       "\t<tr><th scope=row>50</th><td>2       </td><td>0.7     </td><td>0.01    </td><td>0.78    </td><td>0.0127  </td><td>1.020408</td><td>1.612245</td><td>0.9747  </td><td>1       </td></tr>\n",
       "\t<tr><th scope=row>116</th><td>2       </td><td>0.7     </td><td>0.02    </td><td>0.78    </td><td>0.0127  </td><td>1.020408</td><td>1.612245</td><td>0.9747  </td><td>1       </td></tr>\n",
       "\t<tr><th scope=row>182</th><td>2       </td><td>0.7     </td><td>0.03    </td><td>0.78    </td><td>0.0127  </td><td>1.020408</td><td>1.612245</td><td>0.9747  </td><td>1       </td></tr>\n",
       "\t<tr><th scope=row>248</th><td>2       </td><td>0.7     </td><td>0.05    </td><td>0.78    </td><td>0.0127  </td><td>1.020408</td><td>1.612245</td><td>0.9747  </td><td>1       </td></tr>\n",
       "\t<tr><th scope=row>314</th><td>2       </td><td>0.7     </td><td>0.10    </td><td>0.78    </td><td>0.0127  </td><td>1.020408</td><td>1.612245</td><td>0.9747  </td><td>1       </td></tr>\n",
       "\t<tr><th scope=row>380</th><td>2       </td><td>0.7     </td><td>0.20    </td><td>0.78    </td><td>0.0127  </td><td>1.020408</td><td>1.612245</td><td>0.9747  </td><td>1       </td></tr>\n",
       "\t<tr><th scope=row>446</th><td>2       </td><td>0.7     </td><td>0.40    </td><td>0.78    </td><td>0.0127  </td><td>1.020408</td><td>1.612245</td><td>0.9747  </td><td>1       </td></tr>\n",
       "\t<tr><th scope=row>512</th><td>2       </td><td>0.7     </td><td>0.50    </td><td>0.78    </td><td>0.0127  </td><td>1.020408</td><td>1.612245</td><td>0.9747  </td><td>1       </td></tr>\n",
       "\t<tr><th scope=row>578</th><td>2       </td><td>0.7     </td><td>0.70    </td><td>0.78    </td><td>0.0127  </td><td>1.020408</td><td>1.612245</td><td>0.9747  </td><td>1       </td></tr>\n",
       "\t<tr><th scope=row>644</th><td>2       </td><td>0.7     </td><td>0.90    </td><td>0.78    </td><td>0.0127  </td><td>1.020408</td><td>1.612245</td><td>0.9747  </td><td>1       </td></tr>\n",
       "\t<tr><th scope=row>710</th><td>2       </td><td>0.7     </td><td>0.99    </td><td>0.78    </td><td>0.0127  </td><td>1.020408</td><td>1.612245</td><td>0.9747  </td><td>1       </td></tr>\n",
       "</tbody>\n",
       "</table>\n"
      ],
      "text/latex": [
       "\\begin{tabular}{r|lllllllll}\n",
       "  & effect\\_num & pve & prior & power & fdr & cs\\_size & cs\\_num & top\\_hit\\_rate & avg\\_purity\\\\\n",
       "\\hline\n",
       "\t50 & 2        & 0.7      & 0.01     & 0.78     & 0.0127   & 1.020408 & 1.612245 & 0.9747   & 1       \\\\\n",
       "\t116 & 2        & 0.7      & 0.02     & 0.78     & 0.0127   & 1.020408 & 1.612245 & 0.9747   & 1       \\\\\n",
       "\t182 & 2        & 0.7      & 0.03     & 0.78     & 0.0127   & 1.020408 & 1.612245 & 0.9747   & 1       \\\\\n",
       "\t248 & 2        & 0.7      & 0.05     & 0.78     & 0.0127   & 1.020408 & 1.612245 & 0.9747   & 1       \\\\\n",
       "\t314 & 2        & 0.7      & 0.10     & 0.78     & 0.0127   & 1.020408 & 1.612245 & 0.9747   & 1       \\\\\n",
       "\t380 & 2        & 0.7      & 0.20     & 0.78     & 0.0127   & 1.020408 & 1.612245 & 0.9747   & 1       \\\\\n",
       "\t446 & 2        & 0.7      & 0.40     & 0.78     & 0.0127   & 1.020408 & 1.612245 & 0.9747   & 1       \\\\\n",
       "\t512 & 2        & 0.7      & 0.50     & 0.78     & 0.0127   & 1.020408 & 1.612245 & 0.9747   & 1       \\\\\n",
       "\t578 & 2        & 0.7      & 0.70     & 0.78     & 0.0127   & 1.020408 & 1.612245 & 0.9747   & 1       \\\\\n",
       "\t644 & 2        & 0.7      & 0.90     & 0.78     & 0.0127   & 1.020408 & 1.612245 & 0.9747   & 1       \\\\\n",
       "\t710 & 2        & 0.7      & 0.99     & 0.78     & 0.0127   & 1.020408 & 1.612245 & 0.9747   & 1       \\\\\n",
       "\\end{tabular}\n"
      ],
      "text/markdown": [
       "\n",
       "| <!--/--> | effect_num | pve | prior | power | fdr | cs_size | cs_num | top_hit_rate | avg_purity | \n",
       "|---|---|---|---|---|---|---|---|---|---|---|\n",
       "| 50 | 2        | 0.7      | 0.01     | 0.78     | 0.0127   | 1.020408 | 1.612245 | 0.9747   | 1        | \n",
       "| 116 | 2        | 0.7      | 0.02     | 0.78     | 0.0127   | 1.020408 | 1.612245 | 0.9747   | 1        | \n",
       "| 182 | 2        | 0.7      | 0.03     | 0.78     | 0.0127   | 1.020408 | 1.612245 | 0.9747   | 1        | \n",
       "| 248 | 2        | 0.7      | 0.05     | 0.78     | 0.0127   | 1.020408 | 1.612245 | 0.9747   | 1        | \n",
       "| 314 | 2        | 0.7      | 0.10     | 0.78     | 0.0127   | 1.020408 | 1.612245 | 0.9747   | 1        | \n",
       "| 380 | 2        | 0.7      | 0.20     | 0.78     | 0.0127   | 1.020408 | 1.612245 | 0.9747   | 1        | \n",
       "| 446 | 2        | 0.7      | 0.40     | 0.78     | 0.0127   | 1.020408 | 1.612245 | 0.9747   | 1        | \n",
       "| 512 | 2        | 0.7      | 0.50     | 0.78     | 0.0127   | 1.020408 | 1.612245 | 0.9747   | 1        | \n",
       "| 578 | 2        | 0.7      | 0.70     | 0.78     | 0.0127   | 1.020408 | 1.612245 | 0.9747   | 1        | \n",
       "| 644 | 2        | 0.7      | 0.90     | 0.78     | 0.0127   | 1.020408 | 1.612245 | 0.9747   | 1        | \n",
       "| 710 | 2        | 0.7      | 0.99     | 0.78     | 0.0127   | 1.020408 | 1.612245 | 0.9747   | 1        | \n",
       "\n",
       "\n"
      ],
      "text/plain": [
       "    effect_num pve prior power fdr    cs_size  cs_num   top_hit_rate avg_purity\n",
       "50  2          0.7 0.01  0.78  0.0127 1.020408 1.612245 0.9747       1         \n",
       "116 2          0.7 0.02  0.78  0.0127 1.020408 1.612245 0.9747       1         \n",
       "182 2          0.7 0.03  0.78  0.0127 1.020408 1.612245 0.9747       1         \n",
       "248 2          0.7 0.05  0.78  0.0127 1.020408 1.612245 0.9747       1         \n",
       "314 2          0.7 0.10  0.78  0.0127 1.020408 1.612245 0.9747       1         \n",
       "380 2          0.7 0.20  0.78  0.0127 1.020408 1.612245 0.9747       1         \n",
       "446 2          0.7 0.40  0.78  0.0127 1.020408 1.612245 0.9747       1         \n",
       "512 2          0.7 0.50  0.78  0.0127 1.020408 1.612245 0.9747       1         \n",
       "578 2          0.7 0.70  0.78  0.0127 1.020408 1.612245 0.9747       1         \n",
       "644 2          0.7 0.90  0.78  0.0127 1.020408 1.612245 0.9747       1         \n",
       "710 2          0.7 0.99  0.78  0.0127 1.020408 1.612245 0.9747       1         "
      ]
     },
     "metadata": {},
     "output_type": "display_data"
    }
   ],
   "source": [
    "singlecell.summary[singlecell.summary$pve==0.7,]"
   ]
  },
  {
   "cell_type": "markdown",
   "metadata": {},
   "source": [
    "## Code details"
   ]
  },
  {
   "cell_type": "code",
   "execution_count": 9,
   "metadata": {
    "collapsed": true
   },
   "outputs": [],
   "source": [
    "singlecell_Q2 = readRDS('singlecell_Q2.rds')\n",
    "singlecell_Q2 = singlecell_Q2[!is.na(singlecell_Q2$sim_gaussian.output.file),]\n",
    "singlecell_Q2 = singlecell_Q2[!is.na(singlecell_Q2$susie_prior.output.file),]"
   ]
  },
  {
   "cell_type": "code",
   "execution_count": 10,
   "metadata": {
    "collapsed": true
   },
   "outputs": [],
   "source": [
    "singlecell_df = data.frame(singlecell_Q2$sim_gaussian.effect_num, singlecell_Q2$sim_gaussian.pve, singlecell_Q2$susie_prior.prior,\n",
    "                       singlecell_Q2$score.hit, singlecell_Q2$score.signal_num, singlecell_Q2$score.cs_medianSize,\n",
    "                       singlecell_Q2$score.top_hit, singlecell_Q2$sim_gaussian.mean_corX, singlecell_Q2$susie_prior.avg_purity)\n",
    "names(singlecell_df) = c('effect_num', 'pve', 'prior','hit', 'cs_num', 'cs_size', 'top_hit', 'corX', 'avg_purity')"
   ]
  },
  {
   "cell_type": "code",
   "execution_count": 11,
   "metadata": {
    "collapsed": true
   },
   "outputs": [],
   "source": [
    "hitsum.summary = aggregate(hit ~ effect_num + pve + prior, singlecell_df, sum)\n",
    "hitmean.summary = aggregate(hit ~ effect_num + pve + prior, singlecell_df, mean)\n",
    "power.summary = hitmean.summary\n",
    "power.summary$power = power.summary$hit / power.summary$effect_num\n",
    "fdr.summary = aggregate(cs_num ~ effect_num + pve + prior, singlecell_df, sum)\n",
    "fdr.summary$fdr = round(1 - hitsum.summary$hit / fdr.summary$cs_num, 4)\n",
    "meannonzero = function(x){mean(x[x!=0])}\n",
    "cs_num.summary = aggregate(cs_num ~ effect_num + pve + prior, singlecell_df, meannonzero)\n",
    "setsize.summary = aggregate(cs_size ~ effect_num + pve + prior, singlecell_df, meannonzero)\n",
    "tophit.summary = aggregate(top_hit ~ effect_num + pve + prior, singlecell_df, sum)\n",
    "tophit.summary$tophit_rate = round(tophit.summary$top_hit / fdr.summary$cs_num , 4)\n",
    "singlecell_df$avg_purity[is.na(singlecell_df$avg_purity)]=0\n",
    "purity.summary = aggregate(avg_purity ~ effect_num + pve + prior, singlecell_df, meannonzero)"
   ]
  },
  {
   "cell_type": "code",
   "execution_count": 12,
   "metadata": {
    "collapsed": true
   },
   "outputs": [],
   "source": [
    "singlecell.summary = data.frame(power.summary$effect_num, power.summary$pve, power.summary$prior,\n",
    "                            power.summary$power, fdr.summary$fdr, \n",
    "                            setsize.summary$cs_size, cs_num.summary$cs_num, \n",
    "                            tophit.summary$tophit_rate, purity.summary$avg_purity)\n",
    "names(singlecell.summary) = c('effect_num', 'pve', 'prior','power', 'fdr', 'cs_size', 'cs_num','top_hit_rate', 'avg_purity')"
   ]
  },
  {
   "cell_type": "code",
   "execution_count": 13,
   "metadata": {
    "collapsed": true
   },
   "outputs": [],
   "source": [
    "is.nan.data.frame <- function(x)\n",
    "do.call(cbind, lapply(x, is.nan))\n",
    "singlecell.summary[is.nan(singlecell.summary)] = 0"
   ]
  },
  {
   "cell_type": "code",
   "execution_count": 14,
   "metadata": {
    "collapsed": true
   },
   "outputs": [],
   "source": [
    "singlecell.summary = singlecell.summary[singlecell.summary$effect_num==2, ]"
   ]
  }
 ],
 "metadata": {
  "kernelspec": {
   "display_name": "R",
   "language": "R",
   "name": "ir"
  },
  "language_info": {
   "codemirror_mode": "r",
   "file_extension": ".r",
   "mimetype": "text/x-r-source",
   "name": "R",
   "pygments_lexer": "r",
   "version": "3.4.3"
  }
 },
 "nbformat": 4,
 "nbformat_minor": 2
}
