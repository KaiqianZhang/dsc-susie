{
 "cells": [
  {
   "cell_type": "markdown",
   "metadata": {},
   "source": [
    "# How is power under different PVEs?\n",
    "\n",
    "Assume only one non-zero effect $T = 1$. Assume that prior is 0.2. \n",
    "\n",
    "We investigate SuSiE's power when PVE $\\in \\{0.01, 0.02, 0.03, 0.05, 0.1, 0.2, 0.4, 0.5, 0.7, 0.9, 0.99\\}$. "
   ]
  },
  {
   "cell_type": "markdown",
   "metadata": {},
   "source": [
    "## Results\n",
    "\n",
    "**- Summary: SuSiE's power is  $\\geq 0.92$ from PVE $= 0.05$.  And FDR is around $0.02$. **\n"
   ]
  },
  {
   "cell_type": "code",
   "execution_count": 18,
   "metadata": {},
   "outputs": [
    {
     "data": {
      "text/html": [
       "<table>\n",
       "<thead><tr><th scope=col>effect_num</th><th scope=col>pve</th><th scope=col>power</th><th scope=col>fdr</th></tr></thead>\n",
       "<tbody>\n",
       "\t<tr><td>1     </td><td>0.01  </td><td>0.06  </td><td>0.2500</td></tr>\n",
       "\t<tr><td>1     </td><td>0.02  </td><td>0.44  </td><td>0.0435</td></tr>\n",
       "\t<tr><td>1     </td><td>0.03  </td><td>0.74  </td><td>0.0263</td></tr>\n",
       "\t<tr><td>1     </td><td>0.05  </td><td>0.92  </td><td>0.0213</td></tr>\n",
       "\t<tr><td>1     </td><td>0.10  </td><td>0.94  </td><td>0.0208</td></tr>\n",
       "\t<tr><td>1     </td><td>0.20  </td><td>0.94  </td><td>0.0208</td></tr>\n",
       "\t<tr><td>1     </td><td>0.40  </td><td>0.94  </td><td>0.0208</td></tr>\n",
       "\t<tr><td>1     </td><td>0.50  </td><td>0.94  </td><td>0.0208</td></tr>\n",
       "\t<tr><td>1     </td><td>0.70  </td><td>0.94  </td><td>0.0208</td></tr>\n",
       "\t<tr><td>1     </td><td>0.90  </td><td>0.94  </td><td>0.0208</td></tr>\n",
       "\t<tr><td>1     </td><td>0.99  </td><td>0.94  </td><td>0.0208</td></tr>\n",
       "</tbody>\n",
       "</table>\n"
      ],
      "text/latex": [
       "\\begin{tabular}{r|llll}\n",
       " effect\\_num & pve & power & fdr\\\\\n",
       "\\hline\n",
       "\t 1      & 0.01   & 0.06   & 0.2500\\\\\n",
       "\t 1      & 0.02   & 0.44   & 0.0435\\\\\n",
       "\t 1      & 0.03   & 0.74   & 0.0263\\\\\n",
       "\t 1      & 0.05   & 0.92   & 0.0213\\\\\n",
       "\t 1      & 0.10   & 0.94   & 0.0208\\\\\n",
       "\t 1      & 0.20   & 0.94   & 0.0208\\\\\n",
       "\t 1      & 0.40   & 0.94   & 0.0208\\\\\n",
       "\t 1      & 0.50   & 0.94   & 0.0208\\\\\n",
       "\t 1      & 0.70   & 0.94   & 0.0208\\\\\n",
       "\t 1      & 0.90   & 0.94   & 0.0208\\\\\n",
       "\t 1      & 0.99   & 0.94   & 0.0208\\\\\n",
       "\\end{tabular}\n"
      ],
      "text/markdown": [
       "\n",
       "effect_num | pve | power | fdr | \n",
       "|---|---|---|---|---|---|---|---|---|---|---|\n",
       "| 1      | 0.01   | 0.06   | 0.2500 | \n",
       "| 1      | 0.02   | 0.44   | 0.0435 | \n",
       "| 1      | 0.03   | 0.74   | 0.0263 | \n",
       "| 1      | 0.05   | 0.92   | 0.0213 | \n",
       "| 1      | 0.10   | 0.94   | 0.0208 | \n",
       "| 1      | 0.20   | 0.94   | 0.0208 | \n",
       "| 1      | 0.40   | 0.94   | 0.0208 | \n",
       "| 1      | 0.50   | 0.94   | 0.0208 | \n",
       "| 1      | 0.70   | 0.94   | 0.0208 | \n",
       "| 1      | 0.90   | 0.94   | 0.0208 | \n",
       "| 1      | 0.99   | 0.94   | 0.0208 | \n",
       "\n",
       "\n"
      ],
      "text/plain": [
       "   effect_num pve  power fdr   \n",
       "1  1          0.01 0.06  0.2500\n",
       "2  1          0.02 0.44  0.0435\n",
       "3  1          0.03 0.74  0.0263\n",
       "4  1          0.05 0.92  0.0213\n",
       "5  1          0.10 0.94  0.0208\n",
       "6  1          0.20 0.94  0.0208\n",
       "7  1          0.40 0.94  0.0208\n",
       "8  1          0.50 0.94  0.0208\n",
       "9  1          0.70 0.94  0.0208\n",
       "10 1          0.90 0.94  0.0208\n",
       "11 1          0.99 0.94  0.0208"
      ]
     },
     "metadata": {},
     "output_type": "display_data"
    }
   ],
   "source": [
    "singlecell_summary"
   ]
  },
  {
   "cell_type": "markdown",
   "metadata": {},
   "source": [
    "## Code details"
   ]
  },
  {
   "cell_type": "code",
   "execution_count": 13,
   "metadata": {
    "collapsed": true
   },
   "outputs": [],
   "source": [
    "singlecell_Q1 = readRDS('singlecell_Q1.rds')\n",
    "singlecell_Q1 = singlecell_Q1[!is.na(singlecell_Q1$sim_gaussian.output.file),]\n",
    "singlecell_Q1 = singlecell_Q1[!is.na(singlecell_Q1$susie.output.file),]"
   ]
  },
  {
   "cell_type": "code",
   "execution_count": 14,
   "metadata": {
    "collapsed": true
   },
   "outputs": [],
   "source": [
    "singlecell_df = data.frame(singlecell_Q1$sim_gaussian.effect_num, singlecell_Q1$sim_gaussian.pve, \n",
    "                       singlecell_Q1$score.hit, singlecell_Q1$score.signal_num)\n",
    "names(singlecell_df) = c('effect_num', 'pve', 'hit', 'cs_num')"
   ]
  },
  {
   "cell_type": "code",
   "execution_count": 15,
   "metadata": {
    "collapsed": true
   },
   "outputs": [],
   "source": [
    "singlecell_df = singlecell_df[singlecell_df$effect_num==1,]"
   ]
  },
  {
   "cell_type": "code",
   "execution_count": 16,
   "metadata": {
    "collapsed": true
   },
   "outputs": [],
   "source": [
    "singlecell_summary = aggregate(hit ~ effect_num + pve, singlecell_df, mean)\n",
    "singlecell_summary$power = singlecell_summary$hit\n",
    "fdr.summary = aggregate(cs_num ~ effect_num + pve, singlecell_df, mean)\n",
    "fdr.summary$fdr = round(1 - singlecell_summary$hit / fdr.summary$cs_num, 4)\n",
    "singlecell_summary$hit = NULL\n",
    "singlecell_summary$fdr = fdr.summary$fdr"
   ]
  },
  {
   "cell_type": "code",
   "execution_count": 17,
   "metadata": {
    "collapsed": true
   },
   "outputs": [],
   "source": [
    "is.nan.data.frame <- function(x)\n",
    "do.call(cbind, lapply(x, is.nan))\n",
    "singlecell_summary[is.nan(singlecell_summary)] = 0"
   ]
  }
 ],
 "metadata": {
  "kernelspec": {
   "display_name": "R",
   "language": "R",
   "name": "ir"
  },
  "language_info": {
   "codemirror_mode": "r",
   "file_extension": ".r",
   "mimetype": "text/x-r-source",
   "name": "R",
   "pygments_lexer": "r",
   "version": "3.4.3"
  }
 },
 "nbformat": 4,
 "nbformat_minor": 2
}
