{
 "cells": [
  {
   "cell_type": "markdown",
   "metadata": {},
   "source": [
    "# How is power for different number of effects?\n",
    "\n",
    "Since simulated effects have certain correlation, we provide `mean_corX` to quantify such correlation. For each fixed number of nonzero effects $T \\in \\{2,3,5,10,20\\}$, we investigate SuSiE power as pve changes. "
   ]
  },
  {
   "cell_type": "markdown",
   "metadata": {},
   "source": [
    "## Results\n",
    "\n",
    "We observe that in the single cell data: \n",
    "\n",
    "* As the number of effects increases, it becomes more difficult to achieve high power even if pve is large. But the power change when changing the number of nonzero effects is smaller than that in GTEx data.\n",
    "\n",
    "* `mean_corX` does not seem to be a factor that causes a change in power. A decline in power is directly related to an increased number of nonzero effects. \n",
    "\n",
    "* `mean_corX` is much smaller in single cell data than GTEx data. If this is related to a smaller change in power when varying the number of nonzero effects?\n",
    "\n",
    "* Furthermore, fdr is not necessaily larger when we have more number of nonzero effects."
   ]
  },
  {
   "cell_type": "code",
   "execution_count": 48,
   "metadata": {},
   "outputs": [
    {
     "data": {
      "text/html": [
       "<table>\n",
       "<thead><tr><th></th><th scope=col>effect_num</th><th scope=col>pve</th><th scope=col>mean_corX</th><th scope=col>power</th><th scope=col>fdr</th><th scope=col>cs_num</th></tr></thead>\n",
       "<tbody>\n",
       "\t<tr><th scope=row>2</th><td>2         </td><td>0.01      </td><td>0.02261397</td><td>0.05      </td><td>0.1667    </td><td>1.000000  </td></tr>\n",
       "\t<tr><th scope=row>8</th><td>2         </td><td>0.02      </td><td>0.02261397</td><td>0.18      </td><td>0.0526    </td><td>1.000000  </td></tr>\n",
       "\t<tr><th scope=row>14</th><td>2         </td><td>0.03      </td><td>0.02261397</td><td>0.34      </td><td>0.0286    </td><td>1.029412  </td></tr>\n",
       "\t<tr><th scope=row>20</th><td>2         </td><td>0.05      </td><td>0.02261397</td><td>0.53      </td><td>0.0364    </td><td>1.170213  </td></tr>\n",
       "\t<tr><th scope=row>26</th><td>2         </td><td>0.10      </td><td>0.02261397</td><td>0.58      </td><td>0.0333    </td><td>1.224490  </td></tr>\n",
       "\t<tr><th scope=row>32</th><td>2         </td><td>0.20      </td><td>0.02261397</td><td>0.66      </td><td>0.0149    </td><td>1.367347  </td></tr>\n",
       "\t<tr><th scope=row>38</th><td>2         </td><td>0.40      </td><td>0.02261397</td><td>0.73      </td><td>0.0135    </td><td>1.510204  </td></tr>\n",
       "\t<tr><th scope=row>44</th><td>2         </td><td>0.50      </td><td>0.02261397</td><td>0.74      </td><td>0.0133    </td><td>1.530612  </td></tr>\n",
       "\t<tr><th scope=row>50</th><td>2         </td><td>0.70      </td><td>0.02261397</td><td>0.78      </td><td>0.0127    </td><td>1.612245  </td></tr>\n",
       "\t<tr><th scope=row>56</th><td>2         </td><td>0.90      </td><td>0.02261397</td><td>0.86      </td><td>0.0115    </td><td>1.775510  </td></tr>\n",
       "\t<tr><th scope=row>62</th><td>2         </td><td>0.99      </td><td>0.02261397</td><td>0.92      </td><td>0.0108    </td><td>1.897959  </td></tr>\n",
       "</tbody>\n",
       "</table>\n"
      ],
      "text/latex": [
       "\\begin{tabular}{r|llllll}\n",
       "  & effect\\_num & pve & mean\\_corX & power & fdr & cs\\_num\\\\\n",
       "\\hline\n",
       "\t2 & 2          & 0.01       & 0.02261397 & 0.05       & 0.1667     & 1.000000  \\\\\n",
       "\t8 & 2          & 0.02       & 0.02261397 & 0.18       & 0.0526     & 1.000000  \\\\\n",
       "\t14 & 2          & 0.03       & 0.02261397 & 0.34       & 0.0286     & 1.029412  \\\\\n",
       "\t20 & 2          & 0.05       & 0.02261397 & 0.53       & 0.0364     & 1.170213  \\\\\n",
       "\t26 & 2          & 0.10       & 0.02261397 & 0.58       & 0.0333     & 1.224490  \\\\\n",
       "\t32 & 2          & 0.20       & 0.02261397 & 0.66       & 0.0149     & 1.367347  \\\\\n",
       "\t38 & 2          & 0.40       & 0.02261397 & 0.73       & 0.0135     & 1.510204  \\\\\n",
       "\t44 & 2          & 0.50       & 0.02261397 & 0.74       & 0.0133     & 1.530612  \\\\\n",
       "\t50 & 2          & 0.70       & 0.02261397 & 0.78       & 0.0127     & 1.612245  \\\\\n",
       "\t56 & 2          & 0.90       & 0.02261397 & 0.86       & 0.0115     & 1.775510  \\\\\n",
       "\t62 & 2          & 0.99       & 0.02261397 & 0.92       & 0.0108     & 1.897959  \\\\\n",
       "\\end{tabular}\n"
      ],
      "text/markdown": [
       "\n",
       "| <!--/--> | effect_num | pve | mean_corX | power | fdr | cs_num | \n",
       "|---|---|---|---|---|---|---|---|---|---|---|\n",
       "| 2 | 2          | 0.01       | 0.02261397 | 0.05       | 0.1667     | 1.000000   | \n",
       "| 8 | 2          | 0.02       | 0.02261397 | 0.18       | 0.0526     | 1.000000   | \n",
       "| 14 | 2          | 0.03       | 0.02261397 | 0.34       | 0.0286     | 1.029412   | \n",
       "| 20 | 2          | 0.05       | 0.02261397 | 0.53       | 0.0364     | 1.170213   | \n",
       "| 26 | 2          | 0.10       | 0.02261397 | 0.58       | 0.0333     | 1.224490   | \n",
       "| 32 | 2          | 0.20       | 0.02261397 | 0.66       | 0.0149     | 1.367347   | \n",
       "| 38 | 2          | 0.40       | 0.02261397 | 0.73       | 0.0135     | 1.510204   | \n",
       "| 44 | 2          | 0.50       | 0.02261397 | 0.74       | 0.0133     | 1.530612   | \n",
       "| 50 | 2          | 0.70       | 0.02261397 | 0.78       | 0.0127     | 1.612245   | \n",
       "| 56 | 2          | 0.90       | 0.02261397 | 0.86       | 0.0115     | 1.775510   | \n",
       "| 62 | 2          | 0.99       | 0.02261397 | 0.92       | 0.0108     | 1.897959   | \n",
       "\n",
       "\n"
      ],
      "text/plain": [
       "   effect_num pve  mean_corX  power fdr    cs_num  \n",
       "2  2          0.01 0.02261397 0.05  0.1667 1.000000\n",
       "8  2          0.02 0.02261397 0.18  0.0526 1.000000\n",
       "14 2          0.03 0.02261397 0.34  0.0286 1.029412\n",
       "20 2          0.05 0.02261397 0.53  0.0364 1.170213\n",
       "26 2          0.10 0.02261397 0.58  0.0333 1.224490\n",
       "32 2          0.20 0.02261397 0.66  0.0149 1.367347\n",
       "38 2          0.40 0.02261397 0.73  0.0135 1.510204\n",
       "44 2          0.50 0.02261397 0.74  0.0133 1.530612\n",
       "50 2          0.70 0.02261397 0.78  0.0127 1.612245\n",
       "56 2          0.90 0.02261397 0.86  0.0115 1.775510\n",
       "62 2          0.99 0.02261397 0.92  0.0108 1.897959"
      ]
     },
     "metadata": {},
     "output_type": "display_data"
    }
   ],
   "source": [
    "singlecell.summary[singlecell.summary$effect_num==2,]"
   ]
  },
  {
   "cell_type": "code",
   "execution_count": 49,
   "metadata": {},
   "outputs": [
    {
     "data": {
      "text/html": [
       "<table>\n",
       "<thead><tr><th></th><th scope=col>effect_num</th><th scope=col>pve</th><th scope=col>mean_corX</th><th scope=col>power</th><th scope=col>fdr</th><th scope=col>cs_num</th></tr></thead>\n",
       "<tbody>\n",
       "\t<tr><th scope=row>3</th><td>3         </td><td>0.01      </td><td>0.01847963</td><td>0.0200    </td><td>0.2500    </td><td>1.000000  </td></tr>\n",
       "\t<tr><th scope=row>9</th><td>3         </td><td>0.02      </td><td>0.01847963</td><td>0.1467    </td><td>0.0435    </td><td>1.045455  </td></tr>\n",
       "\t<tr><th scope=row>15</th><td>3         </td><td>0.03      </td><td>0.01847963</td><td>0.2200    </td><td>0.0294    </td><td>1.030303  </td></tr>\n",
       "\t<tr><th scope=row>21</th><td>3         </td><td>0.05      </td><td>0.01847963</td><td>0.3533    </td><td>0.0000    </td><td>1.104167  </td></tr>\n",
       "\t<tr><th scope=row>27</th><td>3         </td><td>0.10      </td><td>0.01847963</td><td>0.4600    </td><td>0.0143    </td><td>1.400000  </td></tr>\n",
       "\t<tr><th scope=row>33</th><td>3         </td><td>0.20      </td><td>0.01847963</td><td>0.5467    </td><td>0.0120    </td><td>1.660000  </td></tr>\n",
       "\t<tr><th scope=row>39</th><td>3         </td><td>0.40      </td><td>0.01847963</td><td>0.6400    </td><td>0.0000    </td><td>1.920000  </td></tr>\n",
       "\t<tr><th scope=row>45</th><td>3         </td><td>0.50      </td><td>0.01847963</td><td>0.6533    </td><td>0.0000    </td><td>1.960000  </td></tr>\n",
       "\t<tr><th scope=row>51</th><td>3         </td><td>0.70      </td><td>0.01847963</td><td>0.7133    </td><td>0.0000    </td><td>2.140000  </td></tr>\n",
       "\t<tr><th scope=row>57</th><td>3         </td><td>0.90      </td><td>0.01847963</td><td>0.8467    </td><td>0.0000    </td><td>2.540000  </td></tr>\n",
       "\t<tr><th scope=row>63</th><td>3         </td><td>0.99      </td><td>0.01847963</td><td>0.9267    </td><td>0.0000    </td><td>2.780000  </td></tr>\n",
       "</tbody>\n",
       "</table>\n"
      ],
      "text/latex": [
       "\\begin{tabular}{r|llllll}\n",
       "  & effect\\_num & pve & mean\\_corX & power & fdr & cs\\_num\\\\\n",
       "\\hline\n",
       "\t3 & 3          & 0.01       & 0.01847963 & 0.0200     & 0.2500     & 1.000000  \\\\\n",
       "\t9 & 3          & 0.02       & 0.01847963 & 0.1467     & 0.0435     & 1.045455  \\\\\n",
       "\t15 & 3          & 0.03       & 0.01847963 & 0.2200     & 0.0294     & 1.030303  \\\\\n",
       "\t21 & 3          & 0.05       & 0.01847963 & 0.3533     & 0.0000     & 1.104167  \\\\\n",
       "\t27 & 3          & 0.10       & 0.01847963 & 0.4600     & 0.0143     & 1.400000  \\\\\n",
       "\t33 & 3          & 0.20       & 0.01847963 & 0.5467     & 0.0120     & 1.660000  \\\\\n",
       "\t39 & 3          & 0.40       & 0.01847963 & 0.6400     & 0.0000     & 1.920000  \\\\\n",
       "\t45 & 3          & 0.50       & 0.01847963 & 0.6533     & 0.0000     & 1.960000  \\\\\n",
       "\t51 & 3          & 0.70       & 0.01847963 & 0.7133     & 0.0000     & 2.140000  \\\\\n",
       "\t57 & 3          & 0.90       & 0.01847963 & 0.8467     & 0.0000     & 2.540000  \\\\\n",
       "\t63 & 3          & 0.99       & 0.01847963 & 0.9267     & 0.0000     & 2.780000  \\\\\n",
       "\\end{tabular}\n"
      ],
      "text/markdown": [
       "\n",
       "| <!--/--> | effect_num | pve | mean_corX | power | fdr | cs_num | \n",
       "|---|---|---|---|---|---|---|---|---|---|---|\n",
       "| 3 | 3          | 0.01       | 0.01847963 | 0.0200     | 0.2500     | 1.000000   | \n",
       "| 9 | 3          | 0.02       | 0.01847963 | 0.1467     | 0.0435     | 1.045455   | \n",
       "| 15 | 3          | 0.03       | 0.01847963 | 0.2200     | 0.0294     | 1.030303   | \n",
       "| 21 | 3          | 0.05       | 0.01847963 | 0.3533     | 0.0000     | 1.104167   | \n",
       "| 27 | 3          | 0.10       | 0.01847963 | 0.4600     | 0.0143     | 1.400000   | \n",
       "| 33 | 3          | 0.20       | 0.01847963 | 0.5467     | 0.0120     | 1.660000   | \n",
       "| 39 | 3          | 0.40       | 0.01847963 | 0.6400     | 0.0000     | 1.920000   | \n",
       "| 45 | 3          | 0.50       | 0.01847963 | 0.6533     | 0.0000     | 1.960000   | \n",
       "| 51 | 3          | 0.70       | 0.01847963 | 0.7133     | 0.0000     | 2.140000   | \n",
       "| 57 | 3          | 0.90       | 0.01847963 | 0.8467     | 0.0000     | 2.540000   | \n",
       "| 63 | 3          | 0.99       | 0.01847963 | 0.9267     | 0.0000     | 2.780000   | \n",
       "\n",
       "\n"
      ],
      "text/plain": [
       "   effect_num pve  mean_corX  power  fdr    cs_num  \n",
       "3  3          0.01 0.01847963 0.0200 0.2500 1.000000\n",
       "9  3          0.02 0.01847963 0.1467 0.0435 1.045455\n",
       "15 3          0.03 0.01847963 0.2200 0.0294 1.030303\n",
       "21 3          0.05 0.01847963 0.3533 0.0000 1.104167\n",
       "27 3          0.10 0.01847963 0.4600 0.0143 1.400000\n",
       "33 3          0.20 0.01847963 0.5467 0.0120 1.660000\n",
       "39 3          0.40 0.01847963 0.6400 0.0000 1.920000\n",
       "45 3          0.50 0.01847963 0.6533 0.0000 1.960000\n",
       "51 3          0.70 0.01847963 0.7133 0.0000 2.140000\n",
       "57 3          0.90 0.01847963 0.8467 0.0000 2.540000\n",
       "63 3          0.99 0.01847963 0.9267 0.0000 2.780000"
      ]
     },
     "metadata": {},
     "output_type": "display_data"
    }
   ],
   "source": [
    "singlecell.summary[singlecell.summary$effect_num==3,]"
   ]
  },
  {
   "cell_type": "code",
   "execution_count": 50,
   "metadata": {},
   "outputs": [
    {
     "data": {
      "text/html": [
       "<table>\n",
       "<thead><tr><th></th><th scope=col>effect_num</th><th scope=col>pve</th><th scope=col>mean_corX</th><th scope=col>power</th><th scope=col>fdr</th><th scope=col>cs_num</th></tr></thead>\n",
       "<tbody>\n",
       "\t<tr><th scope=row>4</th><td>5         </td><td>0.01      </td><td>0.01622105</td><td>0.008     </td><td>0.0000    </td><td>1.000000  </td></tr>\n",
       "\t<tr><th scope=row>10</th><td>5         </td><td>0.02      </td><td>0.01622105</td><td>0.056     </td><td>0.0000    </td><td>1.000000  </td></tr>\n",
       "\t<tr><th scope=row>16</th><td>5         </td><td>0.03      </td><td>0.01622105</td><td>0.124     </td><td>0.0312    </td><td>1.066667  </td></tr>\n",
       "\t<tr><th scope=row>22</th><td>5         </td><td>0.05      </td><td>0.01622105</td><td>0.216     </td><td>0.0000    </td><td>1.200000  </td></tr>\n",
       "\t<tr><th scope=row>28</th><td>5         </td><td>0.10      </td><td>0.01622105</td><td>0.308     </td><td>0.0000    </td><td>1.540000  </td></tr>\n",
       "\t<tr><th scope=row>34</th><td>5         </td><td>0.20      </td><td>0.01622105</td><td>0.400     </td><td>0.0000    </td><td>2.000000  </td></tr>\n",
       "\t<tr><th scope=row>40</th><td>5         </td><td>0.40      </td><td>0.01622105</td><td>0.528     </td><td>0.0000    </td><td>2.640000  </td></tr>\n",
       "\t<tr><th scope=row>46</th><td>5         </td><td>0.50      </td><td>0.01622105</td><td>0.564     </td><td>0.0000    </td><td>2.820000  </td></tr>\n",
       "\t<tr><th scope=row>52</th><td>5         </td><td>0.70      </td><td>0.01622105</td><td>0.648     </td><td>0.0000    </td><td>3.240000  </td></tr>\n",
       "\t<tr><th scope=row>58</th><td>5         </td><td>0.90      </td><td>0.01622105</td><td>0.816     </td><td>0.0000    </td><td>4.080000  </td></tr>\n",
       "\t<tr><th scope=row>64</th><td>5         </td><td>0.99      </td><td>0.01622105</td><td>0.908     </td><td>0.0000    </td><td>4.540000  </td></tr>\n",
       "</tbody>\n",
       "</table>\n"
      ],
      "text/latex": [
       "\\begin{tabular}{r|llllll}\n",
       "  & effect\\_num & pve & mean\\_corX & power & fdr & cs\\_num\\\\\n",
       "\\hline\n",
       "\t4 & 5          & 0.01       & 0.01622105 & 0.008      & 0.0000     & 1.000000  \\\\\n",
       "\t10 & 5          & 0.02       & 0.01622105 & 0.056      & 0.0000     & 1.000000  \\\\\n",
       "\t16 & 5          & 0.03       & 0.01622105 & 0.124      & 0.0312     & 1.066667  \\\\\n",
       "\t22 & 5          & 0.05       & 0.01622105 & 0.216      & 0.0000     & 1.200000  \\\\\n",
       "\t28 & 5          & 0.10       & 0.01622105 & 0.308      & 0.0000     & 1.540000  \\\\\n",
       "\t34 & 5          & 0.20       & 0.01622105 & 0.400      & 0.0000     & 2.000000  \\\\\n",
       "\t40 & 5          & 0.40       & 0.01622105 & 0.528      & 0.0000     & 2.640000  \\\\\n",
       "\t46 & 5          & 0.50       & 0.01622105 & 0.564      & 0.0000     & 2.820000  \\\\\n",
       "\t52 & 5          & 0.70       & 0.01622105 & 0.648      & 0.0000     & 3.240000  \\\\\n",
       "\t58 & 5          & 0.90       & 0.01622105 & 0.816      & 0.0000     & 4.080000  \\\\\n",
       "\t64 & 5          & 0.99       & 0.01622105 & 0.908      & 0.0000     & 4.540000  \\\\\n",
       "\\end{tabular}\n"
      ],
      "text/markdown": [
       "\n",
       "| <!--/--> | effect_num | pve | mean_corX | power | fdr | cs_num | \n",
       "|---|---|---|---|---|---|---|---|---|---|---|\n",
       "| 4 | 5          | 0.01       | 0.01622105 | 0.008      | 0.0000     | 1.000000   | \n",
       "| 10 | 5          | 0.02       | 0.01622105 | 0.056      | 0.0000     | 1.000000   | \n",
       "| 16 | 5          | 0.03       | 0.01622105 | 0.124      | 0.0312     | 1.066667   | \n",
       "| 22 | 5          | 0.05       | 0.01622105 | 0.216      | 0.0000     | 1.200000   | \n",
       "| 28 | 5          | 0.10       | 0.01622105 | 0.308      | 0.0000     | 1.540000   | \n",
       "| 34 | 5          | 0.20       | 0.01622105 | 0.400      | 0.0000     | 2.000000   | \n",
       "| 40 | 5          | 0.40       | 0.01622105 | 0.528      | 0.0000     | 2.640000   | \n",
       "| 46 | 5          | 0.50       | 0.01622105 | 0.564      | 0.0000     | 2.820000   | \n",
       "| 52 | 5          | 0.70       | 0.01622105 | 0.648      | 0.0000     | 3.240000   | \n",
       "| 58 | 5          | 0.90       | 0.01622105 | 0.816      | 0.0000     | 4.080000   | \n",
       "| 64 | 5          | 0.99       | 0.01622105 | 0.908      | 0.0000     | 4.540000   | \n",
       "\n",
       "\n"
      ],
      "text/plain": [
       "   effect_num pve  mean_corX  power fdr    cs_num  \n",
       "4  5          0.01 0.01622105 0.008 0.0000 1.000000\n",
       "10 5          0.02 0.01622105 0.056 0.0000 1.000000\n",
       "16 5          0.03 0.01622105 0.124 0.0312 1.066667\n",
       "22 5          0.05 0.01622105 0.216 0.0000 1.200000\n",
       "28 5          0.10 0.01622105 0.308 0.0000 1.540000\n",
       "34 5          0.20 0.01622105 0.400 0.0000 2.000000\n",
       "40 5          0.40 0.01622105 0.528 0.0000 2.640000\n",
       "46 5          0.50 0.01622105 0.564 0.0000 2.820000\n",
       "52 5          0.70 0.01622105 0.648 0.0000 3.240000\n",
       "58 5          0.90 0.01622105 0.816 0.0000 4.080000\n",
       "64 5          0.99 0.01622105 0.908 0.0000 4.540000"
      ]
     },
     "metadata": {},
     "output_type": "display_data"
    }
   ],
   "source": [
    "singlecell.summary[singlecell.summary$effect_num==5,]"
   ]
  },
  {
   "cell_type": "code",
   "execution_count": 51,
   "metadata": {},
   "outputs": [
    {
     "data": {
      "text/html": [
       "<table>\n",
       "<thead><tr><th></th><th scope=col>effect_num</th><th scope=col>pve</th><th scope=col>mean_corX</th><th scope=col>power</th><th scope=col>fdr</th><th scope=col>cs_num</th></tr></thead>\n",
       "<tbody>\n",
       "\t<tr><th scope=row>5</th><td>10        </td><td>0.01      </td><td>0.01819252</td><td>0.006     </td><td>0         </td><td>1.000000  </td></tr>\n",
       "\t<tr><th scope=row>11</th><td>10        </td><td>0.02      </td><td>0.01819252</td><td>0.020     </td><td>0         </td><td>1.000000  </td></tr>\n",
       "\t<tr><th scope=row>17</th><td>10        </td><td>0.03      </td><td>0.01819252</td><td>0.058     </td><td>0         </td><td>1.035714  </td></tr>\n",
       "\t<tr><th scope=row>23</th><td>10        </td><td>0.05      </td><td>0.01819252</td><td>0.092     </td><td>0         </td><td>1.045455  </td></tr>\n",
       "\t<tr><th scope=row>29</th><td>10        </td><td>0.10      </td><td>0.01819252</td><td>0.144     </td><td>0         </td><td>1.440000  </td></tr>\n",
       "\t<tr><th scope=row>35</th><td>10        </td><td>0.20      </td><td>0.01819252</td><td>0.226     </td><td>0         </td><td>2.260000  </td></tr>\n",
       "\t<tr><th scope=row>41</th><td>10        </td><td>0.40      </td><td>0.01819252</td><td>0.312     </td><td>0         </td><td>3.120000  </td></tr>\n",
       "\t<tr><th scope=row>47</th><td>10        </td><td>0.50      </td><td>0.01819252</td><td>0.356     </td><td>0         </td><td>3.560000  </td></tr>\n",
       "\t<tr><th scope=row>53</th><td>10        </td><td>0.70      </td><td>0.01819252</td><td>0.468     </td><td>0         </td><td>4.680000  </td></tr>\n",
       "\t<tr><th scope=row>59</th><td>10        </td><td>0.90      </td><td>0.01819252</td><td>0.636     </td><td>0         </td><td>6.360000  </td></tr>\n",
       "\t<tr><th scope=row>65</th><td>10        </td><td>0.99      </td><td>0.01819252</td><td>0.826     </td><td>0         </td><td>8.260000  </td></tr>\n",
       "</tbody>\n",
       "</table>\n"
      ],
      "text/latex": [
       "\\begin{tabular}{r|llllll}\n",
       "  & effect\\_num & pve & mean\\_corX & power & fdr & cs\\_num\\\\\n",
       "\\hline\n",
       "\t5 & 10         & 0.01       & 0.01819252 & 0.006      & 0          & 1.000000  \\\\\n",
       "\t11 & 10         & 0.02       & 0.01819252 & 0.020      & 0          & 1.000000  \\\\\n",
       "\t17 & 10         & 0.03       & 0.01819252 & 0.058      & 0          & 1.035714  \\\\\n",
       "\t23 & 10         & 0.05       & 0.01819252 & 0.092      & 0          & 1.045455  \\\\\n",
       "\t29 & 10         & 0.10       & 0.01819252 & 0.144      & 0          & 1.440000  \\\\\n",
       "\t35 & 10         & 0.20       & 0.01819252 & 0.226      & 0          & 2.260000  \\\\\n",
       "\t41 & 10         & 0.40       & 0.01819252 & 0.312      & 0          & 3.120000  \\\\\n",
       "\t47 & 10         & 0.50       & 0.01819252 & 0.356      & 0          & 3.560000  \\\\\n",
       "\t53 & 10         & 0.70       & 0.01819252 & 0.468      & 0          & 4.680000  \\\\\n",
       "\t59 & 10         & 0.90       & 0.01819252 & 0.636      & 0          & 6.360000  \\\\\n",
       "\t65 & 10         & 0.99       & 0.01819252 & 0.826      & 0          & 8.260000  \\\\\n",
       "\\end{tabular}\n"
      ],
      "text/markdown": [
       "\n",
       "| <!--/--> | effect_num | pve | mean_corX | power | fdr | cs_num | \n",
       "|---|---|---|---|---|---|---|---|---|---|---|\n",
       "| 5 | 10         | 0.01       | 0.01819252 | 0.006      | 0          | 1.000000   | \n",
       "| 11 | 10         | 0.02       | 0.01819252 | 0.020      | 0          | 1.000000   | \n",
       "| 17 | 10         | 0.03       | 0.01819252 | 0.058      | 0          | 1.035714   | \n",
       "| 23 | 10         | 0.05       | 0.01819252 | 0.092      | 0          | 1.045455   | \n",
       "| 29 | 10         | 0.10       | 0.01819252 | 0.144      | 0          | 1.440000   | \n",
       "| 35 | 10         | 0.20       | 0.01819252 | 0.226      | 0          | 2.260000   | \n",
       "| 41 | 10         | 0.40       | 0.01819252 | 0.312      | 0          | 3.120000   | \n",
       "| 47 | 10         | 0.50       | 0.01819252 | 0.356      | 0          | 3.560000   | \n",
       "| 53 | 10         | 0.70       | 0.01819252 | 0.468      | 0          | 4.680000   | \n",
       "| 59 | 10         | 0.90       | 0.01819252 | 0.636      | 0          | 6.360000   | \n",
       "| 65 | 10         | 0.99       | 0.01819252 | 0.826      | 0          | 8.260000   | \n",
       "\n",
       "\n"
      ],
      "text/plain": [
       "   effect_num pve  mean_corX  power fdr cs_num  \n",
       "5  10         0.01 0.01819252 0.006 0   1.000000\n",
       "11 10         0.02 0.01819252 0.020 0   1.000000\n",
       "17 10         0.03 0.01819252 0.058 0   1.035714\n",
       "23 10         0.05 0.01819252 0.092 0   1.045455\n",
       "29 10         0.10 0.01819252 0.144 0   1.440000\n",
       "35 10         0.20 0.01819252 0.226 0   2.260000\n",
       "41 10         0.40 0.01819252 0.312 0   3.120000\n",
       "47 10         0.50 0.01819252 0.356 0   3.560000\n",
       "53 10         0.70 0.01819252 0.468 0   4.680000\n",
       "59 10         0.90 0.01819252 0.636 0   6.360000\n",
       "65 10         0.99 0.01819252 0.826 0   8.260000"
      ]
     },
     "metadata": {},
     "output_type": "display_data"
    }
   ],
   "source": [
    "singlecell.summary[singlecell.summary$effect_num==10,]"
   ]
  },
  {
   "cell_type": "code",
   "execution_count": 52,
   "metadata": {},
   "outputs": [
    {
     "data": {
      "text/html": [
       "<table>\n",
       "<thead><tr><th></th><th scope=col>effect_num</th><th scope=col>pve</th><th scope=col>mean_corX</th><th scope=col>power</th><th scope=col>fdr</th><th scope=col>cs_num</th></tr></thead>\n",
       "<tbody>\n",
       "\t<tr><th scope=row>6</th><td>20        </td><td>0.01      </td><td>0.01834542</td><td>0.002     </td><td>0.3333    </td><td> 1.500000 </td></tr>\n",
       "\t<tr><th scope=row>12</th><td>20        </td><td>0.02      </td><td>0.01834542</td><td>0.007     </td><td>0.1250    </td><td> 1.142857 </td></tr>\n",
       "\t<tr><th scope=row>18</th><td>20        </td><td>0.03      </td><td>0.01834542</td><td>0.018     </td><td>0.0526    </td><td> 1.117647 </td></tr>\n",
       "\t<tr><th scope=row>24</th><td>20        </td><td>0.05      </td><td>0.01834542</td><td>0.039     </td><td>0.0250    </td><td> 1.111111 </td></tr>\n",
       "\t<tr><th scope=row>30</th><td>20        </td><td>0.10      </td><td>0.01834542</td><td>0.072     </td><td>0.0137    </td><td> 1.520833 </td></tr>\n",
       "\t<tr><th scope=row>36</th><td>20        </td><td>0.20      </td><td>0.01834542</td><td>0.135     </td><td>0.0074    </td><td> 2.720000 </td></tr>\n",
       "\t<tr><th scope=row>42</th><td>20        </td><td>0.40      </td><td>0.01834542</td><td>0.219     </td><td>0.0000    </td><td> 4.380000 </td></tr>\n",
       "\t<tr><th scope=row>48</th><td>20        </td><td>0.50      </td><td>0.01834542</td><td>0.246     </td><td>0.0040    </td><td> 4.940000 </td></tr>\n",
       "\t<tr><th scope=row>54</th><td>20        </td><td>0.70      </td><td>0.01834542</td><td>0.353     </td><td>0.0028    </td><td> 7.080000 </td></tr>\n",
       "\t<tr><th scope=row>60</th><td>20        </td><td>0.90      </td><td>0.01834542</td><td>0.530     </td><td>0.0019    </td><td>10.620000 </td></tr>\n",
       "\t<tr><th scope=row>66</th><td>20        </td><td>0.99      </td><td>0.01834542</td><td>0.761     </td><td>0.0013    </td><td>15.240000 </td></tr>\n",
       "</tbody>\n",
       "</table>\n"
      ],
      "text/latex": [
       "\\begin{tabular}{r|llllll}\n",
       "  & effect\\_num & pve & mean\\_corX & power & fdr & cs\\_num\\\\\n",
       "\\hline\n",
       "\t6 & 20         & 0.01       & 0.01834542 & 0.002      & 0.3333     &  1.500000 \\\\\n",
       "\t12 & 20         & 0.02       & 0.01834542 & 0.007      & 0.1250     &  1.142857 \\\\\n",
       "\t18 & 20         & 0.03       & 0.01834542 & 0.018      & 0.0526     &  1.117647 \\\\\n",
       "\t24 & 20         & 0.05       & 0.01834542 & 0.039      & 0.0250     &  1.111111 \\\\\n",
       "\t30 & 20         & 0.10       & 0.01834542 & 0.072      & 0.0137     &  1.520833 \\\\\n",
       "\t36 & 20         & 0.20       & 0.01834542 & 0.135      & 0.0074     &  2.720000 \\\\\n",
       "\t42 & 20         & 0.40       & 0.01834542 & 0.219      & 0.0000     &  4.380000 \\\\\n",
       "\t48 & 20         & 0.50       & 0.01834542 & 0.246      & 0.0040     &  4.940000 \\\\\n",
       "\t54 & 20         & 0.70       & 0.01834542 & 0.353      & 0.0028     &  7.080000 \\\\\n",
       "\t60 & 20         & 0.90       & 0.01834542 & 0.530      & 0.0019     & 10.620000 \\\\\n",
       "\t66 & 20         & 0.99       & 0.01834542 & 0.761      & 0.0013     & 15.240000 \\\\\n",
       "\\end{tabular}\n"
      ],
      "text/markdown": [
       "\n",
       "| <!--/--> | effect_num | pve | mean_corX | power | fdr | cs_num | \n",
       "|---|---|---|---|---|---|---|---|---|---|---|\n",
       "| 6 | 20         | 0.01       | 0.01834542 | 0.002      | 0.3333     |  1.500000  | \n",
       "| 12 | 20         | 0.02       | 0.01834542 | 0.007      | 0.1250     |  1.142857  | \n",
       "| 18 | 20         | 0.03       | 0.01834542 | 0.018      | 0.0526     |  1.117647  | \n",
       "| 24 | 20         | 0.05       | 0.01834542 | 0.039      | 0.0250     |  1.111111  | \n",
       "| 30 | 20         | 0.10       | 0.01834542 | 0.072      | 0.0137     |  1.520833  | \n",
       "| 36 | 20         | 0.20       | 0.01834542 | 0.135      | 0.0074     |  2.720000  | \n",
       "| 42 | 20         | 0.40       | 0.01834542 | 0.219      | 0.0000     |  4.380000  | \n",
       "| 48 | 20         | 0.50       | 0.01834542 | 0.246      | 0.0040     |  4.940000  | \n",
       "| 54 | 20         | 0.70       | 0.01834542 | 0.353      | 0.0028     |  7.080000  | \n",
       "| 60 | 20         | 0.90       | 0.01834542 | 0.530      | 0.0019     | 10.620000  | \n",
       "| 66 | 20         | 0.99       | 0.01834542 | 0.761      | 0.0013     | 15.240000  | \n",
       "\n",
       "\n"
      ],
      "text/plain": [
       "   effect_num pve  mean_corX  power fdr    cs_num   \n",
       "6  20         0.01 0.01834542 0.002 0.3333  1.500000\n",
       "12 20         0.02 0.01834542 0.007 0.1250  1.142857\n",
       "18 20         0.03 0.01834542 0.018 0.0526  1.117647\n",
       "24 20         0.05 0.01834542 0.039 0.0250  1.111111\n",
       "30 20         0.10 0.01834542 0.072 0.0137  1.520833\n",
       "36 20         0.20 0.01834542 0.135 0.0074  2.720000\n",
       "42 20         0.40 0.01834542 0.219 0.0000  4.380000\n",
       "48 20         0.50 0.01834542 0.246 0.0040  4.940000\n",
       "54 20         0.70 0.01834542 0.353 0.0028  7.080000\n",
       "60 20         0.90 0.01834542 0.530 0.0019 10.620000\n",
       "66 20         0.99 0.01834542 0.761 0.0013 15.240000"
      ]
     },
     "metadata": {},
     "output_type": "display_data"
    }
   ],
   "source": [
    "singlecell.summary[singlecell.summary$effect_num==20,]"
   ]
  },
  {
   "cell_type": "markdown",
   "metadata": {},
   "source": [
    "## Code details"
   ]
  },
  {
   "cell_type": "code",
   "execution_count": 41,
   "metadata": {
    "collapsed": true
   },
   "outputs": [],
   "source": [
    "singlecell_Q1 = readRDS('singlecell_Q1.rds')\n",
    "singlecell_Q1 = singlecell_Q1[!is.na(singlecell_Q1$sim_gaussian.output.file),]\n",
    "singlecell_Q1 = singlecell_Q1[!is.na(singlecell_Q1$susie.output.file),]"
   ]
  },
  {
   "cell_type": "code",
   "execution_count": 42,
   "metadata": {
    "collapsed": true
   },
   "outputs": [],
   "source": [
    "singlecell_df = data.frame(singlecell_Q1$sim_gaussian.effect_num, singlecell_Q1$sim_gaussian.pve, \n",
    "                       singlecell_Q1$sim_gaussian.mean_corX, singlecell_Q1$score.hit, singlecell_Q1$score.signal_num)\n",
    "names(singlecell_df) = c('effect_num', 'pve', 'mean_corX', 'hit', 'cs_num')"
   ]
  },
  {
   "cell_type": "code",
   "execution_count": 43,
   "metadata": {
    "collapsed": true
   },
   "outputs": [],
   "source": [
    "corX.summary = aggregate(mean_corX ~ effect_num + pve, singlecell_df, mean)\n",
    "singlecell.summary = corX.summary"
   ]
  },
  {
   "cell_type": "code",
   "execution_count": 44,
   "metadata": {
    "collapsed": true
   },
   "outputs": [],
   "source": [
    "meannonzero = function(x){mean(x[x!=0])}\n",
    "hitmean.summary = aggregate(hit ~ effect_num + pve, singlecell_df, mean)\n",
    "singlecell.summary$power = round(hitmean.summary$hit / singlecell.summary$effect_num, 4)"
   ]
  },
  {
   "cell_type": "code",
   "execution_count": 45,
   "metadata": {
    "collapsed": true
   },
   "outputs": [],
   "source": [
    "hitsum.summary = aggregate(hit ~ effect_num + pve, singlecell_df, sum)\n",
    "cs_numsum.summary = aggregate(cs_num ~ effect_num + pve, singlecell_df, sum)\n",
    "singlecell.summary$fdr = round(1 - hitsum.summary$hit / cs_numsum.summary$cs_num, 4)"
   ]
  },
  {
   "cell_type": "code",
   "execution_count": 46,
   "metadata": {
    "collapsed": true
   },
   "outputs": [],
   "source": [
    "cs_num.summary = aggregate(cs_num ~ effect_num + pve, singlecell_df, meannonzero)\n",
    "singlecell.summary$cs_num = cs_num.summary$cs_num"
   ]
  },
  {
   "cell_type": "code",
   "execution_count": 47,
   "metadata": {
    "collapsed": true
   },
   "outputs": [],
   "source": [
    "is.nan.data.frame <- function(x)\n",
    "do.call(cbind, lapply(x, is.nan))\n",
    "singlecell.summary[is.nan(singlecell.summary)] = 0"
   ]
  }
 ],
 "metadata": {
  "kernelspec": {
   "display_name": "R",
   "language": "R",
   "name": "ir"
  },
  "language_info": {
   "codemirror_mode": "r",
   "file_extension": ".r",
   "mimetype": "text/x-r-source",
   "name": "R",
   "pygments_lexer": "r",
   "version": "3.4.3"
  }
 },
 "nbformat": 4,
 "nbformat_minor": 2
}
