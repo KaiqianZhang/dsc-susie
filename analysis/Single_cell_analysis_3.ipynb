{
 "cells": [
  {
   "cell_type": "markdown",
   "metadata": {},
   "source": [
    "# How to set a prior given T=1 non-zero effect?"
   ]
  },
  {
   "cell_type": "markdown",
   "metadata": {},
   "source": [
    "Assume one non-zero effect $T = 1$. We investigate SuSiE performance when we have a pve such that SuSiE has certain amount of power e.g. PVE $= 0.03$."
   ]
  },
  {
   "cell_type": "markdown",
   "metadata": {},
   "source": [
    "## Results\n",
    "\n",
    "**- Summary: The choice of a prior does not affect SuSiE performance. **"
   ]
  },
  {
   "cell_type": "code",
   "execution_count": 10,
   "metadata": {},
   "outputs": [
    {
     "data": {
      "text/html": [
       "<table>\n",
       "<thead><tr><th></th><th scope=col>effect_num</th><th scope=col>pve</th><th scope=col>prior</th><th scope=col>power</th><th scope=col>fdr</th><th scope=col>cs_size</th><th scope=col>cs_num</th><th scope=col>top_hit_rate</th><th scope=col>avg_purity</th></tr></thead>\n",
       "<tbody>\n",
       "\t<tr><th scope=row>13</th><td>1       </td><td>0.03    </td><td>0.01    </td><td>0.74    </td><td>0.0263  </td><td>1.026316</td><td>1       </td><td>0.9474  </td><td>1       </td></tr>\n",
       "\t<tr><th scope=row>79</th><td>1       </td><td>0.03    </td><td>0.02    </td><td>0.74    </td><td>0.0263  </td><td>1.026316</td><td>1       </td><td>0.9474  </td><td>1       </td></tr>\n",
       "\t<tr><th scope=row>145</th><td>1       </td><td>0.03    </td><td>0.03    </td><td>0.74    </td><td>0.0263  </td><td>1.026316</td><td>1       </td><td>0.9474  </td><td>1       </td></tr>\n",
       "\t<tr><th scope=row>211</th><td>1       </td><td>0.03    </td><td>0.05    </td><td>0.74    </td><td>0.0263  </td><td>1.026316</td><td>1       </td><td>0.9474  </td><td>1       </td></tr>\n",
       "\t<tr><th scope=row>277</th><td>1       </td><td>0.03    </td><td>0.10    </td><td>0.74    </td><td>0.0263  </td><td>1.026316</td><td>1       </td><td>0.9474  </td><td>1       </td></tr>\n",
       "\t<tr><th scope=row>343</th><td>1       </td><td>0.03    </td><td>0.20    </td><td>0.74    </td><td>0.0263  </td><td>1.026316</td><td>1       </td><td>0.9474  </td><td>1       </td></tr>\n",
       "\t<tr><th scope=row>409</th><td>1       </td><td>0.03    </td><td>0.40    </td><td>0.74    </td><td>0.0263  </td><td>1.026316</td><td>1       </td><td>0.9474  </td><td>1       </td></tr>\n",
       "\t<tr><th scope=row>475</th><td>1       </td><td>0.03    </td><td>0.50    </td><td>0.74    </td><td>0.0263  </td><td>1.026316</td><td>1       </td><td>0.9474  </td><td>1       </td></tr>\n",
       "\t<tr><th scope=row>541</th><td>1       </td><td>0.03    </td><td>0.70    </td><td>0.74    </td><td>0.0263  </td><td>1.026316</td><td>1       </td><td>0.9474  </td><td>1       </td></tr>\n",
       "\t<tr><th scope=row>607</th><td>1       </td><td>0.03    </td><td>0.90    </td><td>0.74    </td><td>0.0263  </td><td>1.026316</td><td>1       </td><td>0.9474  </td><td>1       </td></tr>\n",
       "\t<tr><th scope=row>673</th><td>1       </td><td>0.03    </td><td>0.99    </td><td>0.74    </td><td>0.0263  </td><td>1.026316</td><td>1       </td><td>0.9474  </td><td>1       </td></tr>\n",
       "</tbody>\n",
       "</table>\n"
      ],
      "text/latex": [
       "\\begin{tabular}{r|lllllllll}\n",
       "  & effect\\_num & pve & prior & power & fdr & cs\\_size & cs\\_num & top\\_hit\\_rate & avg\\_purity\\\\\n",
       "\\hline\n",
       "\t13 & 1        & 0.03     & 0.01     & 0.74     & 0.0263   & 1.026316 & 1        & 0.9474   & 1       \\\\\n",
       "\t79 & 1        & 0.03     & 0.02     & 0.74     & 0.0263   & 1.026316 & 1        & 0.9474   & 1       \\\\\n",
       "\t145 & 1        & 0.03     & 0.03     & 0.74     & 0.0263   & 1.026316 & 1        & 0.9474   & 1       \\\\\n",
       "\t211 & 1        & 0.03     & 0.05     & 0.74     & 0.0263   & 1.026316 & 1        & 0.9474   & 1       \\\\\n",
       "\t277 & 1        & 0.03     & 0.10     & 0.74     & 0.0263   & 1.026316 & 1        & 0.9474   & 1       \\\\\n",
       "\t343 & 1        & 0.03     & 0.20     & 0.74     & 0.0263   & 1.026316 & 1        & 0.9474   & 1       \\\\\n",
       "\t409 & 1        & 0.03     & 0.40     & 0.74     & 0.0263   & 1.026316 & 1        & 0.9474   & 1       \\\\\n",
       "\t475 & 1        & 0.03     & 0.50     & 0.74     & 0.0263   & 1.026316 & 1        & 0.9474   & 1       \\\\\n",
       "\t541 & 1        & 0.03     & 0.70     & 0.74     & 0.0263   & 1.026316 & 1        & 0.9474   & 1       \\\\\n",
       "\t607 & 1        & 0.03     & 0.90     & 0.74     & 0.0263   & 1.026316 & 1        & 0.9474   & 1       \\\\\n",
       "\t673 & 1        & 0.03     & 0.99     & 0.74     & 0.0263   & 1.026316 & 1        & 0.9474   & 1       \\\\\n",
       "\\end{tabular}\n"
      ],
      "text/markdown": [
       "\n",
       "| <!--/--> | effect_num | pve | prior | power | fdr | cs_size | cs_num | top_hit_rate | avg_purity | \n",
       "|---|---|---|---|---|---|---|---|---|---|---|\n",
       "| 13 | 1        | 0.03     | 0.01     | 0.74     | 0.0263   | 1.026316 | 1        | 0.9474   | 1        | \n",
       "| 79 | 1        | 0.03     | 0.02     | 0.74     | 0.0263   | 1.026316 | 1        | 0.9474   | 1        | \n",
       "| 145 | 1        | 0.03     | 0.03     | 0.74     | 0.0263   | 1.026316 | 1        | 0.9474   | 1        | \n",
       "| 211 | 1        | 0.03     | 0.05     | 0.74     | 0.0263   | 1.026316 | 1        | 0.9474   | 1        | \n",
       "| 277 | 1        | 0.03     | 0.10     | 0.74     | 0.0263   | 1.026316 | 1        | 0.9474   | 1        | \n",
       "| 343 | 1        | 0.03     | 0.20     | 0.74     | 0.0263   | 1.026316 | 1        | 0.9474   | 1        | \n",
       "| 409 | 1        | 0.03     | 0.40     | 0.74     | 0.0263   | 1.026316 | 1        | 0.9474   | 1        | \n",
       "| 475 | 1        | 0.03     | 0.50     | 0.74     | 0.0263   | 1.026316 | 1        | 0.9474   | 1        | \n",
       "| 541 | 1        | 0.03     | 0.70     | 0.74     | 0.0263   | 1.026316 | 1        | 0.9474   | 1        | \n",
       "| 607 | 1        | 0.03     | 0.90     | 0.74     | 0.0263   | 1.026316 | 1        | 0.9474   | 1        | \n",
       "| 673 | 1        | 0.03     | 0.99     | 0.74     | 0.0263   | 1.026316 | 1        | 0.9474   | 1        | \n",
       "\n",
       "\n"
      ],
      "text/plain": [
       "    effect_num pve  prior power fdr    cs_size  cs_num top_hit_rate avg_purity\n",
       "13  1          0.03 0.01  0.74  0.0263 1.026316 1      0.9474       1         \n",
       "79  1          0.03 0.02  0.74  0.0263 1.026316 1      0.9474       1         \n",
       "145 1          0.03 0.03  0.74  0.0263 1.026316 1      0.9474       1         \n",
       "211 1          0.03 0.05  0.74  0.0263 1.026316 1      0.9474       1         \n",
       "277 1          0.03 0.10  0.74  0.0263 1.026316 1      0.9474       1         \n",
       "343 1          0.03 0.20  0.74  0.0263 1.026316 1      0.9474       1         \n",
       "409 1          0.03 0.40  0.74  0.0263 1.026316 1      0.9474       1         \n",
       "475 1          0.03 0.50  0.74  0.0263 1.026316 1      0.9474       1         \n",
       "541 1          0.03 0.70  0.74  0.0263 1.026316 1      0.9474       1         \n",
       "607 1          0.03 0.90  0.74  0.0263 1.026316 1      0.9474       1         \n",
       "673 1          0.03 0.99  0.74  0.0263 1.026316 1      0.9474       1         "
      ]
     },
     "metadata": {},
     "output_type": "display_data"
    }
   ],
   "source": [
    "singlecell.summary[singlecell.summary$pve==0.03,]"
   ]
  },
  {
   "cell_type": "markdown",
   "metadata": {},
   "source": [
    "## Code details"
   ]
  },
  {
   "cell_type": "code",
   "execution_count": 1,
   "metadata": {
    "collapsed": true
   },
   "outputs": [],
   "source": [
    "singlecell_Q2 = readRDS('singlecell_Q2.rds')\n",
    "singlecell_Q2 = singlecell_Q2[!is.na(singlecell_Q2$sim_gaussian.output.file),]\n",
    "singlecell_Q2 = singlecell_Q2[!is.na(singlecell_Q2$susie_prior.output.file),]"
   ]
  },
  {
   "cell_type": "code",
   "execution_count": 2,
   "metadata": {
    "collapsed": true
   },
   "outputs": [],
   "source": [
    "singlecell_df = data.frame(singlecell_Q2$sim_gaussian.effect_num, singlecell_Q2$sim_gaussian.pve, singlecell_Q2$susie_prior.prior,\n",
    "                       singlecell_Q2$score.hit, singlecell_Q2$score.signal_num, singlecell_Q2$score.cs_medianSize,\n",
    "                       singlecell_Q2$score.top_hit, singlecell_Q2$sim_gaussian.mean_corX, singlecell_Q2$susie_prior.avg_purity)\n",
    "names(singlecell_df) = c('effect_num', 'pve', 'prior','hit', 'cs_num', 'cs_size', 'top_hit', 'corX', 'avg_purity')"
   ]
  },
  {
   "cell_type": "code",
   "execution_count": 3,
   "metadata": {
    "collapsed": true
   },
   "outputs": [],
   "source": [
    "hitsum.summary = aggregate(hit ~ effect_num + pve + prior, singlecell_df, sum)\n",
    "hitmean.summary = aggregate(hit ~ effect_num + pve + prior, singlecell_df, mean)\n",
    "power.summary = hitmean.summary\n",
    "power.summary$power = power.summary$hit / power.summary$effect_num\n",
    "fdr.summary = aggregate(cs_num ~ effect_num + pve + prior, singlecell_df, sum)\n",
    "fdr.summary$fdr = round(1 - hitsum.summary$hit / fdr.summary$cs_num, 4)\n",
    "meannonzero = function(x){mean(x[x!=0])}\n",
    "cs_num.summary = aggregate(cs_num ~ effect_num + pve + prior, singlecell_df, meannonzero)\n",
    "setsize.summary = aggregate(cs_size ~ effect_num + pve + prior, singlecell_df, meannonzero)\n",
    "tophit.summary = aggregate(top_hit ~ effect_num + pve + prior, singlecell_df, sum)\n",
    "tophit.summary$tophit_rate = round(tophit.summary$top_hit / fdr.summary$cs_num , 4)\n",
    "singlecell_df$avg_purity[is.na(singlecell_df$avg_purity)]=0\n",
    "purity.summary = aggregate(avg_purity ~ effect_num + pve + prior, singlecell_df, meannonzero)"
   ]
  },
  {
   "cell_type": "code",
   "execution_count": 4,
   "metadata": {
    "collapsed": true
   },
   "outputs": [],
   "source": [
    "singlecell.summary = data.frame(power.summary$effect_num, power.summary$pve, power.summary$prior,\n",
    "                            power.summary$power, fdr.summary$fdr, \n",
    "                            setsize.summary$cs_size, cs_num.summary$cs_num, \n",
    "                            tophit.summary$tophit_rate, purity.summary$avg_purity)\n",
    "names(singlecell.summary) = c('effect_num', 'pve', 'prior','power', 'fdr', 'cs_size', 'cs_num','top_hit_rate', 'avg_purity')"
   ]
  },
  {
   "cell_type": "code",
   "execution_count": 5,
   "metadata": {
    "collapsed": true
   },
   "outputs": [],
   "source": [
    "is.nan.data.frame <- function(x)\n",
    "do.call(cbind, lapply(x, is.nan))\n",
    "singlecell.summary[is.nan(singlecell.summary)] = 0"
   ]
  },
  {
   "cell_type": "code",
   "execution_count": 6,
   "metadata": {
    "collapsed": true
   },
   "outputs": [],
   "source": [
    "singlecell.summary = singlecell.summary[singlecell.summary$effect_num==1, ]"
   ]
  }
 ],
 "metadata": {
  "kernelspec": {
   "display_name": "R",
   "language": "R",
   "name": "ir"
  },
  "language_info": {
   "codemirror_mode": "r",
   "file_extension": ".r",
   "mimetype": "text/x-r-source",
   "name": "R",
   "pygments_lexer": "r",
   "version": "3.4.3"
  }
 },
 "nbformat": 4,
 "nbformat_minor": 2
}
