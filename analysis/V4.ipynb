{
 "cells": [
  {
   "cell_type": "markdown",
   "metadata": {},
   "source": [
    "# How to set a prior given T = 2 nonzero effects?"
   ]
  },
  {
   "cell_type": "markdown",
   "metadata": {},
   "source": [
    "Assume two nonzero effects $T = 2$. We set $pve = 0.7$ so that SuSiE has certain power around $0.6$. We investigate SuSiE performance under different priors."
   ]
  },
  {
   "cell_type": "markdown",
   "metadata": {},
   "source": [
    "## Results\n",
    "\n",
    "* If we set a large prior, SuSiE has a larger power with 0 fdr. But the cs size is almost single.\n",
    "\n",
    "* If we set a small prior, SuSiE has a smaller power with 0.0769 fdr. And the confidence set size is larger. And the number of confidence sets are the same for different priors.\n",
    "\n",
    "To be conservative, we would rather set a large prior to control for fdr. "
   ]
  },
  {
   "cell_type": "code",
   "execution_count": 56,
   "metadata": {},
   "outputs": [
    {
     "data": {
      "text/html": [
       "<table>\n",
       "<thead><tr><th></th><th scope=col>effect_num</th><th scope=col>pve</th><th scope=col>prior</th><th scope=col>mean_corX</th><th scope=col>power</th><th scope=col>fdr</th><th scope=col>cs_size</th><th scope=col>cs_num</th><th scope=col>top_hit_rate</th></tr></thead>\n",
       "<tbody>\n",
       "\t<tr><th scope=row>50</th><td>2        </td><td>0.7      </td><td>0.01     </td><td>0.3371353</td><td>0.60     </td><td>0.0769   </td><td>1.20     </td><td>1.3      </td><td>0.9231   </td></tr>\n",
       "\t<tr><th scope=row>116</th><td>2        </td><td>0.7      </td><td>0.02     </td><td>0.3371353</td><td>0.60     </td><td>0.0769   </td><td>1.35     </td><td>1.3      </td><td>0.9231   </td></tr>\n",
       "\t<tr><th scope=row>182</th><td>2        </td><td>0.7      </td><td>0.03     </td><td>0.3371353</td><td>0.60     </td><td>0.0769   </td><td>1.45     </td><td>1.3      </td><td>0.9231   </td></tr>\n",
       "\t<tr><th scope=row>248</th><td>2        </td><td>0.7      </td><td>0.05     </td><td>0.3371353</td><td>0.60     </td><td>0.0769   </td><td>1.60     </td><td>1.3      </td><td>0.9231   </td></tr>\n",
       "\t<tr><th scope=row>314</th><td>2        </td><td>0.7      </td><td>0.10     </td><td>0.3371353</td><td>0.60     </td><td>0.0000   </td><td>1.00     </td><td>1.2      </td><td>1.0000   </td></tr>\n",
       "\t<tr><th scope=row>380</th><td>2        </td><td>0.7      </td><td>0.20     </td><td>0.3371353</td><td>0.65     </td><td>0.0000   </td><td>3.70     </td><td>1.3      </td><td>0.9231   </td></tr>\n",
       "\t<tr><th scope=row>446</th><td>2        </td><td>0.7      </td><td>0.40     </td><td>0.3371353</td><td>0.65     </td><td>0.0000   </td><td>3.30     </td><td>1.3      </td><td>0.9231   </td></tr>\n",
       "\t<tr><th scope=row>512</th><td>2        </td><td>0.7      </td><td>0.50     </td><td>0.3371353</td><td>0.65     </td><td>0.0000   </td><td>3.25     </td><td>1.3      </td><td>0.9231   </td></tr>\n",
       "\t<tr><th scope=row>578</th><td>2        </td><td>0.7      </td><td>0.70     </td><td>0.3371353</td><td>0.65     </td><td>0.0000   </td><td>3.20     </td><td>1.3      </td><td>0.9231   </td></tr>\n",
       "\t<tr><th scope=row>644</th><td>2        </td><td>0.7      </td><td>0.90     </td><td>0.3371353</td><td>0.65     </td><td>0.0000   </td><td>3.20     </td><td>1.3      </td><td>0.9231   </td></tr>\n",
       "\t<tr><th scope=row>710</th><td>2        </td><td>0.7      </td><td>0.99     </td><td>0.3371353</td><td>0.65     </td><td>0.0000   </td><td>3.15     </td><td>1.3      </td><td>0.9231   </td></tr>\n",
       "</tbody>\n",
       "</table>\n"
      ],
      "text/latex": [
       "\\begin{tabular}{r|lllllllll}\n",
       "  & effect\\_num & pve & prior & mean\\_corX & power & fdr & cs\\_size & cs\\_num & top\\_hit\\_rate\\\\\n",
       "\\hline\n",
       "\t50 & 2         & 0.7       & 0.01      & 0.3371353 & 0.60      & 0.0769    & 1.20      & 1.3       & 0.9231   \\\\\n",
       "\t116 & 2         & 0.7       & 0.02      & 0.3371353 & 0.60      & 0.0769    & 1.35      & 1.3       & 0.9231   \\\\\n",
       "\t182 & 2         & 0.7       & 0.03      & 0.3371353 & 0.60      & 0.0769    & 1.45      & 1.3       & 0.9231   \\\\\n",
       "\t248 & 2         & 0.7       & 0.05      & 0.3371353 & 0.60      & 0.0769    & 1.60      & 1.3       & 0.9231   \\\\\n",
       "\t314 & 2         & 0.7       & 0.10      & 0.3371353 & 0.60      & 0.0000    & 1.00      & 1.2       & 1.0000   \\\\\n",
       "\t380 & 2         & 0.7       & 0.20      & 0.3371353 & 0.65      & 0.0000    & 3.70      & 1.3       & 0.9231   \\\\\n",
       "\t446 & 2         & 0.7       & 0.40      & 0.3371353 & 0.65      & 0.0000    & 3.30      & 1.3       & 0.9231   \\\\\n",
       "\t512 & 2         & 0.7       & 0.50      & 0.3371353 & 0.65      & 0.0000    & 3.25      & 1.3       & 0.9231   \\\\\n",
       "\t578 & 2         & 0.7       & 0.70      & 0.3371353 & 0.65      & 0.0000    & 3.20      & 1.3       & 0.9231   \\\\\n",
       "\t644 & 2         & 0.7       & 0.90      & 0.3371353 & 0.65      & 0.0000    & 3.20      & 1.3       & 0.9231   \\\\\n",
       "\t710 & 2         & 0.7       & 0.99      & 0.3371353 & 0.65      & 0.0000    & 3.15      & 1.3       & 0.9231   \\\\\n",
       "\\end{tabular}\n"
      ],
      "text/markdown": [
       "\n",
       "| <!--/--> | effect_num | pve | prior | mean_corX | power | fdr | cs_size | cs_num | top_hit_rate | \n",
       "|---|---|---|---|---|---|---|---|---|---|---|\n",
       "| 50 | 2         | 0.7       | 0.01      | 0.3371353 | 0.60      | 0.0769    | 1.20      | 1.3       | 0.9231    | \n",
       "| 116 | 2         | 0.7       | 0.02      | 0.3371353 | 0.60      | 0.0769    | 1.35      | 1.3       | 0.9231    | \n",
       "| 182 | 2         | 0.7       | 0.03      | 0.3371353 | 0.60      | 0.0769    | 1.45      | 1.3       | 0.9231    | \n",
       "| 248 | 2         | 0.7       | 0.05      | 0.3371353 | 0.60      | 0.0769    | 1.60      | 1.3       | 0.9231    | \n",
       "| 314 | 2         | 0.7       | 0.10      | 0.3371353 | 0.60      | 0.0000    | 1.00      | 1.2       | 1.0000    | \n",
       "| 380 | 2         | 0.7       | 0.20      | 0.3371353 | 0.65      | 0.0000    | 3.70      | 1.3       | 0.9231    | \n",
       "| 446 | 2         | 0.7       | 0.40      | 0.3371353 | 0.65      | 0.0000    | 3.30      | 1.3       | 0.9231    | \n",
       "| 512 | 2         | 0.7       | 0.50      | 0.3371353 | 0.65      | 0.0000    | 3.25      | 1.3       | 0.9231    | \n",
       "| 578 | 2         | 0.7       | 0.70      | 0.3371353 | 0.65      | 0.0000    | 3.20      | 1.3       | 0.9231    | \n",
       "| 644 | 2         | 0.7       | 0.90      | 0.3371353 | 0.65      | 0.0000    | 3.20      | 1.3       | 0.9231    | \n",
       "| 710 | 2         | 0.7       | 0.99      | 0.3371353 | 0.65      | 0.0000    | 3.15      | 1.3       | 0.9231    | \n",
       "\n",
       "\n"
      ],
      "text/plain": [
       "    effect_num pve prior mean_corX power fdr    cs_size cs_num top_hit_rate\n",
       "50  2          0.7 0.01  0.3371353 0.60  0.0769 1.20    1.3    0.9231      \n",
       "116 2          0.7 0.02  0.3371353 0.60  0.0769 1.35    1.3    0.9231      \n",
       "182 2          0.7 0.03  0.3371353 0.60  0.0769 1.45    1.3    0.9231      \n",
       "248 2          0.7 0.05  0.3371353 0.60  0.0769 1.60    1.3    0.9231      \n",
       "314 2          0.7 0.10  0.3371353 0.60  0.0000 1.00    1.2    1.0000      \n",
       "380 2          0.7 0.20  0.3371353 0.65  0.0000 3.70    1.3    0.9231      \n",
       "446 2          0.7 0.40  0.3371353 0.65  0.0000 3.30    1.3    0.9231      \n",
       "512 2          0.7 0.50  0.3371353 0.65  0.0000 3.25    1.3    0.9231      \n",
       "578 2          0.7 0.70  0.3371353 0.65  0.0000 3.20    1.3    0.9231      \n",
       "644 2          0.7 0.90  0.3371353 0.65  0.0000 3.20    1.3    0.9231      \n",
       "710 2          0.7 0.99  0.3371353 0.65  0.0000 3.15    1.3    0.9231      "
      ]
     },
     "metadata": {},
     "output_type": "display_data"
    }
   ],
   "source": [
    "dscout.summary[dscout.summary$pve==0.7,]"
   ]
  },
  {
   "cell_type": "markdown",
   "metadata": {},
   "source": [
    "## Code details"
   ]
  },
  {
   "cell_type": "code",
   "execution_count": 57,
   "metadata": {
    "collapsed": true
   },
   "outputs": [],
   "source": [
    "dscout_Q2 = readRDS('dscout_Q2.rds')\n",
    "dscout_Q2 = dscout_Q2[!is.na(dscout_Q2$sim_gaussian.output.file),]\n",
    "dscout_Q2 = dscout_Q2[!is.na(dscout_Q2$susie_prior.output.file),]"
   ]
  },
  {
   "cell_type": "code",
   "execution_count": 58,
   "metadata": {
    "collapsed": true
   },
   "outputs": [],
   "source": [
    "dscout_df = data.frame(dscout_Q2$sim_gaussian.effect_num, dscout_Q2$sim_gaussian.pve, dscout_Q2$susie_prior.prior,\n",
    "                       dscout_Q2$score.hit, dscout_Q2$score.signal_num, dscout_Q2$score.cs_medianSize,\n",
    "                       dscout_Q2$score.top_hit, dscout_Q2$sim_gaussian.mean_corX, dscout_Q2$susie_prior.avg_purity)\n",
    "names(dscout_df) = c('effect_num', 'pve', 'prior','hit', 'cs_num', 'cs_size', 'top_hit', 'corX', 'avg_purity')"
   ]
  },
  {
   "cell_type": "code",
   "execution_count": 59,
   "metadata": {
    "collapsed": true
   },
   "outputs": [],
   "source": [
    "power.summary = aggregate(hit ~ effect_num + pve + prior, dscout_df, sum)\n",
    "power.summary$power = power.summary$hit / (power.summary$effect_num*10)\n",
    "fdr.summary = aggregate(cs_num ~ effect_num + pve + prior, dscout_df, sum)\n",
    "fdr.summary$fdr = round(1 - power.summary$hit / fdr.summary$cs_num, 4)\n",
    "meannonzero = function(x){mean(x[x!=0])}\n",
    "setsize.summary = aggregate(cs_size ~ effect_num + pve + prior, dscout_df, meannonzero)\n",
    "tophit.summary = aggregate(top_hit ~ effect_num + pve + prior, dscout_df, sum)\n",
    "tophit.summary$tophit_rate = round(tophit.summary$top_hit / fdr.summary$cs_num , 4)\n",
    "corX.summary = aggregate(corX ~ effect_num + pve + prior, dscout_df, mean)\n",
    "cs_num.summary = aggregate(cs_num ~ effect_num + pve + prior, dscout_df, mean)\n",
    "#purity.summary = aggregate(avg_purity ~ effect_num + pve + prior, dscout_df, mean)"
   ]
  },
  {
   "cell_type": "code",
   "execution_count": 60,
   "metadata": {
    "collapsed": true
   },
   "outputs": [],
   "source": [
    "dscout.summary = data.frame(power.summary$effect_num, power.summary$pve, power.summary$prior, corX.summary$corX,\n",
    "                            power.summary$power, fdr.summary$fdr, setsize.summary$cs_size, \n",
    "                            cs_num.summary$cs_num, tophit.summary$tophit_rate)\n",
    "names(dscout.summary) = c('effect_num', 'pve', 'prior', 'mean_corX','power', \n",
    "                          'fdr', 'cs_size', 'cs_num','top_hit_rate')"
   ]
  },
  {
   "cell_type": "code",
   "execution_count": 61,
   "metadata": {
    "collapsed": true
   },
   "outputs": [],
   "source": [
    "dscout.summary = dscout.summary[dscout.summary$effect_num==2, ]"
   ]
  }
 ],
 "metadata": {
  "kernelspec": {
   "display_name": "R",
   "language": "R",
   "name": "ir"
  },
  "language_info": {
   "codemirror_mode": "r",
   "file_extension": ".r",
   "mimetype": "text/x-r-source",
   "name": "R",
   "pygments_lexer": "r",
   "version": "3.4.3"
  }
 },
 "nbformat": 4,
 "nbformat_minor": 2
}
