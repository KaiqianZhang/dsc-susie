{
 "cells": [
  {
   "cell_type": "markdown",
   "metadata": {},
   "source": [
    "# How to set a prior given T = 2 nonzero effects?"
   ]
  },
  {
   "cell_type": "markdown",
   "metadata": {},
   "source": [
    "Assume two nonzero effects $T = 2$. We set $pve = 0.1$ so that SuSiE has certain power around $0.47$. \n",
    "We also set $pve = 0.7$ so that SuSiE has power around $0.64$.\n",
    "\n",
    "We investigate SuSiE performance under different priors."
   ]
  },
  {
   "cell_type": "markdown",
   "metadata": {},
   "source": [
    "## Results\n",
    "\n",
    "When $pve = 0.1$, \n",
    "\n",
    "* prior does not have any impact on both power and fdr. A larger prior might result in a larger cs_size.\n",
    "\n",
    "When $pve = 0.7$,\n",
    "\n",
    "* a larger prior might have a slightly larger power and lower fdr. Again, the cs_size will increase given a larger prior. \n"
   ]
  },
  {
   "cell_type": "code",
   "execution_count": 39,
   "metadata": {},
   "outputs": [
    {
     "data": {
      "text/html": [
       "<table>\n",
       "<thead><tr><th></th><th scope=col>effect_num</th><th scope=col>pve</th><th scope=col>prior</th><th scope=col>mean_corX</th><th scope=col>power</th><th scope=col>fdr</th><th scope=col>cs_size</th><th scope=col>cs_num</th><th scope=col>top_hit_rate</th><th scope=col>avg_purity</th></tr></thead>\n",
       "<tbody>\n",
       "\t<tr><th scope=row>26</th><td>2        </td><td>0.1      </td><td>0.01     </td><td>0.2152743</td><td>0.46     </td><td>0.0213   </td><td>1.000000 </td><td>0.94     </td><td>0.9787   </td><td>1.0000000</td></tr>\n",
       "\t<tr><th scope=row>92</th><td>2        </td><td>0.1      </td><td>0.02     </td><td>0.2152743</td><td>0.47     </td><td>0.0208   </td><td>1.978261 </td><td>0.96     </td><td>0.9792   </td><td>0.9901662</td></tr>\n",
       "\t<tr><th scope=row>158</th><td>2        </td><td>0.1      </td><td>0.03     </td><td>0.2152743</td><td>0.47     </td><td>0.0208   </td><td>1.673913 </td><td>0.96     </td><td>0.9792   </td><td>0.9909194</td></tr>\n",
       "\t<tr><th scope=row>224</th><td>2        </td><td>0.1      </td><td>0.05     </td><td>0.2152743</td><td>0.47     </td><td>0.0208   </td><td>1.478261 </td><td>0.96     </td><td>0.9792   </td><td>0.9946158</td></tr>\n",
       "\t<tr><th scope=row>290</th><td>2        </td><td>0.1      </td><td>0.10     </td><td>0.2152743</td><td>0.47     </td><td>0.0208   </td><td>1.347826 </td><td>0.96     </td><td>0.9792   </td><td>0.9948754</td></tr>\n",
       "\t<tr><th scope=row>356</th><td>2        </td><td>0.1      </td><td>0.20     </td><td>0.2152743</td><td>0.47     </td><td>0.0208   </td><td>1.326087 </td><td>0.96     </td><td>0.9792   </td><td>0.9948754</td></tr>\n",
       "\t<tr><th scope=row>422</th><td>2        </td><td>0.1      </td><td>0.40     </td><td>0.2152743</td><td>0.47     </td><td>0.0208   </td><td>1.304348 </td><td>0.96     </td><td>0.9792   </td><td>0.9948754</td></tr>\n",
       "\t<tr><th scope=row>488</th><td>2        </td><td>0.1      </td><td>0.50     </td><td>0.2152743</td><td>0.47     </td><td>0.0208   </td><td>1.304348 </td><td>0.96     </td><td>0.9792   </td><td>0.9948754</td></tr>\n",
       "\t<tr><th scope=row>554</th><td>2        </td><td>0.1      </td><td>0.70     </td><td>0.2152743</td><td>0.47     </td><td>0.0208   </td><td>1.282609 </td><td>0.96     </td><td>0.9792   </td><td>0.9948754</td></tr>\n",
       "\t<tr><th scope=row>620</th><td>2        </td><td>0.1      </td><td>0.90     </td><td>0.2152743</td><td>0.47     </td><td>0.0208   </td><td>1.282609 </td><td>0.96     </td><td>0.9792   </td><td>0.9948754</td></tr>\n",
       "\t<tr><th scope=row>686</th><td>2        </td><td>0.1      </td><td>0.99     </td><td>0.2152743</td><td>0.47     </td><td>0.0208   </td><td>1.282609 </td><td>0.96     </td><td>0.9792   </td><td>0.9948754</td></tr>\n",
       "</tbody>\n",
       "</table>\n"
      ],
      "text/latex": [
       "\\begin{tabular}{r|llllllllll}\n",
       "  & effect\\_num & pve & prior & mean\\_corX & power & fdr & cs\\_size & cs\\_num & top\\_hit\\_rate & avg\\_purity\\\\\n",
       "\\hline\n",
       "\t26 & 2         & 0.1       & 0.01      & 0.2152743 & 0.46      & 0.0213    & 1.000000  & 0.94      & 0.9787    & 1.0000000\\\\\n",
       "\t92 & 2         & 0.1       & 0.02      & 0.2152743 & 0.47      & 0.0208    & 1.978261  & 0.96      & 0.9792    & 0.9901662\\\\\n",
       "\t158 & 2         & 0.1       & 0.03      & 0.2152743 & 0.47      & 0.0208    & 1.673913  & 0.96      & 0.9792    & 0.9909194\\\\\n",
       "\t224 & 2         & 0.1       & 0.05      & 0.2152743 & 0.47      & 0.0208    & 1.478261  & 0.96      & 0.9792    & 0.9946158\\\\\n",
       "\t290 & 2         & 0.1       & 0.10      & 0.2152743 & 0.47      & 0.0208    & 1.347826  & 0.96      & 0.9792    & 0.9948754\\\\\n",
       "\t356 & 2         & 0.1       & 0.20      & 0.2152743 & 0.47      & 0.0208    & 1.326087  & 0.96      & 0.9792    & 0.9948754\\\\\n",
       "\t422 & 2         & 0.1       & 0.40      & 0.2152743 & 0.47      & 0.0208    & 1.304348  & 0.96      & 0.9792    & 0.9948754\\\\\n",
       "\t488 & 2         & 0.1       & 0.50      & 0.2152743 & 0.47      & 0.0208    & 1.304348  & 0.96      & 0.9792    & 0.9948754\\\\\n",
       "\t554 & 2         & 0.1       & 0.70      & 0.2152743 & 0.47      & 0.0208    & 1.282609  & 0.96      & 0.9792    & 0.9948754\\\\\n",
       "\t620 & 2         & 0.1       & 0.90      & 0.2152743 & 0.47      & 0.0208    & 1.282609  & 0.96      & 0.9792    & 0.9948754\\\\\n",
       "\t686 & 2         & 0.1       & 0.99      & 0.2152743 & 0.47      & 0.0208    & 1.282609  & 0.96      & 0.9792    & 0.9948754\\\\\n",
       "\\end{tabular}\n"
      ],
      "text/markdown": [
       "\n",
       "| <!--/--> | effect_num | pve | prior | mean_corX | power | fdr | cs_size | cs_num | top_hit_rate | avg_purity | \n",
       "|---|---|---|---|---|---|---|---|---|---|---|\n",
       "| 26 | 2         | 0.1       | 0.01      | 0.2152743 | 0.46      | 0.0213    | 1.000000  | 0.94      | 0.9787    | 1.0000000 | \n",
       "| 92 | 2         | 0.1       | 0.02      | 0.2152743 | 0.47      | 0.0208    | 1.978261  | 0.96      | 0.9792    | 0.9901662 | \n",
       "| 158 | 2         | 0.1       | 0.03      | 0.2152743 | 0.47      | 0.0208    | 1.673913  | 0.96      | 0.9792    | 0.9909194 | \n",
       "| 224 | 2         | 0.1       | 0.05      | 0.2152743 | 0.47      | 0.0208    | 1.478261  | 0.96      | 0.9792    | 0.9946158 | \n",
       "| 290 | 2         | 0.1       | 0.10      | 0.2152743 | 0.47      | 0.0208    | 1.347826  | 0.96      | 0.9792    | 0.9948754 | \n",
       "| 356 | 2         | 0.1       | 0.20      | 0.2152743 | 0.47      | 0.0208    | 1.326087  | 0.96      | 0.9792    | 0.9948754 | \n",
       "| 422 | 2         | 0.1       | 0.40      | 0.2152743 | 0.47      | 0.0208    | 1.304348  | 0.96      | 0.9792    | 0.9948754 | \n",
       "| 488 | 2         | 0.1       | 0.50      | 0.2152743 | 0.47      | 0.0208    | 1.304348  | 0.96      | 0.9792    | 0.9948754 | \n",
       "| 554 | 2         | 0.1       | 0.70      | 0.2152743 | 0.47      | 0.0208    | 1.282609  | 0.96      | 0.9792    | 0.9948754 | \n",
       "| 620 | 2         | 0.1       | 0.90      | 0.2152743 | 0.47      | 0.0208    | 1.282609  | 0.96      | 0.9792    | 0.9948754 | \n",
       "| 686 | 2         | 0.1       | 0.99      | 0.2152743 | 0.47      | 0.0208    | 1.282609  | 0.96      | 0.9792    | 0.9948754 | \n",
       "\n",
       "\n"
      ],
      "text/plain": [
       "    effect_num pve prior mean_corX power fdr    cs_size  cs_num top_hit_rate\n",
       "26  2          0.1 0.01  0.2152743 0.46  0.0213 1.000000 0.94   0.9787      \n",
       "92  2          0.1 0.02  0.2152743 0.47  0.0208 1.978261 0.96   0.9792      \n",
       "158 2          0.1 0.03  0.2152743 0.47  0.0208 1.673913 0.96   0.9792      \n",
       "224 2          0.1 0.05  0.2152743 0.47  0.0208 1.478261 0.96   0.9792      \n",
       "290 2          0.1 0.10  0.2152743 0.47  0.0208 1.347826 0.96   0.9792      \n",
       "356 2          0.1 0.20  0.2152743 0.47  0.0208 1.326087 0.96   0.9792      \n",
       "422 2          0.1 0.40  0.2152743 0.47  0.0208 1.304348 0.96   0.9792      \n",
       "488 2          0.1 0.50  0.2152743 0.47  0.0208 1.304348 0.96   0.9792      \n",
       "554 2          0.1 0.70  0.2152743 0.47  0.0208 1.282609 0.96   0.9792      \n",
       "620 2          0.1 0.90  0.2152743 0.47  0.0208 1.282609 0.96   0.9792      \n",
       "686 2          0.1 0.99  0.2152743 0.47  0.0208 1.282609 0.96   0.9792      \n",
       "    avg_purity\n",
       "26  1.0000000 \n",
       "92  0.9901662 \n",
       "158 0.9909194 \n",
       "224 0.9946158 \n",
       "290 0.9948754 \n",
       "356 0.9948754 \n",
       "422 0.9948754 \n",
       "488 0.9948754 \n",
       "554 0.9948754 \n",
       "620 0.9948754 \n",
       "686 0.9948754 "
      ]
     },
     "metadata": {},
     "output_type": "display_data"
    }
   ],
   "source": [
    "dscout.summary[dscout.summary$pve==0.1,]"
   ]
  },
  {
   "cell_type": "code",
   "execution_count": 38,
   "metadata": {},
   "outputs": [
    {
     "data": {
      "text/html": [
       "<table>\n",
       "<thead><tr><th></th><th scope=col>effect_num</th><th scope=col>pve</th><th scope=col>prior</th><th scope=col>mean_corX</th><th scope=col>power</th><th scope=col>fdr</th><th scope=col>cs_size</th><th scope=col>cs_num</th><th scope=col>top_hit_rate</th><th scope=col>avg_purity</th></tr></thead>\n",
       "<tbody>\n",
       "\t<tr><th scope=row>50</th><td>2        </td><td>0.7      </td><td>0.01     </td><td>0.2152743</td><td>0.63     </td><td>0.0156   </td><td>1.06     </td><td>1.28     </td><td>0.9688   </td><td>0.9979029</td></tr>\n",
       "\t<tr><th scope=row>116</th><td>2        </td><td>0.7      </td><td>0.02     </td><td>0.2152743</td><td>0.63     </td><td>0.0156   </td><td>1.09     </td><td>1.28     </td><td>0.9688   </td><td>0.9969122</td></tr>\n",
       "\t<tr><th scope=row>182</th><td>2        </td><td>0.7      </td><td>0.03     </td><td>0.2152743</td><td>0.63     </td><td>0.0156   </td><td>1.11     </td><td>1.28     </td><td>0.9688   </td><td>0.9969122</td></tr>\n",
       "\t<tr><th scope=row>248</th><td>2        </td><td>0.7      </td><td>0.05     </td><td>0.2152743</td><td>0.63     </td><td>0.0156   </td><td>1.14     </td><td>1.28     </td><td>0.9688   </td><td>0.9969122</td></tr>\n",
       "\t<tr><th scope=row>314</th><td>2        </td><td>0.7      </td><td>0.10     </td><td>0.2152743</td><td>0.63     </td><td>0.0000   </td><td>1.02     </td><td>1.26     </td><td>0.9841   </td><td>0.9994104</td></tr>\n",
       "\t<tr><th scope=row>380</th><td>2        </td><td>0.7      </td><td>0.20     </td><td>0.2152743</td><td>0.64     </td><td>0.0000   </td><td>1.56     </td><td>1.28     </td><td>0.9688   </td><td>0.9958743</td></tr>\n",
       "\t<tr><th scope=row>446</th><td>2        </td><td>0.7      </td><td>0.40     </td><td>0.2152743</td><td>0.64     </td><td>0.0000   </td><td>1.48     </td><td>1.28     </td><td>0.9688   </td><td>0.9959935</td></tr>\n",
       "\t<tr><th scope=row>512</th><td>2        </td><td>0.7      </td><td>0.50     </td><td>0.2152743</td><td>0.64     </td><td>0.0000   </td><td>1.47     </td><td>1.28     </td><td>0.9688   </td><td>0.9959935</td></tr>\n",
       "\t<tr><th scope=row>578</th><td>2        </td><td>0.7      </td><td>0.70     </td><td>0.2152743</td><td>0.64     </td><td>0.0000   </td><td>1.46     </td><td>1.28     </td><td>0.9688   </td><td>0.9959935</td></tr>\n",
       "\t<tr><th scope=row>644</th><td>2        </td><td>0.7      </td><td>0.90     </td><td>0.2152743</td><td>0.64     </td><td>0.0000   </td><td>1.46     </td><td>1.28     </td><td>0.9688   </td><td>0.9959935</td></tr>\n",
       "\t<tr><th scope=row>710</th><td>2        </td><td>0.7      </td><td>0.99     </td><td>0.2152743</td><td>0.64     </td><td>0.0000   </td><td>1.45     </td><td>1.28     </td><td>0.9688   </td><td>0.9959935</td></tr>\n",
       "</tbody>\n",
       "</table>\n"
      ],
      "text/latex": [
       "\\begin{tabular}{r|llllllllll}\n",
       "  & effect\\_num & pve & prior & mean\\_corX & power & fdr & cs\\_size & cs\\_num & top\\_hit\\_rate & avg\\_purity\\\\\n",
       "\\hline\n",
       "\t50 & 2         & 0.7       & 0.01      & 0.2152743 & 0.63      & 0.0156    & 1.06      & 1.28      & 0.9688    & 0.9979029\\\\\n",
       "\t116 & 2         & 0.7       & 0.02      & 0.2152743 & 0.63      & 0.0156    & 1.09      & 1.28      & 0.9688    & 0.9969122\\\\\n",
       "\t182 & 2         & 0.7       & 0.03      & 0.2152743 & 0.63      & 0.0156    & 1.11      & 1.28      & 0.9688    & 0.9969122\\\\\n",
       "\t248 & 2         & 0.7       & 0.05      & 0.2152743 & 0.63      & 0.0156    & 1.14      & 1.28      & 0.9688    & 0.9969122\\\\\n",
       "\t314 & 2         & 0.7       & 0.10      & 0.2152743 & 0.63      & 0.0000    & 1.02      & 1.26      & 0.9841    & 0.9994104\\\\\n",
       "\t380 & 2         & 0.7       & 0.20      & 0.2152743 & 0.64      & 0.0000    & 1.56      & 1.28      & 0.9688    & 0.9958743\\\\\n",
       "\t446 & 2         & 0.7       & 0.40      & 0.2152743 & 0.64      & 0.0000    & 1.48      & 1.28      & 0.9688    & 0.9959935\\\\\n",
       "\t512 & 2         & 0.7       & 0.50      & 0.2152743 & 0.64      & 0.0000    & 1.47      & 1.28      & 0.9688    & 0.9959935\\\\\n",
       "\t578 & 2         & 0.7       & 0.70      & 0.2152743 & 0.64      & 0.0000    & 1.46      & 1.28      & 0.9688    & 0.9959935\\\\\n",
       "\t644 & 2         & 0.7       & 0.90      & 0.2152743 & 0.64      & 0.0000    & 1.46      & 1.28      & 0.9688    & 0.9959935\\\\\n",
       "\t710 & 2         & 0.7       & 0.99      & 0.2152743 & 0.64      & 0.0000    & 1.45      & 1.28      & 0.9688    & 0.9959935\\\\\n",
       "\\end{tabular}\n"
      ],
      "text/markdown": [
       "\n",
       "| <!--/--> | effect_num | pve | prior | mean_corX | power | fdr | cs_size | cs_num | top_hit_rate | avg_purity | \n",
       "|---|---|---|---|---|---|---|---|---|---|---|\n",
       "| 50 | 2         | 0.7       | 0.01      | 0.2152743 | 0.63      | 0.0156    | 1.06      | 1.28      | 0.9688    | 0.9979029 | \n",
       "| 116 | 2         | 0.7       | 0.02      | 0.2152743 | 0.63      | 0.0156    | 1.09      | 1.28      | 0.9688    | 0.9969122 | \n",
       "| 182 | 2         | 0.7       | 0.03      | 0.2152743 | 0.63      | 0.0156    | 1.11      | 1.28      | 0.9688    | 0.9969122 | \n",
       "| 248 | 2         | 0.7       | 0.05      | 0.2152743 | 0.63      | 0.0156    | 1.14      | 1.28      | 0.9688    | 0.9969122 | \n",
       "| 314 | 2         | 0.7       | 0.10      | 0.2152743 | 0.63      | 0.0000    | 1.02      | 1.26      | 0.9841    | 0.9994104 | \n",
       "| 380 | 2         | 0.7       | 0.20      | 0.2152743 | 0.64      | 0.0000    | 1.56      | 1.28      | 0.9688    | 0.9958743 | \n",
       "| 446 | 2         | 0.7       | 0.40      | 0.2152743 | 0.64      | 0.0000    | 1.48      | 1.28      | 0.9688    | 0.9959935 | \n",
       "| 512 | 2         | 0.7       | 0.50      | 0.2152743 | 0.64      | 0.0000    | 1.47      | 1.28      | 0.9688    | 0.9959935 | \n",
       "| 578 | 2         | 0.7       | 0.70      | 0.2152743 | 0.64      | 0.0000    | 1.46      | 1.28      | 0.9688    | 0.9959935 | \n",
       "| 644 | 2         | 0.7       | 0.90      | 0.2152743 | 0.64      | 0.0000    | 1.46      | 1.28      | 0.9688    | 0.9959935 | \n",
       "| 710 | 2         | 0.7       | 0.99      | 0.2152743 | 0.64      | 0.0000    | 1.45      | 1.28      | 0.9688    | 0.9959935 | \n",
       "\n",
       "\n"
      ],
      "text/plain": [
       "    effect_num pve prior mean_corX power fdr    cs_size cs_num top_hit_rate\n",
       "50  2          0.7 0.01  0.2152743 0.63  0.0156 1.06    1.28   0.9688      \n",
       "116 2          0.7 0.02  0.2152743 0.63  0.0156 1.09    1.28   0.9688      \n",
       "182 2          0.7 0.03  0.2152743 0.63  0.0156 1.11    1.28   0.9688      \n",
       "248 2          0.7 0.05  0.2152743 0.63  0.0156 1.14    1.28   0.9688      \n",
       "314 2          0.7 0.10  0.2152743 0.63  0.0000 1.02    1.26   0.9841      \n",
       "380 2          0.7 0.20  0.2152743 0.64  0.0000 1.56    1.28   0.9688      \n",
       "446 2          0.7 0.40  0.2152743 0.64  0.0000 1.48    1.28   0.9688      \n",
       "512 2          0.7 0.50  0.2152743 0.64  0.0000 1.47    1.28   0.9688      \n",
       "578 2          0.7 0.70  0.2152743 0.64  0.0000 1.46    1.28   0.9688      \n",
       "644 2          0.7 0.90  0.2152743 0.64  0.0000 1.46    1.28   0.9688      \n",
       "710 2          0.7 0.99  0.2152743 0.64  0.0000 1.45    1.28   0.9688      \n",
       "    avg_purity\n",
       "50  0.9979029 \n",
       "116 0.9969122 \n",
       "182 0.9969122 \n",
       "248 0.9969122 \n",
       "314 0.9994104 \n",
       "380 0.9958743 \n",
       "446 0.9959935 \n",
       "512 0.9959935 \n",
       "578 0.9959935 \n",
       "644 0.9959935 \n",
       "710 0.9959935 "
      ]
     },
     "metadata": {},
     "output_type": "display_data"
    }
   ],
   "source": [
    "dscout.summary[dscout.summary$pve==0.7,]"
   ]
  },
  {
   "cell_type": "markdown",
   "metadata": {},
   "source": [
    "## Code details"
   ]
  },
  {
   "cell_type": "code",
   "execution_count": 30,
   "metadata": {
    "collapsed": true
   },
   "outputs": [],
   "source": [
    "dscout_Q2 = readRDS('dscout_Q2.rds')\n",
    "dscout_Q2 = dscout_Q2[!is.na(dscout_Q2$sim_gaussian.output.file),]\n",
    "dscout_Q2 = dscout_Q2[!is.na(dscout_Q2$susie_prior.output.file),]"
   ]
  },
  {
   "cell_type": "code",
   "execution_count": 31,
   "metadata": {
    "collapsed": true
   },
   "outputs": [],
   "source": [
    "dscout_df = data.frame(dscout_Q2$sim_gaussian.effect_num, dscout_Q2$sim_gaussian.pve, dscout_Q2$susie_prior.prior,\n",
    "                       dscout_Q2$score.hit, dscout_Q2$score.signal_num, dscout_Q2$score.cs_medianSize,\n",
    "                       dscout_Q2$score.top_hit, dscout_Q2$sim_gaussian.mean_corX, dscout_Q2$susie_prior.avg_purity)\n",
    "names(dscout_df) = c('effect_num', 'pve', 'prior','hit', 'cs_num', 'cs_size', 'top_hit', 'corX', 'avg_purity')"
   ]
  },
  {
   "cell_type": "code",
   "execution_count": 32,
   "metadata": {
    "collapsed": true
   },
   "outputs": [],
   "source": [
    "power.summary = aggregate(hit ~ effect_num + pve + prior, dscout_df, sum)\n",
    "power.summary$power = power.summary$hit / (power.summary$effect_num*50)\n",
    "fdr.summary = aggregate(cs_num ~ effect_num + pve + prior, dscout_df, sum)\n",
    "fdr.summary$fdr = round(1 - power.summary$hit / fdr.summary$cs_num, 4)\n",
    "meannonzero = function(x){mean(x[x!=0])}\n",
    "setsize.summary = aggregate(cs_size ~ effect_num + pve + prior, dscout_df, meannonzero)\n",
    "tophit.summary = aggregate(top_hit ~ effect_num + pve + prior, dscout_df, sum)\n",
    "tophit.summary$tophit_rate = round(tophit.summary$top_hit / fdr.summary$cs_num , 4)\n",
    "corX.summary = aggregate(corX ~ effect_num + pve + prior, dscout_df, mean)\n",
    "cs_num.summary = aggregate(cs_num ~ effect_num + pve + prior, dscout_df, mean)\n",
    "dscout_df$avg_purity[is.na(dscout_df$avg_purity)]=0\n",
    "purity.summary = aggregate(avg_purity ~ effect_num + pve + prior, dscout_df, meannonzero)"
   ]
  },
  {
   "cell_type": "code",
   "execution_count": 33,
   "metadata": {
    "collapsed": true
   },
   "outputs": [],
   "source": [
    "dscout.summary = data.frame(power.summary$effect_num, power.summary$pve, power.summary$prior, corX.summary$corX,\n",
    "                            power.summary$power, fdr.summary$fdr, setsize.summary$cs_size, \n",
    "                            cs_num.summary$cs_num, tophit.summary$tophit_rate, purity.summary$avg_purity)\n",
    "names(dscout.summary) = c('effect_num', 'pve', 'prior', 'mean_corX','power', \n",
    "                          'fdr', 'cs_size', 'cs_num','top_hit_rate', 'avg_purity')"
   ]
  },
  {
   "cell_type": "code",
   "execution_count": 34,
   "metadata": {
    "collapsed": true
   },
   "outputs": [],
   "source": [
    "dscout.summary = dscout.summary[dscout.summary$effect_num==2, ]"
   ]
  },
  {
   "cell_type": "code",
   "execution_count": 22,
   "metadata": {
    "collapsed": true
   },
   "outputs": [],
   "source": []
  },
  {
   "cell_type": "code",
   "execution_count": null,
   "metadata": {
    "collapsed": true
   },
   "outputs": [],
   "source": []
  }
 ],
 "metadata": {
  "kernelspec": {
   "display_name": "R",
   "language": "R",
   "name": "ir"
  },
  "language_info": {
   "codemirror_mode": "r",
   "file_extension": ".r",
   "mimetype": "text/x-r-source",
   "name": "R",
   "pygments_lexer": "r",
   "version": "3.4.3"
  }
 },
 "nbformat": 4,
 "nbformat_minor": 2
}
