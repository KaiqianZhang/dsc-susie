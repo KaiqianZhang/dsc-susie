{
 "cells": [
  {
   "cell_type": "markdown",
   "metadata": {},
   "source": [
    "# How is power for different numbers of non-zero effects?"
   ]
  },
  {
   "cell_type": "markdown",
   "metadata": {},
   "source": [
    "Since simulated effects have certain correlation, we provide `mean_corX` to quantify such correlation. Assume prior is 0.2. For each fixed number of non-zero effects $T \\in \\{2,3,5,10,20\\}$, we investigate SuSiE power as PVE changes. "
   ]
  },
  {
   "cell_type": "markdown",
   "metadata": {},
   "source": [
    "## Results\n",
    "\n",
    "**- Summary: SuSiE power decreases and FDR increases given more non-zero effects. For a randomly generated X, if pve is large enough, the number of confidence sets produced is consistent with the number of non-zero effects.** \n",
    "\n",
    "* The `mean_corX` is also small around 0.02, which is similar to that for single cell data. But SuSiE power drops much slower than single cell data given more non-zero effects."
   ]
  },
  {
   "cell_type": "code",
   "execution_count": 13,
   "metadata": {},
   "outputs": [
    {
     "data": {
      "text/html": [
       "<table>\n",
       "<thead><tr><th></th><th scope=col>effect_num</th><th scope=col>pve</th><th scope=col>mean_corX</th><th scope=col>power</th><th scope=col>fdr</th><th scope=col>cs_num</th></tr></thead>\n",
       "<tbody>\n",
       "\t<tr><th scope=row>2</th><td>2         </td><td>0.01      </td><td>0.02049844</td><td>0.03      </td><td>0         </td><td>1.000000  </td></tr>\n",
       "\t<tr><th scope=row>8</th><td>2         </td><td>0.02      </td><td>0.02049844</td><td>0.16      </td><td>0         </td><td>1.000000  </td></tr>\n",
       "\t<tr><th scope=row>14</th><td>2         </td><td>0.03      </td><td>0.02049844</td><td>0.32      </td><td>0         </td><td>1.000000  </td></tr>\n",
       "\t<tr><th scope=row>20</th><td>2         </td><td>0.05      </td><td>0.02049844</td><td>0.52      </td><td>0         </td><td>1.083333  </td></tr>\n",
       "\t<tr><th scope=row>26</th><td>2         </td><td>0.10      </td><td>0.02049844</td><td>0.65      </td><td>0         </td><td>1.300000  </td></tr>\n",
       "\t<tr><th scope=row>32</th><td>2         </td><td>0.20      </td><td>0.02049844</td><td>0.79      </td><td>0         </td><td>1.580000  </td></tr>\n",
       "\t<tr><th scope=row>38</th><td>2         </td><td>0.40      </td><td>0.02049844</td><td>0.86      </td><td>0         </td><td>1.720000  </td></tr>\n",
       "\t<tr><th scope=row>44</th><td>2         </td><td>0.50      </td><td>0.02049844</td><td>0.89      </td><td>0         </td><td>1.780000  </td></tr>\n",
       "\t<tr><th scope=row>50</th><td>2         </td><td>0.70      </td><td>0.02049844</td><td>0.90      </td><td>0         </td><td>1.800000  </td></tr>\n",
       "\t<tr><th scope=row>56</th><td>2         </td><td>0.90      </td><td>0.02049844</td><td>0.97      </td><td>0         </td><td>1.940000  </td></tr>\n",
       "\t<tr><th scope=row>62</th><td>2         </td><td>0.99      </td><td>0.02049844</td><td>1.00      </td><td>0         </td><td>2.000000  </td></tr>\n",
       "</tbody>\n",
       "</table>\n"
      ],
      "text/latex": [
       "\\begin{tabular}{r|llllll}\n",
       "  & effect\\_num & pve & mean\\_corX & power & fdr & cs\\_num\\\\\n",
       "\\hline\n",
       "\t2 & 2          & 0.01       & 0.02049844 & 0.03       & 0          & 1.000000  \\\\\n",
       "\t8 & 2          & 0.02       & 0.02049844 & 0.16       & 0          & 1.000000  \\\\\n",
       "\t14 & 2          & 0.03       & 0.02049844 & 0.32       & 0          & 1.000000  \\\\\n",
       "\t20 & 2          & 0.05       & 0.02049844 & 0.52       & 0          & 1.083333  \\\\\n",
       "\t26 & 2          & 0.10       & 0.02049844 & 0.65       & 0          & 1.300000  \\\\\n",
       "\t32 & 2          & 0.20       & 0.02049844 & 0.79       & 0          & 1.580000  \\\\\n",
       "\t38 & 2          & 0.40       & 0.02049844 & 0.86       & 0          & 1.720000  \\\\\n",
       "\t44 & 2          & 0.50       & 0.02049844 & 0.89       & 0          & 1.780000  \\\\\n",
       "\t50 & 2          & 0.70       & 0.02049844 & 0.90       & 0          & 1.800000  \\\\\n",
       "\t56 & 2          & 0.90       & 0.02049844 & 0.97       & 0          & 1.940000  \\\\\n",
       "\t62 & 2          & 0.99       & 0.02049844 & 1.00       & 0          & 2.000000  \\\\\n",
       "\\end{tabular}\n"
      ],
      "text/markdown": [
       "\n",
       "| <!--/--> | effect_num | pve | mean_corX | power | fdr | cs_num | \n",
       "|---|---|---|---|---|---|---|---|---|---|---|\n",
       "| 2 | 2          | 0.01       | 0.02049844 | 0.03       | 0          | 1.000000   | \n",
       "| 8 | 2          | 0.02       | 0.02049844 | 0.16       | 0          | 1.000000   | \n",
       "| 14 | 2          | 0.03       | 0.02049844 | 0.32       | 0          | 1.000000   | \n",
       "| 20 | 2          | 0.05       | 0.02049844 | 0.52       | 0          | 1.083333   | \n",
       "| 26 | 2          | 0.10       | 0.02049844 | 0.65       | 0          | 1.300000   | \n",
       "| 32 | 2          | 0.20       | 0.02049844 | 0.79       | 0          | 1.580000   | \n",
       "| 38 | 2          | 0.40       | 0.02049844 | 0.86       | 0          | 1.720000   | \n",
       "| 44 | 2          | 0.50       | 0.02049844 | 0.89       | 0          | 1.780000   | \n",
       "| 50 | 2          | 0.70       | 0.02049844 | 0.90       | 0          | 1.800000   | \n",
       "| 56 | 2          | 0.90       | 0.02049844 | 0.97       | 0          | 1.940000   | \n",
       "| 62 | 2          | 0.99       | 0.02049844 | 1.00       | 0          | 2.000000   | \n",
       "\n",
       "\n"
      ],
      "text/plain": [
       "   effect_num pve  mean_corX  power fdr cs_num  \n",
       "2  2          0.01 0.02049844 0.03  0   1.000000\n",
       "8  2          0.02 0.02049844 0.16  0   1.000000\n",
       "14 2          0.03 0.02049844 0.32  0   1.000000\n",
       "20 2          0.05 0.02049844 0.52  0   1.083333\n",
       "26 2          0.10 0.02049844 0.65  0   1.300000\n",
       "32 2          0.20 0.02049844 0.79  0   1.580000\n",
       "38 2          0.40 0.02049844 0.86  0   1.720000\n",
       "44 2          0.50 0.02049844 0.89  0   1.780000\n",
       "50 2          0.70 0.02049844 0.90  0   1.800000\n",
       "56 2          0.90 0.02049844 0.97  0   1.940000\n",
       "62 2          0.99 0.02049844 1.00  0   2.000000"
      ]
     },
     "metadata": {},
     "output_type": "display_data"
    }
   ],
   "source": [
    "dscout.summary[dscout.summary$effect_num==2,]"
   ]
  },
  {
   "cell_type": "code",
   "execution_count": 9,
   "metadata": {},
   "outputs": [
    {
     "data": {
      "text/html": [
       "<table>\n",
       "<thead><tr><th></th><th scope=col>effect_num</th><th scope=col>pve</th><th scope=col>mean_corX</th><th scope=col>power</th><th scope=col>fdr</th><th scope=col>cs_num</th></tr></thead>\n",
       "<tbody>\n",
       "\t<tr><th scope=row>3</th><td>3         </td><td>0.01      </td><td>0.02658784</td><td>0.0200    </td><td>0         </td><td>1.000000  </td></tr>\n",
       "\t<tr><th scope=row>9</th><td>3         </td><td>0.02      </td><td>0.02658784</td><td>0.1200    </td><td>0         </td><td>1.000000  </td></tr>\n",
       "\t<tr><th scope=row>15</th><td>3         </td><td>0.03      </td><td>0.02658784</td><td>0.2133    </td><td>0         </td><td>1.000000  </td></tr>\n",
       "\t<tr><th scope=row>21</th><td>3         </td><td>0.05      </td><td>0.02658784</td><td>0.3600    </td><td>0         </td><td>1.148936  </td></tr>\n",
       "\t<tr><th scope=row>27</th><td>3         </td><td>0.10      </td><td>0.02658784</td><td>0.5333    </td><td>0         </td><td>1.600000  </td></tr>\n",
       "\t<tr><th scope=row>33</th><td>3         </td><td>0.20      </td><td>0.02658784</td><td>0.7067    </td><td>0         </td><td>2.120000  </td></tr>\n",
       "\t<tr><th scope=row>39</th><td>3         </td><td>0.40      </td><td>0.02658784</td><td>0.7867    </td><td>0         </td><td>2.360000  </td></tr>\n",
       "\t<tr><th scope=row>45</th><td>3         </td><td>0.50      </td><td>0.02658784</td><td>0.8333    </td><td>0         </td><td>2.500000  </td></tr>\n",
       "\t<tr><th scope=row>51</th><td>3         </td><td>0.70      </td><td>0.02658784</td><td>0.9000    </td><td>0         </td><td>2.700000  </td></tr>\n",
       "\t<tr><th scope=row>57</th><td>3         </td><td>0.90      </td><td>0.02658784</td><td>0.9467    </td><td>0         </td><td>2.840000  </td></tr>\n",
       "\t<tr><th scope=row>63</th><td>3         </td><td>0.99      </td><td>0.02658784</td><td>0.9867    </td><td>0         </td><td>2.960000  </td></tr>\n",
       "</tbody>\n",
       "</table>\n"
      ],
      "text/latex": [
       "\\begin{tabular}{r|llllll}\n",
       "  & effect\\_num & pve & mean\\_corX & power & fdr & cs\\_num\\\\\n",
       "\\hline\n",
       "\t3 & 3          & 0.01       & 0.02658784 & 0.0200     & 0          & 1.000000  \\\\\n",
       "\t9 & 3          & 0.02       & 0.02658784 & 0.1200     & 0          & 1.000000  \\\\\n",
       "\t15 & 3          & 0.03       & 0.02658784 & 0.2133     & 0          & 1.000000  \\\\\n",
       "\t21 & 3          & 0.05       & 0.02658784 & 0.3600     & 0          & 1.148936  \\\\\n",
       "\t27 & 3          & 0.10       & 0.02658784 & 0.5333     & 0          & 1.600000  \\\\\n",
       "\t33 & 3          & 0.20       & 0.02658784 & 0.7067     & 0          & 2.120000  \\\\\n",
       "\t39 & 3          & 0.40       & 0.02658784 & 0.7867     & 0          & 2.360000  \\\\\n",
       "\t45 & 3          & 0.50       & 0.02658784 & 0.8333     & 0          & 2.500000  \\\\\n",
       "\t51 & 3          & 0.70       & 0.02658784 & 0.9000     & 0          & 2.700000  \\\\\n",
       "\t57 & 3          & 0.90       & 0.02658784 & 0.9467     & 0          & 2.840000  \\\\\n",
       "\t63 & 3          & 0.99       & 0.02658784 & 0.9867     & 0          & 2.960000  \\\\\n",
       "\\end{tabular}\n"
      ],
      "text/markdown": [
       "\n",
       "| <!--/--> | effect_num | pve | mean_corX | power | fdr | cs_num | \n",
       "|---|---|---|---|---|---|---|---|---|---|---|\n",
       "| 3 | 3          | 0.01       | 0.02658784 | 0.0200     | 0          | 1.000000   | \n",
       "| 9 | 3          | 0.02       | 0.02658784 | 0.1200     | 0          | 1.000000   | \n",
       "| 15 | 3          | 0.03       | 0.02658784 | 0.2133     | 0          | 1.000000   | \n",
       "| 21 | 3          | 0.05       | 0.02658784 | 0.3600     | 0          | 1.148936   | \n",
       "| 27 | 3          | 0.10       | 0.02658784 | 0.5333     | 0          | 1.600000   | \n",
       "| 33 | 3          | 0.20       | 0.02658784 | 0.7067     | 0          | 2.120000   | \n",
       "| 39 | 3          | 0.40       | 0.02658784 | 0.7867     | 0          | 2.360000   | \n",
       "| 45 | 3          | 0.50       | 0.02658784 | 0.8333     | 0          | 2.500000   | \n",
       "| 51 | 3          | 0.70       | 0.02658784 | 0.9000     | 0          | 2.700000   | \n",
       "| 57 | 3          | 0.90       | 0.02658784 | 0.9467     | 0          | 2.840000   | \n",
       "| 63 | 3          | 0.99       | 0.02658784 | 0.9867     | 0          | 2.960000   | \n",
       "\n",
       "\n"
      ],
      "text/plain": [
       "   effect_num pve  mean_corX  power  fdr cs_num  \n",
       "3  3          0.01 0.02658784 0.0200 0   1.000000\n",
       "9  3          0.02 0.02658784 0.1200 0   1.000000\n",
       "15 3          0.03 0.02658784 0.2133 0   1.000000\n",
       "21 3          0.05 0.02658784 0.3600 0   1.148936\n",
       "27 3          0.10 0.02658784 0.5333 0   1.600000\n",
       "33 3          0.20 0.02658784 0.7067 0   2.120000\n",
       "39 3          0.40 0.02658784 0.7867 0   2.360000\n",
       "45 3          0.50 0.02658784 0.8333 0   2.500000\n",
       "51 3          0.70 0.02658784 0.9000 0   2.700000\n",
       "57 3          0.90 0.02658784 0.9467 0   2.840000\n",
       "63 3          0.99 0.02658784 0.9867 0   2.960000"
      ]
     },
     "metadata": {},
     "output_type": "display_data"
    }
   ],
   "source": [
    "dscout.summary[dscout.summary$effect_num==3,]"
   ]
  },
  {
   "cell_type": "code",
   "execution_count": 10,
   "metadata": {},
   "outputs": [
    {
     "data": {
      "text/html": [
       "<table>\n",
       "<thead><tr><th></th><th scope=col>effect_num</th><th scope=col>pve</th><th scope=col>mean_corX</th><th scope=col>power</th><th scope=col>fdr</th><th scope=col>cs_num</th></tr></thead>\n",
       "<tbody>\n",
       "\t<tr><th scope=row>4</th><td>5         </td><td>0.01      </td><td>0.02237424</td><td>0.004     </td><td>0.5000    </td><td>1.000000  </td></tr>\n",
       "\t<tr><th scope=row>10</th><td>5         </td><td>0.02      </td><td>0.02237424</td><td>0.036     </td><td>0.1000    </td><td>1.000000  </td></tr>\n",
       "\t<tr><th scope=row>16</th><td>5         </td><td>0.03      </td><td>0.02237424</td><td>0.096     </td><td>0.0400    </td><td>1.086957  </td></tr>\n",
       "\t<tr><th scope=row>22</th><td>5         </td><td>0.05      </td><td>0.02237424</td><td>0.192     </td><td>0.0204    </td><td>1.166667  </td></tr>\n",
       "\t<tr><th scope=row>28</th><td>5         </td><td>0.10      </td><td>0.02237424</td><td>0.372     </td><td>0.0106    </td><td>1.880000  </td></tr>\n",
       "\t<tr><th scope=row>34</th><td>5         </td><td>0.20      </td><td>0.02237424</td><td>0.596     </td><td>0.0132    </td><td>3.020000  </td></tr>\n",
       "\t<tr><th scope=row>40</th><td>5         </td><td>0.40      </td><td>0.02237424</td><td>0.720     </td><td>0.0000    </td><td>3.600000  </td></tr>\n",
       "\t<tr><th scope=row>46</th><td>5         </td><td>0.50      </td><td>0.02237424</td><td>0.760     </td><td>0.0000    </td><td>3.800000  </td></tr>\n",
       "\t<tr><th scope=row>52</th><td>5         </td><td>0.70      </td><td>0.02237424</td><td>0.852     </td><td>0.0000    </td><td>4.260000  </td></tr>\n",
       "\t<tr><th scope=row>58</th><td>5         </td><td>0.90      </td><td>0.02237424</td><td>0.932     </td><td>0.0043    </td><td>4.680000  </td></tr>\n",
       "\t<tr><th scope=row>64</th><td>5         </td><td>0.99      </td><td>0.02237424</td><td>0.968     </td><td>0.0041    </td><td>4.860000  </td></tr>\n",
       "</tbody>\n",
       "</table>\n"
      ],
      "text/latex": [
       "\\begin{tabular}{r|llllll}\n",
       "  & effect\\_num & pve & mean\\_corX & power & fdr & cs\\_num\\\\\n",
       "\\hline\n",
       "\t4 & 5          & 0.01       & 0.02237424 & 0.004      & 0.5000     & 1.000000  \\\\\n",
       "\t10 & 5          & 0.02       & 0.02237424 & 0.036      & 0.1000     & 1.000000  \\\\\n",
       "\t16 & 5          & 0.03       & 0.02237424 & 0.096      & 0.0400     & 1.086957  \\\\\n",
       "\t22 & 5          & 0.05       & 0.02237424 & 0.192      & 0.0204     & 1.166667  \\\\\n",
       "\t28 & 5          & 0.10       & 0.02237424 & 0.372      & 0.0106     & 1.880000  \\\\\n",
       "\t34 & 5          & 0.20       & 0.02237424 & 0.596      & 0.0132     & 3.020000  \\\\\n",
       "\t40 & 5          & 0.40       & 0.02237424 & 0.720      & 0.0000     & 3.600000  \\\\\n",
       "\t46 & 5          & 0.50       & 0.02237424 & 0.760      & 0.0000     & 3.800000  \\\\\n",
       "\t52 & 5          & 0.70       & 0.02237424 & 0.852      & 0.0000     & 4.260000  \\\\\n",
       "\t58 & 5          & 0.90       & 0.02237424 & 0.932      & 0.0043     & 4.680000  \\\\\n",
       "\t64 & 5          & 0.99       & 0.02237424 & 0.968      & 0.0041     & 4.860000  \\\\\n",
       "\\end{tabular}\n"
      ],
      "text/markdown": [
       "\n",
       "| <!--/--> | effect_num | pve | mean_corX | power | fdr | cs_num | \n",
       "|---|---|---|---|---|---|---|---|---|---|---|\n",
       "| 4 | 5          | 0.01       | 0.02237424 | 0.004      | 0.5000     | 1.000000   | \n",
       "| 10 | 5          | 0.02       | 0.02237424 | 0.036      | 0.1000     | 1.000000   | \n",
       "| 16 | 5          | 0.03       | 0.02237424 | 0.096      | 0.0400     | 1.086957   | \n",
       "| 22 | 5          | 0.05       | 0.02237424 | 0.192      | 0.0204     | 1.166667   | \n",
       "| 28 | 5          | 0.10       | 0.02237424 | 0.372      | 0.0106     | 1.880000   | \n",
       "| 34 | 5          | 0.20       | 0.02237424 | 0.596      | 0.0132     | 3.020000   | \n",
       "| 40 | 5          | 0.40       | 0.02237424 | 0.720      | 0.0000     | 3.600000   | \n",
       "| 46 | 5          | 0.50       | 0.02237424 | 0.760      | 0.0000     | 3.800000   | \n",
       "| 52 | 5          | 0.70       | 0.02237424 | 0.852      | 0.0000     | 4.260000   | \n",
       "| 58 | 5          | 0.90       | 0.02237424 | 0.932      | 0.0043     | 4.680000   | \n",
       "| 64 | 5          | 0.99       | 0.02237424 | 0.968      | 0.0041     | 4.860000   | \n",
       "\n",
       "\n"
      ],
      "text/plain": [
       "   effect_num pve  mean_corX  power fdr    cs_num  \n",
       "4  5          0.01 0.02237424 0.004 0.5000 1.000000\n",
       "10 5          0.02 0.02237424 0.036 0.1000 1.000000\n",
       "16 5          0.03 0.02237424 0.096 0.0400 1.086957\n",
       "22 5          0.05 0.02237424 0.192 0.0204 1.166667\n",
       "28 5          0.10 0.02237424 0.372 0.0106 1.880000\n",
       "34 5          0.20 0.02237424 0.596 0.0132 3.020000\n",
       "40 5          0.40 0.02237424 0.720 0.0000 3.600000\n",
       "46 5          0.50 0.02237424 0.760 0.0000 3.800000\n",
       "52 5          0.70 0.02237424 0.852 0.0000 4.260000\n",
       "58 5          0.90 0.02237424 0.932 0.0043 4.680000\n",
       "64 5          0.99 0.02237424 0.968 0.0041 4.860000"
      ]
     },
     "metadata": {},
     "output_type": "display_data"
    }
   ],
   "source": [
    "dscout.summary[dscout.summary$effect_num==5,]"
   ]
  },
  {
   "cell_type": "code",
   "execution_count": 11,
   "metadata": {},
   "outputs": [
    {
     "data": {
      "text/html": [
       "<table>\n",
       "<thead><tr><th></th><th scope=col>effect_num</th><th scope=col>pve</th><th scope=col>mean_corX</th><th scope=col>power</th><th scope=col>fdr</th><th scope=col>cs_num</th></tr></thead>\n",
       "<tbody>\n",
       "\t<tr><th scope=row>5</th><td>10        </td><td>0.01      </td><td>0.02334993</td><td>0.000     </td><td>1.0000    </td><td>1.000000  </td></tr>\n",
       "\t<tr><th scope=row>11</th><td>10        </td><td>0.02      </td><td>0.02334993</td><td>0.004     </td><td>0.3333    </td><td>1.000000  </td></tr>\n",
       "\t<tr><th scope=row>17</th><td>10        </td><td>0.03      </td><td>0.02334993</td><td>0.022     </td><td>0.0833    </td><td>1.000000  </td></tr>\n",
       "\t<tr><th scope=row>23</th><td>10        </td><td>0.05      </td><td>0.02334993</td><td>0.084     </td><td>0.0233    </td><td>1.194444  </td></tr>\n",
       "\t<tr><th scope=row>29</th><td>10        </td><td>0.10      </td><td>0.02334993</td><td>0.206     </td><td>0.0000    </td><td>2.060000  </td></tr>\n",
       "\t<tr><th scope=row>35</th><td>10        </td><td>0.20      </td><td>0.02334993</td><td>0.394     </td><td>0.0000    </td><td>3.940000  </td></tr>\n",
       "\t<tr><th scope=row>41</th><td>10        </td><td>0.40      </td><td>0.02334993</td><td>0.564     </td><td>0.0000    </td><td>5.640000  </td></tr>\n",
       "\t<tr><th scope=row>47</th><td>10        </td><td>0.50      </td><td>0.02334993</td><td>0.622     </td><td>0.0000    </td><td>6.220000  </td></tr>\n",
       "\t<tr><th scope=row>53</th><td>10        </td><td>0.70      </td><td>0.02334993</td><td>0.752     </td><td>0.0000    </td><td>7.520000  </td></tr>\n",
       "\t<tr><th scope=row>59</th><td>10        </td><td>0.90      </td><td>0.02334993</td><td>0.864     </td><td>0.0046    </td><td>8.680000  </td></tr>\n",
       "\t<tr><th scope=row>65</th><td>10        </td><td>0.99      </td><td>0.02334993</td><td>0.956     </td><td>0.0042    </td><td>9.600000  </td></tr>\n",
       "</tbody>\n",
       "</table>\n"
      ],
      "text/latex": [
       "\\begin{tabular}{r|llllll}\n",
       "  & effect\\_num & pve & mean\\_corX & power & fdr & cs\\_num\\\\\n",
       "\\hline\n",
       "\t5 & 10         & 0.01       & 0.02334993 & 0.000      & 1.0000     & 1.000000  \\\\\n",
       "\t11 & 10         & 0.02       & 0.02334993 & 0.004      & 0.3333     & 1.000000  \\\\\n",
       "\t17 & 10         & 0.03       & 0.02334993 & 0.022      & 0.0833     & 1.000000  \\\\\n",
       "\t23 & 10         & 0.05       & 0.02334993 & 0.084      & 0.0233     & 1.194444  \\\\\n",
       "\t29 & 10         & 0.10       & 0.02334993 & 0.206      & 0.0000     & 2.060000  \\\\\n",
       "\t35 & 10         & 0.20       & 0.02334993 & 0.394      & 0.0000     & 3.940000  \\\\\n",
       "\t41 & 10         & 0.40       & 0.02334993 & 0.564      & 0.0000     & 5.640000  \\\\\n",
       "\t47 & 10         & 0.50       & 0.02334993 & 0.622      & 0.0000     & 6.220000  \\\\\n",
       "\t53 & 10         & 0.70       & 0.02334993 & 0.752      & 0.0000     & 7.520000  \\\\\n",
       "\t59 & 10         & 0.90       & 0.02334993 & 0.864      & 0.0046     & 8.680000  \\\\\n",
       "\t65 & 10         & 0.99       & 0.02334993 & 0.956      & 0.0042     & 9.600000  \\\\\n",
       "\\end{tabular}\n"
      ],
      "text/markdown": [
       "\n",
       "| <!--/--> | effect_num | pve | mean_corX | power | fdr | cs_num | \n",
       "|---|---|---|---|---|---|---|---|---|---|---|\n",
       "| 5 | 10         | 0.01       | 0.02334993 | 0.000      | 1.0000     | 1.000000   | \n",
       "| 11 | 10         | 0.02       | 0.02334993 | 0.004      | 0.3333     | 1.000000   | \n",
       "| 17 | 10         | 0.03       | 0.02334993 | 0.022      | 0.0833     | 1.000000   | \n",
       "| 23 | 10         | 0.05       | 0.02334993 | 0.084      | 0.0233     | 1.194444   | \n",
       "| 29 | 10         | 0.10       | 0.02334993 | 0.206      | 0.0000     | 2.060000   | \n",
       "| 35 | 10         | 0.20       | 0.02334993 | 0.394      | 0.0000     | 3.940000   | \n",
       "| 41 | 10         | 0.40       | 0.02334993 | 0.564      | 0.0000     | 5.640000   | \n",
       "| 47 | 10         | 0.50       | 0.02334993 | 0.622      | 0.0000     | 6.220000   | \n",
       "| 53 | 10         | 0.70       | 0.02334993 | 0.752      | 0.0000     | 7.520000   | \n",
       "| 59 | 10         | 0.90       | 0.02334993 | 0.864      | 0.0046     | 8.680000   | \n",
       "| 65 | 10         | 0.99       | 0.02334993 | 0.956      | 0.0042     | 9.600000   | \n",
       "\n",
       "\n"
      ],
      "text/plain": [
       "   effect_num pve  mean_corX  power fdr    cs_num  \n",
       "5  10         0.01 0.02334993 0.000 1.0000 1.000000\n",
       "11 10         0.02 0.02334993 0.004 0.3333 1.000000\n",
       "17 10         0.03 0.02334993 0.022 0.0833 1.000000\n",
       "23 10         0.05 0.02334993 0.084 0.0233 1.194444\n",
       "29 10         0.10 0.02334993 0.206 0.0000 2.060000\n",
       "35 10         0.20 0.02334993 0.394 0.0000 3.940000\n",
       "41 10         0.40 0.02334993 0.564 0.0000 5.640000\n",
       "47 10         0.50 0.02334993 0.622 0.0000 6.220000\n",
       "53 10         0.70 0.02334993 0.752 0.0000 7.520000\n",
       "59 10         0.90 0.02334993 0.864 0.0046 8.680000\n",
       "65 10         0.99 0.02334993 0.956 0.0042 9.600000"
      ]
     },
     "metadata": {},
     "output_type": "display_data"
    }
   ],
   "source": [
    "dscout.summary[dscout.summary$effect_num==10,]"
   ]
  },
  {
   "cell_type": "code",
   "execution_count": 12,
   "metadata": {},
   "outputs": [
    {
     "data": {
      "text/html": [
       "<table>\n",
       "<thead><tr><th></th><th scope=col>effect_num</th><th scope=col>pve</th><th scope=col>mean_corX</th><th scope=col>power</th><th scope=col>fdr</th><th scope=col>cs_num</th></tr></thead>\n",
       "<tbody>\n",
       "\t<tr><th scope=row>6</th><td>20       </td><td>0.01     </td><td>0.023056 </td><td>0.000    </td><td>1.0000   </td><td> 1.000000</td></tr>\n",
       "\t<tr><th scope=row>12</th><td>20       </td><td>0.02     </td><td>0.023056 </td><td>0.001    </td><td>0.6667   </td><td> 1.000000</td></tr>\n",
       "\t<tr><th scope=row>18</th><td>20       </td><td>0.03     </td><td>0.023056 </td><td>0.005    </td><td>0.1667   </td><td> 1.000000</td></tr>\n",
       "\t<tr><th scope=row>24</th><td>20       </td><td>0.05     </td><td>0.023056 </td><td>0.023    </td><td>0.0800   </td><td> 1.086957</td></tr>\n",
       "\t<tr><th scope=row>30</th><td>20       </td><td>0.10     </td><td>0.023056 </td><td>0.073    </td><td>0.0135   </td><td> 1.574468</td></tr>\n",
       "\t<tr><th scope=row>36</th><td>20       </td><td>0.20     </td><td>0.023056 </td><td>0.191    </td><td>0.0000   </td><td> 3.820000</td></tr>\n",
       "\t<tr><th scope=row>42</th><td>20       </td><td>0.40     </td><td>0.023056 </td><td>0.392    </td><td>0.0000   </td><td> 7.840000</td></tr>\n",
       "\t<tr><th scope=row>48</th><td>20       </td><td>0.50     </td><td>0.023056 </td><td>0.489    </td><td>0.0000   </td><td> 9.780000</td></tr>\n",
       "\t<tr><th scope=row>54</th><td>20       </td><td>0.70     </td><td>0.023056 </td><td>0.637    </td><td>0.0031   </td><td>12.780000</td></tr>\n",
       "\t<tr><th scope=row>60</th><td>20       </td><td>0.90     </td><td>0.023056 </td><td>0.817    </td><td>0.0012   </td><td>16.360000</td></tr>\n",
       "\t<tr><th scope=row>66</th><td>20       </td><td>0.99     </td><td>0.023056 </td><td>0.917    </td><td>0.0011   </td><td>18.360000</td></tr>\n",
       "</tbody>\n",
       "</table>\n"
      ],
      "text/latex": [
       "\\begin{tabular}{r|llllll}\n",
       "  & effect\\_num & pve & mean\\_corX & power & fdr & cs\\_num\\\\\n",
       "\\hline\n",
       "\t6 & 20        & 0.01      & 0.023056  & 0.000     & 1.0000    &  1.000000\\\\\n",
       "\t12 & 20        & 0.02      & 0.023056  & 0.001     & 0.6667    &  1.000000\\\\\n",
       "\t18 & 20        & 0.03      & 0.023056  & 0.005     & 0.1667    &  1.000000\\\\\n",
       "\t24 & 20        & 0.05      & 0.023056  & 0.023     & 0.0800    &  1.086957\\\\\n",
       "\t30 & 20        & 0.10      & 0.023056  & 0.073     & 0.0135    &  1.574468\\\\\n",
       "\t36 & 20        & 0.20      & 0.023056  & 0.191     & 0.0000    &  3.820000\\\\\n",
       "\t42 & 20        & 0.40      & 0.023056  & 0.392     & 0.0000    &  7.840000\\\\\n",
       "\t48 & 20        & 0.50      & 0.023056  & 0.489     & 0.0000    &  9.780000\\\\\n",
       "\t54 & 20        & 0.70      & 0.023056  & 0.637     & 0.0031    & 12.780000\\\\\n",
       "\t60 & 20        & 0.90      & 0.023056  & 0.817     & 0.0012    & 16.360000\\\\\n",
       "\t66 & 20        & 0.99      & 0.023056  & 0.917     & 0.0011    & 18.360000\\\\\n",
       "\\end{tabular}\n"
      ],
      "text/markdown": [
       "\n",
       "| <!--/--> | effect_num | pve | mean_corX | power | fdr | cs_num | \n",
       "|---|---|---|---|---|---|---|---|---|---|---|\n",
       "| 6 | 20        | 0.01      | 0.023056  | 0.000     | 1.0000    |  1.000000 | \n",
       "| 12 | 20        | 0.02      | 0.023056  | 0.001     | 0.6667    |  1.000000 | \n",
       "| 18 | 20        | 0.03      | 0.023056  | 0.005     | 0.1667    |  1.000000 | \n",
       "| 24 | 20        | 0.05      | 0.023056  | 0.023     | 0.0800    |  1.086957 | \n",
       "| 30 | 20        | 0.10      | 0.023056  | 0.073     | 0.0135    |  1.574468 | \n",
       "| 36 | 20        | 0.20      | 0.023056  | 0.191     | 0.0000    |  3.820000 | \n",
       "| 42 | 20        | 0.40      | 0.023056  | 0.392     | 0.0000    |  7.840000 | \n",
       "| 48 | 20        | 0.50      | 0.023056  | 0.489     | 0.0000    |  9.780000 | \n",
       "| 54 | 20        | 0.70      | 0.023056  | 0.637     | 0.0031    | 12.780000 | \n",
       "| 60 | 20        | 0.90      | 0.023056  | 0.817     | 0.0012    | 16.360000 | \n",
       "| 66 | 20        | 0.99      | 0.023056  | 0.917     | 0.0011    | 18.360000 | \n",
       "\n",
       "\n"
      ],
      "text/plain": [
       "   effect_num pve  mean_corX power fdr    cs_num   \n",
       "6  20         0.01 0.023056  0.000 1.0000  1.000000\n",
       "12 20         0.02 0.023056  0.001 0.6667  1.000000\n",
       "18 20         0.03 0.023056  0.005 0.1667  1.000000\n",
       "24 20         0.05 0.023056  0.023 0.0800  1.086957\n",
       "30 20         0.10 0.023056  0.073 0.0135  1.574468\n",
       "36 20         0.20 0.023056  0.191 0.0000  3.820000\n",
       "42 20         0.40 0.023056  0.392 0.0000  7.840000\n",
       "48 20         0.50 0.023056  0.489 0.0000  9.780000\n",
       "54 20         0.70 0.023056  0.637 0.0031 12.780000\n",
       "60 20         0.90 0.023056  0.817 0.0012 16.360000\n",
       "66 20         0.99 0.023056  0.917 0.0011 18.360000"
      ]
     },
     "metadata": {},
     "output_type": "display_data"
    }
   ],
   "source": [
    "dscout.summary[dscout.summary$effect_num==20,]"
   ]
  },
  {
   "cell_type": "markdown",
   "metadata": {},
   "source": [
    "## Code details"
   ]
  },
  {
   "cell_type": "code",
   "execution_count": 1,
   "metadata": {
    "collapsed": true
   },
   "outputs": [],
   "source": [
    "dscout_Q1 = readRDS('random_Q1.rds')\n",
    "dscout_Q1 = dscout_Q1[!is.na(dscout_Q1$sim_gaussian.output.file),]\n",
    "dscout_Q1 = dscout_Q1[!is.na(dscout_Q1$susie.output.file),]"
   ]
  },
  {
   "cell_type": "code",
   "execution_count": 2,
   "metadata": {
    "collapsed": true
   },
   "outputs": [],
   "source": [
    "dscout_df = data.frame(dscout_Q1$sim_gaussian.effect_num, dscout_Q1$sim_gaussian.pve, \n",
    "                       dscout_Q1$sim_gaussian.mean_corX,dscout_Q1$score.hit, dscout_Q1$score.signal_num)\n",
    "names(dscout_df) = c('effect_num', 'pve', 'mean_corX', 'hit', 'cs_num')"
   ]
  },
  {
   "cell_type": "code",
   "execution_count": 3,
   "metadata": {
    "collapsed": true
   },
   "outputs": [],
   "source": [
    "corX.summary = aggregate(mean_corX ~ effect_num + pve, dscout_df, mean)\n",
    "dscout.summary = corX.summary"
   ]
  },
  {
   "cell_type": "code",
   "execution_count": 4,
   "metadata": {
    "collapsed": true
   },
   "outputs": [],
   "source": [
    "meannonzero = function(x){mean(x[x!=0])}\n",
    "hitmean.summary = aggregate(hit ~ effect_num + pve, dscout_df, mean)\n",
    "dscout.summary$power = round(hitmean.summary$hit / dscout.summary$effect_num, 4)"
   ]
  },
  {
   "cell_type": "code",
   "execution_count": 5,
   "metadata": {
    "collapsed": true
   },
   "outputs": [],
   "source": [
    "hitsum.summary = aggregate(hit ~ effect_num + pve, dscout_df, sum)\n",
    "cs_numsum.summary = aggregate(cs_num ~ effect_num + pve, dscout_df, sum)\n",
    "dscout.summary$fdr = round(1 - hitsum.summary$hit / cs_numsum.summary$cs_num, 4)"
   ]
  },
  {
   "cell_type": "code",
   "execution_count": 6,
   "metadata": {
    "collapsed": true
   },
   "outputs": [],
   "source": [
    "cs_num.summary = aggregate(cs_num ~ effect_num + pve, dscout_df, meannonzero)\n",
    "dscout.summary$cs_num = cs_num.summary$cs_num"
   ]
  },
  {
   "cell_type": "code",
   "execution_count": 7,
   "metadata": {
    "collapsed": true
   },
   "outputs": [],
   "source": [
    "is.nan.data.frame <- function(x)\n",
    "do.call(cbind, lapply(x, is.nan))\n",
    "dscout.summary[is.nan(dscout.summary)] = 0"
   ]
  }
 ],
 "metadata": {
  "kernelspec": {
   "display_name": "R",
   "language": "R",
   "name": "ir"
  },
  "language_info": {
   "codemirror_mode": "r",
   "file_extension": ".r",
   "mimetype": "text/x-r-source",
   "name": "R",
   "pygments_lexer": "r",
   "version": "3.4.3"
  }
 },
 "nbformat": 4,
 "nbformat_minor": 2
}
