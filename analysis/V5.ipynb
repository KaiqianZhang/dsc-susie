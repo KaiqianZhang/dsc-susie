{
 "cells": [
  {
   "cell_type": "markdown",
   "metadata": {},
   "source": [
    "# How does SuSiE perform given T=200 nonzero effects?"
   ]
  },
  {
   "cell_type": "markdown",
   "metadata": {},
   "source": [
    "Assume using prior = 0.2. We investigate SuSiE performance given 200 nonzero effects."
   ]
  },
  {
   "cell_type": "markdown",
   "metadata": {},
   "source": [
    "## Results\n",
    "The SuSiE power is very low when we have 200 nonzero effects. "
   ]
  },
  {
   "cell_type": "code",
   "execution_count": 16,
   "metadata": {},
   "outputs": [
    {
     "data": {
      "text/html": [
       "<table>\n",
       "<thead><tr><th scope=col>effect_num</th><th scope=col>pve</th><th scope=col>mean_corX</th><th scope=col>power</th><th scope=col>fdr</th><th scope=col>cs_size</th><th scope=col>cs_num</th><th scope=col>top_hit_rate</th><th scope=col>avg_purity</th></tr></thead>\n",
       "<tbody>\n",
       "\t<tr><td>200      </td><td>0.01     </td><td>0.1812256</td><td>0.0000   </td><td>0.0000   </td><td>0.000000 </td><td>0.00     </td><td>0.0000   </td><td>0.0000000</td></tr>\n",
       "\t<tr><td>200      </td><td>0.02     </td><td>0.1812256</td><td>0.0001   </td><td>0.5000   </td><td>1.000000 </td><td>0.04     </td><td>0.5000   </td><td>1.0000000</td></tr>\n",
       "\t<tr><td>200      </td><td>0.03     </td><td>0.1812256</td><td>0.0004   </td><td>0.2000   </td><td>1.000000 </td><td>0.10     </td><td>0.8000   </td><td>1.0000000</td></tr>\n",
       "\t<tr><td>200      </td><td>0.05     </td><td>0.1812256</td><td>0.0013   </td><td>0.0714   </td><td>1.000000 </td><td>0.28     </td><td>0.9286   </td><td>1.0000000</td></tr>\n",
       "\t<tr><td>200      </td><td>0.10     </td><td>0.1812256</td><td>0.0038   </td><td>0.0256   </td><td>1.067568 </td><td>0.78     </td><td>0.9231   </td><td>0.9940209</td></tr>\n",
       "\t<tr><td>200      </td><td>0.20     </td><td>0.1812256</td><td>0.0066   </td><td>0.0704   </td><td>1.020833 </td><td>1.42     </td><td>0.9014   </td><td>0.9973199</td></tr>\n",
       "\t<tr><td>200      </td><td>0.40     </td><td>0.1812256</td><td>0.0091   </td><td>0.0714   </td><td>1.030000 </td><td>1.96     </td><td>0.9082   </td><td>0.9987936</td></tr>\n",
       "\t<tr><td>200      </td><td>0.50     </td><td>0.1812256</td><td>0.0101   </td><td>0.0982   </td><td>1.000000 </td><td>2.24     </td><td>0.8839   </td><td>0.9990225</td></tr>\n",
       "\t<tr><td>200      </td><td>0.70     </td><td>0.1812256</td><td>0.0133   </td><td>0.0952   </td><td>1.000000 </td><td>2.94     </td><td>0.8912   </td><td>0.9997994</td></tr>\n",
       "\t<tr><td>200      </td><td>0.90     </td><td>0.1812256</td><td>0.0191   </td><td>0.0991   </td><td>1.000000 </td><td>4.24     </td><td>0.8915   </td><td>0.9974634</td></tr>\n",
       "\t<tr><td>200      </td><td>0.99     </td><td>0.1812256</td><td>0.0358   </td><td>0.1311   </td><td>1.000000 </td><td>8.24     </td><td>0.8689   </td><td>1.0000000</td></tr>\n",
       "</tbody>\n",
       "</table>\n"
      ],
      "text/latex": [
       "\\begin{tabular}{r|lllllllll}\n",
       " effect\\_num & pve & mean\\_corX & power & fdr & cs\\_size & cs\\_num & top\\_hit\\_rate & avg\\_purity\\\\\n",
       "\\hline\n",
       "\t 200       & 0.01      & 0.1812256 & 0.0000    & 0.0000    & 0.000000  & 0.00      & 0.0000    & 0.0000000\\\\\n",
       "\t 200       & 0.02      & 0.1812256 & 0.0001    & 0.5000    & 1.000000  & 0.04      & 0.5000    & 1.0000000\\\\\n",
       "\t 200       & 0.03      & 0.1812256 & 0.0004    & 0.2000    & 1.000000  & 0.10      & 0.8000    & 1.0000000\\\\\n",
       "\t 200       & 0.05      & 0.1812256 & 0.0013    & 0.0714    & 1.000000  & 0.28      & 0.9286    & 1.0000000\\\\\n",
       "\t 200       & 0.10      & 0.1812256 & 0.0038    & 0.0256    & 1.067568  & 0.78      & 0.9231    & 0.9940209\\\\\n",
       "\t 200       & 0.20      & 0.1812256 & 0.0066    & 0.0704    & 1.020833  & 1.42      & 0.9014    & 0.9973199\\\\\n",
       "\t 200       & 0.40      & 0.1812256 & 0.0091    & 0.0714    & 1.030000  & 1.96      & 0.9082    & 0.9987936\\\\\n",
       "\t 200       & 0.50      & 0.1812256 & 0.0101    & 0.0982    & 1.000000  & 2.24      & 0.8839    & 0.9990225\\\\\n",
       "\t 200       & 0.70      & 0.1812256 & 0.0133    & 0.0952    & 1.000000  & 2.94      & 0.8912    & 0.9997994\\\\\n",
       "\t 200       & 0.90      & 0.1812256 & 0.0191    & 0.0991    & 1.000000  & 4.24      & 0.8915    & 0.9974634\\\\\n",
       "\t 200       & 0.99      & 0.1812256 & 0.0358    & 0.1311    & 1.000000  & 8.24      & 0.8689    & 1.0000000\\\\\n",
       "\\end{tabular}\n"
      ],
      "text/markdown": [
       "\n",
       "effect_num | pve | mean_corX | power | fdr | cs_size | cs_num | top_hit_rate | avg_purity | \n",
       "|---|---|---|---|---|---|---|---|---|---|---|\n",
       "| 200       | 0.01      | 0.1812256 | 0.0000    | 0.0000    | 0.000000  | 0.00      | 0.0000    | 0.0000000 | \n",
       "| 200       | 0.02      | 0.1812256 | 0.0001    | 0.5000    | 1.000000  | 0.04      | 0.5000    | 1.0000000 | \n",
       "| 200       | 0.03      | 0.1812256 | 0.0004    | 0.2000    | 1.000000  | 0.10      | 0.8000    | 1.0000000 | \n",
       "| 200       | 0.05      | 0.1812256 | 0.0013    | 0.0714    | 1.000000  | 0.28      | 0.9286    | 1.0000000 | \n",
       "| 200       | 0.10      | 0.1812256 | 0.0038    | 0.0256    | 1.067568  | 0.78      | 0.9231    | 0.9940209 | \n",
       "| 200       | 0.20      | 0.1812256 | 0.0066    | 0.0704    | 1.020833  | 1.42      | 0.9014    | 0.9973199 | \n",
       "| 200       | 0.40      | 0.1812256 | 0.0091    | 0.0714    | 1.030000  | 1.96      | 0.9082    | 0.9987936 | \n",
       "| 200       | 0.50      | 0.1812256 | 0.0101    | 0.0982    | 1.000000  | 2.24      | 0.8839    | 0.9990225 | \n",
       "| 200       | 0.70      | 0.1812256 | 0.0133    | 0.0952    | 1.000000  | 2.94      | 0.8912    | 0.9997994 | \n",
       "| 200       | 0.90      | 0.1812256 | 0.0191    | 0.0991    | 1.000000  | 4.24      | 0.8915    | 0.9974634 | \n",
       "| 200       | 0.99      | 0.1812256 | 0.0358    | 0.1311    | 1.000000  | 8.24      | 0.8689    | 1.0000000 | \n",
       "\n",
       "\n"
      ],
      "text/plain": [
       "   effect_num pve  mean_corX power  fdr    cs_size  cs_num top_hit_rate\n",
       "1  200        0.01 0.1812256 0.0000 0.0000 0.000000 0.00   0.0000      \n",
       "2  200        0.02 0.1812256 0.0001 0.5000 1.000000 0.04   0.5000      \n",
       "3  200        0.03 0.1812256 0.0004 0.2000 1.000000 0.10   0.8000      \n",
       "4  200        0.05 0.1812256 0.0013 0.0714 1.000000 0.28   0.9286      \n",
       "5  200        0.10 0.1812256 0.0038 0.0256 1.067568 0.78   0.9231      \n",
       "6  200        0.20 0.1812256 0.0066 0.0704 1.020833 1.42   0.9014      \n",
       "7  200        0.40 0.1812256 0.0091 0.0714 1.030000 1.96   0.9082      \n",
       "8  200        0.50 0.1812256 0.0101 0.0982 1.000000 2.24   0.8839      \n",
       "9  200        0.70 0.1812256 0.0133 0.0952 1.000000 2.94   0.8912      \n",
       "10 200        0.90 0.1812256 0.0191 0.0991 1.000000 4.24   0.8915      \n",
       "11 200        0.99 0.1812256 0.0358 0.1311 1.000000 8.24   0.8689      \n",
       "   avg_purity\n",
       "1  0.0000000 \n",
       "2  1.0000000 \n",
       "3  1.0000000 \n",
       "4  1.0000000 \n",
       "5  0.9940209 \n",
       "6  0.9973199 \n",
       "7  0.9987936 \n",
       "8  0.9990225 \n",
       "9  0.9997994 \n",
       "10 0.9974634 \n",
       "11 1.0000000 "
      ]
     },
     "metadata": {},
     "output_type": "display_data"
    }
   ],
   "source": [
    "dscout.summary"
   ]
  },
  {
   "cell_type": "markdown",
   "metadata": {},
   "source": [
    "## Code details"
   ]
  },
  {
   "cell_type": "code",
   "execution_count": 11,
   "metadata": {
    "collapsed": true
   },
   "outputs": [],
   "source": [
    "dscout_Q3 = readRDS('dscout_Q3.rds')\n",
    "dscout_Q3 = dscout_Q3[!is.na(dscout_Q3$sim_gaussian_large.output.file),]\n",
    "dscout_Q3 = dscout_Q3[!is.na(dscout_Q3$susie_large.output.file),]"
   ]
  },
  {
   "cell_type": "code",
   "execution_count": 12,
   "metadata": {
    "collapsed": true
   },
   "outputs": [],
   "source": [
    "dscout_df = data.frame(dscout_Q3$sim_gaussian_large.effect_num, dscout_Q3$sim_gaussian_large.pve, \n",
    "                       dscout_Q3$score.hit, dscout_Q3$score.signal_num, dscout_Q3$score.cs_medianSize,\n",
    "                       dscout_Q3$score.top_hit, dscout_Q3$sim_gaussian_large.mean_corX, dscout_Q3$susie_large.avg_purity)\n",
    "names(dscout_df) = c('effect_num', 'pve','hit', 'cs_num', 'cs_size', 'top_hit', 'corX', 'avg_purity')"
   ]
  },
  {
   "cell_type": "code",
   "execution_count": 13,
   "metadata": {
    "collapsed": true
   },
   "outputs": [],
   "source": [
    "power.summary = aggregate(hit ~ effect_num + pve, dscout_df, sum)\n",
    "power.summary$power = power.summary$hit / (power.summary$effect_num*50)\n",
    "fdr.summary = aggregate(cs_num ~ effect_num + pve, dscout_df, sum)\n",
    "fdr.summary$fdr = round(1 - power.summary$hit / fdr.summary$cs_num, 4)\n",
    "meannonzero = function(x){mean(x[x!=0])}\n",
    "setsize.summary = aggregate(cs_size ~ effect_num + pve, dscout_df, meannonzero)\n",
    "tophit.summary = aggregate(top_hit ~ effect_num + pve, dscout_df, sum)\n",
    "tophit.summary$tophit_rate = round(tophit.summary$top_hit / fdr.summary$cs_num , 4)\n",
    "corX.summary = aggregate(corX ~ effect_num + pve, dscout_df, mean)\n",
    "cs_num.summary = aggregate(cs_num ~ effect_num + pve, dscout_df, mean)\n",
    "dscout_df$avg_purity[is.na(dscout_df$avg_purity)]=0\n",
    "purity.summary = aggregate(avg_purity ~ effect_num + pve, dscout_df, meannonzero)"
   ]
  },
  {
   "cell_type": "code",
   "execution_count": 14,
   "metadata": {},
   "outputs": [],
   "source": [
    "dscout.summary = data.frame(power.summary$effect_num, power.summary$pve, corX.summary$corX,\n",
    "                            power.summary$power, fdr.summary$fdr, setsize.summary$cs_size, \n",
    "                            cs_num.summary$cs_num, tophit.summary$tophit_rate, purity.summary$avg_purity)\n",
    "names(dscout.summary) = c('effect_num', 'pve', 'mean_corX','power', \n",
    "                          'fdr', 'cs_size', 'cs_num','top_hit_rate', 'avg_purity')"
   ]
  },
  {
   "cell_type": "code",
   "execution_count": 15,
   "metadata": {
    "collapsed": true
   },
   "outputs": [],
   "source": [
    "is.nan.data.frame <- function(x)\n",
    "do.call(cbind, lapply(x, is.nan))\n",
    "dscout.summary[is.nan(dscout.summary)] = 0"
   ]
  }
 ],
 "metadata": {
  "kernelspec": {
   "display_name": "R",
   "language": "R",
   "name": "ir"
  },
  "language_info": {
   "codemirror_mode": "r",
   "file_extension": ".r",
   "mimetype": "text/x-r-source",
   "name": "R",
   "pygments_lexer": "r",
   "version": "3.4.3"
  }
 },
 "nbformat": 4,
 "nbformat_minor": 2
}
