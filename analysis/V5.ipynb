{
 "cells": [
  {
   "cell_type": "markdown",
   "metadata": {},
   "source": [
    "# How does SuSiE perform given T=200 nonzero effects?"
   ]
  },
  {
   "cell_type": "markdown",
   "metadata": {},
   "source": [
    "Assume using prior = 0.2. The SuSiE power is very low when we have 200 nonzero effects. "
   ]
  },
  {
   "cell_type": "markdown",
   "metadata": {},
   "source": [
    "## Results"
   ]
  },
  {
   "cell_type": "code",
   "execution_count": 16,
   "metadata": {},
   "outputs": [
    {
     "data": {
      "text/html": [
       "<table>\n",
       "<thead><tr><th scope=col>effect_num</th><th scope=col>pve</th><th scope=col>mean_corX</th><th scope=col>power</th><th scope=col>fdr</th><th scope=col>cs_size</th><th scope=col>cs_num</th><th scope=col>top_hit_rate</th></tr></thead>\n",
       "<tbody>\n",
       "\t<tr><td>200      </td><td>0.01     </td><td>0.1347851</td><td>0.0000   </td><td>0.0000   </td><td>0.00     </td><td>0.0      </td><td>0.0000   </td></tr>\n",
       "\t<tr><td>200      </td><td>0.02     </td><td>0.1347851</td><td>0.0000   </td><td>0.0000   </td><td>0.00     </td><td>0.0      </td><td>0.0000   </td></tr>\n",
       "\t<tr><td>200      </td><td>0.03     </td><td>0.1347851</td><td>0.0005   </td><td>0.0000   </td><td>1.00     </td><td>0.1      </td><td>1.0000   </td></tr>\n",
       "\t<tr><td>200      </td><td>0.05     </td><td>0.1347851</td><td>0.0010   </td><td>0.0000   </td><td>1.00     </td><td>0.2      </td><td>1.0000   </td></tr>\n",
       "\t<tr><td>200      </td><td>0.10     </td><td>0.1347851</td><td>0.0040   </td><td>0.0000   </td><td>1.00     </td><td>0.8      </td><td>1.0000   </td></tr>\n",
       "\t<tr><td>200      </td><td>0.20     </td><td>0.1347851</td><td>0.0050   </td><td>0.0909   </td><td>1.00     </td><td>1.1      </td><td>0.9091   </td></tr>\n",
       "\t<tr><td>200      </td><td>0.40     </td><td>0.1347851</td><td>0.0085   </td><td>0.0556   </td><td>1.05     </td><td>1.8      </td><td>0.9444   </td></tr>\n",
       "\t<tr><td>200      </td><td>0.50     </td><td>0.1347851</td><td>0.0090   </td><td>0.1000   </td><td>1.00     </td><td>2.0      </td><td>0.9000   </td></tr>\n",
       "\t<tr><td>200      </td><td>0.70     </td><td>0.1347851</td><td>0.0145   </td><td>0.0645   </td><td>1.00     </td><td>3.1      </td><td>0.9355   </td></tr>\n",
       "\t<tr><td>200      </td><td>0.90     </td><td>0.1347851</td><td>0.0210   </td><td>0.0667   </td><td>1.00     </td><td>4.5      </td><td>0.8889   </td></tr>\n",
       "\t<tr><td>200      </td><td>0.99     </td><td>0.1347851</td><td>0.0325   </td><td>0.1558   </td><td>1.00     </td><td>7.7      </td><td>0.8442   </td></tr>\n",
       "</tbody>\n",
       "</table>\n"
      ],
      "text/latex": [
       "\\begin{tabular}{r|llllllll}\n",
       " effect\\_num & pve & mean\\_corX & power & fdr & cs\\_size & cs\\_num & top\\_hit\\_rate\\\\\n",
       "\\hline\n",
       "\t 200       & 0.01      & 0.1347851 & 0.0000    & 0.0000    & 0.00      & 0.0       & 0.0000   \\\\\n",
       "\t 200       & 0.02      & 0.1347851 & 0.0000    & 0.0000    & 0.00      & 0.0       & 0.0000   \\\\\n",
       "\t 200       & 0.03      & 0.1347851 & 0.0005    & 0.0000    & 1.00      & 0.1       & 1.0000   \\\\\n",
       "\t 200       & 0.05      & 0.1347851 & 0.0010    & 0.0000    & 1.00      & 0.2       & 1.0000   \\\\\n",
       "\t 200       & 0.10      & 0.1347851 & 0.0040    & 0.0000    & 1.00      & 0.8       & 1.0000   \\\\\n",
       "\t 200       & 0.20      & 0.1347851 & 0.0050    & 0.0909    & 1.00      & 1.1       & 0.9091   \\\\\n",
       "\t 200       & 0.40      & 0.1347851 & 0.0085    & 0.0556    & 1.05      & 1.8       & 0.9444   \\\\\n",
       "\t 200       & 0.50      & 0.1347851 & 0.0090    & 0.1000    & 1.00      & 2.0       & 0.9000   \\\\\n",
       "\t 200       & 0.70      & 0.1347851 & 0.0145    & 0.0645    & 1.00      & 3.1       & 0.9355   \\\\\n",
       "\t 200       & 0.90      & 0.1347851 & 0.0210    & 0.0667    & 1.00      & 4.5       & 0.8889   \\\\\n",
       "\t 200       & 0.99      & 0.1347851 & 0.0325    & 0.1558    & 1.00      & 7.7       & 0.8442   \\\\\n",
       "\\end{tabular}\n"
      ],
      "text/markdown": [
       "\n",
       "effect_num | pve | mean_corX | power | fdr | cs_size | cs_num | top_hit_rate | \n",
       "|---|---|---|---|---|---|---|---|---|---|---|\n",
       "| 200       | 0.01      | 0.1347851 | 0.0000    | 0.0000    | 0.00      | 0.0       | 0.0000    | \n",
       "| 200       | 0.02      | 0.1347851 | 0.0000    | 0.0000    | 0.00      | 0.0       | 0.0000    | \n",
       "| 200       | 0.03      | 0.1347851 | 0.0005    | 0.0000    | 1.00      | 0.1       | 1.0000    | \n",
       "| 200       | 0.05      | 0.1347851 | 0.0010    | 0.0000    | 1.00      | 0.2       | 1.0000    | \n",
       "| 200       | 0.10      | 0.1347851 | 0.0040    | 0.0000    | 1.00      | 0.8       | 1.0000    | \n",
       "| 200       | 0.20      | 0.1347851 | 0.0050    | 0.0909    | 1.00      | 1.1       | 0.9091    | \n",
       "| 200       | 0.40      | 0.1347851 | 0.0085    | 0.0556    | 1.05      | 1.8       | 0.9444    | \n",
       "| 200       | 0.50      | 0.1347851 | 0.0090    | 0.1000    | 1.00      | 2.0       | 0.9000    | \n",
       "| 200       | 0.70      | 0.1347851 | 0.0145    | 0.0645    | 1.00      | 3.1       | 0.9355    | \n",
       "| 200       | 0.90      | 0.1347851 | 0.0210    | 0.0667    | 1.00      | 4.5       | 0.8889    | \n",
       "| 200       | 0.99      | 0.1347851 | 0.0325    | 0.1558    | 1.00      | 7.7       | 0.8442    | \n",
       "\n",
       "\n"
      ],
      "text/plain": [
       "   effect_num pve  mean_corX power  fdr    cs_size cs_num top_hit_rate\n",
       "1  200        0.01 0.1347851 0.0000 0.0000 0.00    0.0    0.0000      \n",
       "2  200        0.02 0.1347851 0.0000 0.0000 0.00    0.0    0.0000      \n",
       "3  200        0.03 0.1347851 0.0005 0.0000 1.00    0.1    1.0000      \n",
       "4  200        0.05 0.1347851 0.0010 0.0000 1.00    0.2    1.0000      \n",
       "5  200        0.10 0.1347851 0.0040 0.0000 1.00    0.8    1.0000      \n",
       "6  200        0.20 0.1347851 0.0050 0.0909 1.00    1.1    0.9091      \n",
       "7  200        0.40 0.1347851 0.0085 0.0556 1.05    1.8    0.9444      \n",
       "8  200        0.50 0.1347851 0.0090 0.1000 1.00    2.0    0.9000      \n",
       "9  200        0.70 0.1347851 0.0145 0.0645 1.00    3.1    0.9355      \n",
       "10 200        0.90 0.1347851 0.0210 0.0667 1.00    4.5    0.8889      \n",
       "11 200        0.99 0.1347851 0.0325 0.1558 1.00    7.7    0.8442      "
      ]
     },
     "metadata": {},
     "output_type": "display_data"
    }
   ],
   "source": [
    "dscout.summary"
   ]
  },
  {
   "cell_type": "markdown",
   "metadata": {},
   "source": [
    "## Code details"
   ]
  },
  {
   "cell_type": "code",
   "execution_count": 2,
   "metadata": {},
   "outputs": [],
   "source": [
    "dscout_Q3 = readRDS('dscout_Q3.rds')\n",
    "dscout_Q3 = dscout_Q3[!is.na(dscout_Q3$sim_gaussian_large.output.file),]\n",
    "dscout_Q3 = dscout_Q3[!is.na(dscout_Q3$susie_large.output.file),]"
   ]
  },
  {
   "cell_type": "code",
   "execution_count": 10,
   "metadata": {},
   "outputs": [],
   "source": [
    "dscout_df = data.frame(dscout_Q3$sim_gaussian_large.effect_num, dscout_Q3$sim_gaussian_large.pve, \n",
    "                       dscout_Q3$score.hit, dscout_Q3$score.signal_num, dscout_Q3$score.cs_medianSize,\n",
    "                       dscout_Q3$score.top_hit, dscout_Q3$sim_gaussian_large.mean_corX, dscout_Q3$susie_large.avg_purity)\n",
    "names(dscout_df) = c('effect_num', 'pve','hit', 'cs_num', 'cs_size', 'top_hit', 'corX', 'avg_purity')"
   ]
  },
  {
   "cell_type": "code",
   "execution_count": 12,
   "metadata": {},
   "outputs": [],
   "source": [
    "power.summary = aggregate(hit ~ effect_num + pve, dscout_df, sum)\n",
    "power.summary$power = power.summary$hit / (power.summary$effect_num*10)\n",
    "fdr.summary = aggregate(cs_num ~ effect_num + pve, dscout_df, sum)\n",
    "fdr.summary$fdr = round(1 - power.summary$hit / fdr.summary$cs_num, 4)\n",
    "meannonzero = function(x){mean(x[x!=0])}\n",
    "setsize.summary = aggregate(cs_size ~ effect_num + pve, dscout_df, meannonzero)\n",
    "tophit.summary = aggregate(top_hit ~ effect_num + pve, dscout_df, sum)\n",
    "tophit.summary$tophit_rate = round(tophit.summary$top_hit / fdr.summary$cs_num , 4)\n",
    "corX.summary = aggregate(corX ~ effect_num + pve, dscout_df, mean)\n",
    "cs_num.summary = aggregate(cs_num ~ effect_num + pve, dscout_df, mean)"
   ]
  },
  {
   "cell_type": "code",
   "execution_count": 13,
   "metadata": {
    "collapsed": true
   },
   "outputs": [],
   "source": [
    "dscout.summary = data.frame(power.summary$effect_num, power.summary$pve, corX.summary$corX,\n",
    "                            power.summary$power, fdr.summary$fdr, setsize.summary$cs_size, \n",
    "                            cs_num.summary$cs_num, tophit.summary$tophit_rate)\n",
    "names(dscout.summary) = c('effect_num', 'pve', 'mean_corX','power', \n",
    "                          'fdr', 'cs_size', 'cs_num','top_hit_rate')"
   ]
  },
  {
   "cell_type": "code",
   "execution_count": 15,
   "metadata": {},
   "outputs": [],
   "source": [
    "is.nan.data.frame <- function(x)\n",
    "do.call(cbind, lapply(x, is.nan))\n",
    "dscout.summary[is.nan(dscout.summary)] = 0"
   ]
  }
 ],
 "metadata": {
  "kernelspec": {
   "display_name": "R",
   "language": "R",
   "name": "ir"
  },
  "language_info": {
   "codemirror_mode": "r",
   "file_extension": ".r",
   "mimetype": "text/x-r-source",
   "name": "R",
   "pygments_lexer": "r",
   "version": "3.4.3"
  }
 },
 "nbformat": 4,
 "nbformat_minor": 2
}
