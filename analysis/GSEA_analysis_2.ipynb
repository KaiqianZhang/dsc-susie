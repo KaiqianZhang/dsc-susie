{
 "cells": [
  {
   "cell_type": "markdown",
   "metadata": {},
   "source": [
    "# How is power for different numbers of non-zero effects?"
   ]
  },
  {
   "cell_type": "markdown",
   "metadata": {},
   "source": [
    "Since simulated effects have certain correlation, we provide `mean_corX` to quantify such correlation. Assume prior is 0.2. For each fixed number of non-zero effects $T \\in \\{2,3,5,10,20\\}$, we investigate SuSiE power as PVE changes. "
   ]
  },
  {
   "cell_type": "markdown",
   "metadata": {},
   "source": [
    "## Results\n",
    "\n",
    "**- Summary: Correlations in the GSEA are similar to that in the single cell data. SuSiE power decreases and FDR increases given more non-zero effects, despite of correlations among columns of X.**\n",
    "\n",
    "\n",
    "* As the number of effects increases, it becomes more difficult to achieve high power even if PVE is large.\n",
    "\n",
    "* `mean_corX` does not seem to be a factor that causes a change in power. A decline in power is directly related to an increased number of non-zero effects. \n",
    "\n",
    "* Furthermore, FDR also becomes larger when we have more number of non-zero effects."
   ]
  },
  {
   "cell_type": "code",
   "execution_count": 8,
   "metadata": {},
   "outputs": [
    {
     "data": {
      "text/html": [
       "<table>\n",
       "<thead><tr><th></th><th scope=col>effect_num</th><th scope=col>pve</th><th scope=col>mean_corX</th><th scope=col>power</th><th scope=col>fdr</th><th scope=col>cs_num</th></tr></thead>\n",
       "<tbody>\n",
       "\t<tr><th scope=row>2</th><td>2         </td><td>0.01      </td><td>0.01603345</td><td>0.03      </td><td>0.0000    </td><td>1.000000  </td></tr>\n",
       "\t<tr><th scope=row>8</th><td>2         </td><td>0.02      </td><td>0.01603345</td><td>0.17      </td><td>0.0000    </td><td>1.000000  </td></tr>\n",
       "\t<tr><th scope=row>14</th><td>2         </td><td>0.03      </td><td>0.01603345</td><td>0.33      </td><td>0.0000    </td><td>1.137931  </td></tr>\n",
       "\t<tr><th scope=row>20</th><td>2         </td><td>0.05      </td><td>0.01603345</td><td>0.50      </td><td>0.0385    </td><td>1.181818  </td></tr>\n",
       "\t<tr><th scope=row>26</th><td>2         </td><td>0.10      </td><td>0.01603345</td><td>0.62      </td><td>0.0312    </td><td>1.333333  </td></tr>\n",
       "\t<tr><th scope=row>32</th><td>2         </td><td>0.20      </td><td>0.01603345</td><td>0.69      </td><td>0.0000    </td><td>1.408163  </td></tr>\n",
       "\t<tr><th scope=row>38</th><td>2         </td><td>0.40      </td><td>0.01603345</td><td>0.77      </td><td>0.0000    </td><td>1.571429  </td></tr>\n",
       "\t<tr><th scope=row>44</th><td>2         </td><td>0.50      </td><td>0.01603345</td><td>0.78      </td><td>0.0000    </td><td>1.591837  </td></tr>\n",
       "\t<tr><th scope=row>50</th><td>2         </td><td>0.70      </td><td>0.01603345</td><td>0.80      </td><td>0.0000    </td><td>1.632653  </td></tr>\n",
       "\t<tr><th scope=row>56</th><td>2         </td><td>0.90      </td><td>0.01603345</td><td>0.89      </td><td>0.0000    </td><td>1.780000  </td></tr>\n",
       "\t<tr><th scope=row>62</th><td>2         </td><td>0.99      </td><td>0.01603345</td><td>0.90      </td><td>0.0000    </td><td>1.800000  </td></tr>\n",
       "</tbody>\n",
       "</table>\n"
      ],
      "text/latex": [
       "\\begin{tabular}{r|llllll}\n",
       "  & effect\\_num & pve & mean\\_corX & power & fdr & cs\\_num\\\\\n",
       "\\hline\n",
       "\t2 & 2          & 0.01       & 0.01603345 & 0.03       & 0.0000     & 1.000000  \\\\\n",
       "\t8 & 2          & 0.02       & 0.01603345 & 0.17       & 0.0000     & 1.000000  \\\\\n",
       "\t14 & 2          & 0.03       & 0.01603345 & 0.33       & 0.0000     & 1.137931  \\\\\n",
       "\t20 & 2          & 0.05       & 0.01603345 & 0.50       & 0.0385     & 1.181818  \\\\\n",
       "\t26 & 2          & 0.10       & 0.01603345 & 0.62       & 0.0312     & 1.333333  \\\\\n",
       "\t32 & 2          & 0.20       & 0.01603345 & 0.69       & 0.0000     & 1.408163  \\\\\n",
       "\t38 & 2          & 0.40       & 0.01603345 & 0.77       & 0.0000     & 1.571429  \\\\\n",
       "\t44 & 2          & 0.50       & 0.01603345 & 0.78       & 0.0000     & 1.591837  \\\\\n",
       "\t50 & 2          & 0.70       & 0.01603345 & 0.80       & 0.0000     & 1.632653  \\\\\n",
       "\t56 & 2          & 0.90       & 0.01603345 & 0.89       & 0.0000     & 1.780000  \\\\\n",
       "\t62 & 2          & 0.99       & 0.01603345 & 0.90       & 0.0000     & 1.800000  \\\\\n",
       "\\end{tabular}\n"
      ],
      "text/markdown": [
       "\n",
       "| <!--/--> | effect_num | pve | mean_corX | power | fdr | cs_num | \n",
       "|---|---|---|---|---|---|---|---|---|---|---|\n",
       "| 2 | 2          | 0.01       | 0.01603345 | 0.03       | 0.0000     | 1.000000   | \n",
       "| 8 | 2          | 0.02       | 0.01603345 | 0.17       | 0.0000     | 1.000000   | \n",
       "| 14 | 2          | 0.03       | 0.01603345 | 0.33       | 0.0000     | 1.137931   | \n",
       "| 20 | 2          | 0.05       | 0.01603345 | 0.50       | 0.0385     | 1.181818   | \n",
       "| 26 | 2          | 0.10       | 0.01603345 | 0.62       | 0.0312     | 1.333333   | \n",
       "| 32 | 2          | 0.20       | 0.01603345 | 0.69       | 0.0000     | 1.408163   | \n",
       "| 38 | 2          | 0.40       | 0.01603345 | 0.77       | 0.0000     | 1.571429   | \n",
       "| 44 | 2          | 0.50       | 0.01603345 | 0.78       | 0.0000     | 1.591837   | \n",
       "| 50 | 2          | 0.70       | 0.01603345 | 0.80       | 0.0000     | 1.632653   | \n",
       "| 56 | 2          | 0.90       | 0.01603345 | 0.89       | 0.0000     | 1.780000   | \n",
       "| 62 | 2          | 0.99       | 0.01603345 | 0.90       | 0.0000     | 1.800000   | \n",
       "\n",
       "\n"
      ],
      "text/plain": [
       "   effect_num pve  mean_corX  power fdr    cs_num  \n",
       "2  2          0.01 0.01603345 0.03  0.0000 1.000000\n",
       "8  2          0.02 0.01603345 0.17  0.0000 1.000000\n",
       "14 2          0.03 0.01603345 0.33  0.0000 1.137931\n",
       "20 2          0.05 0.01603345 0.50  0.0385 1.181818\n",
       "26 2          0.10 0.01603345 0.62  0.0312 1.333333\n",
       "32 2          0.20 0.01603345 0.69  0.0000 1.408163\n",
       "38 2          0.40 0.01603345 0.77  0.0000 1.571429\n",
       "44 2          0.50 0.01603345 0.78  0.0000 1.591837\n",
       "50 2          0.70 0.01603345 0.80  0.0000 1.632653\n",
       "56 2          0.90 0.01603345 0.89  0.0000 1.780000\n",
       "62 2          0.99 0.01603345 0.90  0.0000 1.800000"
      ]
     },
     "metadata": {},
     "output_type": "display_data"
    }
   ],
   "source": [
    "dscout.summary[dscout.summary$effect_num==2,]"
   ]
  },
  {
   "cell_type": "code",
   "execution_count": 9,
   "metadata": {},
   "outputs": [
    {
     "data": {
      "text/html": [
       "<table>\n",
       "<thead><tr><th></th><th scope=col>effect_num</th><th scope=col>pve</th><th scope=col>mean_corX</th><th scope=col>power</th><th scope=col>fdr</th><th scope=col>cs_num</th></tr></thead>\n",
       "<tbody>\n",
       "\t<tr><th scope=row>3</th><td>3        </td><td>0.01     </td><td>0.0265014</td><td>0.0133   </td><td>0.5000   </td><td>1.000000 </td></tr>\n",
       "\t<tr><th scope=row>9</th><td>3        </td><td>0.02     </td><td>0.0265014</td><td>0.0733   </td><td>0.1538   </td><td>1.000000 </td></tr>\n",
       "\t<tr><th scope=row>15</th><td>3        </td><td>0.03     </td><td>0.0265014</td><td>0.1800   </td><td>0.1290   </td><td>1.033333 </td></tr>\n",
       "\t<tr><th scope=row>21</th><td>3        </td><td>0.05     </td><td>0.0265014</td><td>0.3333   </td><td>0.0741   </td><td>1.173913 </td></tr>\n",
       "\t<tr><th scope=row>27</th><td>3        </td><td>0.10     </td><td>0.0265014</td><td>0.4867   </td><td>0.0267   </td><td>1.500000 </td></tr>\n",
       "\t<tr><th scope=row>33</th><td>3        </td><td>0.20     </td><td>0.0265014</td><td>0.5867   </td><td>0.0330   </td><td>1.820000 </td></tr>\n",
       "\t<tr><th scope=row>39</th><td>3        </td><td>0.40     </td><td>0.0265014</td><td>0.7200   </td><td>0.0182   </td><td>2.200000 </td></tr>\n",
       "\t<tr><th scope=row>45</th><td>3        </td><td>0.50     </td><td>0.0265014</td><td>0.7600   </td><td>0.0000   </td><td>2.280000 </td></tr>\n",
       "\t<tr><th scope=row>51</th><td>3        </td><td>0.70     </td><td>0.0265014</td><td>0.8200   </td><td>0.0000   </td><td>2.460000 </td></tr>\n",
       "\t<tr><th scope=row>57</th><td>3        </td><td>0.90     </td><td>0.0265014</td><td>0.8467   </td><td>0.0155   </td><td>2.580000 </td></tr>\n",
       "\t<tr><th scope=row>63</th><td>3        </td><td>0.99     </td><td>0.0265014</td><td>0.9000   </td><td>0.0146   </td><td>2.740000 </td></tr>\n",
       "</tbody>\n",
       "</table>\n"
      ],
      "text/latex": [
       "\\begin{tabular}{r|llllll}\n",
       "  & effect\\_num & pve & mean\\_corX & power & fdr & cs\\_num\\\\\n",
       "\\hline\n",
       "\t3 & 3         & 0.01      & 0.0265014 & 0.0133    & 0.5000    & 1.000000 \\\\\n",
       "\t9 & 3         & 0.02      & 0.0265014 & 0.0733    & 0.1538    & 1.000000 \\\\\n",
       "\t15 & 3         & 0.03      & 0.0265014 & 0.1800    & 0.1290    & 1.033333 \\\\\n",
       "\t21 & 3         & 0.05      & 0.0265014 & 0.3333    & 0.0741    & 1.173913 \\\\\n",
       "\t27 & 3         & 0.10      & 0.0265014 & 0.4867    & 0.0267    & 1.500000 \\\\\n",
       "\t33 & 3         & 0.20      & 0.0265014 & 0.5867    & 0.0330    & 1.820000 \\\\\n",
       "\t39 & 3         & 0.40      & 0.0265014 & 0.7200    & 0.0182    & 2.200000 \\\\\n",
       "\t45 & 3         & 0.50      & 0.0265014 & 0.7600    & 0.0000    & 2.280000 \\\\\n",
       "\t51 & 3         & 0.70      & 0.0265014 & 0.8200    & 0.0000    & 2.460000 \\\\\n",
       "\t57 & 3         & 0.90      & 0.0265014 & 0.8467    & 0.0155    & 2.580000 \\\\\n",
       "\t63 & 3         & 0.99      & 0.0265014 & 0.9000    & 0.0146    & 2.740000 \\\\\n",
       "\\end{tabular}\n"
      ],
      "text/markdown": [
       "\n",
       "| <!--/--> | effect_num | pve | mean_corX | power | fdr | cs_num | \n",
       "|---|---|---|---|---|---|---|---|---|---|---|\n",
       "| 3 | 3         | 0.01      | 0.0265014 | 0.0133    | 0.5000    | 1.000000  | \n",
       "| 9 | 3         | 0.02      | 0.0265014 | 0.0733    | 0.1538    | 1.000000  | \n",
       "| 15 | 3         | 0.03      | 0.0265014 | 0.1800    | 0.1290    | 1.033333  | \n",
       "| 21 | 3         | 0.05      | 0.0265014 | 0.3333    | 0.0741    | 1.173913  | \n",
       "| 27 | 3         | 0.10      | 0.0265014 | 0.4867    | 0.0267    | 1.500000  | \n",
       "| 33 | 3         | 0.20      | 0.0265014 | 0.5867    | 0.0330    | 1.820000  | \n",
       "| 39 | 3         | 0.40      | 0.0265014 | 0.7200    | 0.0182    | 2.200000  | \n",
       "| 45 | 3         | 0.50      | 0.0265014 | 0.7600    | 0.0000    | 2.280000  | \n",
       "| 51 | 3         | 0.70      | 0.0265014 | 0.8200    | 0.0000    | 2.460000  | \n",
       "| 57 | 3         | 0.90      | 0.0265014 | 0.8467    | 0.0155    | 2.580000  | \n",
       "| 63 | 3         | 0.99      | 0.0265014 | 0.9000    | 0.0146    | 2.740000  | \n",
       "\n",
       "\n"
      ],
      "text/plain": [
       "   effect_num pve  mean_corX power  fdr    cs_num  \n",
       "3  3          0.01 0.0265014 0.0133 0.5000 1.000000\n",
       "9  3          0.02 0.0265014 0.0733 0.1538 1.000000\n",
       "15 3          0.03 0.0265014 0.1800 0.1290 1.033333\n",
       "21 3          0.05 0.0265014 0.3333 0.0741 1.173913\n",
       "27 3          0.10 0.0265014 0.4867 0.0267 1.500000\n",
       "33 3          0.20 0.0265014 0.5867 0.0330 1.820000\n",
       "39 3          0.40 0.0265014 0.7200 0.0182 2.200000\n",
       "45 3          0.50 0.0265014 0.7600 0.0000 2.280000\n",
       "51 3          0.70 0.0265014 0.8200 0.0000 2.460000\n",
       "57 3          0.90 0.0265014 0.8467 0.0155 2.580000\n",
       "63 3          0.99 0.0265014 0.9000 0.0146 2.740000"
      ]
     },
     "metadata": {},
     "output_type": "display_data"
    }
   ],
   "source": [
    "dscout.summary[dscout.summary$effect_num==3,]"
   ]
  },
  {
   "cell_type": "code",
   "execution_count": 10,
   "metadata": {},
   "outputs": [
    {
     "data": {
      "text/html": [
       "<table>\n",
       "<thead><tr><th></th><th scope=col>effect_num</th><th scope=col>pve</th><th scope=col>mean_corX</th><th scope=col>power</th><th scope=col>fdr</th><th scope=col>cs_num</th></tr></thead>\n",
       "<tbody>\n",
       "\t<tr><th scope=row>4</th><td>5        </td><td>0.01     </td><td>0.0230124</td><td>0.008    </td><td>0.0000   </td><td>1.000000 </td></tr>\n",
       "\t<tr><th scope=row>10</th><td>5        </td><td>0.02     </td><td>0.0230124</td><td>0.064    </td><td>0.1111   </td><td>1.000000 </td></tr>\n",
       "\t<tr><th scope=row>16</th><td>5        </td><td>0.03     </td><td>0.0230124</td><td>0.084    </td><td>0.0870   </td><td>1.045455 </td></tr>\n",
       "\t<tr><th scope=row>22</th><td>5        </td><td>0.05     </td><td>0.0230124</td><td>0.188    </td><td>0.0408   </td><td>1.225000 </td></tr>\n",
       "\t<tr><th scope=row>28</th><td>5        </td><td>0.10     </td><td>0.0230124</td><td>0.356    </td><td>0.0632   </td><td>1.900000 </td></tr>\n",
       "\t<tr><th scope=row>34</th><td>5        </td><td>0.20     </td><td>0.0230124</td><td>0.532    </td><td>0.0432   </td><td>2.780000 </td></tr>\n",
       "\t<tr><th scope=row>40</th><td>5        </td><td>0.40     </td><td>0.0230124</td><td>0.596    </td><td>0.0745   </td><td>3.220000 </td></tr>\n",
       "\t<tr><th scope=row>46</th><td>5        </td><td>0.50     </td><td>0.0230124</td><td>0.656    </td><td>0.0838   </td><td>3.580000 </td></tr>\n",
       "\t<tr><th scope=row>52</th><td>5        </td><td>0.70     </td><td>0.0230124</td><td>0.736    </td><td>0.0366   </td><td>3.820000 </td></tr>\n",
       "\t<tr><th scope=row>58</th><td>5        </td><td>0.90     </td><td>0.0230124</td><td>0.844    </td><td>0.0365   </td><td>4.380000 </td></tr>\n",
       "\t<tr><th scope=row>64</th><td>5        </td><td>0.99     </td><td>0.0230124</td><td>0.888    </td><td>0.0826   </td><td>4.840000 </td></tr>\n",
       "</tbody>\n",
       "</table>\n"
      ],
      "text/latex": [
       "\\begin{tabular}{r|llllll}\n",
       "  & effect\\_num & pve & mean\\_corX & power & fdr & cs\\_num\\\\\n",
       "\\hline\n",
       "\t4 & 5         & 0.01      & 0.0230124 & 0.008     & 0.0000    & 1.000000 \\\\\n",
       "\t10 & 5         & 0.02      & 0.0230124 & 0.064     & 0.1111    & 1.000000 \\\\\n",
       "\t16 & 5         & 0.03      & 0.0230124 & 0.084     & 0.0870    & 1.045455 \\\\\n",
       "\t22 & 5         & 0.05      & 0.0230124 & 0.188     & 0.0408    & 1.225000 \\\\\n",
       "\t28 & 5         & 0.10      & 0.0230124 & 0.356     & 0.0632    & 1.900000 \\\\\n",
       "\t34 & 5         & 0.20      & 0.0230124 & 0.532     & 0.0432    & 2.780000 \\\\\n",
       "\t40 & 5         & 0.40      & 0.0230124 & 0.596     & 0.0745    & 3.220000 \\\\\n",
       "\t46 & 5         & 0.50      & 0.0230124 & 0.656     & 0.0838    & 3.580000 \\\\\n",
       "\t52 & 5         & 0.70      & 0.0230124 & 0.736     & 0.0366    & 3.820000 \\\\\n",
       "\t58 & 5         & 0.90      & 0.0230124 & 0.844     & 0.0365    & 4.380000 \\\\\n",
       "\t64 & 5         & 0.99      & 0.0230124 & 0.888     & 0.0826    & 4.840000 \\\\\n",
       "\\end{tabular}\n"
      ],
      "text/markdown": [
       "\n",
       "| <!--/--> | effect_num | pve | mean_corX | power | fdr | cs_num | \n",
       "|---|---|---|---|---|---|---|---|---|---|---|\n",
       "| 4 | 5         | 0.01      | 0.0230124 | 0.008     | 0.0000    | 1.000000  | \n",
       "| 10 | 5         | 0.02      | 0.0230124 | 0.064     | 0.1111    | 1.000000  | \n",
       "| 16 | 5         | 0.03      | 0.0230124 | 0.084     | 0.0870    | 1.045455  | \n",
       "| 22 | 5         | 0.05      | 0.0230124 | 0.188     | 0.0408    | 1.225000  | \n",
       "| 28 | 5         | 0.10      | 0.0230124 | 0.356     | 0.0632    | 1.900000  | \n",
       "| 34 | 5         | 0.20      | 0.0230124 | 0.532     | 0.0432    | 2.780000  | \n",
       "| 40 | 5         | 0.40      | 0.0230124 | 0.596     | 0.0745    | 3.220000  | \n",
       "| 46 | 5         | 0.50      | 0.0230124 | 0.656     | 0.0838    | 3.580000  | \n",
       "| 52 | 5         | 0.70      | 0.0230124 | 0.736     | 0.0366    | 3.820000  | \n",
       "| 58 | 5         | 0.90      | 0.0230124 | 0.844     | 0.0365    | 4.380000  | \n",
       "| 64 | 5         | 0.99      | 0.0230124 | 0.888     | 0.0826    | 4.840000  | \n",
       "\n",
       "\n"
      ],
      "text/plain": [
       "   effect_num pve  mean_corX power fdr    cs_num  \n",
       "4  5          0.01 0.0230124 0.008 0.0000 1.000000\n",
       "10 5          0.02 0.0230124 0.064 0.1111 1.000000\n",
       "16 5          0.03 0.0230124 0.084 0.0870 1.045455\n",
       "22 5          0.05 0.0230124 0.188 0.0408 1.225000\n",
       "28 5          0.10 0.0230124 0.356 0.0632 1.900000\n",
       "34 5          0.20 0.0230124 0.532 0.0432 2.780000\n",
       "40 5          0.40 0.0230124 0.596 0.0745 3.220000\n",
       "46 5          0.50 0.0230124 0.656 0.0838 3.580000\n",
       "52 5          0.70 0.0230124 0.736 0.0366 3.820000\n",
       "58 5          0.90 0.0230124 0.844 0.0365 4.380000\n",
       "64 5          0.99 0.0230124 0.888 0.0826 4.840000"
      ]
     },
     "metadata": {},
     "output_type": "display_data"
    }
   ],
   "source": [
    "dscout.summary[dscout.summary$effect_num==5,]"
   ]
  },
  {
   "cell_type": "code",
   "execution_count": 11,
   "metadata": {},
   "outputs": [
    {
     "data": {
      "text/html": [
       "<table>\n",
       "<thead><tr><th></th><th scope=col>effect_num</th><th scope=col>pve</th><th scope=col>mean_corX</th><th scope=col>power</th><th scope=col>fdr</th><th scope=col>cs_num</th></tr></thead>\n",
       "<tbody>\n",
       "\t<tr><th scope=row>5</th><td>10        </td><td>0.01      </td><td>0.02950683</td><td>0.006     </td><td>0.2500    </td><td>1.000000  </td></tr>\n",
       "\t<tr><th scope=row>11</th><td>10        </td><td>0.02      </td><td>0.02950683</td><td>0.020     </td><td>0.0909    </td><td>1.000000  </td></tr>\n",
       "\t<tr><th scope=row>17</th><td>10        </td><td>0.03      </td><td>0.02950683</td><td>0.042     </td><td>0.1250    </td><td>1.000000  </td></tr>\n",
       "\t<tr><th scope=row>23</th><td>10        </td><td>0.05      </td><td>0.02950683</td><td>0.080     </td><td>0.1111    </td><td>1.153846  </td></tr>\n",
       "\t<tr><th scope=row>29</th><td>10        </td><td>0.10      </td><td>0.02950683</td><td>0.158     </td><td>0.0814    </td><td>1.755102  </td></tr>\n",
       "\t<tr><th scope=row>35</th><td>10        </td><td>0.20      </td><td>0.02950683</td><td>0.254     </td><td>0.0593    </td><td>2.700000  </td></tr>\n",
       "\t<tr><th scope=row>41</th><td>10        </td><td>0.40      </td><td>0.02950683</td><td>0.386     </td><td>0.0721    </td><td>4.160000  </td></tr>\n",
       "\t<tr><th scope=row>47</th><td>10        </td><td>0.50      </td><td>0.02950683</td><td>0.434     </td><td>0.0921    </td><td>4.780000  </td></tr>\n",
       "\t<tr><th scope=row>53</th><td>10        </td><td>0.70      </td><td>0.02950683</td><td>0.552     </td><td>0.0738    </td><td>5.960000  </td></tr>\n",
       "\t<tr><th scope=row>59</th><td>10        </td><td>0.90      </td><td>0.02950683</td><td>0.686     </td><td>0.0926    </td><td>7.560000  </td></tr>\n",
       "\t<tr><th scope=row>65</th><td>10        </td><td>0.99      </td><td>0.02950683</td><td>0.780     </td><td>0.1116    </td><td>8.780000  </td></tr>\n",
       "</tbody>\n",
       "</table>\n"
      ],
      "text/latex": [
       "\\begin{tabular}{r|llllll}\n",
       "  & effect\\_num & pve & mean\\_corX & power & fdr & cs\\_num\\\\\n",
       "\\hline\n",
       "\t5 & 10         & 0.01       & 0.02950683 & 0.006      & 0.2500     & 1.000000  \\\\\n",
       "\t11 & 10         & 0.02       & 0.02950683 & 0.020      & 0.0909     & 1.000000  \\\\\n",
       "\t17 & 10         & 0.03       & 0.02950683 & 0.042      & 0.1250     & 1.000000  \\\\\n",
       "\t23 & 10         & 0.05       & 0.02950683 & 0.080      & 0.1111     & 1.153846  \\\\\n",
       "\t29 & 10         & 0.10       & 0.02950683 & 0.158      & 0.0814     & 1.755102  \\\\\n",
       "\t35 & 10         & 0.20       & 0.02950683 & 0.254      & 0.0593     & 2.700000  \\\\\n",
       "\t41 & 10         & 0.40       & 0.02950683 & 0.386      & 0.0721     & 4.160000  \\\\\n",
       "\t47 & 10         & 0.50       & 0.02950683 & 0.434      & 0.0921     & 4.780000  \\\\\n",
       "\t53 & 10         & 0.70       & 0.02950683 & 0.552      & 0.0738     & 5.960000  \\\\\n",
       "\t59 & 10         & 0.90       & 0.02950683 & 0.686      & 0.0926     & 7.560000  \\\\\n",
       "\t65 & 10         & 0.99       & 0.02950683 & 0.780      & 0.1116     & 8.780000  \\\\\n",
       "\\end{tabular}\n"
      ],
      "text/markdown": [
       "\n",
       "| <!--/--> | effect_num | pve | mean_corX | power | fdr | cs_num | \n",
       "|---|---|---|---|---|---|---|---|---|---|---|\n",
       "| 5 | 10         | 0.01       | 0.02950683 | 0.006      | 0.2500     | 1.000000   | \n",
       "| 11 | 10         | 0.02       | 0.02950683 | 0.020      | 0.0909     | 1.000000   | \n",
       "| 17 | 10         | 0.03       | 0.02950683 | 0.042      | 0.1250     | 1.000000   | \n",
       "| 23 | 10         | 0.05       | 0.02950683 | 0.080      | 0.1111     | 1.153846   | \n",
       "| 29 | 10         | 0.10       | 0.02950683 | 0.158      | 0.0814     | 1.755102   | \n",
       "| 35 | 10         | 0.20       | 0.02950683 | 0.254      | 0.0593     | 2.700000   | \n",
       "| 41 | 10         | 0.40       | 0.02950683 | 0.386      | 0.0721     | 4.160000   | \n",
       "| 47 | 10         | 0.50       | 0.02950683 | 0.434      | 0.0921     | 4.780000   | \n",
       "| 53 | 10         | 0.70       | 0.02950683 | 0.552      | 0.0738     | 5.960000   | \n",
       "| 59 | 10         | 0.90       | 0.02950683 | 0.686      | 0.0926     | 7.560000   | \n",
       "| 65 | 10         | 0.99       | 0.02950683 | 0.780      | 0.1116     | 8.780000   | \n",
       "\n",
       "\n"
      ],
      "text/plain": [
       "   effect_num pve  mean_corX  power fdr    cs_num  \n",
       "5  10         0.01 0.02950683 0.006 0.2500 1.000000\n",
       "11 10         0.02 0.02950683 0.020 0.0909 1.000000\n",
       "17 10         0.03 0.02950683 0.042 0.1250 1.000000\n",
       "23 10         0.05 0.02950683 0.080 0.1111 1.153846\n",
       "29 10         0.10 0.02950683 0.158 0.0814 1.755102\n",
       "35 10         0.20 0.02950683 0.254 0.0593 2.700000\n",
       "41 10         0.40 0.02950683 0.386 0.0721 4.160000\n",
       "47 10         0.50 0.02950683 0.434 0.0921 4.780000\n",
       "53 10         0.70 0.02950683 0.552 0.0738 5.960000\n",
       "59 10         0.90 0.02950683 0.686 0.0926 7.560000\n",
       "65 10         0.99 0.02950683 0.780 0.1116 8.780000"
      ]
     },
     "metadata": {},
     "output_type": "display_data"
    }
   ],
   "source": [
    "dscout.summary[dscout.summary$effect_num==10,]"
   ]
  },
  {
   "cell_type": "code",
   "execution_count": 12,
   "metadata": {},
   "outputs": [
    {
     "data": {
      "text/html": [
       "<table>\n",
       "<thead><tr><th></th><th scope=col>effect_num</th><th scope=col>pve</th><th scope=col>mean_corX</th><th scope=col>power</th><th scope=col>fdr</th><th scope=col>cs_num</th></tr></thead>\n",
       "<tbody>\n",
       "\t<tr><th scope=row>6</th><td>20        </td><td>0.01      </td><td>0.02397695</td><td>0.001     </td><td>0.0000    </td><td> 1.000000 </td></tr>\n",
       "\t<tr><th scope=row>12</th><td>20        </td><td>0.02      </td><td>0.02397695</td><td>0.003     </td><td>0.0000    </td><td> 1.000000 </td></tr>\n",
       "\t<tr><th scope=row>18</th><td>20        </td><td>0.03      </td><td>0.02397695</td><td>0.009     </td><td>0.1000    </td><td> 1.000000 </td></tr>\n",
       "\t<tr><th scope=row>24</th><td>20        </td><td>0.05      </td><td>0.02397695</td><td>0.026     </td><td>0.0370    </td><td> 1.125000 </td></tr>\n",
       "\t<tr><th scope=row>30</th><td>20        </td><td>0.10      </td><td>0.02397695</td><td>0.076     </td><td>0.0380    </td><td> 1.612245 </td></tr>\n",
       "\t<tr><th scope=row>36</th><td>20        </td><td>0.20      </td><td>0.02397695</td><td>0.158     </td><td>0.0482    </td><td> 3.320000 </td></tr>\n",
       "\t<tr><th scope=row>42</th><td>20        </td><td>0.40      </td><td>0.02397695</td><td>0.263     </td><td>0.0772    </td><td> 5.700000 </td></tr>\n",
       "\t<tr><th scope=row>48</th><td>20        </td><td>0.50      </td><td>0.02397695</td><td>0.303     </td><td>0.0901    </td><td> 6.660000 </td></tr>\n",
       "\t<tr><th scope=row>54</th><td>20        </td><td>0.70      </td><td>0.02397695</td><td>0.427     </td><td>0.1011    </td><td> 9.500000 </td></tr>\n",
       "\t<tr><th scope=row>60</th><td>20        </td><td>0.90      </td><td>0.02397695</td><td>0.582     </td><td>0.1168    </td><td>13.180000 </td></tr>\n",
       "\t<tr><th scope=row>66</th><td>20        </td><td>0.99      </td><td>0.02397695</td><td>0.736     </td><td>0.1481    </td><td>17.280000 </td></tr>\n",
       "</tbody>\n",
       "</table>\n"
      ],
      "text/latex": [
       "\\begin{tabular}{r|llllll}\n",
       "  & effect\\_num & pve & mean\\_corX & power & fdr & cs\\_num\\\\\n",
       "\\hline\n",
       "\t6 & 20         & 0.01       & 0.02397695 & 0.001      & 0.0000     &  1.000000 \\\\\n",
       "\t12 & 20         & 0.02       & 0.02397695 & 0.003      & 0.0000     &  1.000000 \\\\\n",
       "\t18 & 20         & 0.03       & 0.02397695 & 0.009      & 0.1000     &  1.000000 \\\\\n",
       "\t24 & 20         & 0.05       & 0.02397695 & 0.026      & 0.0370     &  1.125000 \\\\\n",
       "\t30 & 20         & 0.10       & 0.02397695 & 0.076      & 0.0380     &  1.612245 \\\\\n",
       "\t36 & 20         & 0.20       & 0.02397695 & 0.158      & 0.0482     &  3.320000 \\\\\n",
       "\t42 & 20         & 0.40       & 0.02397695 & 0.263      & 0.0772     &  5.700000 \\\\\n",
       "\t48 & 20         & 0.50       & 0.02397695 & 0.303      & 0.0901     &  6.660000 \\\\\n",
       "\t54 & 20         & 0.70       & 0.02397695 & 0.427      & 0.1011     &  9.500000 \\\\\n",
       "\t60 & 20         & 0.90       & 0.02397695 & 0.582      & 0.1168     & 13.180000 \\\\\n",
       "\t66 & 20         & 0.99       & 0.02397695 & 0.736      & 0.1481     & 17.280000 \\\\\n",
       "\\end{tabular}\n"
      ],
      "text/markdown": [
       "\n",
       "| <!--/--> | effect_num | pve | mean_corX | power | fdr | cs_num | \n",
       "|---|---|---|---|---|---|---|---|---|---|---|\n",
       "| 6 | 20         | 0.01       | 0.02397695 | 0.001      | 0.0000     |  1.000000  | \n",
       "| 12 | 20         | 0.02       | 0.02397695 | 0.003      | 0.0000     |  1.000000  | \n",
       "| 18 | 20         | 0.03       | 0.02397695 | 0.009      | 0.1000     |  1.000000  | \n",
       "| 24 | 20         | 0.05       | 0.02397695 | 0.026      | 0.0370     |  1.125000  | \n",
       "| 30 | 20         | 0.10       | 0.02397695 | 0.076      | 0.0380     |  1.612245  | \n",
       "| 36 | 20         | 0.20       | 0.02397695 | 0.158      | 0.0482     |  3.320000  | \n",
       "| 42 | 20         | 0.40       | 0.02397695 | 0.263      | 0.0772     |  5.700000  | \n",
       "| 48 | 20         | 0.50       | 0.02397695 | 0.303      | 0.0901     |  6.660000  | \n",
       "| 54 | 20         | 0.70       | 0.02397695 | 0.427      | 0.1011     |  9.500000  | \n",
       "| 60 | 20         | 0.90       | 0.02397695 | 0.582      | 0.1168     | 13.180000  | \n",
       "| 66 | 20         | 0.99       | 0.02397695 | 0.736      | 0.1481     | 17.280000  | \n",
       "\n",
       "\n"
      ],
      "text/plain": [
       "   effect_num pve  mean_corX  power fdr    cs_num   \n",
       "6  20         0.01 0.02397695 0.001 0.0000  1.000000\n",
       "12 20         0.02 0.02397695 0.003 0.0000  1.000000\n",
       "18 20         0.03 0.02397695 0.009 0.1000  1.000000\n",
       "24 20         0.05 0.02397695 0.026 0.0370  1.125000\n",
       "30 20         0.10 0.02397695 0.076 0.0380  1.612245\n",
       "36 20         0.20 0.02397695 0.158 0.0482  3.320000\n",
       "42 20         0.40 0.02397695 0.263 0.0772  5.700000\n",
       "48 20         0.50 0.02397695 0.303 0.0901  6.660000\n",
       "54 20         0.70 0.02397695 0.427 0.1011  9.500000\n",
       "60 20         0.90 0.02397695 0.582 0.1168 13.180000\n",
       "66 20         0.99 0.02397695 0.736 0.1481 17.280000"
      ]
     },
     "metadata": {},
     "output_type": "display_data"
    }
   ],
   "source": [
    "dscout.summary[dscout.summary$effect_num==20,]"
   ]
  },
  {
   "cell_type": "markdown",
   "metadata": {},
   "source": [
    "## Code details"
   ]
  },
  {
   "cell_type": "code",
   "execution_count": 1,
   "metadata": {
    "collapsed": true
   },
   "outputs": [],
   "source": [
    "dscout_Q1 = readRDS('gsea_Q1.rds')\n",
    "dscout_Q1 = dscout_Q1[!is.na(dscout_Q1$sim_gaussian.output.file),]\n",
    "dscout_Q1 = dscout_Q1[!is.na(dscout_Q1$susie.output.file),]"
   ]
  },
  {
   "cell_type": "code",
   "execution_count": 2,
   "metadata": {
    "collapsed": true
   },
   "outputs": [],
   "source": [
    "dscout_df = data.frame(dscout_Q1$sim_gaussian.effect_num, dscout_Q1$sim_gaussian.pve, \n",
    "                       dscout_Q1$sim_gaussian.mean_corX,dscout_Q1$score.hit, dscout_Q1$score.signal_num)\n",
    "names(dscout_df) = c('effect_num', 'pve', 'mean_corX', 'hit', 'cs_num')"
   ]
  },
  {
   "cell_type": "code",
   "execution_count": 3,
   "metadata": {
    "collapsed": true
   },
   "outputs": [],
   "source": [
    "corX.summary = aggregate(mean_corX ~ effect_num + pve, dscout_df, mean)\n",
    "dscout.summary = corX.summary"
   ]
  },
  {
   "cell_type": "code",
   "execution_count": 4,
   "metadata": {
    "collapsed": true
   },
   "outputs": [],
   "source": [
    "meannonzero = function(x){mean(x[x!=0])}\n",
    "hitmean.summary = aggregate(hit ~ effect_num + pve, dscout_df, mean)\n",
    "dscout.summary$power = round(hitmean.summary$hit / dscout.summary$effect_num, 4)"
   ]
  },
  {
   "cell_type": "code",
   "execution_count": 5,
   "metadata": {
    "collapsed": true
   },
   "outputs": [],
   "source": [
    "hitsum.summary = aggregate(hit ~ effect_num + pve, dscout_df, sum)\n",
    "cs_numsum.summary = aggregate(cs_num ~ effect_num + pve, dscout_df, sum)\n",
    "dscout.summary$fdr = round(1 - hitsum.summary$hit / cs_numsum.summary$cs_num, 4)"
   ]
  },
  {
   "cell_type": "code",
   "execution_count": 6,
   "metadata": {
    "collapsed": true
   },
   "outputs": [],
   "source": [
    "cs_num.summary = aggregate(cs_num ~ effect_num + pve, dscout_df, meannonzero)\n",
    "dscout.summary$cs_num = cs_num.summary$cs_num"
   ]
  },
  {
   "cell_type": "code",
   "execution_count": 7,
   "metadata": {
    "collapsed": true
   },
   "outputs": [],
   "source": [
    "is.nan.data.frame <- function(x)\n",
    "do.call(cbind, lapply(x, is.nan))\n",
    "dscout.summary[is.nan(dscout.summary)] = 0"
   ]
  }
 ],
 "metadata": {
  "kernelspec": {
   "display_name": "R",
   "language": "R",
   "name": "ir"
  },
  "language_info": {
   "codemirror_mode": "r",
   "file_extension": ".r",
   "mimetype": "text/x-r-source",
   "name": "R",
   "pygments_lexer": "r",
   "version": "3.4.3"
  }
 },
 "nbformat": 4,
 "nbformat_minor": 2
}
