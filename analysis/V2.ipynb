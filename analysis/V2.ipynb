{
 "cells": [
  {
   "cell_type": "markdown",
   "metadata": {},
   "source": [
    "# How is power for different number of effects?\n",
    "\n",
    "Since simulated effects have certain correlation, we provide `mean_corX` to quantify such correlation. For each fixed number of nonzero effects $T \\in \\{2,3,5,10,20\\}$, we investigate SuSiE power as pve changes. "
   ]
  },
  {
   "cell_type": "markdown",
   "metadata": {},
   "source": [
    "## Results\n",
    "\n",
    "We observe that in the GTEx data: \n",
    "\n",
    "* As the number of effects increases, it becomes more difficult to achieve high power even if pve is large.\n",
    "\n",
    "* `mean_corX` does not seem to be a factor that causes a change in power. A decline in power is directly related to an increased number of nonzero effects. \n",
    "\n",
    "* Furthermore, fdr also becomes larger when we have more number of nonzero effects."
   ]
  },
  {
   "cell_type": "code",
   "execution_count": 46,
   "metadata": {},
   "outputs": [
    {
     "data": {
      "text/html": [
       "<table>\n",
       "<thead><tr><th></th><th scope=col>effect_num</th><th scope=col>pve</th><th scope=col>mean_corX</th><th scope=col>power</th><th scope=col>fdr</th><th scope=col>cs_num</th></tr></thead>\n",
       "<tbody>\n",
       "\t<tr><th scope=row>2</th><td>2        </td><td>0.01     </td><td>0.2152743</td><td>0.05     </td><td>0.0000   </td><td>0.10     </td></tr>\n",
       "\t<tr><th scope=row>8</th><td>2        </td><td>0.02     </td><td>0.2152743</td><td>0.10     </td><td>0.1667   </td><td>0.24     </td></tr>\n",
       "\t<tr><th scope=row>14</th><td>2        </td><td>0.03     </td><td>0.2152743</td><td>0.16     </td><td>0.1111   </td><td>0.36     </td></tr>\n",
       "\t<tr><th scope=row>20</th><td>2        </td><td>0.05     </td><td>0.2152743</td><td>0.38     </td><td>0.0500   </td><td>0.80     </td></tr>\n",
       "\t<tr><th scope=row>26</th><td>2        </td><td>0.10     </td><td>0.2152743</td><td>0.47     </td><td>0.0208   </td><td>0.96     </td></tr>\n",
       "\t<tr><th scope=row>32</th><td>2        </td><td>0.20     </td><td>0.2152743</td><td>0.53     </td><td>0.0000   </td><td>1.06     </td></tr>\n",
       "\t<tr><th scope=row>38</th><td>2        </td><td>0.40     </td><td>0.2152743</td><td>0.57     </td><td>0.0172   </td><td>1.16     </td></tr>\n",
       "\t<tr><th scope=row>44</th><td>2        </td><td>0.50     </td><td>0.2152743</td><td>0.62     </td><td>0.0159   </td><td>1.26     </td></tr>\n",
       "\t<tr><th scope=row>50</th><td>2        </td><td>0.70     </td><td>0.2152743</td><td>0.64     </td><td>0.0000   </td><td>1.28     </td></tr>\n",
       "\t<tr><th scope=row>56</th><td>2        </td><td>0.90     </td><td>0.2152743</td><td>0.73     </td><td>0.0000   </td><td>1.46     </td></tr>\n",
       "\t<tr><th scope=row>62</th><td>2        </td><td>0.99     </td><td>0.2152743</td><td>0.81     </td><td>0.0000   </td><td>1.62     </td></tr>\n",
       "</tbody>\n",
       "</table>\n"
      ],
      "text/latex": [
       "\\begin{tabular}{r|llllll}\n",
       "  & effect\\_num & pve & mean\\_corX & power & fdr & cs\\_num\\\\\n",
       "\\hline\n",
       "\t2 & 2         & 0.01      & 0.2152743 & 0.05      & 0.0000    & 0.10     \\\\\n",
       "\t8 & 2         & 0.02      & 0.2152743 & 0.10      & 0.1667    & 0.24     \\\\\n",
       "\t14 & 2         & 0.03      & 0.2152743 & 0.16      & 0.1111    & 0.36     \\\\\n",
       "\t20 & 2         & 0.05      & 0.2152743 & 0.38      & 0.0500    & 0.80     \\\\\n",
       "\t26 & 2         & 0.10      & 0.2152743 & 0.47      & 0.0208    & 0.96     \\\\\n",
       "\t32 & 2         & 0.20      & 0.2152743 & 0.53      & 0.0000    & 1.06     \\\\\n",
       "\t38 & 2         & 0.40      & 0.2152743 & 0.57      & 0.0172    & 1.16     \\\\\n",
       "\t44 & 2         & 0.50      & 0.2152743 & 0.62      & 0.0159    & 1.26     \\\\\n",
       "\t50 & 2         & 0.70      & 0.2152743 & 0.64      & 0.0000    & 1.28     \\\\\n",
       "\t56 & 2         & 0.90      & 0.2152743 & 0.73      & 0.0000    & 1.46     \\\\\n",
       "\t62 & 2         & 0.99      & 0.2152743 & 0.81      & 0.0000    & 1.62     \\\\\n",
       "\\end{tabular}\n"
      ],
      "text/markdown": [
       "\n",
       "| <!--/--> | effect_num | pve | mean_corX | power | fdr | cs_num | \n",
       "|---|---|---|---|---|---|---|---|---|---|---|\n",
       "| 2 | 2         | 0.01      | 0.2152743 | 0.05      | 0.0000    | 0.10      | \n",
       "| 8 | 2         | 0.02      | 0.2152743 | 0.10      | 0.1667    | 0.24      | \n",
       "| 14 | 2         | 0.03      | 0.2152743 | 0.16      | 0.1111    | 0.36      | \n",
       "| 20 | 2         | 0.05      | 0.2152743 | 0.38      | 0.0500    | 0.80      | \n",
       "| 26 | 2         | 0.10      | 0.2152743 | 0.47      | 0.0208    | 0.96      | \n",
       "| 32 | 2         | 0.20      | 0.2152743 | 0.53      | 0.0000    | 1.06      | \n",
       "| 38 | 2         | 0.40      | 0.2152743 | 0.57      | 0.0172    | 1.16      | \n",
       "| 44 | 2         | 0.50      | 0.2152743 | 0.62      | 0.0159    | 1.26      | \n",
       "| 50 | 2         | 0.70      | 0.2152743 | 0.64      | 0.0000    | 1.28      | \n",
       "| 56 | 2         | 0.90      | 0.2152743 | 0.73      | 0.0000    | 1.46      | \n",
       "| 62 | 2         | 0.99      | 0.2152743 | 0.81      | 0.0000    | 1.62      | \n",
       "\n",
       "\n"
      ],
      "text/plain": [
       "   effect_num pve  mean_corX power fdr    cs_num\n",
       "2  2          0.01 0.2152743 0.05  0.0000 0.10  \n",
       "8  2          0.02 0.2152743 0.10  0.1667 0.24  \n",
       "14 2          0.03 0.2152743 0.16  0.1111 0.36  \n",
       "20 2          0.05 0.2152743 0.38  0.0500 0.80  \n",
       "26 2          0.10 0.2152743 0.47  0.0208 0.96  \n",
       "32 2          0.20 0.2152743 0.53  0.0000 1.06  \n",
       "38 2          0.40 0.2152743 0.57  0.0172 1.16  \n",
       "44 2          0.50 0.2152743 0.62  0.0159 1.26  \n",
       "50 2          0.70 0.2152743 0.64  0.0000 1.28  \n",
       "56 2          0.90 0.2152743 0.73  0.0000 1.46  \n",
       "62 2          0.99 0.2152743 0.81  0.0000 1.62  "
      ]
     },
     "metadata": {},
     "output_type": "display_data"
    }
   ],
   "source": [
    "dscout.summary[dscout.summary$effect_num==2,]"
   ]
  },
  {
   "cell_type": "code",
   "execution_count": 47,
   "metadata": {},
   "outputs": [
    {
     "data": {
      "text/html": [
       "<table>\n",
       "<thead><tr><th></th><th scope=col>effect_num</th><th scope=col>pve</th><th scope=col>mean_corX</th><th scope=col>power</th><th scope=col>fdr</th><th scope=col>cs_num</th></tr></thead>\n",
       "<tbody>\n",
       "\t<tr><th scope=row>3</th><td>3        </td><td>0.01     </td><td>0.1576968</td><td>0.0067   </td><td>0.0000   </td><td>0.02     </td></tr>\n",
       "\t<tr><th scope=row>9</th><td>3        </td><td>0.02     </td><td>0.1576968</td><td>0.0467   </td><td>0.0000   </td><td>0.14     </td></tr>\n",
       "\t<tr><th scope=row>15</th><td>3        </td><td>0.03     </td><td>0.1576968</td><td>0.0733   </td><td>0.0000   </td><td>0.22     </td></tr>\n",
       "\t<tr><th scope=row>21</th><td>3        </td><td>0.05     </td><td>0.1576968</td><td>0.1800   </td><td>0.0357   </td><td>0.56     </td></tr>\n",
       "\t<tr><th scope=row>27</th><td>3        </td><td>0.10     </td><td>0.1576968</td><td>0.3467   </td><td>0.0189   </td><td>1.06     </td></tr>\n",
       "\t<tr><th scope=row>33</th><td>3        </td><td>0.20     </td><td>0.1576968</td><td>0.3800   </td><td>0.0172   </td><td>1.16     </td></tr>\n",
       "\t<tr><th scope=row>39</th><td>3        </td><td>0.40     </td><td>0.1576968</td><td>0.4600   </td><td>0.0000   </td><td>1.38     </td></tr>\n",
       "\t<tr><th scope=row>45</th><td>3        </td><td>0.50     </td><td>0.1576968</td><td>0.4800   </td><td>0.0000   </td><td>1.44     </td></tr>\n",
       "\t<tr><th scope=row>51</th><td>3        </td><td>0.70     </td><td>0.1576968</td><td>0.5200   </td><td>0.0000   </td><td>1.56     </td></tr>\n",
       "\t<tr><th scope=row>57</th><td>3        </td><td>0.90     </td><td>0.1576968</td><td>0.6000   </td><td>0.0110   </td><td>1.82     </td></tr>\n",
       "\t<tr><th scope=row>63</th><td>3        </td><td>0.99     </td><td>0.1576968</td><td>0.7067   </td><td>0.0093   </td><td>2.14     </td></tr>\n",
       "</tbody>\n",
       "</table>\n"
      ],
      "text/latex": [
       "\\begin{tabular}{r|llllll}\n",
       "  & effect\\_num & pve & mean\\_corX & power & fdr & cs\\_num\\\\\n",
       "\\hline\n",
       "\t3 & 3         & 0.01      & 0.1576968 & 0.0067    & 0.0000    & 0.02     \\\\\n",
       "\t9 & 3         & 0.02      & 0.1576968 & 0.0467    & 0.0000    & 0.14     \\\\\n",
       "\t15 & 3         & 0.03      & 0.1576968 & 0.0733    & 0.0000    & 0.22     \\\\\n",
       "\t21 & 3         & 0.05      & 0.1576968 & 0.1800    & 0.0357    & 0.56     \\\\\n",
       "\t27 & 3         & 0.10      & 0.1576968 & 0.3467    & 0.0189    & 1.06     \\\\\n",
       "\t33 & 3         & 0.20      & 0.1576968 & 0.3800    & 0.0172    & 1.16     \\\\\n",
       "\t39 & 3         & 0.40      & 0.1576968 & 0.4600    & 0.0000    & 1.38     \\\\\n",
       "\t45 & 3         & 0.50      & 0.1576968 & 0.4800    & 0.0000    & 1.44     \\\\\n",
       "\t51 & 3         & 0.70      & 0.1576968 & 0.5200    & 0.0000    & 1.56     \\\\\n",
       "\t57 & 3         & 0.90      & 0.1576968 & 0.6000    & 0.0110    & 1.82     \\\\\n",
       "\t63 & 3         & 0.99      & 0.1576968 & 0.7067    & 0.0093    & 2.14     \\\\\n",
       "\\end{tabular}\n"
      ],
      "text/markdown": [
       "\n",
       "| <!--/--> | effect_num | pve | mean_corX | power | fdr | cs_num | \n",
       "|---|---|---|---|---|---|---|---|---|---|---|\n",
       "| 3 | 3         | 0.01      | 0.1576968 | 0.0067    | 0.0000    | 0.02      | \n",
       "| 9 | 3         | 0.02      | 0.1576968 | 0.0467    | 0.0000    | 0.14      | \n",
       "| 15 | 3         | 0.03      | 0.1576968 | 0.0733    | 0.0000    | 0.22      | \n",
       "| 21 | 3         | 0.05      | 0.1576968 | 0.1800    | 0.0357    | 0.56      | \n",
       "| 27 | 3         | 0.10      | 0.1576968 | 0.3467    | 0.0189    | 1.06      | \n",
       "| 33 | 3         | 0.20      | 0.1576968 | 0.3800    | 0.0172    | 1.16      | \n",
       "| 39 | 3         | 0.40      | 0.1576968 | 0.4600    | 0.0000    | 1.38      | \n",
       "| 45 | 3         | 0.50      | 0.1576968 | 0.4800    | 0.0000    | 1.44      | \n",
       "| 51 | 3         | 0.70      | 0.1576968 | 0.5200    | 0.0000    | 1.56      | \n",
       "| 57 | 3         | 0.90      | 0.1576968 | 0.6000    | 0.0110    | 1.82      | \n",
       "| 63 | 3         | 0.99      | 0.1576968 | 0.7067    | 0.0093    | 2.14      | \n",
       "\n",
       "\n"
      ],
      "text/plain": [
       "   effect_num pve  mean_corX power  fdr    cs_num\n",
       "3  3          0.01 0.1576968 0.0067 0.0000 0.02  \n",
       "9  3          0.02 0.1576968 0.0467 0.0000 0.14  \n",
       "15 3          0.03 0.1576968 0.0733 0.0000 0.22  \n",
       "21 3          0.05 0.1576968 0.1800 0.0357 0.56  \n",
       "27 3          0.10 0.1576968 0.3467 0.0189 1.06  \n",
       "33 3          0.20 0.1576968 0.3800 0.0172 1.16  \n",
       "39 3          0.40 0.1576968 0.4600 0.0000 1.38  \n",
       "45 3          0.50 0.1576968 0.4800 0.0000 1.44  \n",
       "51 3          0.70 0.1576968 0.5200 0.0000 1.56  \n",
       "57 3          0.90 0.1576968 0.6000 0.0110 1.82  \n",
       "63 3          0.99 0.1576968 0.7067 0.0093 2.14  "
      ]
     },
     "metadata": {},
     "output_type": "display_data"
    }
   ],
   "source": [
    "dscout.summary[dscout.summary$effect_num==3,]"
   ]
  },
  {
   "cell_type": "code",
   "execution_count": 48,
   "metadata": {},
   "outputs": [
    {
     "data": {
      "text/html": [
       "<table>\n",
       "<thead><tr><th></th><th scope=col>effect_num</th><th scope=col>pve</th><th scope=col>mean_corX</th><th scope=col>power</th><th scope=col>fdr</th><th scope=col>cs_num</th></tr></thead>\n",
       "<tbody>\n",
       "\t<tr><th scope=row>4</th><td>5        </td><td>0.01     </td><td>0.1683379</td><td>0.008    </td><td>0.3333   </td><td>0.06     </td></tr>\n",
       "\t<tr><th scope=row>10</th><td>5        </td><td>0.02     </td><td>0.1683379</td><td>0.028    </td><td>0.1250   </td><td>0.16     </td></tr>\n",
       "\t<tr><th scope=row>16</th><td>5        </td><td>0.03     </td><td>0.1683379</td><td>0.060    </td><td>0.1176   </td><td>0.34     </td></tr>\n",
       "\t<tr><th scope=row>22</th><td>5        </td><td>0.05     </td><td>0.1683379</td><td>0.120    </td><td>0.0323   </td><td>0.62     </td></tr>\n",
       "\t<tr><th scope=row>28</th><td>5        </td><td>0.10     </td><td>0.1683379</td><td>0.188    </td><td>0.0600   </td><td>1.00     </td></tr>\n",
       "\t<tr><th scope=row>34</th><td>5        </td><td>0.20     </td><td>0.1683379</td><td>0.220    </td><td>0.0517   </td><td>1.16     </td></tr>\n",
       "\t<tr><th scope=row>40</th><td>5        </td><td>0.40     </td><td>0.1683379</td><td>0.284    </td><td>0.0274   </td><td>1.46     </td></tr>\n",
       "\t<tr><th scope=row>46</th><td>5        </td><td>0.50     </td><td>0.1683379</td><td>0.304    </td><td>0.0130   </td><td>1.54     </td></tr>\n",
       "\t<tr><th scope=row>52</th><td>5        </td><td>0.70     </td><td>0.1683379</td><td>0.344    </td><td>0.0000   </td><td>1.72     </td></tr>\n",
       "\t<tr><th scope=row>58</th><td>5        </td><td>0.90     </td><td>0.1683379</td><td>0.420    </td><td>0.0541   </td><td>2.22     </td></tr>\n",
       "\t<tr><th scope=row>64</th><td>5        </td><td>0.99     </td><td>0.1683379</td><td>0.524    </td><td>0.0576   </td><td>2.78     </td></tr>\n",
       "</tbody>\n",
       "</table>\n"
      ],
      "text/latex": [
       "\\begin{tabular}{r|llllll}\n",
       "  & effect\\_num & pve & mean\\_corX & power & fdr & cs\\_num\\\\\n",
       "\\hline\n",
       "\t4 & 5         & 0.01      & 0.1683379 & 0.008     & 0.3333    & 0.06     \\\\\n",
       "\t10 & 5         & 0.02      & 0.1683379 & 0.028     & 0.1250    & 0.16     \\\\\n",
       "\t16 & 5         & 0.03      & 0.1683379 & 0.060     & 0.1176    & 0.34     \\\\\n",
       "\t22 & 5         & 0.05      & 0.1683379 & 0.120     & 0.0323    & 0.62     \\\\\n",
       "\t28 & 5         & 0.10      & 0.1683379 & 0.188     & 0.0600    & 1.00     \\\\\n",
       "\t34 & 5         & 0.20      & 0.1683379 & 0.220     & 0.0517    & 1.16     \\\\\n",
       "\t40 & 5         & 0.40      & 0.1683379 & 0.284     & 0.0274    & 1.46     \\\\\n",
       "\t46 & 5         & 0.50      & 0.1683379 & 0.304     & 0.0130    & 1.54     \\\\\n",
       "\t52 & 5         & 0.70      & 0.1683379 & 0.344     & 0.0000    & 1.72     \\\\\n",
       "\t58 & 5         & 0.90      & 0.1683379 & 0.420     & 0.0541    & 2.22     \\\\\n",
       "\t64 & 5         & 0.99      & 0.1683379 & 0.524     & 0.0576    & 2.78     \\\\\n",
       "\\end{tabular}\n"
      ],
      "text/markdown": [
       "\n",
       "| <!--/--> | effect_num | pve | mean_corX | power | fdr | cs_num | \n",
       "|---|---|---|---|---|---|---|---|---|---|---|\n",
       "| 4 | 5         | 0.01      | 0.1683379 | 0.008     | 0.3333    | 0.06      | \n",
       "| 10 | 5         | 0.02      | 0.1683379 | 0.028     | 0.1250    | 0.16      | \n",
       "| 16 | 5         | 0.03      | 0.1683379 | 0.060     | 0.1176    | 0.34      | \n",
       "| 22 | 5         | 0.05      | 0.1683379 | 0.120     | 0.0323    | 0.62      | \n",
       "| 28 | 5         | 0.10      | 0.1683379 | 0.188     | 0.0600    | 1.00      | \n",
       "| 34 | 5         | 0.20      | 0.1683379 | 0.220     | 0.0517    | 1.16      | \n",
       "| 40 | 5         | 0.40      | 0.1683379 | 0.284     | 0.0274    | 1.46      | \n",
       "| 46 | 5         | 0.50      | 0.1683379 | 0.304     | 0.0130    | 1.54      | \n",
       "| 52 | 5         | 0.70      | 0.1683379 | 0.344     | 0.0000    | 1.72      | \n",
       "| 58 | 5         | 0.90      | 0.1683379 | 0.420     | 0.0541    | 2.22      | \n",
       "| 64 | 5         | 0.99      | 0.1683379 | 0.524     | 0.0576    | 2.78      | \n",
       "\n",
       "\n"
      ],
      "text/plain": [
       "   effect_num pve  mean_corX power fdr    cs_num\n",
       "4  5          0.01 0.1683379 0.008 0.3333 0.06  \n",
       "10 5          0.02 0.1683379 0.028 0.1250 0.16  \n",
       "16 5          0.03 0.1683379 0.060 0.1176 0.34  \n",
       "22 5          0.05 0.1683379 0.120 0.0323 0.62  \n",
       "28 5          0.10 0.1683379 0.188 0.0600 1.00  \n",
       "34 5          0.20 0.1683379 0.220 0.0517 1.16  \n",
       "40 5          0.40 0.1683379 0.284 0.0274 1.46  \n",
       "46 5          0.50 0.1683379 0.304 0.0130 1.54  \n",
       "52 5          0.70 0.1683379 0.344 0.0000 1.72  \n",
       "58 5          0.90 0.1683379 0.420 0.0541 2.22  \n",
       "64 5          0.99 0.1683379 0.524 0.0576 2.78  "
      ]
     },
     "metadata": {},
     "output_type": "display_data"
    }
   ],
   "source": [
    "dscout.summary[dscout.summary$effect_num==5,]"
   ]
  },
  {
   "cell_type": "code",
   "execution_count": 49,
   "metadata": {},
   "outputs": [
    {
     "data": {
      "text/html": [
       "<table>\n",
       "<thead><tr><th></th><th scope=col>effect_num</th><th scope=col>pve</th><th scope=col>mean_corX</th><th scope=col>power</th><th scope=col>fdr</th><th scope=col>cs_num</th></tr></thead>\n",
       "<tbody>\n",
       "\t<tr><th scope=row>5</th><td>10       </td><td>0.01     </td><td>0.1707866</td><td>0.002    </td><td>0.6667   </td><td>0.06     </td></tr>\n",
       "\t<tr><th scope=row>11</th><td>10       </td><td>0.02     </td><td>0.1707866</td><td>0.016    </td><td>0.3333   </td><td>0.24     </td></tr>\n",
       "\t<tr><th scope=row>17</th><td>10       </td><td>0.03     </td><td>0.1707866</td><td>0.036    </td><td>0.1818   </td><td>0.44     </td></tr>\n",
       "\t<tr><th scope=row>23</th><td>10       </td><td>0.05     </td><td>0.1707866</td><td>0.064    </td><td>0.0857   </td><td>0.70     </td></tr>\n",
       "\t<tr><th scope=row>29</th><td>10       </td><td>0.10     </td><td>0.1707866</td><td>0.092    </td><td>0.0980   </td><td>1.02     </td></tr>\n",
       "\t<tr><th scope=row>35</th><td>10       </td><td>0.20     </td><td>0.1707866</td><td>0.122    </td><td>0.0758   </td><td>1.32     </td></tr>\n",
       "\t<tr><th scope=row>41</th><td>10       </td><td>0.40     </td><td>0.1707866</td><td>0.158    </td><td>0.0706   </td><td>1.70     </td></tr>\n",
       "\t<tr><th scope=row>47</th><td>10       </td><td>0.50     </td><td>0.1707866</td><td>0.172    </td><td>0.0549   </td><td>1.82     </td></tr>\n",
       "\t<tr><th scope=row>53</th><td>10       </td><td>0.70     </td><td>0.1707866</td><td>0.208    </td><td>0.0189   </td><td>2.12     </td></tr>\n",
       "\t<tr><th scope=row>59</th><td>10       </td><td>0.90     </td><td>0.1707866</td><td>0.276    </td><td>0.0417   </td><td>2.88     </td></tr>\n",
       "\t<tr><th scope=row>65</th><td>10       </td><td>0.99     </td><td>0.1707866</td><td>0.392    </td><td>0.0667   </td><td>4.20     </td></tr>\n",
       "</tbody>\n",
       "</table>\n"
      ],
      "text/latex": [
       "\\begin{tabular}{r|llllll}\n",
       "  & effect\\_num & pve & mean\\_corX & power & fdr & cs\\_num\\\\\n",
       "\\hline\n",
       "\t5 & 10        & 0.01      & 0.1707866 & 0.002     & 0.6667    & 0.06     \\\\\n",
       "\t11 & 10        & 0.02      & 0.1707866 & 0.016     & 0.3333    & 0.24     \\\\\n",
       "\t17 & 10        & 0.03      & 0.1707866 & 0.036     & 0.1818    & 0.44     \\\\\n",
       "\t23 & 10        & 0.05      & 0.1707866 & 0.064     & 0.0857    & 0.70     \\\\\n",
       "\t29 & 10        & 0.10      & 0.1707866 & 0.092     & 0.0980    & 1.02     \\\\\n",
       "\t35 & 10        & 0.20      & 0.1707866 & 0.122     & 0.0758    & 1.32     \\\\\n",
       "\t41 & 10        & 0.40      & 0.1707866 & 0.158     & 0.0706    & 1.70     \\\\\n",
       "\t47 & 10        & 0.50      & 0.1707866 & 0.172     & 0.0549    & 1.82     \\\\\n",
       "\t53 & 10        & 0.70      & 0.1707866 & 0.208     & 0.0189    & 2.12     \\\\\n",
       "\t59 & 10        & 0.90      & 0.1707866 & 0.276     & 0.0417    & 2.88     \\\\\n",
       "\t65 & 10        & 0.99      & 0.1707866 & 0.392     & 0.0667    & 4.20     \\\\\n",
       "\\end{tabular}\n"
      ],
      "text/markdown": [
       "\n",
       "| <!--/--> | effect_num | pve | mean_corX | power | fdr | cs_num | \n",
       "|---|---|---|---|---|---|---|---|---|---|---|\n",
       "| 5 | 10        | 0.01      | 0.1707866 | 0.002     | 0.6667    | 0.06      | \n",
       "| 11 | 10        | 0.02      | 0.1707866 | 0.016     | 0.3333    | 0.24      | \n",
       "| 17 | 10        | 0.03      | 0.1707866 | 0.036     | 0.1818    | 0.44      | \n",
       "| 23 | 10        | 0.05      | 0.1707866 | 0.064     | 0.0857    | 0.70      | \n",
       "| 29 | 10        | 0.10      | 0.1707866 | 0.092     | 0.0980    | 1.02      | \n",
       "| 35 | 10        | 0.20      | 0.1707866 | 0.122     | 0.0758    | 1.32      | \n",
       "| 41 | 10        | 0.40      | 0.1707866 | 0.158     | 0.0706    | 1.70      | \n",
       "| 47 | 10        | 0.50      | 0.1707866 | 0.172     | 0.0549    | 1.82      | \n",
       "| 53 | 10        | 0.70      | 0.1707866 | 0.208     | 0.0189    | 2.12      | \n",
       "| 59 | 10        | 0.90      | 0.1707866 | 0.276     | 0.0417    | 2.88      | \n",
       "| 65 | 10        | 0.99      | 0.1707866 | 0.392     | 0.0667    | 4.20      | \n",
       "\n",
       "\n"
      ],
      "text/plain": [
       "   effect_num pve  mean_corX power fdr    cs_num\n",
       "5  10         0.01 0.1707866 0.002 0.6667 0.06  \n",
       "11 10         0.02 0.1707866 0.016 0.3333 0.24  \n",
       "17 10         0.03 0.1707866 0.036 0.1818 0.44  \n",
       "23 10         0.05 0.1707866 0.064 0.0857 0.70  \n",
       "29 10         0.10 0.1707866 0.092 0.0980 1.02  \n",
       "35 10         0.20 0.1707866 0.122 0.0758 1.32  \n",
       "41 10         0.40 0.1707866 0.158 0.0706 1.70  \n",
       "47 10         0.50 0.1707866 0.172 0.0549 1.82  \n",
       "53 10         0.70 0.1707866 0.208 0.0189 2.12  \n",
       "59 10         0.90 0.1707866 0.276 0.0417 2.88  \n",
       "65 10         0.99 0.1707866 0.392 0.0667 4.20  "
      ]
     },
     "metadata": {},
     "output_type": "display_data"
    }
   ],
   "source": [
    "dscout.summary[dscout.summary$effect_num==10,]"
   ]
  },
  {
   "cell_type": "code",
   "execution_count": 50,
   "metadata": {},
   "outputs": [
    {
     "data": {
      "text/html": [
       "<table>\n",
       "<thead><tr><th></th><th scope=col>effect_num</th><th scope=col>pve</th><th scope=col>mean_corX</th><th scope=col>power</th><th scope=col>fdr</th><th scope=col>cs_num</th></tr></thead>\n",
       "<tbody>\n",
       "\t<tr><th scope=row>6</th><td>20       </td><td>0.01     </td><td>0.1843321</td><td>0.002    </td><td>0.0000   </td><td>0.04     </td></tr>\n",
       "\t<tr><th scope=row>12</th><td>20       </td><td>0.02     </td><td>0.1843321</td><td>0.005    </td><td>0.1667   </td><td>0.12     </td></tr>\n",
       "\t<tr><th scope=row>18</th><td>20       </td><td>0.03     </td><td>0.1843321</td><td>0.011    </td><td>0.0833   </td><td>0.24     </td></tr>\n",
       "\t<tr><th scope=row>24</th><td>20       </td><td>0.05     </td><td>0.1843321</td><td>0.028    </td><td>0.0667   </td><td>0.60     </td></tr>\n",
       "\t<tr><th scope=row>30</th><td>20       </td><td>0.10     </td><td>0.1843321</td><td>0.042    </td><td>0.0870   </td><td>0.92     </td></tr>\n",
       "\t<tr><th scope=row>36</th><td>20       </td><td>0.20     </td><td>0.1843321</td><td>0.065    </td><td>0.0580   </td><td>1.38     </td></tr>\n",
       "\t<tr><th scope=row>42</th><td>20       </td><td>0.40     </td><td>0.1843321</td><td>0.089    </td><td>0.0430   </td><td>1.86     </td></tr>\n",
       "\t<tr><th scope=row>48</th><td>20       </td><td>0.50     </td><td>0.1843321</td><td>0.097    </td><td>0.0583   </td><td>2.06     </td></tr>\n",
       "\t<tr><th scope=row>54</th><td>20       </td><td>0.70     </td><td>0.1843321</td><td>0.115    </td><td>0.1221   </td><td>2.62     </td></tr>\n",
       "\t<tr><th scope=row>60</th><td>20       </td><td>0.90     </td><td>0.1843321</td><td>0.175    </td><td>0.0885   </td><td>3.84     </td></tr>\n",
       "\t<tr><th scope=row>66</th><td>20       </td><td>0.99     </td><td>0.1843321</td><td>0.299    </td><td>0.0538   </td><td>6.32     </td></tr>\n",
       "</tbody>\n",
       "</table>\n"
      ],
      "text/latex": [
       "\\begin{tabular}{r|llllll}\n",
       "  & effect\\_num & pve & mean\\_corX & power & fdr & cs\\_num\\\\\n",
       "\\hline\n",
       "\t6 & 20        & 0.01      & 0.1843321 & 0.002     & 0.0000    & 0.04     \\\\\n",
       "\t12 & 20        & 0.02      & 0.1843321 & 0.005     & 0.1667    & 0.12     \\\\\n",
       "\t18 & 20        & 0.03      & 0.1843321 & 0.011     & 0.0833    & 0.24     \\\\\n",
       "\t24 & 20        & 0.05      & 0.1843321 & 0.028     & 0.0667    & 0.60     \\\\\n",
       "\t30 & 20        & 0.10      & 0.1843321 & 0.042     & 0.0870    & 0.92     \\\\\n",
       "\t36 & 20        & 0.20      & 0.1843321 & 0.065     & 0.0580    & 1.38     \\\\\n",
       "\t42 & 20        & 0.40      & 0.1843321 & 0.089     & 0.0430    & 1.86     \\\\\n",
       "\t48 & 20        & 0.50      & 0.1843321 & 0.097     & 0.0583    & 2.06     \\\\\n",
       "\t54 & 20        & 0.70      & 0.1843321 & 0.115     & 0.1221    & 2.62     \\\\\n",
       "\t60 & 20        & 0.90      & 0.1843321 & 0.175     & 0.0885    & 3.84     \\\\\n",
       "\t66 & 20        & 0.99      & 0.1843321 & 0.299     & 0.0538    & 6.32     \\\\\n",
       "\\end{tabular}\n"
      ],
      "text/markdown": [
       "\n",
       "| <!--/--> | effect_num | pve | mean_corX | power | fdr | cs_num | \n",
       "|---|---|---|---|---|---|---|---|---|---|---|\n",
       "| 6 | 20        | 0.01      | 0.1843321 | 0.002     | 0.0000    | 0.04      | \n",
       "| 12 | 20        | 0.02      | 0.1843321 | 0.005     | 0.1667    | 0.12      | \n",
       "| 18 | 20        | 0.03      | 0.1843321 | 0.011     | 0.0833    | 0.24      | \n",
       "| 24 | 20        | 0.05      | 0.1843321 | 0.028     | 0.0667    | 0.60      | \n",
       "| 30 | 20        | 0.10      | 0.1843321 | 0.042     | 0.0870    | 0.92      | \n",
       "| 36 | 20        | 0.20      | 0.1843321 | 0.065     | 0.0580    | 1.38      | \n",
       "| 42 | 20        | 0.40      | 0.1843321 | 0.089     | 0.0430    | 1.86      | \n",
       "| 48 | 20        | 0.50      | 0.1843321 | 0.097     | 0.0583    | 2.06      | \n",
       "| 54 | 20        | 0.70      | 0.1843321 | 0.115     | 0.1221    | 2.62      | \n",
       "| 60 | 20        | 0.90      | 0.1843321 | 0.175     | 0.0885    | 3.84      | \n",
       "| 66 | 20        | 0.99      | 0.1843321 | 0.299     | 0.0538    | 6.32      | \n",
       "\n",
       "\n"
      ],
      "text/plain": [
       "   effect_num pve  mean_corX power fdr    cs_num\n",
       "6  20         0.01 0.1843321 0.002 0.0000 0.04  \n",
       "12 20         0.02 0.1843321 0.005 0.1667 0.12  \n",
       "18 20         0.03 0.1843321 0.011 0.0833 0.24  \n",
       "24 20         0.05 0.1843321 0.028 0.0667 0.60  \n",
       "30 20         0.10 0.1843321 0.042 0.0870 0.92  \n",
       "36 20         0.20 0.1843321 0.065 0.0580 1.38  \n",
       "42 20         0.40 0.1843321 0.089 0.0430 1.86  \n",
       "48 20         0.50 0.1843321 0.097 0.0583 2.06  \n",
       "54 20         0.70 0.1843321 0.115 0.1221 2.62  \n",
       "60 20         0.90 0.1843321 0.175 0.0885 3.84  \n",
       "66 20         0.99 0.1843321 0.299 0.0538 6.32  "
      ]
     },
     "metadata": {},
     "output_type": "display_data"
    }
   ],
   "source": [
    "dscout.summary[dscout.summary$effect_num==20,]"
   ]
  },
  {
   "cell_type": "markdown",
   "metadata": {},
   "source": [
    "## Code details"
   ]
  },
  {
   "cell_type": "code",
   "execution_count": 41,
   "metadata": {
    "collapsed": true
   },
   "outputs": [],
   "source": [
    "dscout_Q1 = readRDS('dscout_Q1.rds')\n",
    "dscout_Q1 = dscout_Q1[!is.na(dscout_Q1$sim_gaussian.output.file),]\n",
    "dscout_Q1 = dscout_Q1[!is.na(dscout_Q1$susie.output.file),]"
   ]
  },
  {
   "cell_type": "code",
   "execution_count": 42,
   "metadata": {
    "collapsed": true
   },
   "outputs": [],
   "source": [
    "dscout_df = data.frame(dscout_Q1$sim_gaussian.effect_num, dscout_Q1$sim_gaussian.pve, \n",
    "                       dscout_Q1$sim_gaussian.mean_corX,dscout_Q1$score.hit, dscout_Q1$score.signal_num)\n",
    "names(dscout_df) = c('effect_num', 'pve', 'mean_corX', 'hit', 'cs_num')"
   ]
  },
  {
   "cell_type": "code",
   "execution_count": 43,
   "metadata": {
    "collapsed": true
   },
   "outputs": [],
   "source": [
    "corX.summary = aggregate(mean_corX ~ effect_num + pve, dscout_df, mean)"
   ]
  },
  {
   "cell_type": "code",
   "execution_count": 44,
   "metadata": {
    "collapsed": true
   },
   "outputs": [],
   "source": [
    "dscout.summary = aggregate(hit ~ effect_num + pve, dscout_df, sum)\n",
    "dscout.summary$mean_corX = corX.summary$mean_corX\n",
    "dscout.summary$power = round(dscout.summary$hit / (dscout.summary$effect_num*50),4)\n",
    "fdr.summary = aggregate(cs_num ~ effect_num + pve, dscout_df, sum)\n",
    "fdr.summary$fdr = round(1 - dscout.summary$hit / fdr.summary$cs_num, 4)\n",
    "dscout.summary$hit = NULL\n",
    "dscout.summary$fdr = fdr.summary$fdr\n",
    "dscout.summary$cs_num = fdr.summary$cs_num/50"
   ]
  },
  {
   "cell_type": "code",
   "execution_count": 45,
   "metadata": {
    "collapsed": true
   },
   "outputs": [],
   "source": [
    "is.nan.data.frame <- function(x)\n",
    "do.call(cbind, lapply(x, is.nan))\n",
    "dscout.summary[is.nan(dscout.summary)] = 0"
   ]
  }
 ],
 "metadata": {
  "kernelspec": {
   "display_name": "R",
   "language": "R",
   "name": "ir"
  },
  "language_info": {
   "codemirror_mode": "r",
   "file_extension": ".r",
   "mimetype": "text/x-r-source",
   "name": "R",
   "pygments_lexer": "r",
   "version": "3.4.3"
  }
 },
 "nbformat": 4,
 "nbformat_minor": 2
}
