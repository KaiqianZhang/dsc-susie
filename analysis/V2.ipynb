{
 "cells": [
  {
   "cell_type": "markdown",
   "metadata": {},
   "source": [
    "# How is power for different number of effects?\n",
    "\n",
    "Since simulated effects have certain correlation, we provide `mean_corX` to quantify such correlation. For each fixed number of nonzero effects $T \\in \\{2,3,5,10,20\\}$, we investigate SuSiE power as pve changes. "
   ]
  },
  {
   "cell_type": "markdown",
   "metadata": {},
   "source": [
    "## Results\n",
    "\n",
    "We observe that in the GTEx data: \n",
    "\n",
    "* As the number of effects increases, it becomes more difficult to achieve high power even if pve is large.\n",
    "\n",
    "* `mean_corX` does not seem to be a factor that causes a change in power. A decline in power is directly related to an increased number of nonzero effects. \n",
    "\n",
    "* Furthermore, fdr also becomes larger when we have more number of nonzero effects."
   ]
  },
  {
   "cell_type": "code",
   "execution_count": 29,
   "metadata": {},
   "outputs": [
    {
     "data": {
      "text/html": [
       "<table>\n",
       "<thead><tr><th></th><th scope=col>effect_num</th><th scope=col>pve</th><th scope=col>mean_corX</th><th scope=col>power</th><th scope=col>fdr</th><th scope=col>cs_num</th></tr></thead>\n",
       "<tbody>\n",
       "\t<tr><th scope=row>2</th><td>2        </td><td>0.01     </td><td>0.3371353</td><td>0.10     </td><td>0        </td><td> 2       </td></tr>\n",
       "\t<tr><th scope=row>8</th><td>2        </td><td>0.02     </td><td>0.3371353</td><td>0.15     </td><td>0        </td><td> 3       </td></tr>\n",
       "\t<tr><th scope=row>14</th><td>2        </td><td>0.03     </td><td>0.3371353</td><td>0.25     </td><td>0        </td><td> 5       </td></tr>\n",
       "\t<tr><th scope=row>20</th><td>2        </td><td>0.05     </td><td>0.3371353</td><td>0.45     </td><td>0        </td><td> 9       </td></tr>\n",
       "\t<tr><th scope=row>26</th><td>2        </td><td>0.10     </td><td>0.3371353</td><td>0.45     </td><td>0        </td><td> 9       </td></tr>\n",
       "\t<tr><th scope=row>32</th><td>2        </td><td>0.20     </td><td>0.3371353</td><td>0.50     </td><td>0        </td><td>10       </td></tr>\n",
       "\t<tr><th scope=row>38</th><td>2        </td><td>0.40     </td><td>0.3371353</td><td>0.50     </td><td>0        </td><td>10       </td></tr>\n",
       "\t<tr><th scope=row>44</th><td>2        </td><td>0.50     </td><td>0.3371353</td><td>0.60     </td><td>0        </td><td>12       </td></tr>\n",
       "\t<tr><th scope=row>50</th><td>2        </td><td>0.70     </td><td>0.3371353</td><td>0.65     </td><td>0        </td><td>13       </td></tr>\n",
       "\t<tr><th scope=row>56</th><td>2        </td><td>0.90     </td><td>0.3371353</td><td>0.75     </td><td>0        </td><td>15       </td></tr>\n",
       "\t<tr><th scope=row>62</th><td>2        </td><td>0.99     </td><td>0.3371353</td><td>0.90     </td><td>0        </td><td>18       </td></tr>\n",
       "</tbody>\n",
       "</table>\n"
      ],
      "text/latex": [
       "\\begin{tabular}{r|llllll}\n",
       "  & effect\\_num & pve & mean\\_corX & power & fdr & cs\\_num\\\\\n",
       "\\hline\n",
       "\t2 & 2         & 0.01      & 0.3371353 & 0.10      & 0         &  2       \\\\\n",
       "\t8 & 2         & 0.02      & 0.3371353 & 0.15      & 0         &  3       \\\\\n",
       "\t14 & 2         & 0.03      & 0.3371353 & 0.25      & 0         &  5       \\\\\n",
       "\t20 & 2         & 0.05      & 0.3371353 & 0.45      & 0         &  9       \\\\\n",
       "\t26 & 2         & 0.10      & 0.3371353 & 0.45      & 0         &  9       \\\\\n",
       "\t32 & 2         & 0.20      & 0.3371353 & 0.50      & 0         & 10       \\\\\n",
       "\t38 & 2         & 0.40      & 0.3371353 & 0.50      & 0         & 10       \\\\\n",
       "\t44 & 2         & 0.50      & 0.3371353 & 0.60      & 0         & 12       \\\\\n",
       "\t50 & 2         & 0.70      & 0.3371353 & 0.65      & 0         & 13       \\\\\n",
       "\t56 & 2         & 0.90      & 0.3371353 & 0.75      & 0         & 15       \\\\\n",
       "\t62 & 2         & 0.99      & 0.3371353 & 0.90      & 0         & 18       \\\\\n",
       "\\end{tabular}\n"
      ],
      "text/markdown": [
       "\n",
       "| <!--/--> | effect_num | pve | mean_corX | power | fdr | cs_num | \n",
       "|---|---|---|---|---|---|---|---|---|---|---|\n",
       "| 2 | 2         | 0.01      | 0.3371353 | 0.10      | 0         |  2        | \n",
       "| 8 | 2         | 0.02      | 0.3371353 | 0.15      | 0         |  3        | \n",
       "| 14 | 2         | 0.03      | 0.3371353 | 0.25      | 0         |  5        | \n",
       "| 20 | 2         | 0.05      | 0.3371353 | 0.45      | 0         |  9        | \n",
       "| 26 | 2         | 0.10      | 0.3371353 | 0.45      | 0         |  9        | \n",
       "| 32 | 2         | 0.20      | 0.3371353 | 0.50      | 0         | 10        | \n",
       "| 38 | 2         | 0.40      | 0.3371353 | 0.50      | 0         | 10        | \n",
       "| 44 | 2         | 0.50      | 0.3371353 | 0.60      | 0         | 12        | \n",
       "| 50 | 2         | 0.70      | 0.3371353 | 0.65      | 0         | 13        | \n",
       "| 56 | 2         | 0.90      | 0.3371353 | 0.75      | 0         | 15        | \n",
       "| 62 | 2         | 0.99      | 0.3371353 | 0.90      | 0         | 18        | \n",
       "\n",
       "\n"
      ],
      "text/plain": [
       "   effect_num pve  mean_corX power fdr cs_num\n",
       "2  2          0.01 0.3371353 0.10  0    2    \n",
       "8  2          0.02 0.3371353 0.15  0    3    \n",
       "14 2          0.03 0.3371353 0.25  0    5    \n",
       "20 2          0.05 0.3371353 0.45  0    9    \n",
       "26 2          0.10 0.3371353 0.45  0    9    \n",
       "32 2          0.20 0.3371353 0.50  0   10    \n",
       "38 2          0.40 0.3371353 0.50  0   10    \n",
       "44 2          0.50 0.3371353 0.60  0   12    \n",
       "50 2          0.70 0.3371353 0.65  0   13    \n",
       "56 2          0.90 0.3371353 0.75  0   15    \n",
       "62 2          0.99 0.3371353 0.90  0   18    "
      ]
     },
     "metadata": {},
     "output_type": "display_data"
    }
   ],
   "source": [
    "dscout.summary[dscout.summary$effect_num==2,]"
   ]
  },
  {
   "cell_type": "code",
   "execution_count": 16,
   "metadata": {},
   "outputs": [
    {
     "data": {
      "text/html": [
       "<table>\n",
       "<thead><tr><th></th><th scope=col>effect_num</th><th scope=col>pve</th><th scope=col>mean_corX</th><th scope=col>power</th><th scope=col>fdr</th></tr></thead>\n",
       "<tbody>\n",
       "\t<tr><th scope=row>3</th><td>3       </td><td>0.01    </td><td>0.153476</td><td>0.0000  </td><td>0       </td></tr>\n",
       "\t<tr><th scope=row>9</th><td>3       </td><td>0.02    </td><td>0.153476</td><td>0.0667  </td><td>0       </td></tr>\n",
       "\t<tr><th scope=row>15</th><td>3       </td><td>0.03    </td><td>0.153476</td><td>0.1333  </td><td>0       </td></tr>\n",
       "\t<tr><th scope=row>21</th><td>3       </td><td>0.05    </td><td>0.153476</td><td>0.2333  </td><td>0       </td></tr>\n",
       "\t<tr><th scope=row>27</th><td>3       </td><td>0.10    </td><td>0.153476</td><td>0.3333  </td><td>0       </td></tr>\n",
       "\t<tr><th scope=row>33</th><td>3       </td><td>0.20    </td><td>0.153476</td><td>0.3333  </td><td>0       </td></tr>\n",
       "\t<tr><th scope=row>39</th><td>3       </td><td>0.40    </td><td>0.153476</td><td>0.4333  </td><td>0       </td></tr>\n",
       "\t<tr><th scope=row>45</th><td>3       </td><td>0.50    </td><td>0.153476</td><td>0.4667  </td><td>0       </td></tr>\n",
       "\t<tr><th scope=row>51</th><td>3       </td><td>0.70    </td><td>0.153476</td><td>0.4667  </td><td>0       </td></tr>\n",
       "\t<tr><th scope=row>57</th><td>3       </td><td>0.90    </td><td>0.153476</td><td>0.5000  </td><td>0       </td></tr>\n",
       "\t<tr><th scope=row>63</th><td>3       </td><td>0.99    </td><td>0.153476</td><td>0.6000  </td><td>0       </td></tr>\n",
       "</tbody>\n",
       "</table>\n"
      ],
      "text/latex": [
       "\\begin{tabular}{r|lllll}\n",
       "  & effect\\_num & pve & mean\\_corX & power & fdr\\\\\n",
       "\\hline\n",
       "\t3 & 3        & 0.01     & 0.153476 & 0.0000   & 0       \\\\\n",
       "\t9 & 3        & 0.02     & 0.153476 & 0.0667   & 0       \\\\\n",
       "\t15 & 3        & 0.03     & 0.153476 & 0.1333   & 0       \\\\\n",
       "\t21 & 3        & 0.05     & 0.153476 & 0.2333   & 0       \\\\\n",
       "\t27 & 3        & 0.10     & 0.153476 & 0.3333   & 0       \\\\\n",
       "\t33 & 3        & 0.20     & 0.153476 & 0.3333   & 0       \\\\\n",
       "\t39 & 3        & 0.40     & 0.153476 & 0.4333   & 0       \\\\\n",
       "\t45 & 3        & 0.50     & 0.153476 & 0.4667   & 0       \\\\\n",
       "\t51 & 3        & 0.70     & 0.153476 & 0.4667   & 0       \\\\\n",
       "\t57 & 3        & 0.90     & 0.153476 & 0.5000   & 0       \\\\\n",
       "\t63 & 3        & 0.99     & 0.153476 & 0.6000   & 0       \\\\\n",
       "\\end{tabular}\n"
      ],
      "text/markdown": [
       "\n",
       "| <!--/--> | effect_num | pve | mean_corX | power | fdr | \n",
       "|---|---|---|---|---|---|---|---|---|---|---|\n",
       "| 3 | 3        | 0.01     | 0.153476 | 0.0000   | 0        | \n",
       "| 9 | 3        | 0.02     | 0.153476 | 0.0667   | 0        | \n",
       "| 15 | 3        | 0.03     | 0.153476 | 0.1333   | 0        | \n",
       "| 21 | 3        | 0.05     | 0.153476 | 0.2333   | 0        | \n",
       "| 27 | 3        | 0.10     | 0.153476 | 0.3333   | 0        | \n",
       "| 33 | 3        | 0.20     | 0.153476 | 0.3333   | 0        | \n",
       "| 39 | 3        | 0.40     | 0.153476 | 0.4333   | 0        | \n",
       "| 45 | 3        | 0.50     | 0.153476 | 0.4667   | 0        | \n",
       "| 51 | 3        | 0.70     | 0.153476 | 0.4667   | 0        | \n",
       "| 57 | 3        | 0.90     | 0.153476 | 0.5000   | 0        | \n",
       "| 63 | 3        | 0.99     | 0.153476 | 0.6000   | 0        | \n",
       "\n",
       "\n"
      ],
      "text/plain": [
       "   effect_num pve  mean_corX power  fdr\n",
       "3  3          0.01 0.153476  0.0000 0  \n",
       "9  3          0.02 0.153476  0.0667 0  \n",
       "15 3          0.03 0.153476  0.1333 0  \n",
       "21 3          0.05 0.153476  0.2333 0  \n",
       "27 3          0.10 0.153476  0.3333 0  \n",
       "33 3          0.20 0.153476  0.3333 0  \n",
       "39 3          0.40 0.153476  0.4333 0  \n",
       "45 3          0.50 0.153476  0.4667 0  \n",
       "51 3          0.70 0.153476  0.4667 0  \n",
       "57 3          0.90 0.153476  0.5000 0  \n",
       "63 3          0.99 0.153476  0.6000 0  "
      ]
     },
     "metadata": {},
     "output_type": "display_data"
    }
   ],
   "source": [
    "dscout.summary[dscout.summary$effect_num==3,]"
   ]
  },
  {
   "cell_type": "code",
   "execution_count": 17,
   "metadata": {},
   "outputs": [
    {
     "data": {
      "text/html": [
       "<table>\n",
       "<thead><tr><th></th><th scope=col>effect_num</th><th scope=col>pve</th><th scope=col>mean_corX</th><th scope=col>power</th><th scope=col>fdr</th></tr></thead>\n",
       "<tbody>\n",
       "\t<tr><th scope=row>4</th><td>5         </td><td>0.01      </td><td>0.08486093</td><td>0.00      </td><td>1.0000    </td></tr>\n",
       "\t<tr><th scope=row>10</th><td>5         </td><td>0.02      </td><td>0.08486093</td><td>0.06      </td><td>0.2500    </td></tr>\n",
       "\t<tr><th scope=row>16</th><td>5         </td><td>0.03      </td><td>0.08486093</td><td>0.08      </td><td>0.2000    </td></tr>\n",
       "\t<tr><th scope=row>22</th><td>5         </td><td>0.05      </td><td>0.08486093</td><td>0.14      </td><td>0.0000    </td></tr>\n",
       "\t<tr><th scope=row>28</th><td>5         </td><td>0.10      </td><td>0.08486093</td><td>0.20      </td><td>0.0000    </td></tr>\n",
       "\t<tr><th scope=row>34</th><td>5         </td><td>0.20      </td><td>0.08486093</td><td>0.22      </td><td>0.0000    </td></tr>\n",
       "\t<tr><th scope=row>40</th><td>5         </td><td>0.40      </td><td>0.08486093</td><td>0.28      </td><td>0.0667    </td></tr>\n",
       "\t<tr><th scope=row>46</th><td>5         </td><td>0.50      </td><td>0.08486093</td><td>0.28      </td><td>0.0667    </td></tr>\n",
       "\t<tr><th scope=row>52</th><td>5         </td><td>0.70      </td><td>0.08486093</td><td>0.36      </td><td>0.0000    </td></tr>\n",
       "\t<tr><th scope=row>58</th><td>5         </td><td>0.90      </td><td>0.08486093</td><td>0.38      </td><td>0.0000    </td></tr>\n",
       "\t<tr><th scope=row>64</th><td>5         </td><td>0.99      </td><td>0.08486093</td><td>0.52      </td><td>0.0000    </td></tr>\n",
       "</tbody>\n",
       "</table>\n"
      ],
      "text/latex": [
       "\\begin{tabular}{r|lllll}\n",
       "  & effect\\_num & pve & mean\\_corX & power & fdr\\\\\n",
       "\\hline\n",
       "\t4 & 5          & 0.01       & 0.08486093 & 0.00       & 1.0000    \\\\\n",
       "\t10 & 5          & 0.02       & 0.08486093 & 0.06       & 0.2500    \\\\\n",
       "\t16 & 5          & 0.03       & 0.08486093 & 0.08       & 0.2000    \\\\\n",
       "\t22 & 5          & 0.05       & 0.08486093 & 0.14       & 0.0000    \\\\\n",
       "\t28 & 5          & 0.10       & 0.08486093 & 0.20       & 0.0000    \\\\\n",
       "\t34 & 5          & 0.20       & 0.08486093 & 0.22       & 0.0000    \\\\\n",
       "\t40 & 5          & 0.40       & 0.08486093 & 0.28       & 0.0667    \\\\\n",
       "\t46 & 5          & 0.50       & 0.08486093 & 0.28       & 0.0667    \\\\\n",
       "\t52 & 5          & 0.70       & 0.08486093 & 0.36       & 0.0000    \\\\\n",
       "\t58 & 5          & 0.90       & 0.08486093 & 0.38       & 0.0000    \\\\\n",
       "\t64 & 5          & 0.99       & 0.08486093 & 0.52       & 0.0000    \\\\\n",
       "\\end{tabular}\n"
      ],
      "text/markdown": [
       "\n",
       "| <!--/--> | effect_num | pve | mean_corX | power | fdr | \n",
       "|---|---|---|---|---|---|---|---|---|---|---|\n",
       "| 4 | 5          | 0.01       | 0.08486093 | 0.00       | 1.0000     | \n",
       "| 10 | 5          | 0.02       | 0.08486093 | 0.06       | 0.2500     | \n",
       "| 16 | 5          | 0.03       | 0.08486093 | 0.08       | 0.2000     | \n",
       "| 22 | 5          | 0.05       | 0.08486093 | 0.14       | 0.0000     | \n",
       "| 28 | 5          | 0.10       | 0.08486093 | 0.20       | 0.0000     | \n",
       "| 34 | 5          | 0.20       | 0.08486093 | 0.22       | 0.0000     | \n",
       "| 40 | 5          | 0.40       | 0.08486093 | 0.28       | 0.0667     | \n",
       "| 46 | 5          | 0.50       | 0.08486093 | 0.28       | 0.0667     | \n",
       "| 52 | 5          | 0.70       | 0.08486093 | 0.36       | 0.0000     | \n",
       "| 58 | 5          | 0.90       | 0.08486093 | 0.38       | 0.0000     | \n",
       "| 64 | 5          | 0.99       | 0.08486093 | 0.52       | 0.0000     | \n",
       "\n",
       "\n"
      ],
      "text/plain": [
       "   effect_num pve  mean_corX  power fdr   \n",
       "4  5          0.01 0.08486093 0.00  1.0000\n",
       "10 5          0.02 0.08486093 0.06  0.2500\n",
       "16 5          0.03 0.08486093 0.08  0.2000\n",
       "22 5          0.05 0.08486093 0.14  0.0000\n",
       "28 5          0.10 0.08486093 0.20  0.0000\n",
       "34 5          0.20 0.08486093 0.22  0.0000\n",
       "40 5          0.40 0.08486093 0.28  0.0667\n",
       "46 5          0.50 0.08486093 0.28  0.0667\n",
       "52 5          0.70 0.08486093 0.36  0.0000\n",
       "58 5          0.90 0.08486093 0.38  0.0000\n",
       "64 5          0.99 0.08486093 0.52  0.0000"
      ]
     },
     "metadata": {},
     "output_type": "display_data"
    }
   ],
   "source": [
    "dscout.summary[dscout.summary$effect_num==5,]"
   ]
  },
  {
   "cell_type": "code",
   "execution_count": 18,
   "metadata": {},
   "outputs": [
    {
     "data": {
      "text/html": [
       "<table>\n",
       "<thead><tr><th></th><th scope=col>effect_num</th><th scope=col>pve</th><th scope=col>mean_corX</th><th scope=col>power</th><th scope=col>fdr</th></tr></thead>\n",
       "<tbody>\n",
       "\t<tr><th scope=row>5</th><td>10       </td><td>0.01     </td><td>0.1450763</td><td>0.01     </td><td>0.0000   </td></tr>\n",
       "\t<tr><th scope=row>11</th><td>10       </td><td>0.02     </td><td>0.1450763</td><td>0.02     </td><td>0.0000   </td></tr>\n",
       "\t<tr><th scope=row>17</th><td>10       </td><td>0.03     </td><td>0.1450763</td><td>0.04     </td><td>0.0000   </td></tr>\n",
       "\t<tr><th scope=row>23</th><td>10       </td><td>0.05     </td><td>0.1450763</td><td>0.08     </td><td>0.1111   </td></tr>\n",
       "\t<tr><th scope=row>29</th><td>10       </td><td>0.10     </td><td>0.1450763</td><td>0.09     </td><td>0.1000   </td></tr>\n",
       "\t<tr><th scope=row>35</th><td>10       </td><td>0.20     </td><td>0.1450763</td><td>0.12     </td><td>0.0769   </td></tr>\n",
       "\t<tr><th scope=row>41</th><td>10       </td><td>0.40     </td><td>0.1450763</td><td>0.17     </td><td>0.0556   </td></tr>\n",
       "\t<tr><th scope=row>47</th><td>10       </td><td>0.50     </td><td>0.1450763</td><td>0.17     </td><td>0.0556   </td></tr>\n",
       "\t<tr><th scope=row>53</th><td>10       </td><td>0.70     </td><td>0.1450763</td><td>0.20     </td><td>0.0476   </td></tr>\n",
       "\t<tr><th scope=row>59</th><td>10       </td><td>0.90     </td><td>0.1605803</td><td>0.29     </td><td>0.0645   </td></tr>\n",
       "\t<tr><th scope=row>65</th><td>10       </td><td>0.99     </td><td>0.1450763</td><td>0.40     </td><td>0.0698   </td></tr>\n",
       "</tbody>\n",
       "</table>\n"
      ],
      "text/latex": [
       "\\begin{tabular}{r|lllll}\n",
       "  & effect\\_num & pve & mean\\_corX & power & fdr\\\\\n",
       "\\hline\n",
       "\t5 & 10        & 0.01      & 0.1450763 & 0.01      & 0.0000   \\\\\n",
       "\t11 & 10        & 0.02      & 0.1450763 & 0.02      & 0.0000   \\\\\n",
       "\t17 & 10        & 0.03      & 0.1450763 & 0.04      & 0.0000   \\\\\n",
       "\t23 & 10        & 0.05      & 0.1450763 & 0.08      & 0.1111   \\\\\n",
       "\t29 & 10        & 0.10      & 0.1450763 & 0.09      & 0.1000   \\\\\n",
       "\t35 & 10        & 0.20      & 0.1450763 & 0.12      & 0.0769   \\\\\n",
       "\t41 & 10        & 0.40      & 0.1450763 & 0.17      & 0.0556   \\\\\n",
       "\t47 & 10        & 0.50      & 0.1450763 & 0.17      & 0.0556   \\\\\n",
       "\t53 & 10        & 0.70      & 0.1450763 & 0.20      & 0.0476   \\\\\n",
       "\t59 & 10        & 0.90      & 0.1605803 & 0.29      & 0.0645   \\\\\n",
       "\t65 & 10        & 0.99      & 0.1450763 & 0.40      & 0.0698   \\\\\n",
       "\\end{tabular}\n"
      ],
      "text/markdown": [
       "\n",
       "| <!--/--> | effect_num | pve | mean_corX | power | fdr | \n",
       "|---|---|---|---|---|---|---|---|---|---|---|\n",
       "| 5 | 10        | 0.01      | 0.1450763 | 0.01      | 0.0000    | \n",
       "| 11 | 10        | 0.02      | 0.1450763 | 0.02      | 0.0000    | \n",
       "| 17 | 10        | 0.03      | 0.1450763 | 0.04      | 0.0000    | \n",
       "| 23 | 10        | 0.05      | 0.1450763 | 0.08      | 0.1111    | \n",
       "| 29 | 10        | 0.10      | 0.1450763 | 0.09      | 0.1000    | \n",
       "| 35 | 10        | 0.20      | 0.1450763 | 0.12      | 0.0769    | \n",
       "| 41 | 10        | 0.40      | 0.1450763 | 0.17      | 0.0556    | \n",
       "| 47 | 10        | 0.50      | 0.1450763 | 0.17      | 0.0556    | \n",
       "| 53 | 10        | 0.70      | 0.1450763 | 0.20      | 0.0476    | \n",
       "| 59 | 10        | 0.90      | 0.1605803 | 0.29      | 0.0645    | \n",
       "| 65 | 10        | 0.99      | 0.1450763 | 0.40      | 0.0698    | \n",
       "\n",
       "\n"
      ],
      "text/plain": [
       "   effect_num pve  mean_corX power fdr   \n",
       "5  10         0.01 0.1450763 0.01  0.0000\n",
       "11 10         0.02 0.1450763 0.02  0.0000\n",
       "17 10         0.03 0.1450763 0.04  0.0000\n",
       "23 10         0.05 0.1450763 0.08  0.1111\n",
       "29 10         0.10 0.1450763 0.09  0.1000\n",
       "35 10         0.20 0.1450763 0.12  0.0769\n",
       "41 10         0.40 0.1450763 0.17  0.0556\n",
       "47 10         0.50 0.1450763 0.17  0.0556\n",
       "53 10         0.70 0.1450763 0.20  0.0476\n",
       "59 10         0.90 0.1605803 0.29  0.0645\n",
       "65 10         0.99 0.1450763 0.40  0.0698"
      ]
     },
     "metadata": {},
     "output_type": "display_data"
    }
   ],
   "source": [
    "dscout.summary[dscout.summary$effect_num==10,]"
   ]
  },
  {
   "cell_type": "code",
   "execution_count": 19,
   "metadata": {},
   "outputs": [
    {
     "data": {
      "text/html": [
       "<table>\n",
       "<thead><tr><th></th><th scope=col>effect_num</th><th scope=col>pve</th><th scope=col>mean_corX</th><th scope=col>power</th><th scope=col>fdr</th></tr></thead>\n",
       "<tbody>\n",
       "\t<tr><th scope=row>6</th><td>20       </td><td>0.01     </td><td>0.1680549</td><td>0.000    </td><td>0.0000   </td></tr>\n",
       "\t<tr><th scope=row>12</th><td>20       </td><td>0.02     </td><td>0.1760362</td><td>0.005    </td><td>0.5000   </td></tr>\n",
       "\t<tr><th scope=row>18</th><td>20       </td><td>0.03     </td><td>0.1760362</td><td>0.015    </td><td>0.2500   </td></tr>\n",
       "\t<tr><th scope=row>24</th><td>20       </td><td>0.05     </td><td>0.1760362</td><td>0.030    </td><td>0.0000   </td></tr>\n",
       "\t<tr><th scope=row>30</th><td>20       </td><td>0.10     </td><td>0.1760362</td><td>0.045    </td><td>0.0000   </td></tr>\n",
       "\t<tr><th scope=row>36</th><td>20       </td><td>0.20     </td><td>0.1760362</td><td>0.075    </td><td>0.1176   </td></tr>\n",
       "\t<tr><th scope=row>42</th><td>20       </td><td>0.40     </td><td>0.1760362</td><td>0.100    </td><td>0.0909   </td></tr>\n",
       "\t<tr><th scope=row>48</th><td>20       </td><td>0.50     </td><td>0.1760362</td><td>0.105    </td><td>0.1250   </td></tr>\n",
       "\t<tr><th scope=row>54</th><td>20       </td><td>0.70     </td><td>0.1760362</td><td>0.125    </td><td>0.1667   </td></tr>\n",
       "\t<tr><th scope=row>60</th><td>20       </td><td>0.90     </td><td>0.1760362</td><td>0.180    </td><td>0.1429   </td></tr>\n",
       "\t<tr><th scope=row>66</th><td>20       </td><td>0.99     </td><td>0.1760362</td><td>0.340    </td><td>0.0423   </td></tr>\n",
       "</tbody>\n",
       "</table>\n"
      ],
      "text/latex": [
       "\\begin{tabular}{r|lllll}\n",
       "  & effect\\_num & pve & mean\\_corX & power & fdr\\\\\n",
       "\\hline\n",
       "\t6 & 20        & 0.01      & 0.1680549 & 0.000     & 0.0000   \\\\\n",
       "\t12 & 20        & 0.02      & 0.1760362 & 0.005     & 0.5000   \\\\\n",
       "\t18 & 20        & 0.03      & 0.1760362 & 0.015     & 0.2500   \\\\\n",
       "\t24 & 20        & 0.05      & 0.1760362 & 0.030     & 0.0000   \\\\\n",
       "\t30 & 20        & 0.10      & 0.1760362 & 0.045     & 0.0000   \\\\\n",
       "\t36 & 20        & 0.20      & 0.1760362 & 0.075     & 0.1176   \\\\\n",
       "\t42 & 20        & 0.40      & 0.1760362 & 0.100     & 0.0909   \\\\\n",
       "\t48 & 20        & 0.50      & 0.1760362 & 0.105     & 0.1250   \\\\\n",
       "\t54 & 20        & 0.70      & 0.1760362 & 0.125     & 0.1667   \\\\\n",
       "\t60 & 20        & 0.90      & 0.1760362 & 0.180     & 0.1429   \\\\\n",
       "\t66 & 20        & 0.99      & 0.1760362 & 0.340     & 0.0423   \\\\\n",
       "\\end{tabular}\n"
      ],
      "text/markdown": [
       "\n",
       "| <!--/--> | effect_num | pve | mean_corX | power | fdr | \n",
       "|---|---|---|---|---|---|---|---|---|---|---|\n",
       "| 6 | 20        | 0.01      | 0.1680549 | 0.000     | 0.0000    | \n",
       "| 12 | 20        | 0.02      | 0.1760362 | 0.005     | 0.5000    | \n",
       "| 18 | 20        | 0.03      | 0.1760362 | 0.015     | 0.2500    | \n",
       "| 24 | 20        | 0.05      | 0.1760362 | 0.030     | 0.0000    | \n",
       "| 30 | 20        | 0.10      | 0.1760362 | 0.045     | 0.0000    | \n",
       "| 36 | 20        | 0.20      | 0.1760362 | 0.075     | 0.1176    | \n",
       "| 42 | 20        | 0.40      | 0.1760362 | 0.100     | 0.0909    | \n",
       "| 48 | 20        | 0.50      | 0.1760362 | 0.105     | 0.1250    | \n",
       "| 54 | 20        | 0.70      | 0.1760362 | 0.125     | 0.1667    | \n",
       "| 60 | 20        | 0.90      | 0.1760362 | 0.180     | 0.1429    | \n",
       "| 66 | 20        | 0.99      | 0.1760362 | 0.340     | 0.0423    | \n",
       "\n",
       "\n"
      ],
      "text/plain": [
       "   effect_num pve  mean_corX power fdr   \n",
       "6  20         0.01 0.1680549 0.000 0.0000\n",
       "12 20         0.02 0.1760362 0.005 0.5000\n",
       "18 20         0.03 0.1760362 0.015 0.2500\n",
       "24 20         0.05 0.1760362 0.030 0.0000\n",
       "30 20         0.10 0.1760362 0.045 0.0000\n",
       "36 20         0.20 0.1760362 0.075 0.1176\n",
       "42 20         0.40 0.1760362 0.100 0.0909\n",
       "48 20         0.50 0.1760362 0.105 0.1250\n",
       "54 20         0.70 0.1760362 0.125 0.1667\n",
       "60 20         0.90 0.1760362 0.180 0.1429\n",
       "66 20         0.99 0.1760362 0.340 0.0423"
      ]
     },
     "metadata": {},
     "output_type": "display_data"
    }
   ],
   "source": [
    "dscout.summary[dscout.summary$effect_num==20,]"
   ]
  },
  {
   "cell_type": "markdown",
   "metadata": {},
   "source": [
    "## Code details"
   ]
  },
  {
   "cell_type": "code",
   "execution_count": 24,
   "metadata": {
    "collapsed": true
   },
   "outputs": [],
   "source": [
    "dscout_Q1 = readRDS('dscout_Q1.rds')\n",
    "dscout_Q1 = dscout_Q1[!is.na(dscout_Q1$sim_gaussian.output.file),]\n",
    "dscout_Q1 = dscout_Q1[!is.na(dscout_Q1$susie.output.file),]"
   ]
  },
  {
   "cell_type": "code",
   "execution_count": 25,
   "metadata": {
    "collapsed": true
   },
   "outputs": [],
   "source": [
    "dscout_df = data.frame(dscout_Q1$sim_gaussian.effect_num, dscout_Q1$sim_gaussian.pve, \n",
    "                       dscout_Q1$sim_gaussian.mean_corX,dscout_Q1$score.hit, dscout_Q1$score.signal_num)\n",
    "names(dscout_df) = c('effect_num', 'pve', 'mean_corX', 'hit', 'cs_num')"
   ]
  },
  {
   "cell_type": "code",
   "execution_count": 26,
   "metadata": {
    "collapsed": true
   },
   "outputs": [],
   "source": [
    "corX.summary = aggregate(mean_corX ~ effect_num + pve, dscout_df, mean)"
   ]
  },
  {
   "cell_type": "code",
   "execution_count": 27,
   "metadata": {},
   "outputs": [],
   "source": [
    "dscout.summary = aggregate(hit ~ effect_num + pve, dscout_df, sum)\n",
    "dscout.summary$mean_corX = corX.summary$mean_corX\n",
    "dscout.summary$power = round(dscout.summary$hit / (dscout.summary$effect_num*10),4)\n",
    "fdr.summary = aggregate(cs_num ~ effect_num + pve, dscout_df, sum)\n",
    "fdr.summary$fdr = round(1 - dscout.summary$hit / fdr.summary$cs_num, 4)\n",
    "dscout.summary$hit = NULL\n",
    "dscout.summary$fdr = fdr.summary$fdr\n",
    "dscout.summary$cs_num = fdr.summary$cs_num"
   ]
  },
  {
   "cell_type": "code",
   "execution_count": 28,
   "metadata": {
    "collapsed": true
   },
   "outputs": [],
   "source": [
    "is.nan.data.frame <- function(x)\n",
    "do.call(cbind, lapply(x, is.nan))\n",
    "dscout.summary[is.nan(dscout.summary)] = 0"
   ]
  }
 ],
 "metadata": {
  "kernelspec": {
   "display_name": "R",
   "language": "R",
   "name": "ir"
  },
  "language_info": {
   "codemirror_mode": "r",
   "file_extension": ".r",
   "mimetype": "text/x-r-source",
   "name": "R",
   "pygments_lexer": "r",
   "version": "3.4.3"
  }
 },
 "nbformat": 4,
 "nbformat_minor": 2
}
