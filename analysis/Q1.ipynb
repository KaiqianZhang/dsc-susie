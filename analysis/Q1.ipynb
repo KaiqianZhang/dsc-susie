{
 "cells": [
  {
   "cell_type": "markdown",
   "metadata": {},
   "source": [
    "## SuSiE performance when the number of nonzero effects T = 1, 5, 10, 20\n",
    "In this vignette, we investigate how SuSiE behaves when the number of nonzero effects in the ground truth is 1, 5, 10, or 20. \n",
    "\n",
    "We set default pve (proportion variance explained) = 0.4. Simulation for each combination has 10 replicates. And our simulated `y` is quantitative given GTEx data `X`. "
   ]
  },
  {
   "cell_type": "code",
   "execution_count": 92,
   "metadata": {},
   "outputs": [],
   "source": [
    "dscout_Q1 = readRDS('dscout_Q1.rds')\n",
    "dscout_Q1 = dscout_Q1[!is.na(dscout_Q1$sim_gaussian.output.file),]\n",
    "dscout_Q1 = dscout_Q1[!is.na(dscout_Q1$susie.output.file),]"
   ]
  },
  {
   "cell_type": "code",
   "execution_count": 93,
   "metadata": {},
   "outputs": [],
   "source": [
    "dscout_df = data.frame(dscout_Q1$sim_gaussian.effect_num, dscout_Q1$sim_gaussian.pve, dscout_Q1$score.hit, dscout_Q1$score.signal_num, dscout_Q1$score.cs_medianSize, dscout_Q1$score.top_hit)\n",
    "names(dscout_df) = c('effect_num', 'pve', 'hit', 'signal_num', 'cs_medianSize', 'top_hit')"
   ]
  },
  {
   "cell_type": "code",
   "execution_count": 94,
   "metadata": {},
   "outputs": [],
   "source": [
    "dscout_df = dscout_df[dscout_df$pve == 0.4,]"
   ]
  },
  {
   "cell_type": "markdown",
   "metadata": {},
   "source": [
    "* We observe that SuSiE's power is decreasing as the number of nonzero effects gets larger. "
   ]
  },
  {
   "cell_type": "code",
   "execution_count": 95,
   "metadata": {},
   "outputs": [
    {
     "data": {
      "text/html": [
       "<table>\n",
       "<thead><tr><th scope=col>effect_num</th><th scope=col>pve</th><th scope=col>hit</th><th scope=col>power</th></tr></thead>\n",
       "<tbody>\n",
       "\t<tr><td> 1  </td><td>0.4 </td><td>10  </td><td>1.00</td></tr>\n",
       "\t<tr><td> 5  </td><td>0.4 </td><td>14  </td><td>0.28</td></tr>\n",
       "\t<tr><td>10  </td><td>0.4 </td><td>17  </td><td>0.17</td></tr>\n",
       "\t<tr><td>20  </td><td>0.4 </td><td>20  </td><td>0.10</td></tr>\n",
       "</tbody>\n",
       "</table>\n"
      ],
      "text/latex": [
       "\\begin{tabular}{r|llll}\n",
       " effect\\_num & pve & hit & power\\\\\n",
       "\\hline\n",
       "\t  1   & 0.4  & 10   & 1.00\\\\\n",
       "\t  5   & 0.4  & 14   & 0.28\\\\\n",
       "\t 10   & 0.4  & 17   & 0.17\\\\\n",
       "\t 20   & 0.4  & 20   & 0.10\\\\\n",
       "\\end{tabular}\n"
      ],
      "text/markdown": [
       "\n",
       "effect_num | pve | hit | power | \n",
       "|---|---|---|---|\n",
       "|  1   | 0.4  | 10   | 1.00 | \n",
       "|  5   | 0.4  | 14   | 0.28 | \n",
       "| 10   | 0.4  | 17   | 0.17 | \n",
       "| 20   | 0.4  | 20   | 0.10 | \n",
       "\n",
       "\n"
      ],
      "text/plain": [
       "  effect_num pve hit power\n",
       "1  1         0.4 10  1.00 \n",
       "2  5         0.4 14  0.28 \n",
       "3 10         0.4 17  0.17 \n",
       "4 20         0.4 20  0.10 "
      ]
     },
     "metadata": {},
     "output_type": "display_data"
    }
   ],
   "source": [
    "power.summary = aggregate(hit ~ effect_num + pve, dscout_df, sum)\n",
    "power.summary$power = powersummary$hit / (powersummary$effect_num*10)\n",
    "power.summary"
   ]
  },
  {
   "cell_type": "markdown",
   "metadata": {},
   "source": [
    "* SuSiE has a fairly low FDR rate no matter how many nonzero effects are actually there.  "
   ]
  },
  {
   "cell_type": "code",
   "execution_count": 96,
   "metadata": {},
   "outputs": [
    {
     "data": {
      "text/html": [
       "<table>\n",
       "<thead><tr><th scope=col>effect_num</th><th scope=col>pve</th><th scope=col>signal_num</th><th scope=col>hit</th><th scope=col>fdr</th></tr></thead>\n",
       "<tbody>\n",
       "\t<tr><td> 1    </td><td>0.4   </td><td>10    </td><td>10    </td><td>0.0000</td></tr>\n",
       "\t<tr><td> 5    </td><td>0.4   </td><td>15    </td><td>14    </td><td>0.0667</td></tr>\n",
       "\t<tr><td>10    </td><td>0.4   </td><td>18    </td><td>17    </td><td>0.0556</td></tr>\n",
       "\t<tr><td>20    </td><td>0.4   </td><td>22    </td><td>20    </td><td>0.0909</td></tr>\n",
       "</tbody>\n",
       "</table>\n"
      ],
      "text/latex": [
       "\\begin{tabular}{r|lllll}\n",
       " effect\\_num & pve & signal\\_num & hit & fdr\\\\\n",
       "\\hline\n",
       "\t  1     & 0.4    & 10     & 10     & 0.0000\\\\\n",
       "\t  5     & 0.4    & 15     & 14     & 0.0667\\\\\n",
       "\t 10     & 0.4    & 18     & 17     & 0.0556\\\\\n",
       "\t 20     & 0.4    & 22     & 20     & 0.0909\\\\\n",
       "\\end{tabular}\n"
      ],
      "text/markdown": [
       "\n",
       "effect_num | pve | signal_num | hit | fdr | \n",
       "|---|---|---|---|\n",
       "|  1     | 0.4    | 10     | 10     | 0.0000 | \n",
       "|  5     | 0.4    | 15     | 14     | 0.0667 | \n",
       "| 10     | 0.4    | 18     | 17     | 0.0556 | \n",
       "| 20     | 0.4    | 22     | 20     | 0.0909 | \n",
       "\n",
       "\n"
      ],
      "text/plain": [
       "  effect_num pve signal_num hit fdr   \n",
       "1  1         0.4 10         10  0.0000\n",
       "2  5         0.4 15         14  0.0667\n",
       "3 10         0.4 18         17  0.0556\n",
       "4 20         0.4 22         20  0.0909"
      ]
     },
     "metadata": {},
     "output_type": "display_data"
    }
   ],
   "source": [
    "signal_num.summary = aggregate(signal_num ~ effect_num + pve, dscout_df, sum)\n",
    "fdr.summary = signal_num.summary\n",
    "fdr.summary$hit = power.summary$hit\n",
    "fdr.summary$fdr = round(1 - fdr.summary$hit / fdr.summary$signal_num, 4)\n",
    "fdr.summary"
   ]
  },
  {
   "cell_type": "markdown",
   "metadata": {},
   "source": [
    "* For dataset such as GTEx, confidence sets produced by SuSiE are generally single. i.e, we have only one gene selected by each confidence set. But we also notice that when the number of nonzero effects `T = 10`, the median size is almost 2."
   ]
  },
  {
   "cell_type": "code",
   "execution_count": 97,
   "metadata": {},
   "outputs": [
    {
     "data": {
      "text/html": [
       "<table>\n",
       "<thead><tr><th scope=col>effect_num</th><th scope=col>pve</th><th scope=col>cs_medianSize</th></tr></thead>\n",
       "<tbody>\n",
       "\t<tr><td> 1  </td><td>0.4 </td><td>1.00</td></tr>\n",
       "\t<tr><td> 5  </td><td>0.4 </td><td>1.05</td></tr>\n",
       "\t<tr><td>10  </td><td>0.4 </td><td>1.85</td></tr>\n",
       "\t<tr><td>20  </td><td>0.4 </td><td>1.00</td></tr>\n",
       "</tbody>\n",
       "</table>\n"
      ],
      "text/latex": [
       "\\begin{tabular}{r|lll}\n",
       " effect\\_num & pve & cs\\_medianSize\\\\\n",
       "\\hline\n",
       "\t  1   & 0.4  & 1.00\\\\\n",
       "\t  5   & 0.4  & 1.05\\\\\n",
       "\t 10   & 0.4  & 1.85\\\\\n",
       "\t 20   & 0.4  & 1.00\\\\\n",
       "\\end{tabular}\n"
      ],
      "text/markdown": [
       "\n",
       "effect_num | pve | cs_medianSize | \n",
       "|---|---|---|---|\n",
       "|  1   | 0.4  | 1.00 | \n",
       "|  5   | 0.4  | 1.05 | \n",
       "| 10   | 0.4  | 1.85 | \n",
       "| 20   | 0.4  | 1.00 | \n",
       "\n",
       "\n"
      ],
      "text/plain": [
       "  effect_num pve cs_medianSize\n",
       "1  1         0.4 1.00         \n",
       "2  5         0.4 1.05         \n",
       "3 10         0.4 1.85         \n",
       "4 20         0.4 1.00         "
      ]
     },
     "metadata": {},
     "output_type": "display_data"
    }
   ],
   "source": [
    "setsize.summary = aggregate(cs_medianSize ~ effect_num + pve, dscout_df, mean)\n",
    "setsize.summary"
   ]
  },
  {
   "cell_type": "markdown",
   "metadata": {},
   "source": [
    "* SuSiE does not have many top hits on average because the power is not large enough."
   ]
  },
  {
   "cell_type": "code",
   "execution_count": 98,
   "metadata": {},
   "outputs": [
    {
     "data": {
      "text/html": [
       "<table>\n",
       "<thead><tr><th scope=col>effect_num</th><th scope=col>pve</th><th scope=col>top_hit</th></tr></thead>\n",
       "<tbody>\n",
       "\t<tr><td> 1 </td><td>0.4</td><td>1.0</td></tr>\n",
       "\t<tr><td> 5 </td><td>0.4</td><td>1.4</td></tr>\n",
       "\t<tr><td>10 </td><td>0.4</td><td>1.7</td></tr>\n",
       "\t<tr><td>20 </td><td>0.4</td><td>2.0</td></tr>\n",
       "</tbody>\n",
       "</table>\n"
      ],
      "text/latex": [
       "\\begin{tabular}{r|lll}\n",
       " effect\\_num & pve & top\\_hit\\\\\n",
       "\\hline\n",
       "\t  1  & 0.4 & 1.0\\\\\n",
       "\t  5  & 0.4 & 1.4\\\\\n",
       "\t 10  & 0.4 & 1.7\\\\\n",
       "\t 20  & 0.4 & 2.0\\\\\n",
       "\\end{tabular}\n"
      ],
      "text/markdown": [
       "\n",
       "effect_num | pve | top_hit | \n",
       "|---|---|---|---|\n",
       "|  1  | 0.4 | 1.0 | \n",
       "|  5  | 0.4 | 1.4 | \n",
       "| 10  | 0.4 | 1.7 | \n",
       "| 20  | 0.4 | 2.0 | \n",
       "\n",
       "\n"
      ],
      "text/plain": [
       "  effect_num pve top_hit\n",
       "1  1         0.4 1.0    \n",
       "2  5         0.4 1.4    \n",
       "3 10         0.4 1.7    \n",
       "4 20         0.4 2.0    "
      ]
     },
     "metadata": {},
     "output_type": "display_data"
    }
   ],
   "source": [
    "tophit.summary = aggregate(top_hit ~ effect_num + pve, dscout_df, mean)\n",
    "tophit.summary"
   ]
  }
 ],
 "metadata": {
  "kernelspec": {
   "display_name": "R",
   "language": "R",
   "name": "ir"
  },
  "language_info": {
   "codemirror_mode": "r",
   "file_extension": ".r",
   "mimetype": "text/x-r-source",
   "name": "R",
   "pygments_lexer": "r",
   "version": "3.4.3"
  }
 },
 "nbformat": 4,
 "nbformat_minor": 2
}
