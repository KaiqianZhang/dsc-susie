{
 "cells": [
  {
   "cell_type": "markdown",
   "metadata": {},
   "source": [
    "# How is power under different PVEs?"
   ]
  },
  {
   "cell_type": "markdown",
   "metadata": {},
   "source": [
    "Assume only one non-zero effect $T = 1$. Assume that prior is 0.2. \n",
    "\n",
    "We investigate SuSiE's power when PVE $\\in \\{0.01, 0.02, 0.03, 0.05, 0.1, 0.2, 0.4, 0.5, 0.7, 0.9, 0.99\\}$. "
   ]
  },
  {
   "cell_type": "markdown",
   "metadata": {},
   "source": [
    "## Results\n",
    "\n",
    "**- Summary: SuSiE's power is  $\\geq 0.92$ from PVE $= 0.1$.  And FDR is always $0$. **"
   ]
  },
  {
   "cell_type": "code",
   "execution_count": 6,
   "metadata": {},
   "outputs": [
    {
     "data": {
      "text/html": [
       "<table>\n",
       "<thead><tr><th scope=col>effect_num</th><th scope=col>pve</th><th scope=col>power</th><th scope=col>fdr</th></tr></thead>\n",
       "<tbody>\n",
       "\t<tr><td>1   </td><td>0.01</td><td>0.08</td><td>0   </td></tr>\n",
       "\t<tr><td>1   </td><td>0.02</td><td>0.46</td><td>0   </td></tr>\n",
       "\t<tr><td>1   </td><td>0.03</td><td>0.72</td><td>0   </td></tr>\n",
       "\t<tr><td>1   </td><td>0.05</td><td>0.88</td><td>0   </td></tr>\n",
       "\t<tr><td>1   </td><td>0.10</td><td>0.92</td><td>0   </td></tr>\n",
       "\t<tr><td>1   </td><td>0.20</td><td>0.92</td><td>0   </td></tr>\n",
       "\t<tr><td>1   </td><td>0.40</td><td>0.92</td><td>0   </td></tr>\n",
       "\t<tr><td>1   </td><td>0.50</td><td>0.92</td><td>0   </td></tr>\n",
       "\t<tr><td>1   </td><td>0.70</td><td>0.92</td><td>0   </td></tr>\n",
       "\t<tr><td>1   </td><td>0.90</td><td>0.92</td><td>0   </td></tr>\n",
       "\t<tr><td>1   </td><td>0.99</td><td>0.92</td><td>0   </td></tr>\n",
       "</tbody>\n",
       "</table>\n"
      ],
      "text/latex": [
       "\\begin{tabular}{r|llll}\n",
       " effect\\_num & pve & power & fdr\\\\\n",
       "\\hline\n",
       "\t 1    & 0.01 & 0.08 & 0   \\\\\n",
       "\t 1    & 0.02 & 0.46 & 0   \\\\\n",
       "\t 1    & 0.03 & 0.72 & 0   \\\\\n",
       "\t 1    & 0.05 & 0.88 & 0   \\\\\n",
       "\t 1    & 0.10 & 0.92 & 0   \\\\\n",
       "\t 1    & 0.20 & 0.92 & 0   \\\\\n",
       "\t 1    & 0.40 & 0.92 & 0   \\\\\n",
       "\t 1    & 0.50 & 0.92 & 0   \\\\\n",
       "\t 1    & 0.70 & 0.92 & 0   \\\\\n",
       "\t 1    & 0.90 & 0.92 & 0   \\\\\n",
       "\t 1    & 0.99 & 0.92 & 0   \\\\\n",
       "\\end{tabular}\n"
      ],
      "text/markdown": [
       "\n",
       "effect_num | pve | power | fdr | \n",
       "|---|---|---|---|---|---|---|---|---|---|---|\n",
       "| 1    | 0.01 | 0.08 | 0    | \n",
       "| 1    | 0.02 | 0.46 | 0    | \n",
       "| 1    | 0.03 | 0.72 | 0    | \n",
       "| 1    | 0.05 | 0.88 | 0    | \n",
       "| 1    | 0.10 | 0.92 | 0    | \n",
       "| 1    | 0.20 | 0.92 | 0    | \n",
       "| 1    | 0.40 | 0.92 | 0    | \n",
       "| 1    | 0.50 | 0.92 | 0    | \n",
       "| 1    | 0.70 | 0.92 | 0    | \n",
       "| 1    | 0.90 | 0.92 | 0    | \n",
       "| 1    | 0.99 | 0.92 | 0    | \n",
       "\n",
       "\n"
      ],
      "text/plain": [
       "   effect_num pve  power fdr\n",
       "1  1          0.01 0.08  0  \n",
       "2  1          0.02 0.46  0  \n",
       "3  1          0.03 0.72  0  \n",
       "4  1          0.05 0.88  0  \n",
       "5  1          0.10 0.92  0  \n",
       "6  1          0.20 0.92  0  \n",
       "7  1          0.40 0.92  0  \n",
       "8  1          0.50 0.92  0  \n",
       "9  1          0.70 0.92  0  \n",
       "10 1          0.90 0.92  0  \n",
       "11 1          0.99 0.92  0  "
      ]
     },
     "metadata": {},
     "output_type": "display_data"
    }
   ],
   "source": [
    "dscout_summary"
   ]
  },
  {
   "cell_type": "markdown",
   "metadata": {},
   "source": [
    "## Code details"
   ]
  },
  {
   "cell_type": "code",
   "execution_count": 1,
   "metadata": {
    "collapsed": true
   },
   "outputs": [],
   "source": [
    "dscout_Q1 = readRDS('gsea_Q1.rds')\n",
    "dscout_Q1 = dscout_Q1[!is.na(dscout_Q1$sim_gaussian.output.file),]\n",
    "dscout_Q1 = dscout_Q1[!is.na(dscout_Q1$susie.output.file),]"
   ]
  },
  {
   "cell_type": "code",
   "execution_count": 2,
   "metadata": {
    "collapsed": true
   },
   "outputs": [],
   "source": [
    "dscout_df = data.frame(dscout_Q1$sim_gaussian.effect_num, dscout_Q1$sim_gaussian.pve, \n",
    "                       dscout_Q1$score.hit, dscout_Q1$score.signal_num)\n",
    "names(dscout_df) = c('effect_num', 'pve', 'hit', 'cs_num')"
   ]
  },
  {
   "cell_type": "code",
   "execution_count": 3,
   "metadata": {
    "collapsed": true
   },
   "outputs": [],
   "source": [
    "dscout_df = dscout_df[dscout_df$effect_num==1,]"
   ]
  },
  {
   "cell_type": "code",
   "execution_count": 4,
   "metadata": {
    "collapsed": true
   },
   "outputs": [],
   "source": [
    "dscout_summary = aggregate(hit ~ effect_num + pve, dscout_df, sum)\n",
    "dscout_summary$power = dscout_summary$hit / 50\n",
    "fdr.summary = aggregate(cs_num ~ effect_num + pve, dscout_df, sum)\n",
    "fdr.summary$fdr = round(1 - dscout_summary$hit / fdr.summary$cs_num, 4)\n",
    "dscout_summary$hit = NULL\n",
    "dscout_summary$fdr = fdr.summary$fdr"
   ]
  },
  {
   "cell_type": "code",
   "execution_count": 5,
   "metadata": {
    "collapsed": true
   },
   "outputs": [],
   "source": [
    "is.nan.data.frame <- function(x)\n",
    "do.call(cbind, lapply(x, is.nan))\n",
    "dscout_summary[is.nan(dscout_summary)] = 0"
   ]
  }
 ],
 "metadata": {
  "kernelspec": {
   "display_name": "R",
   "language": "R",
   "name": "ir"
  },
  "language_info": {
   "codemirror_mode": "r",
   "file_extension": ".r",
   "mimetype": "text/x-r-source",
   "name": "R",
   "pygments_lexer": "r",
   "version": "3.4.3"
  }
 },
 "nbformat": 4,
 "nbformat_minor": 2
}
